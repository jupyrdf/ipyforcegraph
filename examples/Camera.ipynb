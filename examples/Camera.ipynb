{
 "cells": [
  {
   "cell_type": "markdown",
   "id": "31b6590e-1332-4e5a-87fd-7fc90867f2d8",
   "metadata": {},
   "source": [
    "# 🎬 Camera (and Director)\n",
    "\n",
    "The `GraphCamera` and `GraphDirector` and [behaviors](./Behaviors.ipynb) observe and\n",
    "control the current contents of the viewport. While the 2D and 3D APIs are very similar,\n",
    "there are some subtle differences."
   ]
  },
  {
   "cell_type": "code",
   "execution_count": null,
   "id": "fdaed39e-214f-4f95-a975-f2f1406b1fba",
   "metadata": {
    "tags": []
   },
   "outputs": [],
   "source": [
    "if __name__ == \"__main__\" and \"pyodide\" in __import__(\"sys\").modules:\n",
    "    %pip install -q -r requirements.txt"
   ]
  },
  {
   "cell_type": "code",
   "execution_count": null,
   "id": "3d056735-7b5e-49a7-97fa-ec4419b349cb",
   "metadata": {
    "tags": []
   },
   "outputs": [],
   "source": [
    "import json\n",
    "from pathlib import Path\n",
    "\n",
    "import ipyforcegraph.behaviors as B\n",
    "import ipyforcegraph.graphs as G\n",
    "import ipylab as L\n",
    "import ipywidgets as W\n",
    "import traitlets as T"
   ]
  },
  {
   "cell_type": "markdown",
   "id": "71ef958d-047f-4b5a-80c3-6cce2fe68957",
   "metadata": {},
   "source": [
    "## Load Data"
   ]
  },
  {
   "cell_type": "code",
   "execution_count": null,
   "id": "2cce48d8-dd90-4bb2-923e-cd38ff3e8df2",
   "metadata": {
    "tags": []
   },
   "outputs": [],
   "source": [
    "data = json.loads(Path(\"./datasets/blocks.json\").read_text())"
   ]
  },
  {
   "cell_type": "markdown",
   "id": "317538eb-4b55-4ada-9e07-75d6f5d91fdb",
   "metadata": {},
   "source": [
    "## Create Graphs and Behaviors\n",
    "\n",
    "A `GraphCamera` generally can't be shared between two views of even the same\n",
    "`ForceGraph` (e.g. from _Create New View for Output_) much less different graphs.\n",
    "\n",
    "Similarly, the `center` of a `GraphDirector` won't work very well. The data-driven\n",
    "`visible`, which can be a truthy `Column` or `Nunjucks` template, will generally work,\n",
    "however."
   ]
  },
  {
   "cell_type": "code",
   "execution_count": null,
   "id": "c3154eee-0749-4c05-81f9-6b77a89120af",
   "metadata": {
    "tags": []
   },
   "outputs": [],
   "source": [
    "c2 = B.GraphCamera(capturing=True)\n",
    "d2 = B.GraphDirector()\n",
    "fg2 = G.ForceGraph(behaviors=[c2, d2])\n",
    "fg2.source.nodes, fg2.source.links = data[\"nodes\"], data[\"links\"]"
   ]
  },
  {
   "cell_type": "code",
   "execution_count": null,
   "id": "01ab1120-89f3-4a97-915a-00320899fcda",
   "metadata": {
    "tags": []
   },
   "outputs": [],
   "source": [
    "c3 = B.GraphCamera(capturing=True)\n",
    "d3 = B.GraphDirector()\n",
    "fg3 = G.ForceGraph3D(behaviors=[c3, d3])\n",
    "fg3.source.nodes, fg3.source.links = data[\"nodes\"], data[\"links\"]"
   ]
  },
  {
   "cell_type": "markdown",
   "id": "88d44c79-bf3b-4188-8db8-4044f330a86e",
   "metadata": {},
   "source": [
    "## Create Controls"
   ]
  },
  {
   "cell_type": "code",
   "execution_count": null,
   "id": "3c1af035-c318-4fec-83fa-073fcd6d5e34",
   "metadata": {
    "tags": []
   },
   "outputs": [],
   "source": [
    "graph_toggle = W.SelectionSlider(options={\"2d\": fg2, \"3d\": fg3})"
   ]
  },
  {
   "cell_type": "markdown",
   "id": "b6fbe16c-086e-475d-ad5f-53fc00ccd992",
   "metadata": {},
   "source": [
    "A number of controls need some dimensions."
   ]
  },
  {
   "cell_type": "code",
   "execution_count": null,
   "id": "b43b0c62-9e09-4a8a-b457-8fd30f2379e8",
   "metadata": {
    "tags": []
   },
   "outputs": [],
   "source": [
    "xyz = \"xyz\"\n",
    "min_max = dict(min=-3000, max=3000)\n",
    "k_min_max = dict(min=0, max=5, step=0.01)\n",
    "dis = dict(disabled=True)\n",
    "dis_min_max = dict(**dis, **min_max)"
   ]
  },
  {
   "cell_type": "markdown",
   "id": "182155c2-2959-45f1-8b82-e2e21cfb59da",
   "metadata": {},
   "source": [
    "`GraphCamera` instances observing different graphs provide different view data, such as\n",
    "`zoom` in a 2D graph and `look_at` in a 3D graph."
   ]
  },
  {
   "cell_type": "code",
   "execution_count": null,
   "id": "a0797941-189f-437c-a0c3-42089e01742f",
   "metadata": {
    "tags": []
   },
   "outputs": [],
   "source": [
    "c_kxyz = {x: W.FloatSlider(description=x, **dis_min_max) for x in xyz}\n",
    "c_kxyz[\"k\"] = W.FloatSlider(description=\"zoom\", **k_min_max, **dis)\n",
    "c_capture = W.ToggleButton(description=\"capture\", icon=\"crop\")\n",
    "c_vis = W.IntText(description=\"visible\", **dis)\n",
    "l_label = W.Label(\"look at\")\n",
    "l_xyz = {x: W.FloatSlider(description=x, **dis_min_max) for x in xyz}"
   ]
  },
  {
   "cell_type": "markdown",
   "id": "e0d4be86-588c-4c83-bfff-50b8c7e3c5f4",
   "metadata": {},
   "source": [
    "These are mostly shared by the `GraphDirector`."
   ]
  },
  {
   "cell_type": "code",
   "execution_count": null,
   "id": "0f4da9aa-9de3-4694-a812-0a6412909f8e",
   "metadata": {
    "tags": []
   },
   "outputs": [],
   "source": [
    "d_kxyz = {x: W.FloatSlider(description=x, **min_max) for x in xyz}\n",
    "d_kxyz[\"k\"] = W.FloatSlider(description=\"zoom\", **k_min_max)\n",
    "dl_label = W.Label(\"look at\")\n",
    "dl_xyz = {x: W.FloatSlider(description=x, **min_max) for x in xyz}"
   ]
  },
  {
   "cell_type": "markdown",
   "id": "731c822b-8d08-481c-b340-d04b29a91d24",
   "metadata": {},
   "source": [
    "Changing the `center`, `zoom`, or `look_at` have durations, expressed in seconds, and\n",
    "the position is continuously reported by the `GraphCamera`: this is why they are two\n",
    "separate behaviors."
   ]
  },
  {
   "cell_type": "code",
   "execution_count": null,
   "id": "101113cf-cdd0-4e86-8a45-4a341869f4bb",
   "metadata": {
    "tags": []
   },
   "outputs": [],
   "source": [
    "durs = [\"pan\", \"zoom\"]\n",
    "d_dur = {dur: W.FloatSlider(description=f\"{dur} (s)\", max=5) for dur in durs}\n",
    "btn_action = W.Button(description=\"action\", icon=\"play\", button_style=\"success\")\n",
    "btn_follow = W.ToggleButton(description=\"follow\", icon=\"lock\", value=True)"
   ]
  },
  {
   "cell_type": "markdown",
   "id": "322b1985-1088-46d6-b262-40d5af1923a6",
   "metadata": {},
   "source": [
    "Fitting `visible` nodes can be accomplished with a `Nunjucks`: any `node` expression\n",
    "that evaluates to a truthy value will be included in the eventual bound box (or 3d\n",
    "_frustum_). Additionally _padding_ can be applied to leave a little more space."
   ]
  },
  {
   "cell_type": "code",
   "execution_count": null,
   "id": "b1f2d4ea-a982-46c5-a0b3-f39bab15f828",
   "metadata": {
    "tags": []
   },
   "outputs": [],
   "source": [
    "users = {d[\"user\"] for d in data[\"nodes\"] if \"user\" in d}\n",
    "sel_user = W.Dropdown(description=\"by user\", options=sorted(users))\n",
    "tmpl_txt = W.Textarea(description=\"template\")\n",
    "tmpl_nj = B.Nunjucks(\"\")\n",
    "fit_pad = W.IntSlider(description=\"fit padding\", min=0, max=200)\n",
    "btn_tmpl = W.ToggleButton(description=\"use template\", icon=\"filter\")"
   ]
  },
  {
   "cell_type": "markdown",
   "id": "11a85001-cec4-4427-a935-636f8ed1cee7",
   "metadata": {},
   "source": [
    "## Handle Camera Events"
   ]
  },
  {
   "cell_type": "code",
   "execution_count": null,
   "id": "7dd500f7-51f7-46d8-a834-c076bac20983",
   "metadata": {
    "tags": []
   },
   "outputs": [],
   "source": [
    "def on_zoomed(*_):\n",
    "    if graph_toggle.value == fg2:\n",
    "        l_label.layout.display = dl_label.layout.display = \"none\"\n",
    "        c_kxyz[\"k\"].layout.display = \"flex\"\n",
    "        c_kxyz[\"k\"].value = c2.zoom\n",
    "        if btn_follow.value:\n",
    "            d_kxyz[\"k\"].value = c2.zoom\n",
    "        for i, x in enumerate(xyz):\n",
    "            l_xyz[x].layout.display = dl_xyz[x].layout.display = \"none\"\n",
    "            if c2.center and x != \"z\":\n",
    "                c_kxyz[x].value = c2.center[i]\n",
    "                if btn_follow.value:\n",
    "                    d_kxyz[x].value = c2.center[i]\n",
    "    else:\n",
    "        c_kxyz[\"k\"].layout.display = d_kxyz[\"k\"].layout.display = \"none\"\n",
    "        l_label.layout.display = dl_label.layout.display = \"flex\"\n",
    "        for i, x in enumerate(xyz):\n",
    "            l_xyz[x].layout.display = dl_xyz[x].layout.display = \"flex\"\n",
    "            if c3.center and c3.look_at:\n",
    "                c_kxyz[x].value, l_xyz[x].value = c3.center[i], c3.look_at[i]\n",
    "                if btn_follow.value:\n",
    "                    d_kxyz[x].value, dl_xyz[x].value = c3.center[i], c3.look_at[i]\n",
    "\n",
    "\n",
    "def on_visible(*_):\n",
    "    c_vis.value = len(c2.visible) if graph_toggle.value == fg2 else len(c3.visible)"
   ]
  },
  {
   "cell_type": "markdown",
   "id": "c3a3fff4-f499-4629-8cfc-0fd7df06bd7f",
   "metadata": {},
   "source": [
    "## Connect the Camera"
   ]
  },
  {
   "cell_type": "code",
   "execution_count": null,
   "id": "6070e740-e217-4adc-b248-7f3791674794",
   "metadata": {
    "tags": []
   },
   "outputs": [],
   "source": [
    "graph_toggle.observe(on_zoomed, \"value\")\n",
    "btn_follow.observe(on_zoomed, \"value\")\n",
    "[c.observe(on_visible) for c in [c2, c3]]\n",
    "\n",
    "T.link((c2, \"capturing\"), (c_capture, \"value\"))\n",
    "T.link((c3, \"capturing\"), (c_capture, \"value\"))\n",
    "\n",
    "c2.observe(on_zoomed, [\"zoom\", \"center\"])\n",
    "c3.observe(on_zoomed, [\"center\", \"look_at\"])"
   ]
  },
  {
   "cell_type": "markdown",
   "id": "0f3499f7-5f5e-448d-9503-bb4b99ff4fa8",
   "metadata": {},
   "source": [
    "## Connect the Director"
   ]
  },
  {
   "cell_type": "code",
   "execution_count": null,
   "id": "37bce672-2c1b-4746-a660-f07bd63943cd",
   "metadata": {
    "tags": []
   },
   "outputs": [],
   "source": [
    "def on_direct(*_):\n",
    "    if graph_toggle.value == fg2:\n",
    "        with d2.hold_sync():\n",
    "            d2.zoom = d_kxyz[\"k\"].value\n",
    "            d2.center = [d_kxyz[x].value for x in xyz]\n",
    "        d2.send_state(\"zoom\")\n",
    "        d2.send_state(\"center\")\n",
    "    else:\n",
    "        with d3.hold_sync():\n",
    "            d3.center = [d_kxyz[x].value for x in xyz]\n",
    "            d3.look_at = [dl_xyz[x].value for x in xyz]\n",
    "        d3.send_state(\"look_at\")\n",
    "        d3.send_state(\"center\")\n",
    "\n",
    "\n",
    "[T.link((d2, f\"{dur}_duration\"), (ds, \"value\")) for dur, ds in d_dur.items()]\n",
    "[T.link((d3, f\"{dur}_duration\"), (ds, \"value\")) for dur, ds in d_dur.items()]\n",
    "btn_action.on_click(on_direct)"
   ]
  },
  {
   "cell_type": "markdown",
   "id": "d24411b7-3b94-4426-bab7-281f42dc00f1",
   "metadata": {},
   "source": [
    "## Build Templates"
   ]
  },
  {
   "cell_type": "code",
   "execution_count": null,
   "id": "963c9ae7-0538-497f-a2cb-8a7f2353826e",
   "metadata": {
    "tags": []
   },
   "outputs": [],
   "source": [
    "def on_tmpl(*_):\n",
    "    if graph_toggle.value == fg2:\n",
    "        d3.visible = \"\"\n",
    "        if not btn_tmpl.value:\n",
    "            d2.visible = \"\"\n",
    "            return\n",
    "        d2.visible = tmpl_nj\n",
    "    else:\n",
    "        d2.visible = \"\"\n",
    "        if not btn_tmpl.value:\n",
    "            d3.visible = \"\"\n",
    "            return\n",
    "        d3.visible = tmpl_nj\n",
    "\n",
    "\n",
    "graph_toggle.observe(on_tmpl, \"value\")\n",
    "T.dlink(\n",
    "    (sel_user, \"value\"), (tmpl_txt, \"value\"), lambda x: \"{{ node.user == '%s' }}\" % x\n",
    ")\n",
    "T.link((d2, \"fit_padding\"), (fit_pad, \"value\"))\n",
    "T.link((d3, \"fit_padding\"), (fit_pad, \"value\"))\n",
    "T.dlink((tmpl_txt, \"value\"), (tmpl_nj, \"value\"))\n",
    "btn_tmpl.observe(on_tmpl, \"value\")\n",
    "on_tmpl()"
   ]
  },
  {
   "cell_type": "markdown",
   "id": "6b99fdc8-3fe5-4064-8b8d-2c335e92db3a",
   "metadata": {},
   "source": [
    "## Build the UI"
   ]
  },
  {
   "cell_type": "code",
   "execution_count": null,
   "id": "cac517bc-cbca-47cd-8eb8-78aac6eb4d24",
   "metadata": {
    "tags": []
   },
   "outputs": [],
   "source": [
    "ui = W.HBox(\n",
    "    [\n",
    "        W.VBox(\n",
    "            [\n",
    "                W.HBox([W.Label(\"camera\"), graph_toggle]),\n",
    "                *c_kxyz.values(),\n",
    "                l_label,\n",
    "                *l_xyz.values(),\n",
    "                W.HBox([c_capture, c_vis]),\n",
    "                W.Label(\"director\"),\n",
    "                W.Tab(\n",
    "                    [\n",
    "                        W.VBox(\n",
    "                            [\n",
    "                                *d_kxyz.values(),\n",
    "                                dl_label,\n",
    "                                *dl_xyz.values(),\n",
    "                                *d_dur.values(),\n",
    "                                W.HBox([btn_follow, btn_action]),\n",
    "                            ]\n",
    "                        ),\n",
    "                        W.VBox([sel_user, tmpl_txt, fit_pad, btn_tmpl]),\n",
    "                    ],\n",
    "                    titles=[\"by center\", \"by nodes\"],\n",
    "                ),\n",
    "            ],\n",
    "            layout=dict(min_width=\"25em\"),\n",
    "        ),\n",
    "        fg2,\n",
    "        fg3,\n",
    "    ],\n",
    "    layout=dict(height=\"100%\"),\n",
    ")"
   ]
  },
  {
   "cell_type": "markdown",
   "id": "cd3388a2-27df-4cbb-bfa9-956080f102db",
   "metadata": {},
   "source": [
    "## Make a Panel"
   ]
  },
  {
   "cell_type": "code",
   "execution_count": null,
   "id": "3d58c2e6-17fd-46e3-889b-5d2176154d30",
   "metadata": {
    "tags": []
   },
   "outputs": [],
   "source": [
    "shell = L.JupyterFrontEnd().shell\n",
    "panel = L.Panel([ui])\n",
    "panel.title.label = \"💡🎥🎬\"\n",
    "shell.add(panel, \"main\", {\"mode\": \"split-right\"})"
   ]
  }
 ],
 "metadata": {
  "kernelspec": {
   "display_name": "Python 3 (ipykernel)",
   "language": "python",
   "name": "python3"
  },
  "language_info": {
   "codemirror_mode": {
    "name": "ipython",
    "version": 3
   },
   "file_extension": ".py",
   "mimetype": "text/x-python",
   "name": "python",
   "nbconvert_exporter": "python",
   "pygments_lexer": "ipython3",
   "version": "3.11.4"
  }
 },
 "nbformat": 4,
 "nbformat_minor": 5
}
