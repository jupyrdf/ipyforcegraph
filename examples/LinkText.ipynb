{
 "cells": [
  {
   "cell_type": "markdown",
   "id": "9ae6038a-fbdd-4bff-b8d1-2a7ab8b15742",
   "metadata": {
    "tags": []
   },
   "source": [
    "# 🔤 Link Text Shape\n",
    "\n",
    "In addition to the [default lines](./Behaviors.ipynb#Link-Behaviors) drawn for links,\n",
    "text labels can also be rendered. Note that these compose poorly with `curvature`."
   ]
  },
  {
   "cell_type": "code",
   "execution_count": null,
   "id": "e29b1009-ace3-4f42-b554-95270a839280",
   "metadata": {
    "tags": []
   },
   "outputs": [],
   "source": [
    "if __name__ == \"__main__\" and \"pyodide\" in __import__(\"sys\").modules:\n",
    "    %pip install -q -r ./requirements.txt"
   ]
  },
  {
   "cell_type": "code",
   "execution_count": null,
   "id": "757ccfdc-540c-41dd-813e-35e882ab53ba",
   "metadata": {
    "tags": []
   },
   "outputs": [],
   "source": [
    "import ipyforcegraph.graphs as G\n",
    "import ipywidgets as W\n",
    "from ipyforcegraph import behaviors as B\n",
    "from ipyforcegraph.behaviors import shapes as S\n",
    "from ipylab import JupyterFrontEnd, Panel"
   ]
  },
  {
   "cell_type": "markdown",
   "id": "62241815-1039-4bd5-b829-710268cae415",
   "metadata": {},
   "source": [
    "This creates a separate panel to view the 2D and 3D graphs."
   ]
  },
  {
   "cell_type": "code",
   "execution_count": null,
   "id": "cd54ffd9-8955-44e1-83a0-21e340d82501",
   "metadata": {
    "tags": []
   },
   "outputs": [],
   "source": [
    "lab = JupyterFrontEnd()\n",
    "panel = Panel()\n",
    "panel.title.label = \"Link Shapes\"\n",
    "lab.shell.add(panel, \"main\", dict(mode=\"split-right\"))"
   ]
  },
  {
   "cell_type": "markdown",
   "id": "619cbf4c-e3fa-46a8-9026-6f0ec9543434",
   "metadata": {},
   "source": [
    "For this example, only a small graph is be shown, and performance would suffer with\n",
    "thousands of link labels."
   ]
  },
  {
   "cell_type": "code",
   "execution_count": null,
   "id": "bcc6992c-1816-413d-b05a-53830f6ce107",
   "metadata": {
    "tags": []
   },
   "outputs": [],
   "source": [
    "fg = G.ForceGraph(layout=dict(min_height=\"400px\", flex=\"1\"))\n",
    "fg3 = G.ForceGraph3D(layout=dict(min_height=\"400px\", flex=\"1\"))\n",
    "fg.source.nodes = fg3.source.nodes = [\n",
    "    {\"id\": \"🐔\", \"label\": \"chicken\"},\n",
    "    {\"id\": \"🛣️\", \"label\": \"road\"},\n",
    "    {\"id\": \"🥚\", \"label\": \"egg\"},\n",
    "]\n",
    "fg.source.links = fg3.source.links = [\n",
    "    {\"id\": \"why DID it cross the\", \"source\": \"🐔\", \"target\": \"🛣️\"},\n",
    "    {\"id\": \"which DID come first\", \"source\": \"🐔\", \"target\": \"🥚\"},\n",
    "    {\"id\": \"HOW hot does it have to be to fry\", \"source\": \"🛣️\", \"target\": \"🥚\"},\n",
    "]\n",
    "panel.children = [W.VBox([fg, fg3], layout=dict(height=\"100%\"))]"
   ]
  },
  {
   "cell_type": "code",
   "execution_count": null,
   "id": "ac86665d-803e-4797-8b17-619bf1015444",
   "metadata": {},
   "outputs": [],
   "source": [
    "blue, white, red, black, grey = (\n",
    "    \"rgba(0, 0, 255, 1)\",\n",
    "    \"rgba(255,255,255,1.0)\",\n",
    "    \"rgba(255, 0, 0, 1)\",\n",
    "    \"rgba(0,0,0,1.0)\",\n",
    "    \"rgba(0,0,0,0.5)\",\n",
    ")\n",
    "stroke = dict(stroke=black, stroke_width=0.5)"
   ]
  },
  {
   "cell_type": "markdown",
   "id": "fc070276-5f0a-4cee-8938-cfb0207ef196",
   "metadata": {},
   "source": [
    "Some extra node behaviors help tell the story."
   ]
  },
  {
   "cell_type": "code",
   "execution_count": null,
   "id": "a16477d8-7043-4a57-b516-f98e07ddc21f",
   "metadata": {},
   "outputs": [],
   "source": [
    "nst = S.Text(B.Column(\"id\"), **stroke, size=8, fill=white, scale_on_zoom=False)\n",
    "nst2 = S.Text(\n",
    "    B.Column(\"label\"), size=3, fill=grey, scale_on_zoom=False, offset_x=6, offset_y=-3\n",
    ")\n",
    "nsh = B.NodeShapes(nst, nst2)"
   ]
  },
  {
   "cell_type": "markdown",
   "id": "b4d98a24-06b2-4042-9dc5-c314fc7e093b",
   "metadata": {},
   "source": [
    "Create the link-based behaviors."
   ]
  },
  {
   "cell_type": "code",
   "execution_count": null,
   "id": "0aa5d6ee-f717-4307-a563-c013ba7322d8",
   "metadata": {},
   "outputs": [],
   "source": [
    "red_if_selected = B.Nunjucks(\"\".join([\"{% if link._selected %}\", red, \"{% endif %}\"]))\n",
    "\n",
    "lst = S.Text(\n",
    "    B.Nunjucks(\"🤔 {{ link.id }} ⁉️\"),\n",
    "    background=red_if_selected,\n",
    "    size=4,\n",
    "    fill=black,\n",
    "    offset_y=-3,\n",
    ")\n",
    "lsh = B.LinkShapes(lst)\n",
    "lsa = B.LinkArrows(length=4, color=black, relative_position=1)\n",
    "lsel = B.LinkSelection(column_name=\"_selected\")\n",
    "lp = B.LinkParticles(width=2, density=10, speed=0.001, color=black)"
   ]
  },
  {
   "cell_type": "markdown",
   "id": "c5a6e5a4-0405-4185-a445-d93c65bd9855",
   "metadata": {},
   "source": [
    "Add the behaviors to the graphs."
   ]
  },
  {
   "cell_type": "code",
   "execution_count": null,
   "id": "f1e9493d-20d3-444a-9456-f065d0bdc00c",
   "metadata": {},
   "outputs": [],
   "source": [
    "fg.behaviors = fg3.behaviors = [lsa, lsh, nsh, lsel, lp]"
   ]
  }
 ],
 "metadata": {
  "kernelspec": {
   "display_name": "Python 3 (ipykernel)",
   "language": "python",
   "name": "python3"
  },
  "language_info": {
   "codemirror_mode": {
    "name": "ipython",
    "version": 3
   },
   "file_extension": ".py",
   "mimetype": "text/x-python",
   "name": "python",
   "nbconvert_exporter": "python",
   "pygments_lexer": "ipython3",
   "version": "3.11.4"
  }
 },
 "nbformat": 4,
 "nbformat_minor": 5
}
