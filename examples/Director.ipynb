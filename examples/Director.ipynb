{
 "cells": [
  {
   "cell_type": "markdown",
   "id": "31b6590e-1332-4e5a-87fd-7fc90867f2d8",
   "metadata": {},
   "source": [
    "# 🎬 Director\n",
    "\n",
    "The `GraphDirector` and `GraphCamera` [behaviors](./Behaviors.ipynb) control and observe\n",
    "the current contents of the viewport. While the 2D and 3D APIs are very similar, there\n",
    "are some subtle differences."
   ]
  },
  {
   "cell_type": "code",
   "execution_count": null,
   "id": "fdaed39e-214f-4f95-a975-f2f1406b1fba",
   "metadata": {
    "tags": []
   },
   "outputs": [],
   "source": [
    "if __name__ == \"__main__\" and \"pyodide\" in __import__(\"sys\").modules:\n",
    "    %pip install -q -r requirements.txt"
   ]
  },
  {
   "cell_type": "code",
   "execution_count": null,
   "id": "3d056735-7b5e-49a7-97fa-ec4419b349cb",
   "metadata": {
    "tags": []
   },
   "outputs": [],
   "source": [
    "import json\n",
    "from pathlib import Path\n",
    "\n",
    "import ipyforcegraph.behaviors as B\n",
    "import ipyforcegraph.graphs as G\n",
    "import ipywidgets as W\n",
    "import traitlets as T"
   ]
  },
  {
   "cell_type": "code",
   "execution_count": null,
   "id": "2cce48d8-dd90-4bb2-923e-cd38ff3e8df2",
   "metadata": {
    "tags": []
   },
   "outputs": [],
   "source": [
    "data = json.loads(Path(\"./datasets/blocks.json\").read_text())"
   ]
  },
  {
   "cell_type": "markdown",
   "id": "317538eb-4b55-4ada-9e07-75d6f5d91fdb",
   "metadata": {},
   "source": [
    "## Create Graphs"
   ]
  },
  {
   "cell_type": "code",
   "execution_count": null,
   "id": "c3154eee-0749-4c05-81f9-6b77a89120af",
   "metadata": {
    "tags": []
   },
   "outputs": [],
   "source": [
    "c = B.GraphCamera(capture_visible=True)\n",
    "d = B.GraphDirector()\n",
    "fg = G.ForceGraph(behaviors=[c, d])\n",
    "fg.source.nodes, fg.source.links = data[\"nodes\"], data[\"links\"]"
   ]
  },
  {
   "cell_type": "code",
   "execution_count": null,
   "id": "01ab1120-89f3-4a97-915a-00320899fcda",
   "metadata": {
    "tags": []
   },
   "outputs": [],
   "source": [
    "c3 = B.GraphCamera(capture_visible=True)\n",
    "d3 = B.GraphDirector()\n",
    "fg3 = G.ForceGraph3D(behaviors=[c3, d3])\n",
    "fg3.source.nodes, fg3.source.links = data[\"nodes\"], data[\"links\"]"
   ]
  },
  {
   "cell_type": "markdown",
   "id": "88d44c79-bf3b-4188-8db8-4044f330a86e",
   "metadata": {},
   "source": [
    "## Create Controls"
   ]
  },
  {
   "cell_type": "code",
   "execution_count": null,
   "id": "b43b0c62-9e09-4a8a-b457-8fd30f2379e8",
   "metadata": {
    "tags": []
   },
   "outputs": [],
   "source": [
    "xyz = \"xyz\""
   ]
  },
  {
   "cell_type": "code",
   "execution_count": null,
   "id": "a0797941-189f-437c-a0c3-42089e01742f",
   "metadata": {
    "tags": []
   },
   "outputs": [],
   "source": [
    "c_kxyz = {\n",
    "    x: W.FloatSlider(description=x, min=-2000, max=2000, disabled=True) for x in xyz\n",
    "}\n",
    "l_xyz = {\n",
    "    x: W.FloatSlider(\n",
    "        description=x, min=-2000, max=2000, disabled=True, layout=dict(display=\"none\")\n",
    "    )\n",
    "    for x in xyz\n",
    "}\n",
    "c_kxyz[\"k\"] = W.FloatSlider(description=\"k\", min=0, max=10, step=0.001, disabled=True)\n",
    "c_capture = W.ToggleButton(description=\"capture\", icon=\"crop\")\n",
    "c_vis = W.IntText(description=\"visible\", disabled=True)"
   ]
  },
  {
   "cell_type": "code",
   "execution_count": null,
   "id": "76b520d0-7e61-491c-aa26-06b6c1f612b3",
   "metadata": {
    "tags": []
   },
   "outputs": [],
   "source": [
    "d_kxyz = {x: W.FloatSlider(description=x, min=-2000, max=2000) for x in xyz}\n",
    "dl_xyz = {\n",
    "    x: W.FloatSlider(description=x, min=-2000, max=2000, layout=dict(display=\"none\"))\n",
    "    for x in xyz\n",
    "}\n",
    "d_kxyz[\"k\"] = W.FloatSlider(description=\"k\", min=0, max=5, step=0.001)\n",
    "durs = [\"pan\", \"zoom\"]\n",
    "d_dur = {dur: W.FloatSlider(description=f\"{dur} (s)\", max=5) for dur in durs}\n",
    "btn_action = W.Button(description=\"action\", icon=\"play\", button_style=\"success\")\n",
    "btn_follow = W.ToggleButton(description=\"follow\", icon=\"lock\", value=True)\n",
    "sel_user = W.Dropdown(\n",
    "    description=\"user\",\n",
    "    options=sorted({d[\"user\"] for d in data[\"nodes\"] if \"user\" in d}),\n",
    ")\n",
    "tmpl_txt = W.Textarea(description=\"template\")\n",
    "tmpl_nj = B.Nunjucks(\"\")\n",
    "btn_tmpl = W.ToggleButton(description=\"use template\", icon=\"filter\")\n",
    "fit_pad = W.FloatSlider(description=\"padding\", min=0, max=200)"
   ]
  },
  {
   "cell_type": "code",
   "execution_count": null,
   "id": "55c69979-6449-4592-814d-e7a641225553",
   "metadata": {
    "tags": []
   },
   "outputs": [],
   "source": [
    "graph_toggle = W.SelectionSlider(description=\"graph\", options={\"2D\": fg, \"3D\": fg3})\n",
    "graph_toggle"
   ]
  },
  {
   "cell_type": "code",
   "execution_count": null,
   "id": "35cbccbf-8a70-4904-99ad-22cbdae5c687",
   "metadata": {
    "tags": []
   },
   "outputs": [],
   "source": [
    "c3.look_at"
   ]
  },
  {
   "cell_type": "code",
   "execution_count": null,
   "id": "7dd500f7-51f7-46d8-a834-c076bac20983",
   "metadata": {
    "tags": []
   },
   "outputs": [],
   "source": [
    "def on_zoomed(*_):\n",
    "    if graph_toggle.value == fg:\n",
    "        c_kxyz[\"k\"].value = c.zoom\n",
    "        if btn_follow.value:\n",
    "            d_kxyz[\"k\"].value = c.zoom\n",
    "        for x in xyz:\n",
    "            l_xyz[x].layout.display = \"none\"\n",
    "            dl_xyz[x].layout.display = \"none\"\n",
    "        for i, v in enumerate(c.center):\n",
    "            x = xyz[i]\n",
    "            c_kxyz[x].value = v\n",
    "            if btn_follow.value:\n",
    "                d_kxyz[x].value = v\n",
    "    else:\n",
    "        c_kxyz[\"k\"].value = 1\n",
    "        if btn_follow.value:\n",
    "            d_kxyz[\"k\"].value = 1\n",
    "        for i, v in enumerate(c3.center):\n",
    "            x = xyz[i]\n",
    "            c_kxyz[x].value = v\n",
    "            if btn_follow.value:\n",
    "                d_kxyz[x].value = v\n",
    "        for i, v in enumerate(c3.look_at):\n",
    "            x = xyz[i]\n",
    "            l_xyz[x].value = v\n",
    "            l_xyz[x].layout.display = \"flex\"\n",
    "            dl_xyz[x].layout.display = \"flex\"\n",
    "            if btn_follow.value:\n",
    "                dl_xyz[x].value = v\n",
    "\n",
    "\n",
    "def on_visible(*_):\n",
    "    c_vis.value = len(c.visible) if graph_toggle.value == fg else len(c3.visible)"
   ]
  },
  {
   "cell_type": "code",
   "execution_count": null,
   "id": "6070e740-e217-4adc-b248-7f3791674794",
   "metadata": {
    "tags": []
   },
   "outputs": [],
   "source": [
    "graph_toggle.observe(on_zoomed, \"value\")\n",
    "[a_c.observe(on_visible) for a_c in [c, c3]]\n",
    "\n",
    "T.link((c, \"capture_visible\"), (c_capture, \"value\"))\n",
    "T.link((c3, \"capture_visible\"), (c_capture, \"value\"))\n",
    "\n",
    "c.observe(on_zoomed, [\"zoom\", \"center\"])\n",
    "c3.observe(on_zoomed, [\"center\", \"look_at\"])"
   ]
  },
  {
   "cell_type": "code",
   "execution_count": null,
   "id": "37bce672-2c1b-4746-a660-f07bd63943cd",
   "metadata": {
    "tags": []
   },
   "outputs": [],
   "source": [
    "def on_direct(*_):\n",
    "    if graph_toggle.value == fg:\n",
    "        with d.hold_sync():\n",
    "            d.zoom = d_kxyz[\"k\"].value\n",
    "            d.center = [d_kxyz[x].value for x in xyz]\n",
    "        d.send_state(\"zoom\")\n",
    "        d.send_state(\"center\")\n",
    "    else:\n",
    "        with d3.hold_sync():\n",
    "            d3.center = [d_kxyz[x].value for x in xyz]\n",
    "            d3.look_at = [dl_xyz[x].value for x in xyz]\n",
    "        d3.send_state(\"look_at\")\n",
    "        d3.send_state(\"center\")\n",
    "\n",
    "\n",
    "[T.link((d, f\"{dur}_duration\"), (ds, \"value\")) for dur, ds in d_dur.items()]\n",
    "[T.link((d3, f\"{dur}_duration\"), (ds, \"value\")) for dur, ds in d_dur.items()]\n",
    "btn_action.on_click(on_direct)"
   ]
  },
  {
   "cell_type": "code",
   "execution_count": null,
   "id": "963c9ae7-0538-497f-a2cb-8a7f2353826e",
   "metadata": {
    "tags": []
   },
   "outputs": [],
   "source": [
    "def on_tmpl(*_):\n",
    "    if graph_toggle.value == fg:\n",
    "        d3.fit_nodes = \"\"\n",
    "        if not btn_tmpl.value:\n",
    "            d.fit_nodes = \"\"\n",
    "            return\n",
    "        d.fit_nodes = tmpl_nj\n",
    "    else:\n",
    "        d.fit_nodes = \"\"\n",
    "        if not btn_tmpl.value:\n",
    "            d3.fit_nodes = \"\"\n",
    "            return\n",
    "        d3.fit_nodes = tmpl_nj\n",
    "\n",
    "\n",
    "T.dlink(\n",
    "    (sel_user, \"value\"), (tmpl_txt, \"value\"), lambda x: \"{{ node.user == '%s' }}\" % x\n",
    ")\n",
    "T.link((d, \"fit_padding\"), (fit_pad, \"value\"))\n",
    "T.link((d3, \"fit_padding\"), (fit_pad, \"value\"))\n",
    "T.dlink((tmpl_txt, \"value\"), (tmpl_nj, \"value\"))\n",
    "btn_tmpl.observe(on_tmpl, \"value\")"
   ]
  },
  {
   "cell_type": "code",
   "execution_count": null,
   "id": "cac517bc-cbca-47cd-8eb8-78aac6eb4d24",
   "metadata": {
    "tags": []
   },
   "outputs": [],
   "source": [
    "W.HBox(\n",
    "    [\n",
    "        W.VBox(\n",
    "            [\n",
    "                graph_toggle,\n",
    "                W.Label(\"🎥 Camera\"),\n",
    "                *c_kxyz.values(),\n",
    "                W.Label(\"Look At\"),\n",
    "                *l_xyz.values(),\n",
    "                W.HBox([c_capture, c_vis]),\n",
    "                W.Label(\"🎬 Director\"),\n",
    "                W.Tab(\n",
    "                    [\n",
    "                        W.VBox(\n",
    "                            [\n",
    "                                *d_kxyz.values(),\n",
    "                                *dl_xyz.values(),\n",
    "                                *d_dur.values(),\n",
    "                                W.HBox([btn_follow, btn_action]),\n",
    "                            ]\n",
    "                        ),\n",
    "                        W.VBox([sel_user, tmpl_txt, fit_pad, btn_tmpl]),\n",
    "                    ],\n",
    "                    titles=[\"Bounds\", \"Template\"],\n",
    "                ),\n",
    "            ],\n",
    "            layout=dict(min_width=\"25em\"),\n",
    "        ),\n",
    "        fg,\n",
    "        fg3,\n",
    "    ],\n",
    "    layout=dict(height=\"100%\"),\n",
    ")"
   ]
  }
 ],
 "metadata": {
  "kernelspec": {
   "display_name": "Python 3 (ipykernel)",
   "language": "python",
   "name": "python3"
  },
  "language_info": {
   "codemirror_mode": {
    "name": "ipython",
    "version": 3
   },
   "file_extension": ".py",
   "mimetype": "text/x-python",
   "name": "python",
   "nbconvert_exporter": "python",
   "pygments_lexer": "ipython3",
   "version": "3.11.3"
  }
 },
 "nbformat": 4,
 "nbformat_minor": 5
}
