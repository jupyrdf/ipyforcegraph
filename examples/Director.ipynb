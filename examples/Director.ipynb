{
 "cells": [
  {
   "cell_type": "markdown",
   "id": "31b6590e-1332-4e5a-87fd-7fc90867f2d8",
   "metadata": {},
   "source": [
    "# 🎬 Director\n",
    "\n",
    "The `GraphDirector` and `GraphCamera` [behaviors](./Behaviors.ipynb) control and observe\n",
    "the current contents of the viewport."
   ]
  },
  {
   "cell_type": "code",
   "execution_count": null,
   "id": "fdaed39e-214f-4f95-a975-f2f1406b1fba",
   "metadata": {
    "tags": []
   },
   "outputs": [],
   "source": [
    "if __name__ == \"__main__\" and \"pyodide\" in __import__(\"sys\").modules:\n",
    "    %pip install -q -r requirements.txt"
   ]
  },
  {
   "cell_type": "code",
   "execution_count": null,
   "id": "3d056735-7b5e-49a7-97fa-ec4419b349cb",
   "metadata": {
    "tags": []
   },
   "outputs": [],
   "source": [
    "import json\n",
    "from pathlib import Path\n",
    "\n",
    "import ipyforcegraph.behaviors as B\n",
    "import ipyforcegraph.graphs as G\n",
    "import ipywidgets as W\n",
    "import traitlets as T"
   ]
  },
  {
   "cell_type": "code",
   "execution_count": null,
   "id": "2cce48d8-dd90-4bb2-923e-cd38ff3e8df2",
   "metadata": {
    "tags": []
   },
   "outputs": [],
   "source": [
    "data = json.loads(Path(\"./datasets/blocks.json\").read_text())"
   ]
  },
  {
   "cell_type": "code",
   "execution_count": null,
   "id": "c3154eee-0749-4c05-81f9-6b77a89120af",
   "metadata": {
    "tags": []
   },
   "outputs": [],
   "source": [
    "c = B.GraphCamera(capture_visible=True)\n",
    "d = B.GraphDirector()\n",
    "fg = G.ForceGraph(behaviors=[c, d])\n",
    "fg.source.nodes, fg.source.links = data[\"nodes\"], data[\"links\"]"
   ]
  },
  {
   "cell_type": "code",
   "execution_count": null,
   "id": "7d0b400d-971f-4dd7-ad7a-204b91870de0",
   "metadata": {
    "tags": []
   },
   "outputs": [],
   "source": [
    "xyz = \"xyz\"\n",
    "c_kxyz = {\n",
    "    x: W.FloatSlider(description=x, min=-1000, max=1000, disabled=True) for x in xyz\n",
    "}\n",
    "c_kxyz[\"k\"] = W.FloatSlider(description=\"k\", min=0, max=10, step=0.001, disabled=True)\n",
    "c_capture = W.ToggleButton(description=\"capture\", icon=\"crop\")\n",
    "c_vis = W.IntText(description=\"visible\", disabled=True)"
   ]
  },
  {
   "cell_type": "code",
   "execution_count": null,
   "id": "76b520d0-7e61-491c-aa26-06b6c1f612b3",
   "metadata": {
    "tags": []
   },
   "outputs": [],
   "source": [
    "d_kxyz = {x: W.FloatSlider(description=x, min=-1000, max=1000) for x in xyz}\n",
    "d_kxyz[\"k\"] = W.FloatSlider(description=\"k\", min=0, max=5, step=0.001)\n",
    "durs = [\"pan\", \"zoom\"]\n",
    "d_dur = {dur: W.FloatSlider(description=f\"{dur} (s)\", max=5) for dur in durs}\n",
    "btn_action = W.Button(description=\"action\", icon=\"play\", button_style=\"success\")\n",
    "btn_follow = W.ToggleButton(description=\"follow\", icon=\"lock\", value=True)\n",
    "sel_user = W.Dropdown(\n",
    "    description=\"user\",\n",
    "    options=sorted({d[\"user\"] for d in data[\"nodes\"] if \"user\" in d}),\n",
    ")\n",
    "tmpl_txt = W.Textarea(description=\"template\")\n",
    "tmpl_nj = B.Nunjucks(\"\")\n",
    "btn_tmpl = W.ToggleButton(description=\"use template\", icon=\"filter\")\n",
    "fit_pad = W.FloatSlider(description=\"padding\", min=0, max=200)"
   ]
  },
  {
   "cell_type": "code",
   "execution_count": null,
   "id": "5b1b5d35-d4be-45ce-9a95-eaccf2a3f743",
   "metadata": {
    "tags": []
   },
   "outputs": [],
   "source": [
    "def on_zoomed(*_):\n",
    "    c_kxyz[\"k\"].value = c.zoom\n",
    "    if btn_follow.value:\n",
    "        d_kxyz[\"k\"].value = c.zoom\n",
    "    for i, v in enumerate(c.center):\n",
    "        x = xyz[i]\n",
    "        c_kxyz[x].value = v\n",
    "        if btn_follow.value:\n",
    "            d_kxyz[x].value = v\n",
    "\n",
    "\n",
    "T.dlink((c, \"visible\"), (c_vis, \"value\"), len)\n",
    "T.link((c, \"capture_visible\"), (c_capture, \"value\"))\n",
    "c.observe(on_zoomed, [\"zoom\", \"center\"])"
   ]
  },
  {
   "cell_type": "code",
   "execution_count": null,
   "id": "37bce672-2c1b-4746-a660-f07bd63943cd",
   "metadata": {
    "tags": []
   },
   "outputs": [],
   "source": [
    "def on_direct(*_):\n",
    "    with d.hold_sync():\n",
    "        d.zoom = d_kxyz[\"k\"].value\n",
    "        d.center = [d_kxyz[x].value for x in xyz]\n",
    "    d.send_state(\"zoom\")\n",
    "    d.send_state(\"center\")\n",
    "\n",
    "\n",
    "[T.link((d, f\"{dur}_duration\"), (ds, \"value\")) for dur, ds in d_dur.items()]\n",
    "btn_action.on_click(on_direct)"
   ]
  },
  {
   "cell_type": "code",
   "execution_count": null,
   "id": "963c9ae7-0538-497f-a2cb-8a7f2353826e",
   "metadata": {
    "tags": []
   },
   "outputs": [],
   "source": [
    "def on_tmpl(*_):\n",
    "    if not btn_tmpl.value:\n",
    "        d.fit_nodes = \"\"\n",
    "        return\n",
    "    d.fit_nodes = tmpl_nj\n",
    "\n",
    "\n",
    "T.dlink(\n",
    "    (sel_user, \"value\"), (tmpl_txt, \"value\"), lambda x: \"{{ node.user == '%s' }}\" % x\n",
    ")\n",
    "T.dlink((d, \"fit_padding\"), (fit_pad, \"value\"))\n",
    "T.dlink((tmpl_txt, \"value\"), (tmpl_nj, \"value\"))\n",
    "btn_tmpl.observe(on_tmpl, \"value\")"
   ]
  },
  {
   "cell_type": "code",
   "execution_count": null,
   "id": "cac517bc-cbca-47cd-8eb8-78aac6eb4d24",
   "metadata": {
    "tags": []
   },
   "outputs": [],
   "source": [
    "W.HBox(\n",
    "    [\n",
    "        W.VBox(\n",
    "            [\n",
    "                W.Label(\"🎥 Camera\"),\n",
    "                *c_kxyz.values(),\n",
    "                W.HBox([c_capture, c_vis]),\n",
    "                W.Label(\"🎬 Director\"),\n",
    "                W.Tab(\n",
    "                    [\n",
    "                        W.VBox(\n",
    "                            [\n",
    "                                *d_kxyz.values(),\n",
    "                                *d_dur.values(),\n",
    "                                W.HBox([btn_follow, btn_action]),\n",
    "                            ]\n",
    "                        ),\n",
    "                        W.VBox([sel_user, tmpl_txt, fit_pad, btn_tmpl]),\n",
    "                    ],\n",
    "                    titles=[\"Bounds\", \"Template\"],\n",
    "                ),\n",
    "            ],\n",
    "            layout=dict(min_width=\"25em\"),\n",
    "        ),\n",
    "        fg,\n",
    "    ],\n",
    "    layout=dict(height=\"100%\"),\n",
    ")"
   ]
  },
  {
   "cell_type": "code",
   "execution_count": null,
   "id": "0ea6b57d-af8a-4ec0-8848-01dc654d896b",
   "metadata": {
    "tags": []
   },
   "outputs": [],
   "source": [
    "len(c.visible)"
   ]
  },
  {
   "cell_type": "code",
   "execution_count": null,
   "id": "9bb39350-4f62-46a0-b298-d5f2c6308d61",
   "metadata": {},
   "outputs": [],
   "source": []
  }
 ],
 "metadata": {
  "kernelspec": {
   "display_name": "Python 3 (ipykernel)",
   "language": "python",
   "name": "python3"
  },
  "language_info": {
   "codemirror_mode": {
    "name": "ipython",
    "version": 3
   },
   "file_extension": ".py",
   "mimetype": "text/x-python",
   "name": "python",
   "nbconvert_exporter": "python",
   "pygments_lexer": "ipython3",
   "version": "3.11.3"
  }
 },
 "nbformat": 4,
 "nbformat_minor": 5
}
