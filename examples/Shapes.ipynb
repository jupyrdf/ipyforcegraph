{
 "cells": [
  {
   "cell_type": "markdown",
   "id": "020b3696-db00-4432-a1fd-12ae59849d07",
   "metadata": {},
   "source": [
    "# ⭐ Shapes"
   ]
  },
  {
   "cell_type": "code",
   "execution_count": null,
   "id": "d27e0147-5e99-468c-873f-523f0476e87e",
   "metadata": {
    "tags": []
   },
   "outputs": [],
   "source": [
    "if __name__ == \"__main__\" and \"pyodide\" in __import__(\"sys\").modules:\n",
    "    %pip install -q -r requirements.txt"
   ]
  },
  {
   "cell_type": "code",
   "execution_count": null,
   "id": "114ad761-c4d4-4faf-a3e2-b60773326c84",
   "metadata": {
    "tags": []
   },
   "outputs": [],
   "source": [
    "from ipyforcegraph import graphs as G, behaviors as B\n",
    "from ipyforcegraph.behaviors import shapes as S\n",
    "import random\n",
    "import ipywidgets as W"
   ]
  },
  {
   "cell_type": "code",
   "execution_count": null,
   "id": "1218cd6b-ea8c-4714-97e5-ad3961a5f9ad",
   "metadata": {
    "tags": []
   },
   "outputs": [],
   "source": [
    "with __import__(\"importnb\").Notebook():\n",
    "    import Utils as U"
   ]
  },
  {
   "cell_type": "code",
   "execution_count": null,
   "id": "a2532791-3a00-4715-ae2d-1b66ea88758f",
   "metadata": {
    "tags": []
   },
   "outputs": [],
   "source": [
    "if __name__ == \"__main__\":\n",
    "    fg, box = U.make_a_demo()\n",
    "    box.description = \"Behavior Demo\"\n",
    "    display(box)"
   ]
  },
  {
   "cell_type": "code",
   "execution_count": null,
   "id": "ea32059e-e9df-46d9-8dfc-aecebfd3ed79",
   "metadata": {
    "tags": []
   },
   "outputs": [],
   "source": [
    "if __name__ == \"__main__\":\n",
    "    colors = [\n",
    "        \"red\",\n",
    "        \"blue\",\n",
    "        \"green\",\n",
    "        \"orange\",\n",
    "        \"teal\",\n",
    "        \"magenta\",\n",
    "        \"salmon\",\n",
    "        \"fuschia\",\n",
    "        \"grey\",\n",
    "        \"chartreuse\",\n",
    "        \"brown\",\n",
    "        \"maroon\",\n",
    "        \"cornflowerblue\",\n",
    "    ]\n",
    "    text = S.Text(\n",
    "        B.Column(\"id\"),\n",
    "        fill=B.Nunjucks(\"\"\"{{ %s[node.group] }}\"\"\" % colors),\n",
    "        size=13,\n",
    "        # padding=0.1,\n",
    "        background=\"rgba(255,255,255,0.15)\",\n",
    "        scale_on_zoom=B.Nunjucks(\"\"\"{% if not (node.index % 3) %}1{% endif %}\"\"\"),\n",
    "        stroke=\"grey\",\n",
    "    )\n",
    "    shape = B.NodeShapes(text)\n",
    "    box.behaviors = {**box.behaviors, \"node_shape\": shape}"
   ]
  },
  {
   "cell_type": "code",
   "execution_count": null,
   "id": "b3dc51ac-abdc-419b-89a4-2c164740a854",
   "metadata": {
    "tags": []
   },
   "outputs": [],
   "source": [
    "text.text = B.Nunjucks(\"    \")\n",
    "text.background = B.Nunjucks(\"\"\"{{ %s[node.group] }}\"\"\" % colors)\n",
    "text.scale_on_zoom = True"
   ]
  },
  {
   "cell_type": "code",
   "execution_count": null,
   "id": "6fb61a6a-7590-4713-ba0f-d1e88767d56f",
   "metadata": {
    "tags": []
   },
   "outputs": [],
   "source": [
    "shape.shapes = [text, S.Text(B.Nunjucks(\"{{ floor(node.x) }}\"), fill=\"white\")]"
   ]
  },
  {
   "cell_type": "code",
   "execution_count": null,
   "id": "8ab016b3-ee4e-4f93-8b9d-9cef16c570f5",
   "metadata": {
    "tags": []
   },
   "outputs": [],
   "source": [
    "text.padding = 0.5"
   ]
  },
  {
   "cell_type": "code",
   "execution_count": null,
   "id": "f87ab3ad-336e-4fe3-af37-4288932270af",
   "metadata": {},
   "outputs": [],
   "source": []
  }
 ],
 "metadata": {
  "kernelspec": {
   "display_name": "Python 3 (ipykernel)",
   "language": "python",
   "name": "python3"
  },
  "language_info": {
   "codemirror_mode": {
    "name": "ipython",
    "version": 3
   },
   "file_extension": ".py",
   "mimetype": "text/x-python",
   "name": "python",
   "nbconvert_exporter": "python",
   "pygments_lexer": "ipython3",
   "version": "3.11.0"
  }
 },
 "nbformat": 4,
 "nbformat_minor": 5
}
