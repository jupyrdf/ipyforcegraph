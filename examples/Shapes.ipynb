{
 "cells": [
  {
   "cell_type": "markdown",
   "id": "020b3696-db00-4432-a1fd-12ae59849d07",
   "metadata": {},
   "source": [
    "# ⭐ Shapes"
   ]
  },
  {
   "cell_type": "code",
   "execution_count": null,
   "id": "d27e0147-5e99-468c-873f-523f0476e87e",
   "metadata": {},
   "outputs": [],
   "source": [
    "if __name__ == \"__main__\" and \"pyodide\" in __import__(\"sys\").modules:\n",
    "    %pip install -q -r requirements.txt"
   ]
  },
  {
   "cell_type": "code",
   "execution_count": null,
   "id": "114ad761-c4d4-4faf-a3e2-b60773326c84",
   "metadata": {},
   "outputs": [],
   "source": [
    "from ipyforcegraph import behaviors as B\n",
    "from ipyforcegraph.behaviors import shapes as S\n",
    "from IPython.display import display"
   ]
  },
  {
   "cell_type": "code",
   "execution_count": null,
   "id": "1218cd6b-ea8c-4714-97e5-ad3961a5f9ad",
   "metadata": {},
   "outputs": [],
   "source": [
    "with __import__(\"importnb\").Notebook():\n",
    "    import Utils as U"
   ]
  },
  {
   "cell_type": "code",
   "execution_count": null,
   "id": "a2532791-3a00-4715-ae2d-1b66ea88758f",
   "metadata": {},
   "outputs": [],
   "source": [
    "if __name__ == \"__main__\":\n",
    "    fg, box = U.make_a_demo()  # GraphClass=G.ForceGraph3D)\n",
    "    box.description = \"Behavior Demo\"\n",
    "    display(fg)"
   ]
  },
  {
   "cell_type": "markdown",
   "id": "2f04fc5a-052c-4a25-8c0a-28f2fc2d4fd7",
   "metadata": {},
   "source": [
    "## `Text`"
   ]
  },
  {
   "cell_type": "code",
   "execution_count": null,
   "id": "ea32059e-e9df-46d9-8dfc-aecebfd3ed79",
   "metadata": {},
   "outputs": [],
   "source": [
    "if __name__ == \"__main__\":\n",
    "    text = S.Text(\n",
    "        B.Column(\"id\"),\n",
    "        fill=\"rgba(0,0,0,1)\",  # B.Nunjucks(\"\"\"{{ %s[node.group] }}\"\"\" % colors),\n",
    "        # size=13,\n",
    "        # padding=3,\n",
    "        # background=B.Nunjucks(\n",
    "        #     \"\"\"{{ %s[node.group] }}\"\"\" % colors\n",
    "        # ),  # \"rgba(255,255,255,0.15)\",\n",
    "        # scale_on_zoom=B.Nunjucks(\"\"\"{% if not (node.index % 3) %}1{% endif %}\"\"\"),\n",
    "        # stroke=\"red\",\n",
    "    )\n",
    "\n",
    "    node_shape = B.NodeShapes(text)\n",
    "    box.behaviors = {**box.behaviors, \"node_shape\": node_shape}"
   ]
  },
  {
   "cell_type": "markdown",
   "id": "c5cea5fe-97c0-4b14-a5d4-3da79dffcfce",
   "metadata": {},
   "source": [
    "## `Ellipse`"
   ]
  },
  {
   "cell_type": "code",
   "execution_count": null,
   "id": "20cdc2de-2c52-4684-8195-c8ac7bfcd860",
   "metadata": {},
   "outputs": [],
   "source": [
    "if __name__ == \"__main__\":\n",
    "    ellipse = S.Ellipse(\n",
    "        fill=B.Nunjucks(\"\"\"{{ %s[node.group] }}\"\"\" % U.colors),\n",
    "        width=20,\n",
    "        height=B.Nunjucks(\"{{ [20, 40, 60][node.index % 2] }}\"),\n",
    "        scale_on_zoom=False,\n",
    "        opacity=0.25,\n",
    "    )\n",
    "    node_shape = B.NodeShapes(ellipse)\n",
    "    box.behaviors = {**box.behaviors, \"node_shape\": node_shape}"
   ]
  },
  {
   "cell_type": "markdown",
   "id": "62c57cdd-13b1-4b2f-9869-b9959f9ef053",
   "metadata": {},
   "source": [
    "## `Rectangle`"
   ]
  },
  {
   "cell_type": "code",
   "execution_count": null,
   "id": "e3b33612-2eda-44f9-aef4-b83a3996e6ec",
   "metadata": {},
   "outputs": [],
   "source": [
    "if __name__ == \"__main__\":\n",
    "    rectangle = S.Rectangle(\n",
    "        fill=B.Nunjucks(\"\"\"{{ %s[node.group] }}\"\"\" % U.colors),\n",
    "        width=20,\n",
    "        height=B.Nunjucks(\"{{ [20, 40, 60][node.index % 2] }}\"),\n",
    "        scale_on_zoom=False,\n",
    "        opacity=0.25,\n",
    "    )\n",
    "    node_shape = B.NodeShapes(rectangle)\n",
    "    box.behaviors = {**box.behaviors, \"node_shape\": node_shape}"
   ]
  },
  {
   "cell_type": "markdown",
   "id": "05bd7a65-1cbb-48d5-9b55-bba6b3eb2716",
   "metadata": {},
   "source": []
  },
  {
   "cell_type": "code",
   "execution_count": null,
   "id": "43df0c1f-6c4f-4d50-bb24-64d78b45fa7e",
   "metadata": {},
   "outputs": [],
   "source": []
  }
 ],
 "metadata": {
  "kernelspec": {
   "display_name": "Python 3 (ipykernel)",
   "language": "python",
   "name": "python3"
  },
  "language_info": {
   "codemirror_mode": {
    "name": "ipython",
    "version": 3
   },
   "file_extension": ".py",
   "mimetype": "text/x-python",
   "name": "python",
   "nbconvert_exporter": "python",
   "pygments_lexer": "ipython3",
   "version": "3.11.0"
  }
 },
 "nbformat": 4,
 "nbformat_minor": 5
}
