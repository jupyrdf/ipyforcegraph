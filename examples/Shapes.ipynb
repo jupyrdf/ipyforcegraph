{
 "cells": [
  {
   "cell_type": "markdown",
   "id": "020b3696-db00-4432-a1fd-12ae59849d07",
   "metadata": {},
   "source": [
    "# ⭐ Shapes"
   ]
  },
  {
   "cell_type": "code",
   "execution_count": null,
   "id": "d27e0147-5e99-468c-873f-523f0476e87e",
   "metadata": {},
   "outputs": [],
   "source": [
    "if __name__ == \"__main__\" and \"pyodide\" in __import__(\"sys\").modules:\n",
    "    %pip install -q -r requirements.txt"
   ]
  },
  {
   "cell_type": "code",
   "execution_count": null,
   "id": "114ad761-c4d4-4faf-a3e2-b60773326c84",
   "metadata": {},
   "outputs": [],
   "source": [
    "from ipyforcegraph import behaviors as B\n",
    "from ipyforcegraph.behaviors import shapes as S\n",
    "from IPython.display import display"
   ]
  },
  {
   "cell_type": "code",
   "execution_count": null,
   "id": "1218cd6b-ea8c-4714-97e5-ad3961a5f9ad",
   "metadata": {},
   "outputs": [],
   "source": [
    "with __import__(\"importnb\").Notebook():\n",
    "    import Utils as U"
   ]
  },
  {
   "cell_type": "code",
   "execution_count": null,
   "id": "a2532791-3a00-4715-ae2d-1b66ea88758f",
   "metadata": {},
   "outputs": [],
   "source": [
    "if __name__ == \"__main__\":\n",
    "    fg, box = U.make_a_demo()  # GraphClass=G.ForceGraph3D)\n",
    "    box.description = \"Behavior Demo\"\n",
    "    display(fg)"
   ]
  },
  {
   "cell_type": "markdown",
   "id": "2f04fc5a-052c-4a25-8c0a-28f2fc2d4fd7",
   "metadata": {},
   "source": [
    "## `Text`"
   ]
  },
  {
   "cell_type": "code",
   "execution_count": null,
   "id": "ea32059e-e9df-46d9-8dfc-aecebfd3ed79",
   "metadata": {},
   "outputs": [],
   "source": [
    "# Paired / 12 (R,G,B levels)\n",
    "colors = [\n",
    "    \"166,206,227\",\n",
    "    \"31,120,180\",\n",
    "    \"178,223,138\",\n",
    "    \"51,160,44\",\n",
    "    \"251,154,153\",\n",
    "    \"227,26,28\",\n",
    "    \"253,191,111\",\n",
    "    \"255,127,0\",\n",
    "    \"202,178,214\",\n",
    "    \"106,61,154\",\n",
    "    \"255,255,153\",\n",
    "    \"177,89,40\",\n",
    "]\n",
    "if __name__ == \"__main__\":\n",
    "    fill_opacity = 1\n",
    "    fill_colors = [*map(lambda x: f\"rgba({x}, {fill_opacity})\", colors)]\n",
    "\n",
    "    stroke_opacity = 0.5\n",
    "    stroke_colors = [*map(lambda x: f\"rgba({x}, {stroke_opacity})\", colors)]\n",
    "    text = S.Text(\n",
    "        B.Column(\"id\"),\n",
    "        fill=B.Nunjucks(\"\"\"{{ %s[node.group] }}\"\"\" % fill_colors),\n",
    "        size=20,\n",
    "        padding=1,\n",
    "        # background=B.Nunjucks(\n",
    "        #     \"\"\"{{ %s[node.group] }}\"\"\" % colors\n",
    "        # ),  # \"rgba(255,255,255,0.15)\",\n",
    "        # scale_on_zoom=B.Nunjucks(\"\"\"{% if not (node.index % 5) %}1{% endif %}\"\"\"),\n",
    "        stroke=\"rgba(255,255,255,1.0)\",  # B.Nunjucks(\"\"\"{{ %s[node.group] }}\"\"\" % stroke_colors),\n",
    "        stroke_width=3,\n",
    "    )\n",
    "\n",
    "    node_shape = B.NodeShapes(text)\n",
    "    box.behaviors = {**box.behaviors, \"node_shape\": node_shape}"
   ]
  },
  {
   "cell_type": "markdown",
   "id": "c5cea5fe-97c0-4b14-a5d4-3da79dffcfce",
   "metadata": {},
   "source": [
    "## `Ellipse`"
   ]
  },
  {
   "cell_type": "code",
   "execution_count": null,
   "id": "20cdc2de-2c52-4684-8195-c8ac7bfcd860",
   "metadata": {},
   "outputs": [],
   "source": [
    "if __name__ == \"__main__\":\n",
    "    ellipse = S.Ellipse(\n",
    "        fill=B.Nunjucks(\"\"\"{{ %s[node.group] }}\"\"\" % U.colors),\n",
    "        width=20,\n",
    "        height=B.Nunjucks(\"{{ [20, 40, 60][node.index % 2] }}\"),\n",
    "        scale_on_zoom=False,\n",
    "        opacity=0.25,\n",
    "    )\n",
    "    node_shape = B.NodeShapes(ellipse)\n",
    "    box.behaviors = {**box.behaviors, \"node_shape\": node_shape}"
   ]
  },
  {
   "cell_type": "markdown",
   "id": "62c57cdd-13b1-4b2f-9869-b9959f9ef053",
   "metadata": {},
   "source": [
    "## `Rectangle`"
   ]
  },
  {
   "cell_type": "code",
   "execution_count": null,
   "id": "e3b33612-2eda-44f9-aef4-b83a3996e6ec",
   "metadata": {},
   "outputs": [],
   "source": [
    "if __name__ == \"__main__\":\n",
    "    rectangle = S.Rectangle(\n",
    "        fill=B.Nunjucks(\"\"\"{{ %s[node.group] }}\"\"\" % U.colors),\n",
    "        width=20,\n",
    "        height=B.Nunjucks(\"{{ [20, 40, 60][node.index % 2] }}\"),\n",
    "        scale_on_zoom=False,\n",
    "        opacity=0.25,\n",
    "    )\n",
    "    node_shape = B.NodeShapes(rectangle)\n",
    "    box.behaviors = {**box.behaviors, \"node_shape\": node_shape}"
   ]
  }
 ],
 "metadata": {
  "kernelspec": {
   "display_name": "Python 3 (ipykernel)",
   "language": "python",
   "name": "python3"
  },
  "language_info": {
   "codemirror_mode": {
    "name": "ipython",
    "version": 3
   },
   "file_extension": ".py",
   "mimetype": "text/x-python",
   "name": "python",
   "nbconvert_exporter": "python",
   "pygments_lexer": "ipython3",
   "version": "3.11.0"
  }
 },
 "nbformat": 4,
 "nbformat_minor": 5
}
