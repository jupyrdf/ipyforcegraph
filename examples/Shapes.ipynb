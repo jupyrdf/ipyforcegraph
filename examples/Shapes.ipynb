{
 "cells": [
  {
   "cell_type": "markdown",
   "id": "020b3696-db00-4432-a1fd-12ae59849d07",
   "metadata": {},
   "source": [
    "# ⭐ Shapes"
   ]
  },
  {
   "cell_type": "code",
   "execution_count": null,
   "id": "d27e0147-5e99-468c-873f-523f0476e87e",
   "metadata": {
    "tags": []
   },
   "outputs": [],
   "source": [
    "if __name__ == \"__main__\" and \"pyodide\" in __import__(\"sys\").modules:\n",
    "    %pip install -q -r requirements.txt"
   ]
  },
  {
   "cell_type": "code",
   "execution_count": null,
   "id": "114ad761-c4d4-4faf-a3e2-b60773326c84",
   "metadata": {
    "tags": []
   },
   "outputs": [],
   "source": [
    "from ipyforcegraph import graphs as G, behaviors as B\n",
    "from ipyforcegraph.behaviors import shapes as S\n",
    "import random\n",
    "import ipywidgets as W"
   ]
  },
  {
   "cell_type": "code",
   "execution_count": null,
   "id": "1218cd6b-ea8c-4714-97e5-ad3961a5f9ad",
   "metadata": {
    "tags": []
   },
   "outputs": [],
   "source": [
    "with __import__(\"importnb\").Notebook():\n",
    "    import Utils as U"
   ]
  },
  {
   "cell_type": "code",
   "execution_count": null,
   "id": "a2532791-3a00-4715-ae2d-1b66ea88758f",
   "metadata": {
    "tags": []
   },
   "outputs": [],
   "source": [
    "if __name__ == \"__main__\":\n",
    "    fg, box = U.make_a_demo()\n",
    "    box.description = \"Behavior Demo\"\n",
    "    display(box)"
   ]
  },
  {
   "cell_type": "code",
   "execution_count": null,
   "id": "ea32059e-e9df-46d9-8dfc-aecebfd3ed79",
   "metadata": {
    "tags": []
   },
   "outputs": [],
   "source": [
    "if __name__ == \"__main__\":\n",
    "    colors = [\n",
    "        \"red\",\n",
    "        \"blue\",\n",
    "        \"green\",\n",
    "        \"orange\",\n",
    "        \"teal\",\n",
    "        \"magenta\",\n",
    "        \"salmon\",\n",
    "        \"fuschia\",\n",
    "        \"grey\",\n",
    "        \"chartreuse\",\n",
    "        \"brown\",\n",
    "        \"maroon\",\n",
    "        \"cornflowerblue\",\n",
    "    ]\n",
    "    fill = B.Nunjucks(\"white\")\n",
    "    bg = B.Nunjucks(\"black\")\n",
    "    size = B.Nunjucks(\"18\")\n",
    "    padding = B.Nunjucks(\"1\")\n",
    "    shape = B.NodeShapes(\n",
    "        S.TextShape(\n",
    "            B.Column(\"id\"),\n",
    "            fill=B.Nunjucks(\"\"\"{{ %s[node.group] }}\"\"\" % colors),\n",
    "            size=13,\n",
    "            # padding=0.1,\n",
    "            background=\"rgba(255,255,255,0.15)\",\n",
    "            scale_on_zoom=B.Nunjucks(\"\"\"{% if not (node.index % 3) %}1{% endif %}\"\"\"),\n",
    "            stroke=\"grey\",\n",
    "        ),\n",
    "    )\n",
    "    box.behaviors = {**box.behaviors, \"node_shape\": shape}"
   ]
  }
 ],
 "metadata": {
  "kernelspec": {
   "display_name": "Python 3 (ipykernel)",
   "language": "python",
   "name": "python3"
  },
  "language_info": {
   "codemirror_mode": {
    "name": "ipython",
    "version": 3
   },
   "file_extension": ".py",
   "mimetype": "text/x-python",
   "name": "python",
   "nbconvert_exporter": "python",
   "pygments_lexer": "ipython3",
   "version": "3.11.0"
  }
 },
 "nbformat": 4,
 "nbformat_minor": 5
}
