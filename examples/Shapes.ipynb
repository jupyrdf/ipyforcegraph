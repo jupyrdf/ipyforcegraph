{
 "cells": [
  {
   "cell_type": "markdown",
   "id": "020b3696-db00-4432-a1fd-12ae59849d07",
   "metadata": {},
   "source": [
    "# ⭐ Shapes"
   ]
  },
  {
   "cell_type": "code",
   "execution_count": null,
   "id": "d27e0147-5e99-468c-873f-523f0476e87e",
   "metadata": {},
   "outputs": [],
   "source": [
    "if __name__ == \"__main__\" and \"pyodide\" in __import__(\"sys\").modules:\n",
    "    %pip install -q -r requirements.txt"
   ]
  },
  {
   "cell_type": "code",
   "execution_count": null,
   "id": "114ad761-c4d4-4faf-a3e2-b60773326c84",
   "metadata": {},
   "outputs": [],
   "source": [
    "from ipyforcegraph.behaviors import shapes as S\n",
    "from IPython.display import display"
   ]
  },
  {
   "cell_type": "code",
   "execution_count": null,
   "id": "1218cd6b-ea8c-4714-97e5-ad3961a5f9ad",
   "metadata": {},
   "outputs": [],
   "source": [
    "with __import__(\"importnb\").Notebook():\n",
    "    import Utils as U"
   ]
  },
  {
   "cell_type": "code",
   "execution_count": null,
   "id": "a2532791-3a00-4715-ae2d-1b66ea88758f",
   "metadata": {},
   "outputs": [],
   "source": [
    "if __name__ == \"__main__\":\n",
    "    fg, box = U.make_a_demo()  # GraphClass=G.ForceGraph3D)\n",
    "    box.description = \"Behavior Demo\"\n",
    "    display(box)"
   ]
  },
  {
   "cell_type": "code",
   "execution_count": null,
   "id": "8ac05708-0ab3-4f71-89de-c524153154d4",
   "metadata": {
    "tags": []
   },
   "outputs": [],
   "source": [
    "def make_shape_ui(fg, box):\n",
    "    return U.NodeShapeUI(box=box, fg=fg)\n",
    "\n",
    "\n",
    "if __name__ == \"__main__\":\n",
    "    node_shape_ui = make_shape_ui(fg, box)"
   ]
  },
  {
   "cell_type": "markdown",
   "id": "2f04fc5a-052c-4a25-8c0a-28f2fc2d4fd7",
   "metadata": {},
   "source": [
    "## `Text`"
   ]
  },
  {
   "cell_type": "code",
   "execution_count": null,
   "id": "ea32059e-e9df-46d9-8dfc-aecebfd3ed79",
   "metadata": {},
   "outputs": [],
   "source": [
    "if __name__ == \"__main__\":\n",
    "    node_shape_ui.add_shape(S.Text())"
   ]
  },
  {
   "cell_type": "markdown",
   "id": "68e75826-2284-403e-b504-a1e293858275",
   "metadata": {
    "tags": []
   },
   "source": [
    "### Set some reasonable defaults for the `Text` Shape"
   ]
  },
  {
   "cell_type": "code",
   "execution_count": null,
   "id": "832411ba-21fa-41df-82bb-dde545638f6f",
   "metadata": {
    "tags": []
   },
   "outputs": [],
   "source": [
    "def set_text_shape_defaults(text_ui):\n",
    "    # Set labels to use `id`\n",
    "    attr_id_idx = {c.attribute_name: (i, c) for i, c in enumerate(text_ui.children)}\n",
    "    text_idx, text_attr = attr_id_idx[\"text\"]\n",
    "    text_ui.selected_index = text_idx\n",
    "    text_attr.selected_index = 1\n",
    "    text_attr.children[1].value = \"id\"\n",
    "\n",
    "    # Set fill to use a Nunjucks template based on the nodes' `group`\n",
    "    fill_idx, fill_attr = attr_id_idx[\"fill\"]\n",
    "    text_ui.selected_index = fill_idx\n",
    "    fill_attr.selected_index = 3\n",
    "    fill_attr.children[3].children[0].value = \"\"\"{{ %s[node.group] }}\"\"\" % U.make_rgba(\n",
    "        U.paired, 0.9\n",
    "    )\n",
    "\n",
    "\n",
    "if __name__ == \"__main__\":\n",
    "    text_ui, *_ = node_shape_ui.children\n",
    "    set_text_shape_defaults(text_ui)"
   ]
  },
  {
   "cell_type": "markdown",
   "id": "c5cea5fe-97c0-4b14-a5d4-3da79dffcfce",
   "metadata": {},
   "source": [
    "## `Ellipse`"
   ]
  },
  {
   "cell_type": "code",
   "execution_count": null,
   "id": "20cdc2de-2c52-4684-8195-c8ac7bfcd860",
   "metadata": {},
   "outputs": [],
   "source": [
    "if __name__ == \"__main__\":\n",
    "    node_shape_ui.add_shape(S.Ellipse())"
   ]
  },
  {
   "cell_type": "markdown",
   "id": "62c57cdd-13b1-4b2f-9869-b9959f9ef053",
   "metadata": {},
   "source": [
    "## `Rectangle`"
   ]
  },
  {
   "cell_type": "code",
   "execution_count": null,
   "id": "e3b33612-2eda-44f9-aef4-b83a3996e6ec",
   "metadata": {
    "tags": []
   },
   "outputs": [],
   "source": [
    "if __name__ == \"__main__\":\n",
    "    node_shape_ui.add_shape(S.Rectangle())"
   ]
  },
  {
   "cell_type": "markdown",
   "id": "262b8aee-6d93-44f1-874a-73728c5d405e",
   "metadata": {},
   "source": [
    "# Helper Methods"
   ]
  },
  {
   "cell_type": "code",
   "execution_count": null,
   "id": "60639438-fa4a-4bd7-965c-d55d54e3e187",
   "metadata": {
    "tags": []
   },
   "outputs": [],
   "source": [
    "def make_full_node_shape_ui(fg, box):\n",
    "    ui = make_shape_ui(fg, box)\n",
    "\n",
    "    ui.add_shape(S.Text())\n",
    "    ui.add_shape(S.Ellipse())\n",
    "    ui.add_shape(S.Rectangle())\n",
    "\n",
    "    text_ui, *_ = ui.children\n",
    "    set_text_shape_defaults(text_ui)\n",
    "\n",
    "    return fg, box"
   ]
  }
 ],
 "metadata": {
  "kernelspec": {
   "display_name": "Python 3 (ipykernel)",
   "language": "python",
   "name": "python3"
  },
  "language_info": {
   "codemirror_mode": {
    "name": "ipython",
    "version": 3
   },
   "file_extension": ".py",
   "mimetype": "text/x-python",
   "name": "python",
   "nbconvert_exporter": "python",
   "pygments_lexer": "ipython3",
   "version": "3.11.4"
  }
 },
 "nbformat": 4,
 "nbformat_minor": 5
}
