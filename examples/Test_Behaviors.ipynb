{
 "cells": [
  {
   "cell_type": "markdown",
   "id": "636253e6-d444-4d9c-8f76-4393519bb3f2",
   "metadata": {},
   "source": [
    "# Behaviors Test Demo 🏃"
   ]
  },
  {
   "cell_type": "code",
   "execution_count": null,
   "id": "765e85d5-94c3-4337-ac38-55adc2a1cc16",
   "metadata": {
    "tags": []
   },
   "outputs": [],
   "source": [
    "if __name__ == \"__main__\" and \"pyodide\" in __import__(\"sys\").modules:\n",
    "    %pip install -q -r requirements.txt"
   ]
  },
  {
   "cell_type": "code",
   "execution_count": null,
   "id": "e5876be4-4252-49c6-8d19-716dc95fb46d",
   "metadata": {
    "tags": []
   },
   "outputs": [],
   "source": [
    "from IPython.display import display"
   ]
  },
  {
   "cell_type": "code",
   "execution_count": null,
   "id": "881ab7ee-e577-4eb0-b7ad-e3bbe806aa71",
   "metadata": {
    "tags": []
   },
   "outputs": [],
   "source": [
    "with __import__(\"importnb\").Notebook():\n",
    "    import Behaviors as B\n",
    "    import Utils as U"
   ]
  },
  {
   "cell_type": "code",
   "execution_count": null,
   "id": "82c865c6-09a5-4407-8096-350fb6d0d05a",
   "metadata": {
    "tags": []
   },
   "outputs": [],
   "source": [
    "fg, box = U.make_a_demo()\n",
    "display(box)"
   ]
  },
  {
   "cell_type": "code",
   "execution_count": null,
   "id": "c26757df-d659-4391-b5de-eb50e0a9ce3e",
   "metadata": {
    "tags": []
   },
   "outputs": [],
   "source": [
    "if __name__ == \"__main__\":\n",
    "    B.add_graph_data(fg, box)\n",
    "    B.add_link_shapes(fg, box)"
   ]
  },
  {
   "cell_type": "code",
   "execution_count": null,
   "id": "4d5d5477-2699-4007-8d8b-4af22d74e5e2",
   "metadata": {
    "tags": []
   },
   "outputs": [],
   "source": [
    "link_shapes = box.behaviors[\"link: shapes\"]\n",
    "link_shapes.color = \"red\""
   ]
  },
  {
   "cell_type": "markdown",
   "id": "5c581fb0-60a7-4d1e-828f-156ad6e6e237",
   "metadata": {
    "tags": []
   },
   "source": [
    "# Broken Conditions"
   ]
  },
  {
   "cell_type": "markdown",
   "id": "e810e37d-8428-41d7-b9dd-8f49ed68570f",
   "metadata": {
    "tags": []
   },
   "source": [
    "## `Column` handler\n",
    "\n",
    "> Produces the following error (`base.ts:189`) because `options` is not defined"
   ]
  },
  {
   "cell_type": "code",
   "execution_count": null,
   "id": "d460eafc-dcf4-4c28-939e-877eb548c9ab",
   "metadata": {
    "tags": []
   },
   "outputs": [],
   "source": [
    "link_shapes.width = B.B.Column(\"value\")"
   ]
  },
  {
   "cell_type": "markdown",
   "id": "deae46b2-ba6c-4105-92ab-ad8a992a3e19",
   "metadata": {
    "tags": []
   },
   "source": [
    "```javascript\n",
    "Uncaught TypeError: Cannot read properties of undefined (reading 'value')\n",
    "    at Object._nodeHandler [as width] (base.ts:189:63)\n",
    "    at LinkShapeModel.getLinkWidth (link-shape.ts:25:46)\n",
    "    at ForceGraphView.getComposedLinkAttr (2d.ts:695:22)\n",
    "    at ForceGraphView.getLinkWidth (2d.ts:625:17)\n",
    "    at about:srcdoc:34:33\n",
    "    at b8fd8d3e0bda625bb19b5648cfa0a2a21cba86d2c532008b71a57e5b11d8aed6.js:12225:45\n",
    "    at b8fd8d3e0bda625bb19b5648cfa0a2a21cba86d2c532008b71a57e5b11d8aed6.js:10670:17\n",
    "    at Array.forEach (<anonymous>)\n",
    "    at b8fd8d3e0bda625bb19b5648cfa0a2a21cba86d2c532008b71a57e5b11d8aed6.js:10657:12\n",
    "    at Array.reduce (<anonymous>)\n",
    "```\n",
    "\n",
    "### Potential solution\n",
    "\n",
    "> mimic what we do to check the `Nunjucks` handler has `options`?"
   ]
  },
  {
   "cell_type": "markdown",
   "id": "a32b4334-4825-4664-88b7-9fec20a2f5f8",
   "metadata": {},
   "source": [
    "## `Nunjucks` handler\n",
    "\n",
    "> Produces a `Template render error: (unknown path)` in nunjucks when progressively\n",
    "> specifying it"
   ]
  },
  {
   "cell_type": "code",
   "execution_count": null,
   "id": "5fa4e580-a6ad-4dfd-b11f-3d10012cb517",
   "metadata": {},
   "outputs": [],
   "source": [
    "link_shapes.width = B.B.Nunjucks(\"10 * exp(-{{ link\")"
   ]
  },
  {
   "cell_type": "markdown",
   "id": "5a07b391-aa4a-4852-a005-17f9aa0f21a0",
   "metadata": {},
   "source": [
    "```javascript\n",
    "Uncaught (in promise) Template render error: (unknown path) [Line 1, Column 7]\n",
    "  expected variable end\n",
    "    at Object._prettifyError (http://localhost:8888/lab/extensions/@jupyrdf/jupyter-forcegraph/static/vendors-node_modules_nunjucks_browser_nunjucks_js.f1046b9f71ea482de059.js:120:11)\n",
    "    at Template.init (http://localhost:8888/lab/extensions/@jupyrdf/jupyter-forcegraph/static/vendors-node_modules_nunjucks_browser_nunjucks_js.f1046b9f71ea482de059.js:3461:19)\n",
    "    at Template.Obj (http://localhost:8888/lab/extensions/@jupyrdf/jupyter-forcegraph/static/vendors-node_modules_nunjucks_browser_nunjucks_js.f1046b9f71ea482de059.js:569:15)\n",
    "    at new Template (http://localhost:8888/lab/extensions/@jupyrdf/jupyter-forcegraph/static/vendors-node_modules_nunjucks_browser_nunjucks_js.f1046b9f71ea482de059.js:3428:18)\n",
    "    at newTemplate (http://localhost:8888/lab/extensions/@jupyrdf/jupyter-forcegraph/static/lib_widgets_index_js.294ec6b6f16a53d3402e.js:66:12)\n",
    "    at async NunjucksModel.ensureHandlers (http://localhost:8888/lab/extensions/@jupyrdf/jupyter-forcegraph/static/lib_widgets_index_js.294ec6b6f16a53d3402e.js:355:22)\n",
    "    at async LinkShapeModel.ensureFacets (http://localhost:8888/lab/extensions/@jupyrdf/jupyter-forcegraph/static/lib_widgets_index_js.294ec6b6f16a53d3402e.js:278:17)\n",
    "    at async Promise.all (index 0)\n",
    "    at async ForceGraphView.ensureAllFacets (http://localhost:8888/lab/extensions/@jupyrdf/jupyter-forcegraph/static/lib_widgets_index_js.294ec6b6f16a53d3402e.js:2723:13)\n",
    "    at async ForceGraphView.postUpdate (http://localhost:8888/lab/extensions/@jupyrdf/jupyter-forcegraph/static/lib_widgets_index_js.294ec6b6f16a53d3402e.js:2737:9)\n",
    "```"
   ]
  }
 ],
 "metadata": {
  "kernelspec": {
   "display_name": "Python 3 (ipykernel)",
   "language": "python",
   "name": "python3"
  },
  "language_info": {
   "codemirror_mode": {
    "name": "ipython",
    "version": 3
   },
   "file_extension": ".py",
   "mimetype": "text/x-python",
   "name": "python",
   "nbconvert_exporter": "python",
   "pygments_lexer": "ipython3",
   "version": "3.11.0"
  }
 },
 "nbformat": 4,
 "nbformat_minor": 5
}
