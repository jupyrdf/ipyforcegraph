{
 "cells": [
  {
   "cell_type": "markdown",
   "id": "636253e6-d444-4d9c-8f76-4393519bb3f2",
   "metadata": {},
   "source": [
    "# Behaviors Test Demo 👟"
   ]
  },
  {
   "cell_type": "code",
   "execution_count": null,
   "id": "765e85d5-94c3-4337-ac38-55adc2a1cc16",
   "metadata": {
    "tags": []
   },
   "outputs": [],
   "source": [
    "if __name__ == \"__main__\" and \"pyodide\" in __import__(\"sys\").modules:\n",
    "    %pip install -q -r requirements.txt"
   ]
  },
  {
   "cell_type": "code",
   "execution_count": null,
   "id": "b0bf54e3-ffcb-44ab-9483-01e0ee86ebc9",
   "metadata": {
    "tags": []
   },
   "outputs": [],
   "source": [
    "import asyncio\n",
    "\n",
    "import ipyforcegraph.behaviors.forces as F\n",
    "\n",
    "with __import__(\"importnb\").Notebook():\n",
    "    import Behaviors as B\n",
    "    import Forces as F\n",
    "    import Utils as U"
   ]
  },
  {
   "cell_type": "code",
   "execution_count": null,
   "id": "82c865c6-09a5-4407-8096-350fb6d0d05a",
   "metadata": {
    "tags": []
   },
   "outputs": [],
   "source": [
    "fg, box = U.make_a_demo()\n",
    "display(box)"
   ]
  },
  {
   "cell_type": "code",
   "execution_count": null,
   "id": "c26757df-d659-4391-b5de-eb50e0a9ce3e",
   "metadata": {
    "tags": []
   },
   "outputs": [],
   "source": [
    "if __name__ == \"__main__\":\n",
    "    B.add_graph_data(fg, box)\n",
    "    B.add_link_shapes(fg, box)"
   ]
  },
  {
   "cell_type": "code",
   "execution_count": null,
   "id": "99f5ade0-b637-44a4-9ac0-48d635ec4b1c",
   "metadata": {
    "tags": []
   },
   "outputs": [],
   "source": [
    "link_shapes = box.behaviors[\"link_shapes\"]\n",
    "link_shapes.color = \"red\"\n",
    "\n",
    "# This breaks\n",
    "# link_shapes.width = B.B.Column(\"value\")"
   ]
  }
 ],
 "metadata": {
  "kernelspec": {
   "display_name": "Python 3 (ipykernel)",
   "language": "python",
   "name": "python3"
  },
  "language_info": {
   "codemirror_mode": {
    "name": "ipython",
    "version": 3
   },
   "file_extension": ".py",
   "mimetype": "text/x-python",
   "name": "python",
   "nbconvert_exporter": "python",
   "pygments_lexer": "ipython3",
   "version": "3.11.0"
  }
 },
 "nbformat": 4,
 "nbformat_minor": 5
}
