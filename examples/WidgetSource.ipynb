{
 "cells": [
  {
   "cell_type": "markdown",
   "id": "23c055f5-b003-4560-8e62-4f788a07671b",
   "metadata": {},
   "source": [
    "# 🥄 Widget Source\n",
    "\n",
    "Instantiating a rich Jupyter Widgets application can create a graph with thousands of\n",
    "dynamic nodes and links. The `WidgetSource` allows for viewing a snapshot of this."
   ]
  },
  {
   "cell_type": "code",
   "execution_count": null,
   "id": "82522d4b-d143-499a-b9e0-47b69e15ecb7",
   "metadata": {
    "tags": []
   },
   "outputs": [],
   "source": [
    "if __name__ == \"__main__\" and \"pyodide\" in __import__(\"sys\").modules:\n",
    "    %pip install -q -r requirements.txt"
   ]
  },
  {
   "cell_type": "code",
   "execution_count": null,
   "id": "54882fbb-8178-4a1d-9125-bb92e59db30c",
   "metadata": {
    "tags": []
   },
   "outputs": [],
   "source": [
    "import ipywidgets as W\n",
    "import json\n",
    "import IPython\n",
    "import traitlets as T\n",
    "from ipyforcegraph.sources.widget import WidgetSource\n",
    "from ipyforcegraph.graphs import ForceGraph\n",
    "import ipyforcegraph.behaviors as B\n",
    "import ipyforcegraph.behaviors.forces as F"
   ]
  },
  {
   "cell_type": "markdown",
   "id": "8d39598d-2044-4c0e-90f2-6643e84d1ca8",
   "metadata": {},
   "source": [
    "## A Simple Widget App"
   ]
  },
  {
   "cell_type": "code",
   "execution_count": null,
   "id": "ce87aa13-1a27-47c2-ae6e-a45a8594391a",
   "metadata": {
    "tags": []
   },
   "outputs": [],
   "source": [
    "x = W.FloatSlider()\n",
    "y = W.IntSlider()\n",
    "box = W.HBox([x, y])\n",
    "T.link((x, \"value\"), (y, \"value\"))\n",
    "box"
   ]
  },
  {
   "cell_type": "code",
   "execution_count": null,
   "id": "ab0cc4f8-607a-4306-ad39-acffc06170d5",
   "metadata": {
    "tags": []
   },
   "outputs": [],
   "source": [
    "fg = ForceGraph(\n",
    "    source=WidgetSource([box]),\n",
    "    behaviors=[\n",
    "        B.NodeLabels(\n",
    "            template=(\n",
    "                \"<code>{{ node.name }}</code> \"\n",
    "                \"{{ node.type }} \"\n",
    "                \"(<code>{{ node.py_module}}.<b>{{ node.py_class }}</b></code>)\"\n",
    "            ),\n",
    "        ),\n",
    "        B.NodeSizes(template=\"\"\"{{ {\"widget\": 10, \"trait\": 2}[node.type]  }}\"\"\"),\n",
    "        B.LinkDirectionalArrowLength(template=\"4\"),\n",
    "        B.LinkDirectionalArrowColor(template=\"black\"),\n",
    "        B.LinkDirectionalArrowRelPos(template=\"0.5\"),\n",
    "    ],\n",
    "    layout=dict(height=\"100%\"),\n",
    ")\n",
    "fg"
   ]
  },
  {
   "cell_type": "markdown",
   "id": "390a4b99-185e-436d-90be-40f629b3ad9a",
   "metadata": {},
   "source": [
    "## Viewing a `ForceGraph` itself\n",
    "\n",
    "As a `ForceGraph`'s source can be changed dynamically, its underlying data can be shown."
   ]
  },
  {
   "cell_type": "code",
   "execution_count": null,
   "id": "17676c79-b08c-4bdf-ada1-f6f527c60f07",
   "metadata": {
    "tags": []
   },
   "outputs": [],
   "source": [
    "fg.source = WidgetSource([fg])"
   ]
  },
  {
   "cell_type": "markdown",
   "id": "dd684dc4-b7b8-44a2-ac44-f7755fed347c",
   "metadata": {
    "tags": []
   },
   "source": [
    "> Re-running the above will cause the originally observed app to \"disappear\"."
   ]
  },
  {
   "cell_type": "markdown",
   "id": "552df077-5dd3-4117-b621-2d14cf36c75b",
   "metadata": {},
   "source": [
    "## A More Complex Example\n",
    "\n",
    "Without even viewing the widget, it is possible to inspect its graph, such as the\n",
    "[3D](./3D.ipynb) example."
   ]
  },
  {
   "cell_type": "code",
   "execution_count": null,
   "id": "13051399-4d67-4f49-91b0-87226afa2b0c",
   "metadata": {
    "tags": []
   },
   "outputs": [],
   "source": [
    "with __import__(\"importnb\").Notebook():\n",
    "    import __3D\n",
    "fg3, box3 = __3D.make_a_3d_demo()"
   ]
  },
  {
   "cell_type": "markdown",
   "id": "2d3e8253-9176-4959-82c5-6be28bbb4c15",
   "metadata": {},
   "source": [
    "This can include just the widget itself:"
   ]
  },
  {
   "cell_type": "code",
   "execution_count": null,
   "id": "4bd53c88-6085-4467-aa6f-1cab618943b7",
   "metadata": {
    "tags": []
   },
   "outputs": [],
   "source": [
    "fg.source = WidgetSource([fg3])"
   ]
  },
  {
   "cell_type": "markdown",
   "id": "86dc4b97-addb-432e-889e-de2ab1ed446f",
   "metadata": {},
   "source": [
    "Or, in this case, the whole application."
   ]
  },
  {
   "cell_type": "code",
   "execution_count": null,
   "id": "5be634e1-9278-4db9-8549-132e15a86658",
   "metadata": {
    "tags": []
   },
   "outputs": [],
   "source": [
    "fg.source = WidgetSource([box3])"
   ]
  },
  {
   "cell_type": "markdown",
   "id": "56793749-a1fa-45a7-9029-366ba0eaeb7c",
   "metadata": {},
   "source": [
    "## Beyond Widgets\n",
    "\n",
    "Under the hood, widgets are just a special case of\n",
    "[traitlets](https://traitlets.readthedocs.io). As such, it is also possible to view the\n",
    "relationships between the underlying application components."
   ]
  },
  {
   "cell_type": "code",
   "execution_count": null,
   "id": "15582069-a6a9-49d3-8bcf-fd6ed90e617a",
   "metadata": {
    "tags": []
   },
   "outputs": [],
   "source": [
    "shell = IPython.get_ipython()\n",
    "fg.source = WidgetSource(\n",
    "    [fg3, shell, shell.kernel], ignore_traits=[], ignore_modules=[], ignore_classes=[]\n",
    ")"
   ]
  },
  {
   "cell_type": "code",
   "execution_count": null,
   "id": "43d67c06-3f4b-46bb-b72a-9cc4ec1e0077",
   "metadata": {},
   "outputs": [],
   "source": []
  }
 ],
 "metadata": {
  "kernelspec": {
   "display_name": "Python 3 (ipykernel)",
   "language": "python",
   "name": "python3"
  },
  "language_info": {
   "codemirror_mode": {
    "name": "ipython",
    "version": 3
   },
   "file_extension": ".py",
   "mimetype": "text/x-python",
   "name": "python",
   "nbconvert_exporter": "python",
   "pygments_lexer": "ipython3",
   "version": "3.11.0"
  }
 },
 "nbformat": 4,
 "nbformat_minor": 5
}
