{
 "cells": [
  {
   "cell_type": "markdown",
   "id": "62ec73d2-42cb-46ef-b938-587b8d209ee3",
   "metadata": {},
   "source": [
    "# 🔧 Utilities\n",
    "\n",
    "Some utilities for demos, used in other notebooks."
   ]
  },
  {
   "cell_type": "code",
   "execution_count": null,
   "id": "a6283c28-99f4-48d0-aa66-6b0e6366f881",
   "metadata": {},
   "outputs": [],
   "source": [
    "if __name__ == \"__main__\" and \"pyodide\" in __import__(\"sys\").modules:\n",
    "    %pip install -q -r requirements.txt"
   ]
  },
  {
   "cell_type": "code",
   "execution_count": null,
   "id": "9f3f85fe-a0a9-4086-992e-2ca1552f07b8",
   "metadata": {},
   "outputs": [],
   "source": [
    "import random\n",
    "\n",
    "import ipywidgets as W\n",
    "import traitlets as T"
   ]
  },
  {
   "cell_type": "code",
   "execution_count": null,
   "id": "fdcacf2a-57bb-4242-a398-9e5e627ec4a1",
   "metadata": {},
   "outputs": [],
   "source": [
    "def make_a_collapsible_picker(title, children):\n",
    "    ui_children = []\n",
    "    ui = W.HBox(layout=dict(flex_wrap=\"wrap\"))\n",
    "    box = W.Accordion([ui], titles=[title])\n",
    "    select = None\n",
    "    if len(children) > 1:\n",
    "        select = W.Dropdown(options=list(children), layout=dict(flex=\"0\"))\n",
    "        ui.children = [select]\n",
    "        T.dlink((select, \"value\"), (ui, \"children\"), lambda x: [select, *children[x]])\n",
    "        T.dlink((select, \"value\"), (box, \"titles\"), lambda x: (f\"{title} ({x})\",))\n",
    "        box.titles = (f\"{title} ({select.value})\",)\n",
    "    elif len(children) == 1:\n",
    "        ui.children = tuple(list(children.values())[0])\n",
    "    else:\n",
    "        raise ValueError(f\"unexpected number of children {children}\")\n",
    "    box._select = select\n",
    "    return box"
   ]
  },
  {
   "cell_type": "code",
   "execution_count": null,
   "id": "79767776-100b-4679-b84f-ab146f08cb3b",
   "metadata": {},
   "outputs": [],
   "source": [
    "def make_random_color_series(fg, trait, column_name):\n",
    "    df = getattr(fg.source, trait)\n",
    "    digits = \"01234567abcdef\"\n",
    "    df[column_name] = [\n",
    "        \"#\" + \"\".join([random.choice(digits) for j in range(6)]) for i in range(len(df))\n",
    "    ]\n",
    "    fg.source.send_state(trait)"
   ]
  },
  {
   "cell_type": "code",
   "execution_count": null,
   "id": "4bfc07df-1e6f-40a3-b1ea-db9f6796c746",
   "metadata": {},
   "outputs": [],
   "source": [
    "def make_link_dropdown_responsive(behavior, label, ui, box):\n",
    "    box.behaviors = {**box.behaviors, label: None}\n",
    "\n",
    "    def on_select(change: T.Bunch = None):\n",
    "        new_behaviors = dict(box.behaviors.items())\n",
    "        if ui._select.value == \"off\":\n",
    "            new_behaviors[label] = None\n",
    "        else:\n",
    "            new_behaviors[label] = behavior\n",
    "        box.behaviors = new_behaviors\n",
    "\n",
    "    ui._select.observe(on_select, T.All)\n",
    "    on_select()"
   ]
  },
  {
   "cell_type": "code",
   "execution_count": null,
   "id": "8b50ea3e-2a7d-4269-89c3-274b57a8ed24",
   "metadata": {},
   "outputs": [],
   "source": [
    "def make_link_behavior_with_ui(WidgetClass, label, column_name, is_color=False):\n",
    "    def add_behavior(fg, box, column_name=column_name):\n",
    "        behavior = WidgetClass(column_name=column_name)\n",
    "        if is_color:\n",
    "            if column_name not in fg.source.links:\n",
    "                make_random_color_series(fg, \"links\", column_name)\n",
    "        ui_column_name = W.Dropdown(\n",
    "            options=list(fg.source.links.columns), value=column_name\n",
    "        )\n",
    "        ui_template = W.Textarea()\n",
    "        ui_template_enabled = W.Checkbox(description=\"enabled?\")\n",
    "        T.link((ui_column_name, \"value\"), (behavior, \"column_name\"))\n",
    "        T.dlink(\n",
    "            (ui_template, \"value\"),\n",
    "            (behavior, \"template\"),\n",
    "            lambda x: x if ui_template_enabled.value else \"\",\n",
    "        )\n",
    "\n",
    "        ui = make_a_collapsible_picker(\n",
    "            label,\n",
    "            {\n",
    "                \"off\": [],\n",
    "                \"column\": [ui_column_name],\n",
    "                \"template\": [W.VBox([ui_template_enabled, ui_template])],\n",
    "            },\n",
    "        )\n",
    "\n",
    "        box.link_ui = {**box.link_ui, label: ui}\n",
    "\n",
    "        make_link_dropdown_responsive(behavior, label, ui, box)\n",
    "\n",
    "        return fg, box\n",
    "\n",
    "    return add_behavior"
   ]
  }
 ],
 "metadata": {
  "kernelspec": {
   "display_name": "Python 3 (ipykernel)",
   "language": "python",
   "name": "python3"
  },
  "language_info": {
   "codemirror_mode": {
    "name": "ipython",
    "version": 3
   },
   "file_extension": ".py",
   "mimetype": "text/x-python",
   "name": "python",
   "nbconvert_exporter": "python",
   "pygments_lexer": "ipython3",
   "version": "3.11.0"
  }
 },
 "nbformat": 4,
 "nbformat_minor": 5
}
