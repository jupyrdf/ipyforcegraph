{
 "cells": [
  {
   "cell_type": "markdown",
   "id": "62ec73d2-42cb-46ef-b938-587b8d209ee3",
   "metadata": {},
   "source": [
    "# 🔧 Utilities\n",
    "\n",
    "Some utilities for demos, used in other notebooks."
   ]
  },
  {
   "cell_type": "code",
   "execution_count": null,
   "id": "a6283c28-99f4-48d0-aa66-6b0e6366f881",
   "metadata": {},
   "outputs": [],
   "source": [
    "if __name__ == \"__main__\" and \"pyodide\" in __import__(\"sys\").modules:\n",
    "    %pip install -q -r requirements.txt"
   ]
  },
  {
   "cell_type": "code",
   "execution_count": null,
   "id": "9f3f85fe-a0a9-4086-992e-2ca1552f07b8",
   "metadata": {
    "tags": []
   },
   "outputs": [],
   "source": [
    "import asyncio\n",
    "import json\n",
    "import random\n",
    "import traceback\n",
    "from pathlib import Path\n",
    "from typing import Any\n",
    "\n",
    "import ipywidgets as W\n",
    "import traitlets as T\n",
    "\n",
    "import ipyforcegraph.behaviors as B\n",
    "import ipyforcegraph.graphs as G\n",
    "import ipyforcegraph.sources as S"
   ]
  },
  {
   "cell_type": "code",
   "execution_count": null,
   "id": "b1171576-d250-4813-885d-897d9f8fb09b",
   "metadata": {},
   "outputs": [],
   "source": [
    "def make_a_demo(source=None, dataset=\"datasets/miserables.json\", GraphClass=None):\n",
    "    GraphClass = GraphClass or G.ForceGraph\n",
    "    if source is None:\n",
    "        data = json.loads(Path(dataset).read_text())\n",
    "        source = S.DataFrameSource(**data)\n",
    "    fg = GraphClass(source=source, layout=dict(min_height=\"500px\", flex=\"1\"))\n",
    "    style = W.HTML(\n",
    "        \"\"\"<style>\n",
    "        .jp-fg-demo{\n",
    "            --jp-widgets-container-padding: 0.25em;\n",
    "            --jp-widgets-inline-width: auto;\n",
    "        } \n",
    "        .widget-box:empty{display:none;}\n",
    "    </style>\"\"\"\n",
    "    )\n",
    "    description_ui = W.HTML(layout=dict(flex=\"0\"))\n",
    "    graph_ui = W.VBox()\n",
    "    node_ui = W.VBox()\n",
    "    link_ui = W.VBox()\n",
    "    ui = W.VBox(\n",
    "        [graph_ui, node_ui, link_ui], layout=dict(width=\"500px\", overflow_y=\"scroll\")\n",
    "    )\n",
    "    layout = dict(height=\"100%\", max_height=\"100vh\")\n",
    "    fg_wrap = W.VBox([description_ui, fg], layout=dict(flex=\"1\", **layout))\n",
    "    box = W.HBox([style, fg_wrap, ui], layout=layout)\n",
    "    box.add_class(\"jp-fg-demo\")\n",
    "    box.add_traits(\n",
    "        behaviors=T.Dict(),\n",
    "        node_ui=T.Dict(),\n",
    "        link_ui=T.Dict(),\n",
    "        graph_ui=T.Dict(),\n",
    "        description=T.Unicode(),\n",
    "    )\n",
    "\n",
    "    def on_box_behaviors(change=None):\n",
    "        new_behaviors = [b for b in box.behaviors.values() if b is not None]\n",
    "        fg.behaviors = tuple(new_behaviors)\n",
    "\n",
    "    box.observe(on_box_behaviors, [\"behaviors\"])\n",
    "\n",
    "    T.dlink((box, \"graph_ui\"), (graph_ui, \"children\"), lambda d: tuple(d.values()))\n",
    "    T.dlink((box, \"node_ui\"), (node_ui, \"children\"), lambda d: tuple(d.values()))\n",
    "    T.dlink((box, \"link_ui\"), (link_ui, \"children\"), lambda d: tuple(d.values()))\n",
    "    T.dlink((box, \"description\"), (description_ui, \"value\"), lambda d: d or \"\")\n",
    "    return fg, box"
   ]
  },
  {
   "cell_type": "code",
   "execution_count": null,
   "id": "b30efb73-0fd8-4dae-af3e-c0ae29b5e732",
   "metadata": {},
   "outputs": [],
   "source": [
    "def make_an_rgba_picker(**colors):\n",
    "    kw = {\"min\": 0, \"layout\": {\"width\": \"100%\"}}\n",
    "    r, g, b = [\n",
    "        W.IntSlider(colors.get(x, 0), description=x, max=255, **kw) for x in \"rgb\"\n",
    "    ]\n",
    "    a = W.FloatSlider(colors.get(\"a\", 0), description=\"a\", max=1, **kw)\n",
    "    sliders = [r, g, b, a]\n",
    "    box = W.VBox(sliders, layout=dict(width=\"100%\"))\n",
    "    box.add_traits(color=T.Unicode())\n",
    "\n",
    "    def update(*args):\n",
    "        return f\"rgba({r.value}, {g.value}, {b.value}, {a.value})\"\n",
    "\n",
    "    [T.dlink((s, \"value\"), (box, \"color\"), update) for s in sliders]\n",
    "    return box"
   ]
  },
  {
   "cell_type": "code",
   "execution_count": null,
   "id": "fdcacf2a-57bb-4242-a398-9e5e627ec4a1",
   "metadata": {},
   "outputs": [],
   "source": [
    "def make_a_collapsible_picker(title, children):\n",
    "    ui_children = []\n",
    "    ui = W.HBox(layout=dict(flex_wrap=\"wrap\"))\n",
    "    box = W.Accordion([ui], titles=[title])\n",
    "    select = None\n",
    "    if len(children) > 1:\n",
    "        select = W.Dropdown(options=list(children), layout=dict(flex=\"0\"))\n",
    "        ui.children = [select]\n",
    "        T.dlink((select, \"value\"), (ui, \"children\"), lambda x: [select, *children[x]])\n",
    "        T.dlink((select, \"value\"), (box, \"titles\"), lambda x: (f\"{title} ({x})\",))\n",
    "        box.titles = (f\"{title} ({select.value})\",)\n",
    "    elif len(children) == 1:\n",
    "        ui.children = tuple(list(children.values())[0])\n",
    "    else:\n",
    "        raise ValueError(f\"unexpected number of children {children}\")\n",
    "    box._select = select\n",
    "    return box"
   ]
  },
  {
   "cell_type": "code",
   "execution_count": null,
   "id": "79767776-100b-4679-b84f-ab146f08cb3b",
   "metadata": {},
   "outputs": [],
   "source": [
    "def make_random_color_series(fg, trait, column_name):\n",
    "    df = getattr(fg.source, trait)\n",
    "    digits = \"01234567abcdef\"\n",
    "    df[column_name] = [\n",
    "        \"#\" + \"\".join([random.choice(digits) for j in range(6)]) for i in range(len(df))\n",
    "    ]\n",
    "    fg.source.send_state(trait)"
   ]
  },
  {
   "cell_type": "code",
   "execution_count": null,
   "id": "4bfc07df-1e6f-40a3-b1ea-db9f6796c746",
   "metadata": {},
   "outputs": [],
   "source": [
    "def make_link_dropdown_responsive(behavior, label, ui, box):\n",
    "    box.behaviors = {**box.behaviors, label: None}\n",
    "\n",
    "    def on_select(change: T.Bunch = None):\n",
    "        new_behaviors = dict(box.behaviors.items())\n",
    "        if ui._select.value == \"off\":\n",
    "            new_behaviors[label] = None\n",
    "        else:\n",
    "            new_behaviors[label] = behavior\n",
    "        box.behaviors = new_behaviors\n",
    "\n",
    "    ui._select.observe(on_select, T.All)\n",
    "    on_select()"
   ]
  },
  {
   "cell_type": "code",
   "execution_count": null,
   "id": "8b50ea3e-2a7d-4269-89c3-274b57a8ed24",
   "metadata": {},
   "outputs": [],
   "source": [
    "def make_link_behavior_with_ui(WidgetClass, label, column_name, is_color=False):\n",
    "    def add_behavior(fg, box, column_name=column_name):\n",
    "        behavior = WidgetClass(column_name=column_name)\n",
    "        if is_color:\n",
    "            if column_name not in fg.source.links:\n",
    "                make_random_color_series(fg, \"links\", column_name)\n",
    "        ui_column_name = W.Dropdown(\n",
    "            options=list(fg.source.links.columns), value=column_name\n",
    "        )\n",
    "        subscribe_to_columns(fg, \"links\", ui_column_name, \"options\")\n",
    "        ui_template = W.Textarea()\n",
    "        ui_template_enabled = W.Checkbox(description=\"enabled?\")\n",
    "        T.link((ui_column_name, \"value\"), (behavior, \"column_name\"))\n",
    "        T.dlink(\n",
    "            (ui_template, \"value\"),\n",
    "            (behavior, \"template\"),\n",
    "            lambda x: x if ui_template_enabled.value else \"\",\n",
    "        )\n",
    "\n",
    "        ui = make_a_collapsible_picker(\n",
    "            label,\n",
    "            {\n",
    "                \"off\": [],\n",
    "                \"column\": [ui_column_name],\n",
    "                \"template\": [W.VBox([ui_template_enabled, ui_template])],\n",
    "            },\n",
    "        )\n",
    "\n",
    "        box.link_ui = {**box.link_ui, label: ui}\n",
    "\n",
    "        make_link_dropdown_responsive(behavior, label, ui, box)\n",
    "\n",
    "        return fg, box\n",
    "\n",
    "    return add_behavior"
   ]
  },
  {
   "cell_type": "code",
   "execution_count": null,
   "id": "c8448de6-ffaa-4e8d-b9cb-ffb6ec0c00eb",
   "metadata": {},
   "outputs": [],
   "source": [
    "def subscribe_to_columns(fg, elements, ui, trait, tx=None):\n",
    "    tx = tx or list\n",
    "\n",
    "    def on_source_change(change):\n",
    "        setattr(ui, trait, tx(getattr(fg.source, elements).columns))\n",
    "\n",
    "    fg.observe(on_source_change, [\"source\"])"
   ]
  },
  {
   "cell_type": "markdown",
   "id": "94ed0ccf-3d9e-4b9b-b365-613e6ca266da",
   "metadata": {},
   "source": [
    "## Forces"
   ]
  },
  {
   "cell_type": "code",
   "execution_count": null,
   "id": "379d8c85-a6c6-4d74-8291-13d96022f8d1",
   "metadata": {},
   "outputs": [],
   "source": [
    "def ensure_graph_forces(fg, box):\n",
    "    if \"graph_forces\" not in box.behaviors:\n",
    "        box.behaviors = {**box.behaviors, \"graph_forces\": B.GraphForces()}\n",
    "\n",
    "    return box.behaviors[\"graph_forces\"]"
   ]
  },
  {
   "cell_type": "code",
   "execution_count": null,
   "id": "98fd780d-fc4c-4021-87d0-8ea9f5a7025b",
   "metadata": {},
   "outputs": [],
   "source": [
    "def make_a_force_picker(title, children):\n",
    "    ui_children = []\n",
    "    ui = W.HBox(layout=dict(flex_wrap=\"wrap\"))\n",
    "    box = W.Accordion([ui], titles=[title])\n",
    "    select = None\n",
    "    if len(children) > 1:\n",
    "        options = [(key, value) for key, value in children.items()]\n",
    "        select = W.Dropdown(options=options, layout=dict(flex=\"0\"))\n",
    "        ui.children = [select]\n",
    "        T.dlink((select, \"value\"), (ui, \"children\"), lambda x: [select, *select.value])\n",
    "        T.dlink(\n",
    "            (select, \"value\"),\n",
    "            (box, \"titles\"),\n",
    "            lambda x: (f\"{title} ({[n for n, v in select.options if v is x][0]})\",),\n",
    "        )\n",
    "        box.titles = (f\"{title} ({select.value})\",)\n",
    "    elif len(children) == 1:\n",
    "        ui.children = tuple(list(children.values())[0])\n",
    "    else:\n",
    "        raise ValueError(f\"unexpected number of children {children}\")\n",
    "    box._select = select\n",
    "    return box"
   ]
  },
  {
   "cell_type": "code",
   "execution_count": null,
   "id": "999cce0f-c262-43df-a4fc-4ec318f92c6b",
   "metadata": {
    "tags": []
   },
   "outputs": [],
   "source": [
    "def ensure_graph_force_ui(fg, box, children: dict):\n",
    "    if \"forces\" not in box.graph_ui:\n",
    "        ui = make_a_force_picker(\"Forces\", {\"link\": [], \"charge\": [], \"center\": []})\n",
    "        box.graph_ui = {**box.graph_ui, \"forces\": ui}\n",
    "\n",
    "    ui = box.graph_ui[\"forces\"]\n",
    "    existing = {key: child for key, child in ui._select.options}\n",
    "    for key, child in children.items():\n",
    "        existing[key] = child\n",
    "\n",
    "    ui._select.options = [(key, value) for key, value in existing.items()]\n",
    "    return ui, existing"
   ]
  },
  {
   "cell_type": "markdown",
   "id": "684e9c17-6a15-4549-aef0-15c8762879ca",
   "metadata": {},
   "source": [
    "## Tests"
   ]
  },
  {
   "cell_type": "code",
   "execution_count": null,
   "id": "210181a9-d7d5-444e-a987-f177fc37bf3d",
   "metadata": {},
   "outputs": [],
   "source": [
    "def wait_for_change(widget: W.Widget, value: Any, timeout=10) -> asyncio.Future:\n",
    "    \"\"\"Initial pattern from\n",
    "    https://ipywidgets.readthedocs.io/en/stable/examples/Widget%20Asynchronous.html\n",
    "    \"\"\"\n",
    "\n",
    "    future: asyncio.Future = asyncio.Future()\n",
    "\n",
    "    def getvalue(change: T.Bunch) -> None:\n",
    "        \"\"\"make the new value available\"\"\"\n",
    "        future.set_result(change.new)\n",
    "\n",
    "    def unobserve(f: Any) -> None:\n",
    "        \"\"\"unobserves the `getvalue` callback\"\"\"\n",
    "        widget.unobserve(getvalue, value)\n",
    "\n",
    "    future.add_done_callback(unobserve)\n",
    "\n",
    "    widget.observe(getvalue, value)\n",
    "\n",
    "    return asyncio.wait_for(future, timeout)"
   ]
  },
  {
   "cell_type": "code",
   "execution_count": null,
   "id": "329e714e-a404-445e-be91-0cb997e52ac5",
   "metadata": {
    "tags": []
   },
   "outputs": [],
   "source": [
    "async def run_tests(fg, box, tests: list, timeout=30):\n",
    "    result = \"\"\n",
    "    errors = []\n",
    "    for test in tests:\n",
    "        box.description = test.__doc__\n",
    "\n",
    "        try:\n",
    "            await asyncio.wait_for(test(fg, box), timeout)\n",
    "            box.description = f\"✅ {test.__doc__}\"\n",
    "            result += \"✅\"\n",
    "        except Exception as err:\n",
    "            box.description = f\"💥 {test.__doc__}\"\n",
    "            errors += [str(err), traceback.format_exc()]\n",
    "            result += \"💥\"\n",
    "    box.description = f\"{result} Tests Completed\"\n",
    "    if errors:\n",
    "        nl = \"\\n\"\n",
    "        box.description += f\"\"\"<pre>{nl.join(errors)}</pre>\"\"\""
   ]
  }
 ],
 "metadata": {
  "kernelspec": {
   "display_name": "Python 3 (ipykernel)",
   "language": "python",
   "name": "python3"
  },
  "language_info": {
   "codemirror_mode": {
    "name": "ipython",
    "version": 3
   },
   "file_extension": ".py",
   "mimetype": "text/x-python",
   "name": "python",
   "nbconvert_exporter": "python",
   "pygments_lexer": "ipython3",
   "version": "3.11.0"
  }
 },
 "nbformat": 4,
 "nbformat_minor": 5
}
