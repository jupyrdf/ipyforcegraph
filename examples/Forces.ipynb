{
 "cells": [
  {
   "cell_type": "markdown",
   "metadata": {},
   "source": [
    "# Forces 🏋️\n",
    "\n",
    "- [ForceGraph Top level API](https://github.com/vasturiano/force-graph#force-engine-d3-force-configuration)\n",
    "  - Forcing Functions:\n",
    "    - `d3Force(str, [fn])`\n",
    "    - Default forces: {\"link\", \"charge\", \"center\"}\n",
    "    - Example of\n",
    "      [\"collide\" and \"box\"](https://vasturiano.github.io/force-graph/example/collision-detection/)([source](https://github.com/vasturiano/force-graph/blob/master/example/collision-detection/index.html))\n",
    "    - https://www.d3indepth.com/force-layout/\n",
    "      - forceCenter\n",
    "      - forceCollide\n",
    "        - [using mouse](https://observablehq.com/@d3/collision-detection/2?collection=@d3/d3-force)\n",
    "      - forceLink\n",
    "      - forceManyBody\n",
    "      - forceRadial\n",
    "      - forceX\n",
    "      - forceY\n",
    "    - [full on custom](https://technology.amis.nl/frontend/introduction-to-d3-force-for-simulation-and-animation/)\n",
    "      - use handlebar templates?\n",
    "  - [DAG](https://github.com/vasturiano/force-graph/blob/master/example/tree/index.html)"
   ]
  },
  {
   "cell_type": "code",
   "execution_count": null,
   "metadata": {
    "tags": []
   },
   "outputs": [],
   "source": [
    "if __name__ == \"__main__\" and \"pyodide\" in __import__(\"sys\").modules:\n",
    "    %pip install -q -r requirements.txt"
   ]
  },
  {
   "cell_type": "code",
   "execution_count": null,
   "metadata": {
    "tags": []
   },
   "outputs": [],
   "source": [
    "import asyncio\n",
    "import random\n",
    "\n",
    "import ipywidgets as W\n",
    "import traitlets as T\n",
    "\n",
    "import ipyforcegraph.forces as F\n",
    "from ipyforcegraph.utils import wait_for_change"
   ]
  },
  {
   "cell_type": "code",
   "execution_count": null,
   "metadata": {
    "tags": []
   },
   "outputs": [],
   "source": [
    "with __import__(\"importnb\").Notebook():\n",
    "    import Behaviors as B\n",
    "    import Utils as U"
   ]
  },
  {
   "cell_type": "code",
   "execution_count": null,
   "metadata": {
    "tags": []
   },
   "outputs": [],
   "source": [
    "if __name__ == \"__main__\":\n",
    "    fg, box = U.make_a_demo()\n",
    "    B.add_graph_data(fg, box)\n",
    "    graph_data = box.behaviors[\"graph_data\"]\n",
    "    display(box)"
   ]
  },
  {
   "cell_type": "markdown",
   "metadata": {},
   "source": [
    "## `GraphForcesBehavior`\n",
    "\n",
    "If the built-in forces do not meet the needs of a particular application, these can be\n",
    "customized in many ways. These are collected under the `GraphForces` behavior, which has\n",
    "both top-level parameters, common to the overall simulation engine, as well is\n",
    "individual named forces inside of it, which are themselves highly configurable."
   ]
  },
  {
   "cell_type": "code",
   "execution_count": null,
   "metadata": {
    "tags": []
   },
   "outputs": [],
   "source": [
    "def ensure_graph_forces(fg, box):\n",
    "    if \"graph_forces\" not in box.behaviors:\n",
    "        box.behaviors = {**box.behaviors, \"graph_forces\": F.GraphForcesBehavior()}\n",
    "\n",
    "    return box.behaviors[\"graph_forces\"]\n",
    "\n",
    "\n",
    "def make_a_force_picker(title, children):\n",
    "    ui_children = []\n",
    "    ui = W.HBox(layout=dict(flex_wrap=\"wrap\"))\n",
    "    box = W.Accordion([ui], titles=[title])\n",
    "    select = None\n",
    "    if len(children) > 1:\n",
    "        options = [(key, value) for key, value in children.items()]\n",
    "        select = W.Dropdown(options=options, layout=dict(flex=\"0\"))\n",
    "        ui.children = [select]\n",
    "        T.dlink((select, \"value\"), (ui, \"children\"), lambda x: [select, *select.value])\n",
    "        T.dlink(\n",
    "            (select, \"value\"),\n",
    "            (box, \"titles\"),\n",
    "            lambda x: (f\"{title} ({[n for n, v in select.options if v is x][0]})\",),\n",
    "        )\n",
    "        box.titles = (f\"{title} ({select.value})\",)\n",
    "    elif len(children) == 1:\n",
    "        ui.children = tuple(list(children.values())[0])\n",
    "    else:\n",
    "        raise ValueError(f\"unexpected number of children {children}\")\n",
    "    box._select = select\n",
    "    return box\n",
    "\n",
    "\n",
    "def ensure_graph_force_ui(fg, box, children: dict):\n",
    "    if \"forces\" not in box.graph_ui:\n",
    "        ui = make_a_force_picker(\"Forces\", {\"link\": [], \"charge\": [], \"center\": []})\n",
    "        box.graph_ui = {**box.graph_ui, \"forces\": ui}\n",
    "\n",
    "    ui = box.graph_ui[\"forces\"]\n",
    "    existing = {key: child for key, child in ui._select.options}\n",
    "    for key, child in children.items():\n",
    "        existing[key] = child\n",
    "\n",
    "    ui._select.options = [(key, value) for key, value in existing.items()]\n",
    "    return ui, existing"
   ]
  },
  {
   "cell_type": "code",
   "execution_count": null,
   "metadata": {
    "tags": []
   },
   "outputs": [],
   "source": [
    "if __name__ == \"__main__\":\n",
    "    ensure_graph_forces(fg, box)"
   ]
  },
  {
   "cell_type": "markdown",
   "metadata": {},
   "source": [
    "### Warmup and Cooldown\n",
    "\n",
    "These `warmup_ticks` and `cooldown_ticks` parameters control how the simulation starts\n",
    "up and how long it is allowed to run.\n",
    "\n",
    "By default, `cooldown_ticks` is set to `-1`, meaning the simulation will be allowed to\n",
    "run as long as it needs before reaching a steady state.\n",
    "\n",
    "When `cooldown_ticks` is set to `0`, the simulation won't run at all, useful for\n",
    "pre-calculated positions.\n",
    "\n",
    "`warmup_ticks` controls how much is simulated off-screen, before any force-driven\n",
    "animation begins."
   ]
  },
  {
   "cell_type": "code",
   "execution_count": null,
   "metadata": {
    "tags": []
   },
   "outputs": [],
   "source": [
    "def add_force_ticks(fg, box):\n",
    "    gf = ensure_graph_forces(fg, box)\n",
    "\n",
    "    warmup = W.IntSlider(description=\"warmup\", min=0, max=100)\n",
    "    cooldown = W.IntSlider(description=\"cooldown\", min=-1, max=100)\n",
    "\n",
    "    T.link((gf, \"warmup_ticks\"), (warmup, \"value\"))\n",
    "    T.link((gf, \"cooldown_ticks\"), (cooldown, \"value\"))\n",
    "\n",
    "    ui_ticks = U.make_a_collapsible_picker(\n",
    "        \"graph: warmup & cooldown\",\n",
    "        {\n",
    "            \"spoon\": [W.VBox([warmup, cooldown], layout=dict(width=\"100%\"))],\n",
    "        },\n",
    "    )\n",
    "    box.node_ui = {**box.node_ui, \"graph_ticks\": ui_ticks}\n",
    "    return fg, box"
   ]
  },
  {
   "cell_type": "code",
   "execution_count": null,
   "metadata": {
    "tags": []
   },
   "outputs": [],
   "source": [
    "if __name__ == \"__main__\":\n",
    "    add_force_ticks(fg, box)"
   ]
  },
  {
   "cell_type": "markdown",
   "metadata": {},
   "source": [
    "By default the forcegraph uses the following forces:\n",
    "\n",
    "- `link` - LinkForce\n",
    "- `charge` - ManyBodyForce\n",
    "- `force_center` - CenterForce"
   ]
  },
  {
   "cell_type": "code",
   "execution_count": null,
   "metadata": {
    "tags": []
   },
   "outputs": [],
   "source": [
    "def add_base_forces(fg, box):\n",
    "    gf = ensure_graph_forces(fg, box)\n",
    "\n",
    "    force_link = F.LinkForce()\n",
    "    force_charge = F.ManyBodyForce()\n",
    "    force_center = F.CenterForce()\n",
    "\n",
    "    forces = {\n",
    "        \"link\": force_link,\n",
    "        \"charge\": force_charge,\n",
    "        \"center\": force_center,\n",
    "    }\n",
    "    gf.forces = {**gf.forces, **forces}\n",
    "\n",
    "    # Link UI\n",
    "    link_ui = W.FloatSlider(description=\"Strenght\", layout={\"flex\": \"1\"})\n",
    "\n",
    "    # Charge UI\n",
    "    charge_ui = W.FloatSlider(\n",
    "        description=\"Charge\", min=-50, value=-30, max=10, layout={\"flex\": \"1\"}\n",
    "    )\n",
    "    T.dlink((charge_ui, \"value\"), (force_charge, \"strength\"), str)\n",
    "\n",
    "    # Center UI\n",
    "    center_sliders = dict(\n",
    "        x=W.FloatSlider(description=\"X\", min=-200, max=200, layout={\"flex\": \"1\"}),\n",
    "        y=W.FloatSlider(description=\"Y\", min=-200, max=200, layout={\"flex\": \"1\"}),\n",
    "        z=W.FloatSlider(description=\"Z\", min=-200, max=200, layout={\"flex\": \"1\"}),\n",
    "    )\n",
    "\n",
    "    for key in [\"x\", \"y\", \"z\"]:\n",
    "        T.link((center_sliders[key], \"value\"), (force_center, key))\n",
    "    center_ui = W.VBox(list(center_sliders.values()), layout={\"flex\": \"1\"})\n",
    "\n",
    "    children = {\n",
    "        \"link\": [link_ui],\n",
    "        \"charge\": [charge_ui],\n",
    "        \"center\": [center_ui],\n",
    "    }\n",
    "    force_ui, children = ensure_graph_force_ui(fg, box, children)\n",
    "    return fg, box\n",
    "\n",
    "\n",
    "if __name__ == \"__main__\":\n",
    "    fg, box = add_base_forces(fg, box)"
   ]
  },
  {
   "cell_type": "markdown",
   "metadata": {},
   "source": [
    "The collision force treats nodes as circles with a given `radius`, rather than points\n",
    "and prevents nodes from overlapping."
   ]
  },
  {
   "cell_type": "code",
   "execution_count": null,
   "metadata": {},
   "outputs": [],
   "source": [
    "def add_collide_force(fg, box):\n",
    "    gf = ensure_graph_forces(fg, box)\n",
    "    force_collide = F.CollisionForce(radius=\"4\")\n",
    "    gf.forces = {**gf.forces, \"collide\": force_collide}\n",
    "\n",
    "    radius_slider = W.FloatSlider(\n",
    "        description=\"Radius\",\n",
    "        min=0,\n",
    "        max=100,\n",
    "        value=int(force_collide.radius),\n",
    "        layout={\"flex\": \"1\"},\n",
    "    )\n",
    "    T.dlink((radius_slider, \"value\"), (force_collide, \"radius\"), str)\n",
    "\n",
    "    children = {\n",
    "        \"collide\": [radius_slider],\n",
    "    }\n",
    "    force_ui, children = ensure_graph_force_ui(fg, box, children)\n",
    "\n",
    "    return fg, box\n",
    "\n",
    "\n",
    "if __name__ == \"__main__\":\n",
    "    add_collide_force(fg, box)"
   ]
  },
  {
   "cell_type": "markdown",
   "metadata": {},
   "source": [
    "The radial positioning force create a force towards a circle of the specified radius\n",
    "centered at (x, y)."
   ]
  },
  {
   "cell_type": "code",
   "execution_count": null,
   "metadata": {},
   "outputs": [],
   "source": [
    "def add_radial_force(fg, box):\n",
    "    gf = ensure_graph_forces(fg, box)\n",
    "    force_radial = F.RadialForce(radius=\"100\", strength=\"0\")\n",
    "    forces = {\n",
    "        \"radial\": force_radial,\n",
    "    }\n",
    "    gf.forces = {**gf.forces, **forces}\n",
    "\n",
    "    x_slider = W.FloatSlider(\n",
    "        description=\"X\", min=-100, value=0, max=100, layout={\"flex\": \"1\"}\n",
    "    )\n",
    "    y_slider = W.FloatSlider(\n",
    "        description=\"Y\", min=-100, value=0, max=100, layout={\"flex\": \"1\"}\n",
    "    )\n",
    "    radius_slider = W.FloatSlider(\n",
    "        description=\"Radius\", min=0, value=10, max=200, layout={\"flex\": \"1\"}\n",
    "    )\n",
    "    strength_slider = W.FloatSlider(\n",
    "        description=\"Strength\", min=0, value=0, max=5, layout={\"flex\": \"1\"}\n",
    "    )\n",
    "    T.dlink((radius_slider, \"value\"), (force_radial, \"radius\"), str)\n",
    "    T.dlink((strength_slider, \"value\"), (force_radial, \"strength\"), str)\n",
    "    T.dlink((x_slider, \"value\"), (force_radial, \"x\"))\n",
    "    T.dlink((y_slider, \"value\"), (force_radial, \"y\"))\n",
    "\n",
    "    children = {\n",
    "        \"radial\": [\n",
    "            W.VBox(\n",
    "                [\n",
    "                    x_slider,\n",
    "                    y_slider,\n",
    "                    radius_slider,\n",
    "                    strength_slider,\n",
    "                ],\n",
    "                layout={\"flex\": \"1\"},\n",
    "            )\n",
    "        ],\n",
    "    }\n",
    "    force_ui, children = ensure_graph_force_ui(fg, box, children)\n",
    "\n",
    "    return fg, box\n",
    "\n",
    "\n",
    "if __name__ == \"__main__\":\n",
    "    add_radial_force(fg, box)"
   ]
  },
  {
   "cell_type": "markdown",
   "metadata": {},
   "source": [
    "# TODO some tests"
   ]
  },
  {
   "cell_type": "code",
   "execution_count": null,
   "metadata": {
    "tags": []
   },
   "outputs": [],
   "source": [
    "# TODO sometimes requires manually clicking capture first from the graph_data accoridan ui...\n",
    "async def get_center():\n",
    "    graph_data.capturing = True\n",
    "    nodes = await wait_for_change(graph_data.sources[0], \"nodes\")\n",
    "    return nodes.x.mean(), nodes.y.mean()\n",
    "\n",
    "\n",
    "task = asyncio.ensure_future(get_center())\n",
    "task"
   ]
  },
  {
   "cell_type": "code",
   "execution_count": null,
   "metadata": {
    "tags": []
   },
   "outputs": [],
   "source": [
    "graph_data.sources[0]"
   ]
  },
  {
   "cell_type": "code",
   "execution_count": null,
   "metadata": {
    "tags": []
   },
   "outputs": [],
   "source": [
    "graph_data.capturing"
   ]
  },
  {
   "cell_type": "code",
   "execution_count": null,
   "metadata": {},
   "outputs": [],
   "source": [
    "task"
   ]
  },
  {
   "cell_type": "markdown",
   "metadata": {},
   "source": [
    "## alpha/velocity"
   ]
  },
  {
   "cell_type": "code",
   "execution_count": null,
   "metadata": {
    "tags": []
   },
   "outputs": [],
   "source": [
    "alpha_min = W.FloatSlider(\n",
    "    description=\"alpha min\", min=0, max=1, step=0.0001, readout_format=\".4f\"\n",
    ")\n",
    "alpha_decay = W.FloatSlider(\n",
    "    description=\"alpha decay\", min=0, max=1, step=0.0001, readout_format=\".4f\"\n",
    ")\n",
    "velocity_decay = W.FloatSlider(\n",
    "    description=\"velocity_ decay\", min=0, max=1, step=0.0001, readout_format=\".4f\"\n",
    ")\n",
    "\n",
    "T.link((sim_forces, \"alpha_decay\"), (alpha_decay, \"value\"))\n",
    "T.link((sim_forces, \"alpha_min\"), (alpha_min, \"value\"))\n",
    "T.link((sim_forces, \"velocity_decay\"), (velocity_decay, \"value\"))\n",
    "display(alpha_min, alpha_decay, velocity_decay)"
   ]
  }
 ],
 "metadata": {
  "kernelspec": {
   "display_name": "Python 3 (ipykernel)",
   "language": "python",
   "name": "python3"
  },
  "language_info": {
   "codemirror_mode": {
    "name": "ipython",
    "version": 3
   },
   "file_extension": ".py",
   "mimetype": "text/x-python",
   "name": "python",
   "nbconvert_exporter": "python",
   "pygments_lexer": "ipython3",
   "version": "3.11.0"
  }
 },
 "nbformat": 4,
 "nbformat_minor": 4
}
