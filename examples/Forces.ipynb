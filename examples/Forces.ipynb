{
 "cells": [
  {
   "cell_type": "markdown",
   "metadata": {},
   "source": [
    "# Forces 🏋️\n",
    "\n",
    "* [ForceGraph Top level API](https://github.com/vasturiano/force-graph#force-engine-d3-force-configuration)\n",
    "    * Forcing Functions:\n",
    "        * `d3Force(str, [fn])`\n",
    "        * Default forces: {\"link\", \"charge\", \"center\"} \n",
    "        * Example of [\"collide\" and \"box\"](https://vasturiano.github.io/force-graph/example/collision-detection/)([source](https://github.com/vasturiano/force-graph/blob/master/example/collision-detection/index.html))\n",
    "        * https://www.d3indepth.com/force-layout/\n",
    "            * forceCenter\n",
    "            * forceCollide\n",
    "                * [using mouse](https://observablehq.com/@d3/collision-detection/2?collection=@d3/d3-force)\n",
    "            * forceLink\n",
    "            * forceManyBody\n",
    "            * forceRadial\n",
    "            * forceX\n",
    "            * forceY\n",
    "        * [full on custom](https://technology.amis.nl/frontend/introduction-to-d3-force-for-simulation-and-animation/)\n",
    "            * use handlebar templates?\n",
    "    * [DAG](https://github.com/vasturiano/force-graph/blob/master/example/tree/index.html)"
   ]
  },
  {
   "cell_type": "code",
   "execution_count": 12,
   "metadata": {},
   "outputs": [],
   "source": [
    "if __name__ == \"__main__\" and \"pyodide\" in __import__(\"sys\").modules:\n",
    "    %pip install -q -r requirements.txt"
   ]
  },
  {
   "cell_type": "code",
   "execution_count": 13,
   "metadata": {},
   "outputs": [],
   "source": [
    "import random\n",
    "\n",
    "import ipywidgets as W\n",
    "import traitlets as T\n",
    "\n",
    "import ipyforcegraph.forces as F\n"
   ]
  },
  {
   "cell_type": "code",
   "execution_count": 14,
   "metadata": {},
   "outputs": [],
   "source": [
    "with __import__(\"importnb\").Notebook():\n",
    "    import Utils as U\n",
    "    from _index import make_a_simple_example"
   ]
  },
  {
   "cell_type": "code",
   "execution_count": 15,
   "metadata": {},
   "outputs": [
    {
     "data": {
      "application/vnd.jupyter.widget-view+json": {
       "model_id": "0c5997bc897741a38f6d8fe7634cf4a0",
       "version_major": 2,
       "version_minor": 0
      },
      "text/plain": [
       "HBox(children=(HTML(value='<style>\\n        .jp-fg-demo{\\n            --jp-widgets-container-padding: 0.25em;\\…"
      ]
     },
     "metadata": {},
     "output_type": "display_data"
    }
   ],
   "source": [
    "if __name__ == \"__main__\":\n",
    "    fg, box = make_a_simple_example()\n",
    "    display(box)"
   ]
  },
  {
   "cell_type": "code",
   "execution_count": 16,
   "metadata": {},
   "outputs": [],
   "source": [
    "\n",
    "force_link = F.LinkForce(active=False)\n",
    "# fg.behaviors = []\n",
    "fg.behaviors = [force_link]"
   ]
  },
  {
   "cell_type": "code",
   "execution_count": 6,
   "metadata": {},
   "outputs": [],
   "source": [
    "force_link.active = True\n",
    "fg.behaviors = []\n",
    "fg.behaviors = [force_link]"
   ]
  },
  {
   "cell_type": "code",
   "execution_count": 15,
   "metadata": {},
   "outputs": [],
   "source": [
    "force_center = F.CenterForce(active=True)\n",
    "fg.behaviors = [force_center]"
   ]
  },
  {
   "cell_type": "code",
   "execution_count": 16,
   "metadata": {},
   "outputs": [],
   "source": [
    "force_charge = F.ManyBodyForce(active=False)\n",
    "fg.behaviors = [force_charge]"
   ]
  },
  {
   "cell_type": "code",
   "execution_count": 17,
   "metadata": {},
   "outputs": [],
   "source": [
    "force_charge.active = True\n",
    "fg.behaviors = []\n",
    "fg.behaviors = [force_charge]"
   ]
  }
 ],
 "metadata": {
  "kernelspec": {
   "display_name": "Python 3 (ipykernel)",
   "language": "python",
   "name": "python3"
  },
  "language_info": {
   "codemirror_mode": {
    "name": "ipython",
    "version": 3
   },
   "file_extension": ".py",
   "mimetype": "text/x-python",
   "name": "python",
   "nbconvert_exporter": "python",
   "pygments_lexer": "ipython3",
   "version": "3.11.0"
  }
 },
 "nbformat": 4,
 "nbformat_minor": 4
}
