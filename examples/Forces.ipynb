{
 "cells": [
  {
   "cell_type": "markdown",
   "metadata": {},
   "source": [
    "# Forces 🏋️\n",
    "\n",
    "- [ForceGraph Top level API](https://github.com/vasturiano/force-graph#force-engine-d3-force-configuration)\n",
    "  - Forcing Functions:\n",
    "    - `d3Force(str, [fn])`\n",
    "    - Default forces: {\"link\", \"charge\", \"center\"}\n",
    "    - Example of\n",
    "      [\"collide\" and \"box\"](https://vasturiano.github.io/force-graph/example/collision-detection/)([source](https://github.com/vasturiano/force-graph/blob/master/example/collision-detection/index.html))\n",
    "    - https://www.d3indepth.com/force-layout/\n",
    "      - forceCenter\n",
    "      - forceCollide\n",
    "        - [using mouse](https://observablehq.com/@d3/collision-detection/2?collection=@d3/d3-force)\n",
    "      - forceLink\n",
    "      - forceManyBody\n",
    "      - forceRadial\n",
    "      - forceX\n",
    "      - forceY\n",
    "    - [full on custom](https://technology.amis.nl/frontend/introduction-to-d3-force-for-simulation-and-animation/)\n",
    "      - use handlebar templates?\n",
    "  - [DAG](https://github.com/vasturiano/force-graph/blob/master/example/tree/index.html)"
   ]
  },
  {
   "cell_type": "code",
   "execution_count": null,
   "metadata": {
    "tags": []
   },
   "outputs": [],
   "source": [
    "if __name__ == \"__main__\" and \"pyodide\" in __import__(\"sys\").modules:\n",
    "    %pip install -q -r requirements.txt"
   ]
  },
  {
   "cell_type": "code",
   "execution_count": null,
   "metadata": {
    "tags": []
   },
   "outputs": [],
   "source": [
    "import asyncio\n",
    "import random\n",
    "\n",
    "import ipywidgets as W\n",
    "import traitlets as T\n",
    "\n",
    "import ipyforcegraph.forces as F\n",
    "from ipyforcegraph.utils import wait_for_change"
   ]
  },
  {
   "cell_type": "code",
   "execution_count": null,
   "metadata": {
    "tags": []
   },
   "outputs": [],
   "source": [
    "with __import__(\"importnb\").Notebook():\n",
    "    import Behaviors as B\n",
    "    import Utils as U"
   ]
  },
  {
   "cell_type": "code",
   "execution_count": null,
   "metadata": {
    "tags": []
   },
   "outputs": [],
   "source": [
    "if __name__ == \"__main__\":\n",
    "    fg, box = U.make_a_demo()\n",
    "    B.add_graph_data(fg, box)\n",
    "    graph_data = box.behaviors[\"graph_data\"]\n",
    "    display(box)"
   ]
  },
  {
   "cell_type": "code",
   "execution_count": null,
   "metadata": {
    "tags": []
   },
   "outputs": [],
   "source": [
    "force_link = F.LinkForce()\n",
    "force_charge = F.ManyBodyForce()\n",
    "force_center = F.CenterForce()\n",
    "force_collide = F.CollisionForce(radius=\"4\")\n",
    "force_radial = F.RadialForce(radius=\"100\", strength=\"0\")\n",
    "\n",
    "sim_forces = F.GraphForcesBehavior(\n",
    "    forces={\n",
    "        \"link\": force_link,\n",
    "        \"charge\": force_charge,\n",
    "        \"center\": force_center,\n",
    "        \"collide\": force_collide,\n",
    "        \"radial_force\": force_radial,\n",
    "    }\n",
    ")\n",
    "fg.behaviors = [sim_forces]"
   ]
  },
  {
   "cell_type": "code",
   "execution_count": null,
   "metadata": {},
   "outputs": [],
   "source": [
    "# TODO sometimes requires manually clicking capture first from the graph_data accoridan ui...\n",
    "async def get_center():\n",
    "    graph_data.capturing = True\n",
    "    nodes = await wait_for_change(graph_data.sources[0], \"nodes\")\n",
    "    return nodes.x.mean(), nodes.y.mean()\n",
    "\n",
    "\n",
    "task = asyncio.ensure_future(get_center())\n",
    "task"
   ]
  },
  {
   "cell_type": "code",
   "execution_count": null,
   "metadata": {},
   "outputs": [],
   "source": [
    "graph_data.sources[0]"
   ]
  },
  {
   "cell_type": "code",
   "execution_count": null,
   "metadata": {},
   "outputs": [],
   "source": [
    "graph_data.capturing"
   ]
  },
  {
   "cell_type": "code",
   "execution_count": null,
   "metadata": {},
   "outputs": [],
   "source": [
    "radial_radius_slider = W.FloatSlider(description=\"Radius\", min=0, value=10, max=200)\n",
    "radial_strength_slider = W.FloatSlider(description=\"Strength\", min=0, value=0, max=5)\n",
    "T.dlink((radial_radius_slider, \"value\"), (force_radial, \"radius\"), str)\n",
    "T.dlink((radial_strength_slider, \"value\"), (force_radial, \"strength\"), str)\n",
    "\n",
    "W.VBox(\n",
    "    [\n",
    "        radial_radius_slider,\n",
    "        radial_strength_slider,\n",
    "    ]\n",
    ")"
   ]
  },
  {
   "cell_type": "code",
   "execution_count": null,
   "metadata": {},
   "outputs": [],
   "source": [
    "task"
   ]
  },
  {
   "cell_type": "code",
   "execution_count": null,
   "metadata": {},
   "outputs": [],
   "source": [
    "charge_slider = W.FloatSlider(description=\"Charge\", min=-50, value=-30, max=10)\n",
    "T.dlink((charge_slider, \"value\"), (force_charge, \"strength\"), str)\n",
    "\n",
    "charge_slider"
   ]
  },
  {
   "cell_type": "code",
   "execution_count": null,
   "metadata": {},
   "outputs": [],
   "source": [
    "center_sliders = dict(\n",
    "    x=W.FloatSlider(description=\"X\", min=-200, max=200),\n",
    "    y=W.FloatSlider(description=\"Y\", min=-200, max=200),\n",
    "    z=W.FloatSlider(description=\"Z\", min=-200, max=200),\n",
    ")\n",
    "\n",
    "for key in [\"x\", \"y\", \"z\"]:\n",
    "    T.link((center_sliders[key], \"value\"), (force_center, key))\n",
    "W.VBox(list(center_sliders.values()))"
   ]
  },
  {
   "cell_type": "code",
   "execution_count": null,
   "metadata": {},
   "outputs": [],
   "source": [
    "radius_slider = W.FloatSlider(description=\"Radius\", min=-100)\n",
    "\n",
    "T.dlink((radius_slider, \"value\"), (force_collide, \"radius\"), str)\n",
    "radius_slider"
   ]
  },
  {
   "cell_type": "code",
   "execution_count": null,
   "metadata": {},
   "outputs": [],
   "source": [
    "radius_slider.value = 40"
   ]
  },
  {
   "cell_type": "code",
   "execution_count": null,
   "metadata": {},
   "outputs": [],
   "source": [
    "force_link = F.LinkForce()\n",
    "force_charge = F.ManyBodyForce()\n",
    "force_center = F.CenterForce(x=250)\n",
    "\n",
    "sim_forces = F.GraphForcesBehavior(\n",
    "    forces={\n",
    "        \"link\": force_link,\n",
    "        \"charge\": force_charge,\n",
    "        \"center\": force_center,\n",
    "        \"x\": None,\n",
    "    }\n",
    ")\n",
    "fg.behaviors = [sim_forces]"
   ]
  },
  {
   "cell_type": "code",
   "execution_count": null,
   "metadata": {},
   "outputs": [],
   "source": [
    "y = F.YForce()\n",
    "\n",
    "sim_forces = F.GraphForcesBehavior(\n",
    "    forces={\n",
    "        \"y\": y,\n",
    "    }\n",
    ")\n",
    "fg.behaviors = [sim_forces]"
   ]
  },
  {
   "cell_type": "code",
   "execution_count": null,
   "metadata": {},
   "outputs": [],
   "source": [
    "y_slider = W.FloatSlider(description=\"Charge\", min=-200, value=0, max=200)\n",
    "T.dlink((y_slider, \"value\"), (y, \"y\"))\n",
    "\n",
    "y_slider"
   ]
  },
  {
   "cell_type": "code",
   "execution_count": null,
   "metadata": {
    "tags": []
   },
   "outputs": [],
   "source": [
    "force_link = F.LinkForce()\n",
    "force_charge = F.ManyBodyForce()\n",
    "force_center = F.CenterForce(z=2000)\n",
    "\n",
    "sim_forces = F.GraphForcesBehavior(\n",
    "    forces={\n",
    "        \"link\": force_link,\n",
    "        \"charge\": force_charge,\n",
    "        \"center\": force_center,\n",
    "        \"radial\": None,\n",
    "    }\n",
    ")\n",
    "fg.behaviors = [sim_forces]"
   ]
  },
  {
   "cell_type": "markdown",
   "metadata": {},
   "source": [
    "## ticks"
   ]
  },
  {
   "cell_type": "code",
   "execution_count": null,
   "metadata": {
    "tags": []
   },
   "outputs": [],
   "source": [
    "warmup_ticks = W.IntSlider(description=\"warmup\", min=0, max=100)\n",
    "cooldown_ticks = W.IntSlider(description=\"cooldown\", min=-1, max=10000)\n",
    "\n",
    "T.link(\n",
    "    (sim_forces, \"warmup_ticks\"),\n",
    "    (warmup_ticks, \"value\"),\n",
    ")\n",
    "T.link((sim_forces, \"cooldown_ticks\"), (cooldown_ticks, \"value\"))\n",
    "display(warmup_ticks, cooldown_ticks)"
   ]
  },
  {
   "cell_type": "markdown",
   "metadata": {},
   "source": [
    "## alpha/velocity"
   ]
  },
  {
   "cell_type": "code",
   "execution_count": null,
   "metadata": {
    "tags": []
   },
   "outputs": [],
   "source": [
    "alpha_min = W.FloatSlider(\n",
    "    description=\"alpha min\", min=0, max=1, step=0.0001, readout_format=\".4f\"\n",
    ")\n",
    "alpha_decay = W.FloatSlider(\n",
    "    description=\"alpha decay\", min=0, max=1, step=0.0001, readout_format=\".4f\"\n",
    ")\n",
    "velocity_decay = W.FloatSlider(\n",
    "    description=\"velocity_ decay\", min=0, max=1, step=0.0001, readout_format=\".4f\"\n",
    ")\n",
    "\n",
    "T.link((sim_forces, \"alpha_decay\"), (alpha_decay, \"value\"))\n",
    "T.link((sim_forces, \"alpha_min\"), (alpha_min, \"value\"))\n",
    "T.link((sim_forces, \"velocity_decay\"), (velocity_decay, \"value\"))\n",
    "display(alpha_min, alpha_decay, velocity_decay)"
   ]
  }
 ],
 "metadata": {
  "kernelspec": {
   "display_name": "Python 3 (ipykernel)",
   "language": "python",
   "name": "python3"
  },
  "language_info": {
   "codemirror_mode": {
    "name": "ipython",
    "version": 3
   },
   "file_extension": ".py",
   "mimetype": "text/x-python",
   "name": "python",
   "nbconvert_exporter": "python",
   "pygments_lexer": "ipython3",
   "version": "3.11.0"
  }
 },
 "nbformat": 4,
 "nbformat_minor": 4
}
