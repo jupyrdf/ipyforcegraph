{
 "cells": [
  {
   "cell_type": "markdown",
   "metadata": {},
   "source": [
    "# Forces 🏋️\n",
    "\n",
    "- [ForceGraph Top level API](https://github.com/vasturiano/force-graph#force-engine-d3-force-configuration)\n",
    "  - Forcing Functions:\n",
    "    - `d3Force(str, [fn])`\n",
    "    - Default forces: {\"link\", \"charge\", \"center\"}\n",
    "    - Example of\n",
    "      [\"collide\" and \"box\"](https://vasturiano.github.io/force-graph/example/collision-detection/)([source](https://github.com/vasturiano/force-graph/blob/master/example/collision-detection/index.html))\n",
    "    - https://www.d3indepth.com/force-layout/\n",
    "      - forceCenter\n",
    "      - forceCollide\n",
    "        - [using mouse](https://observablehq.com/@d3/collision-detection/2?collection=@d3/d3-force)\n",
    "      - forceLink\n",
    "      - forceManyBody\n",
    "      - forceRadial\n",
    "      - forceX\n",
    "      - forceY\n",
    "    - [full on custom](https://technology.amis.nl/frontend/introduction-to-d3-force-for-simulation-and-animation/)\n",
    "      - use handlebar templates?\n",
    "  - [DAG](https://github.com/vasturiano/force-graph/blob/master/example/tree/index.html)"
   ]
  },
  {
   "cell_type": "code",
   "execution_count": null,
   "metadata": {
    "tags": []
   },
   "outputs": [],
   "source": [
    "if __name__ == \"__main__\" and \"pyodide\" in __import__(\"sys\").modules:\n",
    "    %pip install -q -r requirements.txt"
   ]
  },
  {
   "cell_type": "code",
   "execution_count": null,
   "metadata": {
    "tags": []
   },
   "outputs": [],
   "source": [
    "import asyncio\n",
    "from typing import Dict\n",
    "\n",
    "import ipyforcegraph.behaviors.forces as F\n",
    "import ipywidgets as W\n",
    "import pandas as pd\n",
    "import traitlets as T\n",
    "from IPython.display import display"
   ]
  },
  {
   "cell_type": "code",
   "execution_count": null,
   "metadata": {
    "tags": []
   },
   "outputs": [],
   "source": [
    "with __import__(\"importnb\").Notebook():\n",
    "    import Utils as U\n",
    "\n",
    "\n",
    "node_template_help = {\"context\": \"node\", \"context_all\": \"nodes\"}\n",
    "link_template_help = {\"context\": \"link\", \"context_all\": \"links\"}\n",
    "\n",
    "\n",
    "def make_slider_template(\n",
    "    force: F.BaseD3Force,\n",
    "    attr: str,\n",
    "    template_help: Dict[str, str],\n",
    "    slider_kwargs: dict = None,\n",
    "):\n",
    "    \"\"\"Make a slider and template combo and link to given `force`'s `attr`.\"\"\"\n",
    "    slider_kwargs = slider_kwargs if slider_kwargs is not None else {}\n",
    "    if \"description\" not in slider_kwargs:\n",
    "        slider_kwargs[\"description\"] = attr.title()\n",
    "    if \"layout\" not in slider_kwargs:\n",
    "        slider_kwargs[\"layout\"] = {\"flex\": \"1\"}\n",
    "    placeholder = (\n",
    "        \"{{{{{context}}}}}, {{{{i}}}}, {{{{{context_all}}}}} are defined\".format(\n",
    "            **template_help\n",
    "        )\n",
    "    )\n",
    "\n",
    "    ui_slider = W.FloatSlider(**slider_kwargs)\n",
    "    ui_template = W.Textarea(layout=dict(max_width=\"100%\"), placeholder=placeholder)\n",
    "    T.dlink(\n",
    "        (ui_template, \"value\"),\n",
    "        (ui_slider, \"disabled\"),\n",
    "        lambda x: True if x else False,\n",
    "    )\n",
    "    T.dlink((ui_template, \"value\"), (force, attr))\n",
    "    T.dlink((ui_slider, \"value\"), (force, attr), str)\n",
    "    return [ui_slider, ui_template]"
   ]
  },
  {
   "cell_type": "code",
   "execution_count": null,
   "metadata": {
    "tags": []
   },
   "outputs": [],
   "source": [
    "if __name__ == \"__main__\":\n",
    "    fg, box = U.make_a_demo()\n",
    "    box.description = \"Force Demo\"\n",
    "    display(box)"
   ]
  },
  {
   "cell_type": "markdown",
   "metadata": {},
   "source": [
    "## `GraphForces`\n",
    "\n",
    "If the built-in forces do not meet the needs of a particular application, these can be\n",
    "customized in many ways. These are collected under the `GraphForces` behavior, which has\n",
    "both top-level parameters, common to the overall simulation engine, as well is\n",
    "individual named forces inside of it, which are themselves highly configurable."
   ]
  },
  {
   "cell_type": "markdown",
   "metadata": {},
   "source": [
    "### Warmup and Cooldown\n",
    "\n",
    "These `warmup_ticks` and `cooldown_ticks` parameters control how the simulation starts\n",
    "up and how long it is allowed to run.\n",
    "\n",
    "By default, `cooldown_ticks` is set to `-1`, meaning the simulation will be allowed to\n",
    "run as long as it needs before reaching a steady state.\n",
    "\n",
    "When `cooldown_ticks` is set to `0`, the simulation won't run at all, useful for\n",
    "pre-calculated positions.\n",
    "\n",
    "`warmup_ticks` controls how much is simulated off-screen, before any force-driven\n",
    "animation begins."
   ]
  },
  {
   "cell_type": "code",
   "execution_count": null,
   "metadata": {
    "tags": []
   },
   "outputs": [],
   "source": [
    "def add_force_ticks(fg, box):\n",
    "    gf = U.ensure_graph_forces(fg, box)\n",
    "\n",
    "    warmup = W.IntSlider(description=\"warmup\", min=0, max=100)\n",
    "    cooldown = W.IntSlider(description=\"cooldown\", min=-1, max=100)\n",
    "\n",
    "    T.link((gf, \"warmup_ticks\"), (warmup, \"value\"))\n",
    "    T.link((gf, \"cooldown_ticks\"), (cooldown, \"value\"))\n",
    "\n",
    "    ui_ticks = U.make_a_collapsible_picker(\n",
    "        \"graph: warmup & cooldown\",\n",
    "        {\n",
    "            \"spoon\": [W.VBox([warmup, cooldown], layout=dict(width=\"100%\"))],\n",
    "        },\n",
    "    )\n",
    "    box.node_ui = {**box.node_ui, \"graph_ticks\": ui_ticks}\n",
    "    return fg, box"
   ]
  },
  {
   "cell_type": "code",
   "execution_count": null,
   "metadata": {
    "tags": []
   },
   "outputs": [],
   "source": [
    "if __name__ == \"__main__\":\n",
    "    add_force_ticks(fg, box)"
   ]
  },
  {
   "cell_type": "markdown",
   "metadata": {},
   "source": [
    "### Alpha and Velocity\n",
    "\n",
    "The parameters `alpha_min`, `alpha_decay` and `velocity_decay` fine-tune the natural\n",
    "stopping state of the simulation."
   ]
  },
  {
   "cell_type": "code",
   "execution_count": null,
   "metadata": {
    "tags": []
   },
   "outputs": [],
   "source": [
    "def add_alpha_velocity(fg, box):\n",
    "    gf = U.ensure_graph_forces(fg, box)\n",
    "\n",
    "    alpha_min = W.FloatSlider(\n",
    "        description=\"alpha min\", min=0, max=1, step=0.0001, readout_format=\".4f\"\n",
    "    )\n",
    "    alpha_decay = W.FloatSlider(\n",
    "        description=\"alpha decay\", min=0, max=1, step=0.0001, readout_format=\".4f\"\n",
    "    )\n",
    "    velocity_decay = W.FloatSlider(\n",
    "        description=\"velocity decay\", min=0, max=1, step=0.0001, readout_format=\".4f\"\n",
    "    )\n",
    "\n",
    "    T.link((gf, \"alpha_min\"), (alpha_min, \"value\"))\n",
    "    T.link((gf, \"alpha_decay\"), (alpha_decay, \"value\"))\n",
    "    T.link((gf, \"velocity_decay\"), (velocity_decay, \"value\"))\n",
    "\n",
    "    ui_ticks = U.make_a_collapsible_picker(\n",
    "        \"graph: alpha & velocity\",\n",
    "        {\n",
    "            \"av\": [\n",
    "                W.VBox(\n",
    "                    [alpha_min, alpha_decay, velocity_decay], layout=dict(width=\"100%\")\n",
    "                )\n",
    "            ],\n",
    "        },\n",
    "    )\n",
    "    box.node_ui = {**box.node_ui, \"graph_alpha_velocity\": ui_ticks}\n",
    "    return fg, box"
   ]
  },
  {
   "cell_type": "code",
   "execution_count": null,
   "metadata": {
    "tags": []
   },
   "outputs": [],
   "source": [
    "if __name__ == \"__main__\":\n",
    "    add_alpha_velocity(fg, box)"
   ]
  },
  {
   "cell_type": "markdown",
   "metadata": {},
   "source": [
    "### D3 Simulation Reheating\n",
    "\n",
    "Button to manually reheat the 3d simulation"
   ]
  },
  {
   "cell_type": "code",
   "execution_count": null,
   "metadata": {},
   "outputs": [],
   "source": [
    "def add_reheat(fg, box):\n",
    "    reheat_btn = W.Button(description=\"Reheat\", icon=\"fire\")\n",
    "    reheat_btn.on_click(lambda x: fg.reheat())\n",
    "\n",
    "    reheat_ui = U.make_a_collapsible_picker(\n",
    "        \"graph: reheat\",\n",
    "        {\n",
    "            \"av\": [W.VBox([reheat_btn], layout=dict(width=\"100%\"))],\n",
    "        },\n",
    "    )\n",
    "    box.node_ui = {**box.node_ui, \"graph_reheat\": reheat_ui}\n",
    "    return fg, box"
   ]
  },
  {
   "cell_type": "code",
   "execution_count": null,
   "metadata": {
    "tags": []
   },
   "outputs": [],
   "source": [
    "if __name__ == \"__main__\":\n",
    "    add_reheat(fg, box)"
   ]
  },
  {
   "cell_type": "markdown",
   "metadata": {},
   "source": [
    "## Base Forces"
   ]
  },
  {
   "cell_type": "markdown",
   "metadata": {},
   "source": [
    "By default the forcegraph uses the following forces:\n",
    "\n",
    "- `Link` Force: analogous to **springs**\n",
    "- `ManyBody` Force: analogous to **charged particles**\n",
    "- `Center` Force: translates nodes uniformly based on the weight of the `nodes`"
   ]
  },
  {
   "cell_type": "code",
   "execution_count": null,
   "metadata": {
    "tags": []
   },
   "outputs": [],
   "source": [
    "def force_toggle_ui(gf, force):\n",
    "    force_enabled = W.Checkbox(value=True, description=\"enabled?\")\n",
    "    T.link((force, \"active\"), (force_enabled, \"value\"))\n",
    "    return force_enabled\n",
    "\n",
    "\n",
    "def add_charge_force(fg, box):\n",
    "    gf = U.ensure_graph_forces(fg, box)\n",
    "    force = F.ManyBody()\n",
    "    gf.forces = {**gf.forces, \"charge\": force}\n",
    "\n",
    "    sliders = dict(\n",
    "        distance_min=W.FloatSlider(\n",
    "            description=\"Min Distance\", min=0, value=0, max=200, layout={\"flex\": \"1\"}\n",
    "        ),\n",
    "        distance_max=W.FloatSlider(\n",
    "            description=\"Max Distance\",\n",
    "            min=0,\n",
    "            value=20000,\n",
    "            max=20000,\n",
    "            layout={\"flex\": \"1\"},\n",
    "        ),\n",
    "    )\n",
    "\n",
    "    for trait, slider in sliders.items():\n",
    "        T.link((slider, \"value\"), (force, trait))\n",
    "\n",
    "    controls = [\n",
    "        force_toggle_ui(gf, force),\n",
    "        *sliders.values(),\n",
    "        *make_slider_template(\n",
    "            force,\n",
    "            attr=\"strength\",\n",
    "            template_help=node_template_help,\n",
    "            slider_kwargs={\"min\": -60, \"value\": -30, \"max\": 2},\n",
    "        ),\n",
    "    ]\n",
    "\n",
    "    force_ui, children = U.ensure_graph_force_ui(\n",
    "        fg, box, {\"charge\": [W.VBox(controls, layout={\"flex\": \"1\"})]}\n",
    "    )\n",
    "    return fg, box\n",
    "\n",
    "\n",
    "def add_link_force(fg, box):\n",
    "    gf = U.ensure_graph_forces(fg, box)\n",
    "    force = F.Link()\n",
    "    gf.forces = {**gf.forces, \"link\": force}\n",
    "\n",
    "    controls = [\n",
    "        force_toggle_ui(gf, force),\n",
    "        *make_slider_template(\n",
    "            force,\n",
    "            attr=\"distance\",\n",
    "            template_help=link_template_help,\n",
    "            slider_kwargs={\"min\": 0, \"value\": 30, \"max\": 100},\n",
    "        ),\n",
    "        *make_slider_template(\n",
    "            force,\n",
    "            attr=\"strength\",\n",
    "            template_help=link_template_help,\n",
    "            slider_kwargs={\"min\": 0, \"value\": 0.1, \"max\": 1},\n",
    "        ),\n",
    "    ]\n",
    "\n",
    "    force_ui, children = U.ensure_graph_force_ui(\n",
    "        fg, box, {\"link\": [W.VBox(controls, layout={\"flex\": \"1\"})]}\n",
    "    )\n",
    "    return fg, box\n",
    "\n",
    "\n",
    "def add_center_force(fg, box):\n",
    "    gf = U.ensure_graph_forces(fg, box)\n",
    "    force = F.Center()\n",
    "    gf.forces = {**gf.forces, \"center\": force}\n",
    "\n",
    "    # Center UI\n",
    "    center_sliders = dict(\n",
    "        x=W.FloatSlider(description=\"X\", min=-200, max=200, layout={\"flex\": \"1\"}),\n",
    "        y=W.FloatSlider(description=\"Y\", min=-200, max=200, layout={\"flex\": \"1\"}),\n",
    "        z=W.FloatSlider(description=\"Z\", min=-200, max=200, layout={\"flex\": \"1\"}),\n",
    "    )\n",
    "\n",
    "    for key in [\"x\", \"y\", \"z\"]:\n",
    "        T.link((center_sliders[key], \"value\"), (force, key))\n",
    "    controls = [force_toggle_ui(gf, force), *center_sliders.values()]\n",
    "\n",
    "    force_ui, children = U.ensure_graph_force_ui(\n",
    "        fg, box, {\"center\": [W.VBox(controls, layout={\"flex\": \"1\"})]}\n",
    "    )\n",
    "    return fg, box\n",
    "\n",
    "\n",
    "if __name__ == \"__main__\":\n",
    "    fg, box = add_charge_force(fg, box)\n",
    "    fg, box = add_link_force(fg, box)\n",
    "    fg, box = add_center_force(fg, box)"
   ]
  },
  {
   "cell_type": "markdown",
   "metadata": {},
   "source": [
    "## `Collision` Force\n",
    "\n",
    "The collision force treats nodes as circles with a given `radius`, rather than points\n",
    "and prevents nodes from overlapping."
   ]
  },
  {
   "cell_type": "code",
   "execution_count": null,
   "metadata": {
    "tags": []
   },
   "outputs": [],
   "source": [
    "def add_collide_force(fg, box):\n",
    "    gf = U.ensure_graph_forces(fg, box)\n",
    "    force = F.Collision(radius=\"4\", active=False)\n",
    "    gf.forces = {**gf.forces, \"collide\": force}\n",
    "    strength_slider = W.FloatSlider(\n",
    "        description=\"Strength\", min=0, value=1, max=1, layout={\"flex\": \"1\"}\n",
    "    )\n",
    "    controls = [\n",
    "        force_toggle_ui(gf, force),\n",
    "        strength_slider,\n",
    "        *make_slider_template(\n",
    "            force,\n",
    "            attr=\"radius\",\n",
    "            template_help=node_template_help,\n",
    "            slider_kwargs={\"min\": 0, \"value\": int(force.radius), \"max\": 100},\n",
    "        ),\n",
    "    ]\n",
    "\n",
    "    T.link((strength_slider, \"value\"), (force, \"strength\"))\n",
    "    children = {\n",
    "        \"collide\": [W.VBox(controls, layout={\"flex\": \"1\"})],\n",
    "    }\n",
    "    force_ui, children = U.ensure_graph_force_ui(fg, box, children)\n",
    "\n",
    "    return fg, box"
   ]
  },
  {
   "cell_type": "code",
   "execution_count": null,
   "metadata": {
    "tags": []
   },
   "outputs": [],
   "source": [
    "if __name__ == \"__main__\":\n",
    "    add_collide_force(fg, box)"
   ]
  },
  {
   "cell_type": "markdown",
   "metadata": {},
   "source": [
    "## `Radial` Force\n",
    "\n",
    "The radial positioning force create a force towards a circle of the specified radius\n",
    "centered at (x, y)."
   ]
  },
  {
   "cell_type": "code",
   "execution_count": null,
   "metadata": {
    "tags": []
   },
   "outputs": [],
   "source": [
    "def add_radial_force(fg, box):\n",
    "    gf = U.ensure_graph_forces(fg, box)\n",
    "    force = F.Radial(radius=\"100\", strength=\"0\", active=False)\n",
    "    gf.forces = {**gf.forces, \"radial\": force}\n",
    "\n",
    "    center_sliders = dict(\n",
    "        x=W.FloatSlider(description=\"X\", min=-200, max=200, layout={\"flex\": \"1\"}),\n",
    "        y=W.FloatSlider(description=\"Y\", min=-200, max=200, layout={\"flex\": \"1\"}),\n",
    "        z=W.FloatSlider(description=\"Z\", min=-200, max=200, layout={\"flex\": \"1\"}),\n",
    "    )\n",
    "\n",
    "    for key, slider in center_sliders.items():\n",
    "        T.link((slider, \"value\"), (force, key))\n",
    "\n",
    "    controls = [\n",
    "        force_toggle_ui(gf, force),\n",
    "        *center_sliders.values(),\n",
    "        *make_slider_template(\n",
    "            force,\n",
    "            attr=\"strength\",\n",
    "            template_help=node_template_help,\n",
    "            slider_kwargs={\"min\": -10, \"value\": 0, \"max\": 10},\n",
    "        ),\n",
    "        *make_slider_template(\n",
    "            force,\n",
    "            attr=\"radius\",\n",
    "            template_help=node_template_help,\n",
    "            slider_kwargs={\"min\": 0, \"value\": 10, \"max\": 200},\n",
    "        ),\n",
    "    ]\n",
    "\n",
    "    children = {\n",
    "        \"radial\": [\n",
    "            W.VBox(\n",
    "                controls,\n",
    "                layout={\"flex\": \"1\"},\n",
    "            )\n",
    "        ],\n",
    "    }\n",
    "    force_ui, children = U.ensure_graph_force_ui(fg, box, children)\n",
    "\n",
    "    return fg, box\n",
    "\n",
    "\n",
    "if __name__ == \"__main__\":\n",
    "    fg, box = add_radial_force(fg, box)"
   ]
  },
  {
   "cell_type": "markdown",
   "metadata": {},
   "source": [
    "## `Cluster` Force\n",
    "\n",
    "A force type that attracts nodes toward a set of cluster centers.\n",
    "\n",
    "`centers` - Defines each node's cluster center. All cluster centers should be defined as\n",
    "a radius and set of coordinates { radius, x, y, z }, according to the number of spatial\n",
    "dimensions in the simulation."
   ]
  },
  {
   "cell_type": "code",
   "execution_count": null,
   "metadata": {
    "tags": []
   },
   "outputs": [],
   "source": [
    "def add_cluster_force(fg, box):\n",
    "    gf = U.ensure_graph_forces(fg, box)\n",
    "    force = F.Cluster(active=False)\n",
    "    gf.forces = {**gf.forces, \"cluster\": force}\n",
    "\n",
    "    inertia = W.FloatSlider(\n",
    "        description=\"Inertia\", min=0, value=0, max=1, layout={\"flex\": \"1\"}\n",
    "    )\n",
    "    strength = W.FloatSlider(\n",
    "        description=\"Strength\", min=0, value=0, max=1, layout={\"flex\": \"1\"}\n",
    "    )\n",
    "    # centers_template = W.Textarea(\n",
    "    #     layout=dict(flex=\"1\", max_width=\"100%\"), placeholder=\"cluster center template\"\n",
    "    # )\n",
    "    T.link((inertia, \"value\"), (force, \"inertia\"))\n",
    "    T.link((strength, \"value\"), (force, \"strength\"))\n",
    "    # T.link((centers_template, \"value\"), (force, \"centers\"))\n",
    "\n",
    "    controls = [\n",
    "        force_toggle_ui(gf, force),\n",
    "        inertia,\n",
    "        strength,\n",
    "        # centers_template,\n",
    "    ]\n",
    "\n",
    "    children = {\n",
    "        \"cluster\": [\n",
    "            W.VBox(\n",
    "                controls,\n",
    "                layout={\"flex\": \"1\"},\n",
    "            )\n",
    "        ],\n",
    "    }\n",
    "    force_ui, children = U.ensure_graph_force_ui(fg, box, children)\n",
    "\n",
    "    return fg, box\n",
    "\n",
    "\n",
    "if __name__ == \"__main__\":\n",
    "    fg, box = add_cluster_force(fg, box)"
   ]
  },
  {
   "cell_type": "markdown",
   "metadata": {},
   "source": [
    "Positioning Forces X, Y, and Z will create a force pushing/pulling nodes along given\n",
    "axis position."
   ]
  },
  {
   "cell_type": "code",
   "execution_count": null,
   "metadata": {},
   "outputs": [],
   "source": [
    "def config_pos_force(axis: str):\n",
    "    force_map = {\n",
    "        \"x\": F.X,\n",
    "        \"y\": F.Y,\n",
    "        \"z\": F.Z,\n",
    "    }\n",
    "\n",
    "    force = force_map[axis](active=False)\n",
    "\n",
    "    def add_pos_force(fg, box):\n",
    "        gf = U.ensure_graph_forces(fg, box)\n",
    "\n",
    "        gf.forces = {**gf.forces, axis: force}\n",
    "        controls = [\n",
    "            force_toggle_ui(gf, force),\n",
    "            *make_slider_template(\n",
    "                force,\n",
    "                attr=axis,\n",
    "                template_help=node_template_help,\n",
    "                slider_kwargs=dict(max=10),\n",
    "            ),\n",
    "            *make_slider_template(\n",
    "                force, attr=\"strength\", template_help=node_template_help\n",
    "            ),\n",
    "        ]\n",
    "\n",
    "        children = {\n",
    "            axis: [\n",
    "                W.VBox(\n",
    "                    controls,\n",
    "                    layout={\"flex\": \"1\"},\n",
    "                )\n",
    "            ],\n",
    "        }\n",
    "        force_ui, children = U.ensure_graph_force_ui(fg, box, children)\n",
    "        return fg, box\n",
    "\n",
    "    return add_pos_force"
   ]
  },
  {
   "cell_type": "code",
   "execution_count": null,
   "metadata": {},
   "outputs": [],
   "source": [
    "add_x_force = config_pos_force(\"x\")\n",
    "add_y_force = config_pos_force(\"y\")\n",
    "add_z_force = config_pos_force(\"z\")\n",
    "if __name__ == \"__main__\":\n",
    "    fg, box = add_x_force(fg, box)\n",
    "    fg, box = add_y_force(fg, box)\n",
    "    fg, box = add_z_force(fg, box)"
   ]
  },
  {
   "cell_type": "markdown",
   "metadata": {},
   "source": [
    "## `DAG` \"Force\"\n",
    "\n",
    "Arranges node positions based on depth in a Directed Acyclic Graph (DAG).\n",
    "\n",
    "> It is not a \"force\" in the strictest sense, but as every other layout algorithm in\n",
    "> `force-graph` is a force, `DAG` is included in the `forces` behaviors module."
   ]
  },
  {
   "cell_type": "code",
   "execution_count": null,
   "metadata": {},
   "outputs": [],
   "source": [
    "def add_dag_force(fg, box):\n",
    "    gf = U.ensure_graph_forces(fg, box)\n",
    "    force = F.DAG(active=False)\n",
    "    gf.forces = {**gf.forces, \"dag\": force}\n",
    "\n",
    "    dag_options = [(a.name.title().replace(\"_\", \" \"), a.value) for a in F.DAG.Mode]\n",
    "\n",
    "    mode_ui = W.Dropdown(\n",
    "        options=dag_options,\n",
    "        description=\"mode\",\n",
    "    )\n",
    "    distance_slider = W.FloatSlider(description=\"level distance\", min=0, max=500)\n",
    "    filter_template = W.Textarea(\n",
    "        \"\",\n",
    "        description=\"filter\",\n",
    "        layout=dict(max_width=\"100%\"),\n",
    "        placeholder=\"{{node}} is defined.\",\n",
    "    )\n",
    "\n",
    "    T.dlink((distance_slider, \"value\"), (force, \"level_distance\"))\n",
    "    T.link((force, \"mode\"), (mode_ui, \"value\"))\n",
    "    T.dlink(\n",
    "        (filter_template, \"value\"),\n",
    "        (force, \"node_filter\"),\n",
    "        lambda x: True if not x.strip() else x,\n",
    "    )\n",
    "\n",
    "    controls = [\n",
    "        force_toggle_ui(gf, force),\n",
    "        mode_ui,\n",
    "        distance_slider,\n",
    "        filter_template,\n",
    "    ]\n",
    "    children = {\n",
    "        \"dag\": [\n",
    "            W.VBox(\n",
    "                controls,\n",
    "                layout={\"flex\": \"1\"},\n",
    "            )\n",
    "        ],\n",
    "    }\n",
    "    force_ui, children = U.ensure_graph_force_ui(fg, box, children)\n",
    "    return fg, box"
   ]
  },
  {
   "cell_type": "code",
   "execution_count": null,
   "metadata": {},
   "outputs": [],
   "source": [
    "if __name__ == \"__main__\":\n",
    "    fg, box = add_dag_force(fg, box)"
   ]
  },
  {
   "cell_type": "code",
   "execution_count": null,
   "metadata": {
    "tags": []
   },
   "outputs": [],
   "source": [
    "add_base_forces = [\n",
    "    add_link_force,\n",
    "    add_charge_force,\n",
    "    add_center_force,\n",
    "]\n",
    "all_forces = [\n",
    "    add_force_ticks,\n",
    "    add_alpha_velocity,\n",
    "    add_reheat,\n",
    "    *add_base_forces,\n",
    "    add_collide_force,\n",
    "    add_radial_force,\n",
    "    add_cluster_force,\n",
    "    add_x_force,\n",
    "    add_y_force,\n",
    "    add_z_force,\n",
    "    add_dag_force,\n",
    "]"
   ]
  },
  {
   "cell_type": "markdown",
   "metadata": {},
   "source": [
    "# Tests\n",
    "\n",
    "These tests are executed in the [Force Tests Demo](./Test_Forces.ipynb) notebook."
   ]
  },
  {
   "cell_type": "code",
   "execution_count": null,
   "metadata": {},
   "outputs": [],
   "source": [
    "async def get_positions(fg, box) -> pd.DataFrame:\n",
    "    graph_data = box.behaviors[\"graph_data\"]\n",
    "    graph_data.capturing = True\n",
    "    data = await U.wait_for_change(graph_data.sources[0], \"nodes\")\n",
    "    return data"
   ]
  },
  {
   "cell_type": "code",
   "execution_count": null,
   "metadata": {},
   "outputs": [],
   "source": [
    "def check_center(pos: pd.DataFrame, x=0, y=0, tolerance=0.1):\n",
    "    x0, y0 = map(lambda s: s.mean(), [pos.x, pos.y])\n",
    "    delta_x = tolerance * (pos.x.max() - pos.x.min())\n",
    "    delta_y = tolerance * (pos.y.max() - pos.y.min())\n",
    "\n",
    "    errors = []\n",
    "\n",
    "    if abs(x0 - x) > delta_x:\n",
    "        errors.append(\n",
    "            f\"Expecting x position to be near {x}. \\n\\tNot x={x0} \\n\\tdelta_x={delta_x}\"\n",
    "        )\n",
    "    if abs(y0 - y) > delta_y:\n",
    "        errors.append(\n",
    "            f\"Expecting y position to be near {y}. \\n\\tNot y={y0} \\n\\tdelta_y={delta_y}\"\n",
    "        )\n",
    "    assert len(errors) == 0, \"\\n\".join(errors)"
   ]
  },
  {
   "cell_type": "markdown",
   "metadata": {},
   "source": [
    "## Center Force Test"
   ]
  },
  {
   "cell_type": "code",
   "execution_count": null,
   "metadata": {},
   "outputs": [],
   "source": [
    "async def test_center_force(fg, box):\n",
    "    \"\"\"Varies the x and y coordinate for the center force\"\"\"\n",
    "    gf = U.ensure_graph_forces(fg, box)\n",
    "    force = gf.forces[\"center\"]\n",
    "    force.active = True  # ensure the force is on\n",
    "\n",
    "    force.x = 100\n",
    "    force.y = 100\n",
    "    box.description = f\"Moving center to ({force.x}, {force.y})\"\n",
    "    await asyncio.sleep(4)\n",
    "    pos = await get_positions(fg, box)\n",
    "\n",
    "    check_center(\n",
    "        pos,\n",
    "        force.x,\n",
    "        force.y,\n",
    "    )\n",
    "\n",
    "    force.x = 0\n",
    "    force.y = 0\n",
    "    box.description = f\"Moving center to ({force.x}, {force.y})\"\n",
    "    await asyncio.sleep(4)\n",
    "    pos = await get_positions(fg, box)\n",
    "    check_center(\n",
    "        pos,\n",
    "        force.x,\n",
    "        force.y,\n",
    "    )"
   ]
  },
  {
   "cell_type": "markdown",
   "metadata": {},
   "source": [
    "## Positioning Force Tests"
   ]
  },
  {
   "cell_type": "code",
   "execution_count": null,
   "metadata": {},
   "outputs": [],
   "source": [
    "def test_pos_force(axis: str):\n",
    "    assert axis in [\"x\", \"y\"], f\"Invalid pos axis `{axis}`\"\n",
    "    off_axis = \"y\" if axis == \"x\" else \"x\"\n",
    "\n",
    "    async def test_force(fg, box):\n",
    "        gf = U.ensure_graph_forces(fg, box)\n",
    "        gf.warmup_ticks = 100\n",
    "        force = gf.forces[axis]\n",
    "        force.strength = 1\n",
    "        force.active = True  # ensure the force is on\n",
    "        axis_pos = 10\n",
    "        setattr(force, axis, str(axis_pos))\n",
    "        box.description = f\"Moving axis to {axis}={axis_pos}\"\n",
    "        await asyncio.sleep(4)\n",
    "        pos = await get_positions(fg, box)\n",
    "        center = pos[axis].mean()\n",
    "        assert (center - axis_pos) / (\n",
    "            pos[axis].max() - pos[axis].min()\n",
    "        ) < 0.01, f\"Expecting center near {axis_pos} not {center}\"\n",
    "\n",
    "        axis_pos = 200\n",
    "        setattr(force, axis, str(axis_pos))\n",
    "        box.description = f\"Moving axis to {axis}={axis_pos}\"\n",
    "        await asyncio.sleep(4)\n",
    "        pos = await get_positions(fg, box)\n",
    "        center = pos[axis].mean()\n",
    "        assert (center - axis_pos) / (\n",
    "            pos[axis].max() - pos[axis].min()\n",
    "        ) < 0.01, f\"Expecting center near {axis_pos} not {center}\"\n",
    "\n",
    "        # test the spread of y goes down after reseting the force strength\n",
    "        std_off_axis = pos[off_axis].std()\n",
    "        force.strength = 0\n",
    "        force.active = False\n",
    "        box.description = f\"Testing spread on {off_axis}.\"\n",
    "        await asyncio.sleep(4)\n",
    "        pos = await get_positions(fg, box)\n",
    "\n",
    "        assert (\n",
    "            std_off_axis > pos[off_axis].std()\n",
    "        ), f\"Expecting `{off_axis}` spread to be smaller after resetting the force\"\n",
    "        gf.warmup_ticks = 0\n",
    "\n",
    "    test_force.__name__ = f\"test_force_axis_{axis}\"\n",
    "    test_force.__doc__ = f\"Changing the position of the Force on the {axis} axis.\"\n",
    "    return test_force"
   ]
  },
  {
   "cell_type": "markdown",
   "metadata": {},
   "source": [
    "## DAG Force Tests"
   ]
  },
  {
   "cell_type": "code",
   "execution_count": null,
   "metadata": {
    "tags": []
   },
   "outputs": [],
   "source": [
    "async def test_dag_force(fg, box):\n",
    "    \"\"\"Varies the dag level distance for the dag force\"\"\"\n",
    "    gf = U.ensure_graph_forces(fg, box)\n",
    "    force = gf.forces[\"dag\"]\n",
    "    force.level_distance = 40\n",
    "    force.mode = F.DAG.Mode.radial_out.value\n",
    "    force.active = True\n",
    "    box.description = f\"Changing level distance to: ({force.level_distance})\"\n",
    "    await asyncio.sleep(4)\n",
    "    pos = await get_positions(fg, box)\n",
    "\n",
    "    x_spread = pos.x.std()\n",
    "    y_spread = pos.y.std()\n",
    "\n",
    "    force.level_distance = 100\n",
    "    box.description = f\"Changing level distance to: ({force.level_distance})\"\n",
    "    await asyncio.sleep(4)\n",
    "    pos = await get_positions(fg, box)\n",
    "    assert x_spread < pos.x.std(), \"Expecting the nodes to be more spread out\"\n",
    "    assert y_spread < pos.y.std(), \"Expecting the nodes to be more spread out\"\n",
    "\n",
    "    force.active = False"
   ]
  },
  {
   "cell_type": "code",
   "execution_count": null,
   "metadata": {
    "tags": []
   },
   "outputs": [],
   "source": [
    "all_force_tests = [\n",
    "    test_center_force,\n",
    "    test_pos_force(\"x\"),\n",
    "    test_pos_force(\"y\"),\n",
    "    test_dag_force,\n",
    "]"
   ]
  }
 ],
 "metadata": {
  "kernelspec": {
   "display_name": "Python 3 (ipykernel)",
   "language": "python",
   "name": "python3"
  },
  "language_info": {
   "codemirror_mode": {
    "name": "ipython",
    "version": 3
   },
   "file_extension": ".py",
   "mimetype": "text/x-python",
   "name": "python",
   "nbconvert_exporter": "python",
   "pygments_lexer": "ipython3",
   "version": "3.11.4"
  }
 },
 "nbformat": 4,
 "nbformat_minor": 4
}
