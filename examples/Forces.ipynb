{
 "cells": [
  {
   "cell_type": "markdown",
   "metadata": {},
   "source": [
    "# Forces 🏋️\n",
    "\n",
    "* [ForceGraph Top level API](https://github.com/vasturiano/force-graph#force-engine-d3-force-configuration)\n",
    "    * Forcing Functions:\n",
    "        * `d3Force(str, [fn])`\n",
    "        * Default forces: {\"link\", \"charge\", \"center\"} \n",
    "        * Example of [\"collide\" and \"box\"](https://vasturiano.github.io/force-graph/example/collision-detection/)([source](https://github.com/vasturiano/force-graph/blob/master/example/collision-detection/index.html))\n",
    "        * https://www.d3indepth.com/force-layout/\n",
    "            * forceCenter\n",
    "            * forceCollide\n",
    "                * [using mouse](https://observablehq.com/@d3/collision-detection/2?collection=@d3/d3-force)\n",
    "            * forceLink\n",
    "            * forceManyBody\n",
    "            * forceRadial\n",
    "            * forceX\n",
    "            * forceY\n",
    "        * [full on custom](https://technology.amis.nl/frontend/introduction-to-d3-force-for-simulation-and-animation/)\n",
    "            * use handlebar templates?\n",
    "    * [DAG](https://github.com/vasturiano/force-graph/blob/master/example/tree/index.html)"
   ]
  },
  {
   "cell_type": "code",
   "execution_count": null,
   "metadata": {},
   "outputs": [],
   "source": [
    "if __name__ == \"__main__\" and \"pyodide\" in __import__(\"sys\").modules:\n",
    "    %pip install -q -r requirements.txt"
   ]
  },
  {
   "cell_type": "code",
   "execution_count": null,
   "metadata": {},
   "outputs": [],
   "source": [
    "import random\n",
    "\n",
    "import ipywidgets as W\n",
    "import traitlets as T\n",
    "\n",
    "import ipyforcegraph.forces as F\n"
   ]
  },
  {
   "cell_type": "code",
   "execution_count": null,
   "metadata": {},
   "outputs": [],
   "source": [
    "with __import__(\"importnb\").Notebook():\n",
    "    import Utils as U"
   ]
  },
  {
   "cell_type": "code",
   "execution_count": null,
   "metadata": {},
   "outputs": [],
   "source": [
    "if __name__ == \"__main__\":\n",
    "    fg, box = U.make_a_demo()\n",
    "    display(box)"
   ]
  },
  {
   "cell_type": "code",
   "execution_count": null,
   "metadata": {},
   "outputs": [],
   "source": [
    "force_link = F.LinkForce()\n",
    "force_charge = F.ManyBodyForce()\n",
    "force_center = F.CenterForce()\n",
    "\n",
    "# force_radial = F.RadialForce()\n",
    "force_collide = F.CollisionForce(radius=\"4\")\n",
    "\n",
    "sim_forces = F.GraphForcesBehavior(\n",
    "    \n",
    "    forces={\n",
    "        # \"link\":None,\n",
    "        # \"charge\":None,\n",
    "        # \"center\":None,\n",
    "        # \"radial\":None,\n",
    "        \"collide\": force_collide\n",
    "    }\n",
    ")\n",
    "fg.behaviors = [sim_forces]"
   ]
  },
  {
   "cell_type": "code",
   "execution_count": null,
   "metadata": {},
   "outputs": [],
   "source": [
    "radius_slider = W.FloatSlider(\n",
    "    min=-100\n",
    ")\n",
    "\n",
    "T.dlink((radius_slider, \"value\"), (force_collide, \"radius\"), str)\n",
    "radius_slider"
   ]
  },
  {
   "cell_type": "code",
   "execution_count": null,
   "metadata": {},
   "outputs": [],
   "source": [
    "radius_slider.value=40"
   ]
  },
  {
   "cell_type": "code",
   "execution_count": null,
   "metadata": {},
   "outputs": [],
   "source": [
    "force_link = F.LinkForce()\n",
    "force_charge = F.ManyBodyForce()\n",
    "force_center = F.CenterForce(x=250)\n",
    "\n",
    "sim_forces = F.GraphForcesBehavior(\n",
    "    \n",
    "    forces={\n",
    "        \"link\":force_link,\n",
    "        \"charge\":force_charge,\n",
    "        \"center\":force_center,\n",
    "        \"x\":None,\n",
    "    }\n",
    ")\n",
    "fg.behaviors = [sim_forces]"
   ]
  },
  {
   "cell_type": "code",
   "execution_count": null,
   "metadata": {},
   "outputs": [],
   "source": [
    "force_link = F.LinkForce()\n",
    "force_charge = F.ManyBodyForce()\n",
    "force_center = F.CenterForce(z=2000)\n",
    "\n",
    "sim_forces = F.GraphForcesBehavior(\n",
    "    \n",
    "    forces={\n",
    "        \"link\":force_link,\n",
    "        \"charge\":force_charge,\n",
    "        \"center\":force_center,\n",
    "        \"x\":F.YForce(),\n",
    "    }\n",
    ")\n",
    "fg.behaviors = [sim_forces]"
   ]
  },
  {
   "cell_type": "code",
   "execution_count": null,
   "metadata": {},
   "outputs": [],
   "source": [
    "force_link = F.LinkForce()\n",
    "force_charge = F.ManyBodyForce()\n",
    "force_center = F.CenterForce(z=2000)\n",
    "\n",
    "sim_forces = F.GraphForcesBehavior(\n",
    "    \n",
    "    forces={\n",
    "        \"link\":force_link,\n",
    "        \"charge\":force_charge,\n",
    "        \"center\":force_center,\n",
    "        \"radial\":None,\n",
    "    }\n",
    ")\n",
    "fg.behaviors = [sim_forces]"
   ]
  }
 ],
 "metadata": {
  "kernelspec": {
   "display_name": "Python 3 (ipykernel)",
   "language": "python",
   "name": "python3"
  },
  "language_info": {
   "codemirror_mode": {
    "name": "ipython",
    "version": 3
   },
   "file_extension": ".py",
   "mimetype": "text/x-python",
   "name": "python",
   "nbconvert_exporter": "python",
   "pygments_lexer": "ipython3",
   "version": "3.11.0"
  }
 },
 "nbformat": 4,
 "nbformat_minor": 4
}
