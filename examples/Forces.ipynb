{
 "cells": [
  {
   "cell_type": "markdown",
   "metadata": {},
   "source": [
    "# Forces 🏋️\n",
    "\n",
    "- [ForceGraph Top level API](https://github.com/vasturiano/force-graph#force-engine-d3-force-configuration)\n",
    "  - Forcing Functions:\n",
    "    - `d3Force(str, [fn])`\n",
    "    - Default forces: {\"link\", \"charge\", \"center\"}\n",
    "    - Example of\n",
    "      [\"collide\" and \"box\"](https://vasturiano.github.io/force-graph/example/collision-detection/)([source](https://github.com/vasturiano/force-graph/blob/master/example/collision-detection/index.html))\n",
    "    - https://www.d3indepth.com/force-layout/\n",
    "      - forceCenter\n",
    "      - forceCollide\n",
    "        - [using mouse](https://observablehq.com/@d3/collision-detection/2?collection=@d3/d3-force)\n",
    "      - forceLink\n",
    "      - forceManyBody\n",
    "      - forceRadial\n",
    "      - forceX\n",
    "      - forceY\n",
    "    - [full on custom](https://technology.amis.nl/frontend/introduction-to-d3-force-for-simulation-and-animation/)\n",
    "      - use handlebar templates?\n",
    "  - [DAG](https://github.com/vasturiano/force-graph/blob/master/example/tree/index.html)"
   ]
  },
  {
   "cell_type": "code",
   "execution_count": null,
   "metadata": {},
   "outputs": [],
   "source": [
    "if __name__ == \"__main__\" and \"pyodide\" in __import__(\"sys\").modules:\n",
    "    %pip install -q -r requirements.txt"
   ]
  },
  {
   "cell_type": "code",
   "execution_count": null,
   "metadata": {},
   "outputs": [],
   "source": [
    "import random\n",
    "\n",
    "import ipywidgets as W\n",
    "import traitlets as T\n",
    "\n",
    "import ipyforcegraph.forces as F"
   ]
  },
  {
   "cell_type": "code",
   "execution_count": null,
   "metadata": {},
   "outputs": [],
   "source": [
    "with __import__(\"importnb\").Notebook():\n",
    "    import Utils as U\n",
    "    import Behaviors as B"
   ]
  },
  {
   "cell_type": "code",
   "execution_count": null,
   "metadata": {},
   "outputs": [],
   "source": [
    "if __name__ == \"__main__\":\n",
    "    fg, box = U.make_a_demo()\n",
    "    B.add_graph_data(fg, box)\n",
    "    gdata = box.behaviors[\"graph_data\"]\n",
    "    display(box)"
   ]
  },
  {
   "cell_type": "code",
   "execution_count": null,
   "metadata": {},
   "outputs": [],
   "source": [
    "# Copyright (c) 2022 ipyelk contributors.\n",
    "# Distributed under the terms of the Modified BSD License.\n",
    "import asyncio\n",
    "\n",
    "\n",
    "def wait_for_change(widget, value):\n",
    "    \"\"\"Initial pattern from\n",
    "    https://ipywidgets.readthedocs.io/en/stable/examples/Widget%20Asynchronous.html?highlight=async#Waiting-for-user-interaction\n",
    "    \"\"\"\n",
    "\n",
    "    future = asyncio.Future()\n",
    "\n",
    "    def getvalue(change):\n",
    "        \"\"\"make the new value available\"\"\"\n",
    "        future.set_result(change.new)\n",
    "\n",
    "    def unobserve(f):\n",
    "        \"\"\"unobserves the `getvalue` callback\"\"\"\n",
    "        widget.unobserve(getvalue, value)\n",
    "\n",
    "    future.add_done_callback(unobserve)\n",
    "\n",
    "    widget.observe(getvalue, value)\n",
    "    return future"
   ]
  },
  {
   "cell_type": "code",
   "execution_count": null,
   "metadata": {},
   "outputs": [],
   "source": [
    "\n",
    "async def get_data_center():\n",
    "    gdata.capturing = True\n",
    "    nodes = await wait_for_change(gdata.sources[0], \"nodes\")\n",
    "    return nodes.x.mean(), nodes.y.mean()\n",
    "\n",
    "import asyncio\n",
    "task = asyncio.ensure_future(get_data_center())\n",
    "task"
   ]
  },
  {
   "cell_type": "code",
   "execution_count": null,
   "metadata": {},
   "outputs": [],
   "source": [
    "task"
   ]
  },
  {
   "cell_type": "code",
   "execution_count": null,
   "metadata": {},
   "outputs": [],
   "source": [
    "task"
   ]
  },
  {
   "cell_type": "code",
   "execution_count": null,
   "metadata": {},
   "outputs": [],
   "source": [
    "force_link = F.LinkForce()\n",
    "force_charge = F.ManyBodyForce()\n",
    "force_center = F.CenterForce()\n",
    "force_collide = F.CollisionForce(radius=\"4\")\n",
    "\n",
    "sim_forces = F.GraphForcesBehavior(\n",
    "    forces={\n",
    "        \"link\":force_link,\n",
    "        \"charge\":force_charge,\n",
    "        \"center\":force_center,\n",
    "        \"collide\": force_collide\n",
    "    }\n",
    ")\n",
    "fg.behaviors = [sim_forces]"
   ]
  },
  {
   "cell_type": "code",
   "execution_count": null,
   "metadata": {},
   "outputs": [],
   "source": [
    "force_radial = F.RadialForce(radius=\"100\", strength=\"1\", x=0, y=0)\n",
    "sim_forces.forces = {**sim_forces.forces, \"radial\":force_radial}"
   ]
  },
  {
   "cell_type": "code",
   "execution_count": null,
   "metadata": {},
   "outputs": [],
   "source": [
    "force_radial.radius=\"200\"\n",
    "force_radial.x = 0\n",
    "force_radial.strength = \"10\""
   ]
  },
  {
   "cell_type": "code",
   "execution_count": null,
   "metadata": {},
   "outputs": [],
   "source": [
    "charge_slider = W.FloatSlider(description=\"Charge\",  min=-50, value=-30, max=10)\n",
    "T.dlink((charge_slider, \"value\"), (force_charge, \"strength\"), str)\n",
    "\n",
    "charge_slider"
   ]
  },
  {
   "cell_type": "code",
   "execution_count": null,
   "metadata": {},
   "outputs": [],
   "source": [
    "center_sliders = dict(\n",
    "    x = W.FloatSlider(description=\"X\", min=-200, max=200),\n",
    "    y = W.FloatSlider(description=\"Y\", min=-200, max=200),\n",
    "    z = W.FloatSlider(description=\"Z\", min=-200, max=200)\n",
    ")\n",
    "\n",
    "for key in [\"x\", \"y\", \"z\"]:\n",
    "    T.link((center_sliders[key], \"value\"), (force_center, key))\n",
    "W.VBox(list(center_sliders.values()))"
   ]
  },
  {
   "cell_type": "code",
   "execution_count": null,
   "metadata": {},
   "outputs": [],
   "source": [
    "radius_slider = W.FloatSlider(description=\"Radius\", min=-100)\n",
    "\n",
    "T.dlink((radius_slider, \"value\"), (force_collide, \"radius\"), str)\n",
    "radius_slider"
   ]
  },
  {
   "cell_type": "code",
   "execution_count": null,
   "metadata": {},
   "outputs": [],
   "source": [
    "radius_slider.value = 40"
   ]
  },
  {
   "cell_type": "code",
   "execution_count": null,
   "metadata": {},
   "outputs": [],
   "source": [
    "force_link = F.LinkForce()\n",
    "force_charge = F.ManyBodyForce()\n",
    "force_center = F.CenterForce(x=250)\n",
    "\n",
    "sim_forces = F.GraphForcesBehavior(\n",
    "    forces={\n",
    "        \"link\": force_link,\n",
    "        \"charge\": force_charge,\n",
    "        \"center\": force_center,\n",
    "        \"x\": None,\n",
    "    }\n",
    ")\n",
    "fg.behaviors = [sim_forces]"
   ]
  },
  {
   "cell_type": "code",
   "execution_count": null,
   "metadata": {},
   "outputs": [],
   "source": [
    "y = F.YForce()\n",
    "\n",
    "sim_forces = F.GraphForcesBehavior(\n",
    "    forces={\n",
    "        \"y\": y,\n",
    "    }\n",
    ")\n",
    "fg.behaviors = [sim_forces]"
   ]
  },
  {
   "cell_type": "code",
   "execution_count": null,
   "metadata": {},
   "outputs": [],
   "source": [
    "y_slider = W.FloatSlider(description=\"Charge\",  min=-200, value=0, max=200)\n",
    "T.dlink((y_slider, \"value\"), (y, \"y\"))\n",
    "\n",
    "y_slider"
   ]
  },
  {
   "cell_type": "code",
   "execution_count": null,
   "metadata": {},
   "outputs": [],
   "source": [
    "force_link = F.LinkForce()\n",
    "force_charge = F.ManyBodyForce()\n",
    "force_center = F.CenterForce(z=2000)\n",
    "\n",
    "sim_forces = F.GraphForcesBehavior(\n",
    "    forces={\n",
    "        \"link\": force_link,\n",
    "        \"charge\": force_charge,\n",
    "        \"center\": force_center,\n",
    "        \"radial\": None,\n",
    "    }\n",
    ")\n",
    "fg.behaviors = [sim_forces]"
   ]
  }
 ],
 "metadata": {
  "kernelspec": {
   "display_name": "Python 3 (ipykernel)",
   "language": "python",
   "name": "python3"
  },
  "language_info": {
   "codemirror_mode": {
    "name": "ipython",
    "version": 3
   },
   "file_extension": ".py",
   "mimetype": "text/x-python",
   "name": "python",
   "nbconvert_exporter": "python",
   "pygments_lexer": "ipython3",
   "version": "3.11.0"
  }
 },
 "nbformat": 4,
 "nbformat_minor": 4
}
