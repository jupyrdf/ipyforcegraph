{
 "cells": [
  {
   "cell_type": "markdown",
   "id": "ed1f7448-3cea-449d-bd51-260bcb86fe79",
   "metadata": {},
   "source": [
    "## Dodo App\n",
    "\n",
    "This notebook shows how to use [importnb](https://github.com/deathbeds/importnb) to load\n",
    "[another notebook](./DodoSource.ipynb) as the backend for a user-facing app. Run the\n",
    "cell below to see the app."
   ]
  },
  {
   "cell_type": "code",
   "execution_count": null,
   "id": "dbdee89a-ebaa-4c4e-97f5-072c9fcc67f8",
   "metadata": {
    "tags": []
   },
   "outputs": [],
   "source": [
    "if __name__ == \"__main__\" and \"pyodide\" in __import__(\"sys\").modules:\n",
    "    %pip install -q -r requirements-dodo.txt\n",
    "\n",
    "with __import__(\"importnb\").Notebook():\n",
    "    import DodoSource as D\n",
    "\n",
    "app = D.show_app(\"main\")"
   ]
  }
 ],
 "metadata": {
  "kernelspec": {
   "display_name": "Python 3 (ipykernel)",
   "language": "python",
   "name": "python3"
  },
  "language_info": {
   "codemirror_mode": {
    "name": "ipython",
    "version": 3
   },
   "file_extension": ".py",
   "mimetype": "text/x-python",
   "name": "python",
   "nbconvert_exporter": "python",
   "pygments_lexer": "ipython3",
   "version": "3.11.4"
  }
 },
 "nbformat": 4,
 "nbformat_minor": 5
}
