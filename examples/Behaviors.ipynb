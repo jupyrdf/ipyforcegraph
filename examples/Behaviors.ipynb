{
 "cells": [
  {
   "cell_type": "markdown",
   "id": "e23aa429-051e-41d0-ac32-c39124cebbdd",
   "metadata": {},
   "source": [
    "# 👟 Behaviors"
   ]
  },
  {
   "cell_type": "code",
   "execution_count": null,
   "id": "a6283c28-99f4-48d0-aa66-6b0e6366f881",
   "metadata": {},
   "outputs": [],
   "source": [
    "if __name__ == \"__main__\":\n",
    "    %pip install -q -r requirements.txt"
   ]
  },
  {
   "cell_type": "code",
   "execution_count": null,
   "id": "9f3f85fe-a0a9-4086-992e-2ca1552f07b8",
   "metadata": {},
   "outputs": [],
   "source": [
    "import ipywidgets as W\n",
    "import traitlets as T"
   ]
  },
  {
   "cell_type": "code",
   "execution_count": null,
   "id": "38280a14-ef4b-451b-be64-cf541cb254e1",
   "metadata": {},
   "outputs": [],
   "source": [
    "with __import__(\"importnb\").Notebook():\n",
    "    from _index import make_a_simple_example"
   ]
  },
  {
   "cell_type": "markdown",
   "id": "833c749b-8ba2-4db7-8bfc-3bd3a2cc969f",
   "metadata": {},
   "source": [
    "```{hint}\n",
    "After rendering the cell below, select _Create New View For Output_ from the output's right-click menu to see more things added\n",
    "```"
   ]
  },
  {
   "cell_type": "code",
   "execution_count": null,
   "id": "a2532791-3a00-4715-ae2d-1b66ea88758f",
   "metadata": {
    "tags": []
   },
   "outputs": [],
   "source": [
    "if __name__ == \"__main__\":\n",
    "    fg, box = make_a_simple_example()\n",
    "    display(box)"
   ]
  },
  {
   "cell_type": "markdown",
   "id": "cccd2fcb-4b03-403c-8371-6cc51bd984c2",
   "metadata": {},
   "source": [
    "## `NodeSelection`\n",
    "\n",
    "The `NodeSelection` behavior allows for selecting one or more nodes from the browser, or\n",
    "updating from the kernel."
   ]
  },
  {
   "cell_type": "code",
   "execution_count": null,
   "id": "ae7d15a9-2a6e-476c-909e-e28e4d9809cd",
   "metadata": {},
   "outputs": [],
   "source": [
    "from ipyforcegraph.behaviors import NodeSelection\n",
    "\n",
    "\n",
    "def add_node_selection(fg=None, box=None):\n",
    "    if fg is None:\n",
    "        fg, box = make_a_simple_example()\n",
    "    selection = NodeSelection()\n",
    "    fg.behaviors = [selection]\n",
    "    ui_selection = W.TagsInput(\n",
    "        placeholder=\"select some nodes\",\n",
    "        description=\"selected\",\n",
    "        allowed_tags=sorted(fg.source.nodes.id),\n",
    "        layout=dict(max_width=\"500px\"),\n",
    "    )\n",
    "    T.link((selection, \"selected\"), (ui_selection, \"value\"))\n",
    "    box.children[1].children += (ui_selection,)\n",
    "    return fg, box"
   ]
  },
  {
   "cell_type": "code",
   "execution_count": null,
   "id": "d4de87e4-6c4f-43c2-9802-bef3d4e68b48",
   "metadata": {},
   "outputs": [],
   "source": [
    "if __name__ == \"__main__\":\n",
    "    add_node_selection(fg, box)\n",
    "    display(box)"
   ]
  },
  {
   "cell_type": "markdown",
   "id": "4cb62bb8-b122-4e5d-b8fb-04bab2c127df",
   "metadata": {},
   "source": [
    "```{hint}\n",
    "Note that the nodes changed colors. Click a node to select it, or use <kbd>ctrl</kbd> or <kbd>shift</kbd> to select multiple nodes.\n",
    "```"
   ]
  },
  {
   "cell_type": "markdown",
   "id": "615dba57-a08f-45a4-bd60-5d04519c5075",
   "metadata": {},
   "source": [
    "The selection is handed back from the client, and can be used with other widgets."
   ]
  },
  {
   "cell_type": "markdown",
   "id": "96990557-2450-4600-889e-d6e19fa72909",
   "metadata": {},
   "source": [
    "## `NodeLabels`\n",
    "\n",
    "Node labels can be revealed when hovering over the node. By default the node's `id`\n",
    "column will be used."
   ]
  },
  {
   "cell_type": "code",
   "execution_count": null,
   "id": "478848d8-a8cd-4aed-a6cb-314464cbaea5",
   "metadata": {},
   "outputs": [],
   "source": [
    "from ipyforcegraph.behaviors import NodeLabels\n",
    "\n",
    "\n",
    "def add_node_labels(fg=None, box=None):\n",
    "    node_labels = NodeLabels()\n",
    "    if fg is None:\n",
    "        fg, box = make_a_simple_example()\n",
    "    fg.behaviors += (node_labels,)"
   ]
  },
  {
   "cell_type": "code",
   "execution_count": null,
   "id": "4a1e78bb-e851-4c25-a15b-aa2bc40051e3",
   "metadata": {},
   "outputs": [],
   "source": [
    "if __name__ == \"__main__\":\n",
    "    add_node_labels(fg, box)\n",
    "    display(box)"
   ]
  }
 ],
 "metadata": {
  "kernelspec": {
   "display_name": "Python 3 (ipykernel)",
   "language": "python",
   "name": "python3"
  },
  "language_info": {
   "codemirror_mode": {
    "name": "ipython",
    "version": 3
   },
   "file_extension": ".py",
   "mimetype": "text/x-python",
   "name": "python",
   "nbconvert_exporter": "python",
   "pygments_lexer": "ipython3",
   "version": "3.11.0"
  }
 },
 "nbformat": 4,
 "nbformat_minor": 5
}
