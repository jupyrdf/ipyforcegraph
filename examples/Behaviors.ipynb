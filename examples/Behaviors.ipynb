{
 "cells": [
  {
   "cell_type": "markdown",
   "id": "e23aa429-051e-41d0-ac32-c39124cebbdd",
   "metadata": {},
   "source": [
    "# 👟 Behaviors\n",
    "\n",
    "Behaviors extend the appearance and interactivity of the [2D](#2D-Graph) and\n",
    "[3D](./3D.ipynb) graphs. These can affect [nodes](#Node-Behaviors),\n",
    "[links](#Link-Behaviors) or certain aspects of the graph itself."
   ]
  },
  {
   "cell_type": "code",
   "execution_count": null,
   "id": "a6283c28-99f4-48d0-aa66-6b0e6366f881",
   "metadata": {},
   "outputs": [],
   "source": [
    "if __name__ == \"__main__\" and \"pyodide\" in __import__(\"sys\").modules:\n",
    "    %pip install -q -r requirements.txt"
   ]
  },
  {
   "cell_type": "code",
   "execution_count": null,
   "id": "9f3f85fe-a0a9-4086-992e-2ca1552f07b8",
   "metadata": {},
   "outputs": [],
   "source": [
    "import random\n",
    "\n",
    "import ipywidgets as W\n",
    "import traitlets as T\n",
    "\n",
    "import ipyforcegraph.behaviors as B"
   ]
  },
  {
   "cell_type": "code",
   "execution_count": null,
   "id": "38280a14-ef4b-451b-be64-cf541cb254e1",
   "metadata": {},
   "outputs": [],
   "source": [
    "with __import__(\"importnb\").Notebook():\n",
    "    import Utils as U\n",
    "    from _index import make_a_simple_example"
   ]
  },
  {
   "cell_type": "markdown",
   "id": "833c749b-8ba2-4db7-8bfc-3bd3a2cc969f",
   "metadata": {},
   "source": [
    "## 2D Graph\n",
    "\n",
    "```{hint}\n",
    "After rendering the cell below, select _Create New View For Output_ from the output's right-click menu to see more things added\n",
    "```"
   ]
  },
  {
   "cell_type": "code",
   "execution_count": null,
   "id": "a2532791-3a00-4715-ae2d-1b66ea88758f",
   "metadata": {
    "tags": []
   },
   "outputs": [],
   "source": [
    "if __name__ == \"__main__\":\n",
    "    fg, box = make_a_simple_example()\n",
    "    display(box)"
   ]
  },
  {
   "cell_type": "markdown",
   "id": "3367b571-0ee6-4a47-9486-6b30743dde02",
   "metadata": {},
   "source": [
    "## Graph Behaviors"
   ]
  },
  {
   "cell_type": "markdown",
   "id": "ee45a1d4-1f69-4664-a50b-97206820914e",
   "metadata": {},
   "source": [
    "### `ImageCapture`\n",
    "\n",
    "The current image can be streamed back to the kernel."
   ]
  },
  {
   "cell_type": "code",
   "execution_count": null,
   "id": "fffa0595-34aa-4a5c-9991-d808906d992b",
   "metadata": {},
   "outputs": [],
   "source": [
    "def add_graph_image(fg, box):\n",
    "    behavior = B.GraphImage()\n",
    "    capturing = W.ToggleButton(description=\"capturing\")\n",
    "    frame_count = W.IntSlider()\n",
    "    frames = W.HBox()\n",
    "    ui = U.make_a_collapsible_picker(\n",
    "        \"graph: image\",\n",
    "        children={\n",
    "            \"capture\": [\n",
    "                W.VBox(\n",
    "                    [\n",
    "                        capturing,\n",
    "                        frame_count,\n",
    "                        frames,\n",
    "                    ]\n",
    "                )\n",
    "            ]\n",
    "        },\n",
    "    )\n",
    "    T.link((behavior, \"capturing\"), (capturing, \"value\"))\n",
    "    T.link((behavior, \"frame_count\"), (frame_count, \"value\"))\n",
    "    T.dlink((behavior, \"frames\"), (frames, \"children\"))\n",
    "    box.behaviors = {**box.behaviors, \"graph_image\": behavior}\n",
    "    box.graph_ui = {**box.graph_ui, \"graph_image\": ui}\n",
    "    return fg, box"
   ]
  },
  {
   "cell_type": "code",
   "execution_count": null,
   "id": "25de6e44-8266-425e-8c54-b473bc42972c",
   "metadata": {},
   "outputs": [],
   "source": [
    "if __name__ == \"__main__\":\n",
    "    add_graph_image(fg, box)"
   ]
  },
  {
   "cell_type": "markdown",
   "id": "a44b8a8e-16ce-4ee4-8dcf-f2976f9b84dc",
   "metadata": {},
   "source": [
    "## Node Behaviors"
   ]
  },
  {
   "cell_type": "markdown",
   "id": "cccd2fcb-4b03-403c-8371-6cc51bd984c2",
   "metadata": {},
   "source": [
    "### `NodeSelection`\n",
    "\n",
    "The `NodeSelection` behavior allows for selecting one or more nodes from the browser, or\n",
    "updating from the kernel."
   ]
  },
  {
   "cell_type": "code",
   "execution_count": null,
   "id": "ae7d15a9-2a6e-476c-909e-e28e4d9809cd",
   "metadata": {},
   "outputs": [],
   "source": [
    "def add_node_selection(fg, box):\n",
    "    selection = B.NodeSelection()\n",
    "    ui_selection = W.TagsInput(\n",
    "        placeholder=\"select some nodes\",\n",
    "        allowed_tags=sorted(fg.source.nodes.id),\n",
    "    )\n",
    "    box.behaviors = {**box.behaviors, \"node_selection\": selection}\n",
    "    box.node_ui = {**box.node_ui, \"node_selection\": ui_selection}\n",
    "    T.link((selection, \"selected\"), (ui_selection, \"value\"))\n",
    "    return fg, box"
   ]
  },
  {
   "cell_type": "code",
   "execution_count": null,
   "id": "d4de87e4-6c4f-43c2-9802-bef3d4e68b48",
   "metadata": {},
   "outputs": [],
   "source": [
    "if __name__ == \"__main__\":\n",
    "    add_node_selection(fg, box)"
   ]
  },
  {
   "cell_type": "markdown",
   "id": "4cb62bb8-b122-4e5d-b8fb-04bab2c127df",
   "metadata": {},
   "source": [
    "```{hint}\n",
    "Note that the nodes changed colors. Click a node to select it, or use <kbd>ctrl</kbd> or <kbd>shift</kbd> to select multiple nodes.\n",
    "```"
   ]
  },
  {
   "cell_type": "markdown",
   "id": "615dba57-a08f-45a4-bd60-5d04519c5075",
   "metadata": {},
   "source": [
    "The selection is handed back from the client, and can be used with other widgets."
   ]
  },
  {
   "cell_type": "markdown",
   "id": "fb132130-1b45-4017-9738-74adadb1a6e2",
   "metadata": {},
   "source": [
    "### `NodeColors`\n",
    "\n",
    "Node colors can be set based on a column value. By default, a column named `color` will\n",
    "be used. Ensure `NodeColors` is in `behaviors` _after_ e.g. `NodeSelection`."
   ]
  },
  {
   "cell_type": "code",
   "execution_count": null,
   "id": "eb19f211-fdb8-4c81-99a6-d8aed5c40b4f",
   "metadata": {},
   "outputs": [],
   "source": [
    "from ipyforcegraph.behaviors import NodeColors\n",
    "\n",
    "\n",
    "def add_node_colors(fg=None, box=None, column_name=\"color\"):\n",
    "    if fg is None:\n",
    "        fg, box = make_a_simple_example()\n",
    "\n",
    "    colors = NodeColors(column_name=column_name)\n",
    "\n",
    "    if column_name not in fg.source.nodes:\n",
    "        U.make_random_color_series(fg, \"nodes\", column_name)\n",
    "    ui_color_column = W.Dropdown(\n",
    "        options=list(fg.source.nodes.columns), value=column_name\n",
    "    )\n",
    "    ui_color_template = W.Textarea(layout=dict(max_width=\"100%\"))\n",
    "    ui_color_template_enabled = W.Checkbox(description=\"enabled?\")\n",
    "    T.link((ui_color_column, \"value\"), (colors, \"column_name\"))\n",
    "    T.dlink(\n",
    "        (ui_color_template, \"value\"),\n",
    "        (colors, \"template\"),\n",
    "        lambda x: x if ui_color_template_enabled.value else \"\",\n",
    "    )\n",
    "\n",
    "    ui_colors = U.make_a_collapsible_picker(\n",
    "        \"node: color\",\n",
    "        {\n",
    "            \"off\": [],\n",
    "            \"column\": [ui_color_column],\n",
    "            \"template\": [W.VBox([ui_color_template_enabled, ui_color_template])],\n",
    "        },\n",
    "    )\n",
    "    box.node_ui = {**box.node_ui, \"color\": ui_colors}\n",
    "    U.make_link_dropdown_responsive(colors, \"node: color\", ui_colors, box)\n",
    "\n",
    "    return fg, box"
   ]
  },
  {
   "cell_type": "code",
   "execution_count": null,
   "id": "cacfd7e9-905d-4854-8403-5fc9d234bc42",
   "metadata": {},
   "outputs": [],
   "source": [
    "if __name__ == \"__main__\":\n",
    "    add_node_colors(fg, box)"
   ]
  },
  {
   "cell_type": "markdown",
   "id": "7d32ebad-18e5-4b1f-9b39-479193a1a58f",
   "metadata": {},
   "source": [
    "#### Color Templates\n",
    "\n",
    "`NodeColors` support either a column name, and for the most part, calculating the values\n",
    "derived for these as data frames is likely the best choice.\n",
    "\n",
    "However, the`.template` traitlet, which take the form of\n",
    "[nunjucks templates](https://mozilla.github.io/nunjucks/templating.html) allows for\n",
    "calculating dynamic values on the client.\n",
    "\n",
    "The syntax is intentionally very similar to\n",
    "[jinja2](https://jinja.palletsprojects.com/en/3.1.x/templates).\n",
    "\n",
    "Inside of a template, one can use:\n",
    "\n",
    "- `node`\n",
    "  - this will have all of the named columns available to it\n",
    "- `graphData`\n",
    "  - `nodes`\n",
    "  - `links`\n",
    "    - `source` and `target` as realized nodes\n",
    "\n",
    "With these, and basic template tools, one can generate all kinds of interesting effects.\n",
    "For the example data above, try these color templates:\n",
    "\n",
    "- color by group\n",
    "  > ```python\n",
    "  > {{ [\"red\", \"yellow\", \"blue\", \"orange\", \"purple\", \"magenta\"][node.group] }}\n",
    "  > ```\n",
    "- color by out-degree\n",
    "  > ```python\n",
    "  > {% set n = 0 %}\n",
    "  > {% for link in graphData.links %}\n",
    "  >   {% if link.source.id == node.id %}{% set n = n + 1 %}{% endif %}\n",
    "  > {% endfor %}\n",
    "  > {% set c = 256 * (7-n) / 7 %}\n",
    "  > rgb({{ c }},0,0)\n",
    "  > ```"
   ]
  },
  {
   "cell_type": "markdown",
   "id": "96990557-2450-4600-889e-d6e19fa72909",
   "metadata": {},
   "source": [
    "### `NodeLabels`\n",
    "\n",
    "Node labels can be revealed when hovering over the node. By default the node's `id`\n",
    "column will be used."
   ]
  },
  {
   "cell_type": "code",
   "execution_count": null,
   "id": "478848d8-a8cd-4aed-a6cb-314464cbaea5",
   "metadata": {},
   "outputs": [],
   "source": [
    "from ipyforcegraph.behaviors import NodeLabels\n",
    "\n",
    "\n",
    "def add_node_labels(fg, box, column_name=\"id\"):\n",
    "    behavior = NodeLabels()\n",
    "    ui_label_column = W.Dropdown(\n",
    "        options=list(fg.source.nodes.columns), value=column_name\n",
    "    )\n",
    "    ui_label_template = W.Textarea()\n",
    "    ui_label_template_enabled = W.Checkbox(description=\"enabled?\")\n",
    "    T.link((ui_label_column, \"value\"), (behavior, \"column_name\"))\n",
    "    T.dlink(\n",
    "        (ui_label_template, \"value\"),\n",
    "        (behavior, \"template\"),\n",
    "        lambda x: x if ui_label_template_enabled.value else \"\",\n",
    "    )\n",
    "    ui = U.make_a_collapsible_picker(\n",
    "        \"node: label\",\n",
    "        {\n",
    "            \"off\": [],\n",
    "            \"column\": [ui_label_column],\n",
    "            \"template\": [W.VBox([ui_label_template_enabled, ui_label_template])],\n",
    "        },\n",
    "    )\n",
    "    label = \"node: labels\"\n",
    "    box.node_ui = {**box.node_ui, label: ui}\n",
    "    U.make_link_dropdown_responsive(behavior, label, ui, box)\n",
    "    return fg, box"
   ]
  },
  {
   "cell_type": "code",
   "execution_count": null,
   "id": "4a1e78bb-e851-4c25-a15b-aa2bc40051e3",
   "metadata": {},
   "outputs": [],
   "source": [
    "if __name__ == \"__main__\":\n",
    "    add_node_labels(fg, box)"
   ]
  },
  {
   "cell_type": "markdown",
   "id": "e5ec4f5c-931b-44a4-9744-fb5a7b733511",
   "metadata": {},
   "source": [
    "#### Label templates\n",
    "\n",
    "Like `NodeColors`, `NodeLabels` also accepts [templates](#color-templates). The\n",
    "resulting value may be plain strings or HTML.\n",
    "\n",
    "Here are some examples, again for the example data:\n",
    "\n",
    "- just a header\n",
    "  > ```html\n",
    "  > <h1>{{ node.id }}</h1>\n",
    "  > ```\n",
    "- a table\n",
    "  > ```html\n",
    "  > <table>\n",
    "  >  <tr><th>id</th><th>group</th></td>\n",
    "  >  {% for link in graphData.links %}\n",
    "  >  {% if link.source.id == node.id %}\n",
    "  >  <tr><td>{{ link.target.id }}</td><td>{{ link.target.group }}</td>\n",
    "  >  {% endif %}\n",
    "  >  {% endfor %}\n",
    "  > </table>\n",
    "  > ```"
   ]
  },
  {
   "cell_type": "markdown",
   "id": "03de4849-7f41-477d-843e-cce59a20d4a6",
   "metadata": {},
   "source": [
    "## Link Behaviors"
   ]
  },
  {
   "cell_type": "markdown",
   "id": "5ecec943-13b8-44e8-b207-6c4e498f81e8",
   "metadata": {},
   "source": [
    "### `LinkColors`\n",
    "\n",
    "Link colors can also be configured by column name or template."
   ]
  },
  {
   "cell_type": "code",
   "execution_count": null,
   "id": "cbb867b0-3f97-4b2c-bdc7-80d799ebb87a",
   "metadata": {},
   "outputs": [],
   "source": [
    "add_link_colors = U.make_link_behavior_with_ui(\n",
    "    B.LinkColors, \"link: color\", \"color\", True\n",
    ")"
   ]
  },
  {
   "cell_type": "code",
   "execution_count": null,
   "id": "f16a8315-9e94-469f-aa23-19be9a1e5a74",
   "metadata": {},
   "outputs": [],
   "source": [
    "if __name__ == \"__main__\":\n",
    "    add_link_colors(fg, box)"
   ]
  },
  {
   "cell_type": "markdown",
   "id": "a832686d-3178-4a68-b290-c1478cd3a25d",
   "metadata": {},
   "source": [
    "### `LinkLabels`\n",
    "\n",
    "Link labels are revealed when hovered, and accept `column_name` or `template`."
   ]
  },
  {
   "cell_type": "code",
   "execution_count": null,
   "id": "8ed938f8-eb48-4b28-802b-cdd43e4191b6",
   "metadata": {},
   "outputs": [],
   "source": [
    "add_link_labels = U.make_link_behavior_with_ui(B.LinkLabels, \"link: label\", \"value\")\n",
    "\n",
    "if __name__ == \"__main__\":\n",
    "    add_link_labels(fg, box)"
   ]
  },
  {
   "cell_type": "markdown",
   "id": "b0f76652-37e2-4547-a265-3dd5c4630b58",
   "metadata": {},
   "source": [
    "### `LinkDirectionalArrowColor`"
   ]
  },
  {
   "cell_type": "code",
   "execution_count": null,
   "id": "2435faa8-d542-46b5-b115-11156f9b6c46",
   "metadata": {},
   "outputs": [],
   "source": [
    "add_link_directional_arrow_color = U.make_link_behavior_with_ui(\n",
    "    B.LinkDirectionalArrowColor, \"link: directional arrow color\", \"color\", is_color=True\n",
    ")\n",
    "\n",
    "if __name__ == \"__main__\":\n",
    "    add_link_directional_arrow_color(fg, box)"
   ]
  },
  {
   "cell_type": "markdown",
   "id": "3a13a031-1968-4459-8bf8-90c8e897dedf",
   "metadata": {},
   "source": [
    "### `LinkDirectionalArrowLength`"
   ]
  },
  {
   "cell_type": "code",
   "execution_count": null,
   "id": "6e50a322-cbf6-4c9b-a59c-ec18d6285bb6",
   "metadata": {},
   "outputs": [],
   "source": [
    "add_link_directional_arrow_length = U.make_link_behavior_with_ui(\n",
    "    B.LinkDirectionalArrowLength, \"link: directional arrow length\", \"value\"\n",
    ")\n",
    "\n",
    "if __name__ == \"__main__\":\n",
    "    add_link_directional_arrow_length(fg, box)"
   ]
  },
  {
   "cell_type": "markdown",
   "id": "61a5f29e-d2a0-40a9-bcfe-d721b2278ae4",
   "metadata": {},
   "source": [
    "### `LinkDirectionalArrowRelPos`"
   ]
  },
  {
   "cell_type": "code",
   "execution_count": null,
   "id": "b0cc963f-dd99-40cd-9355-7bcb8a52033e",
   "metadata": {},
   "outputs": [],
   "source": [
    "add_link_directional_arrow_rel_pos = U.make_link_behavior_with_ui(\n",
    "    B.LinkDirectionalArrowRelPos, \"link: directional arrow relative position\", \"value\"\n",
    ")\n",
    "\n",
    "if __name__ == \"__main__\":\n",
    "    add_link_directional_arrow_rel_pos(fg, box)"
   ]
  },
  {
   "cell_type": "markdown",
   "id": "36668d7f-9912-4ddc-9471-4174b866b419",
   "metadata": {},
   "source": [
    "### `LinkDirectionalParticleColor`"
   ]
  },
  {
   "cell_type": "code",
   "execution_count": null,
   "id": "2839dfdc-80f8-481c-8571-9c66a457b850",
   "metadata": {},
   "outputs": [],
   "source": [
    "add_link_directional_particle_color = U.make_link_behavior_with_ui(\n",
    "    B.LinkDirectionalParticleColor,\n",
    "    \"link: directional particle color\",\n",
    "    \"color\",\n",
    "    is_color=True,\n",
    ")\n",
    "\n",
    "if __name__ == \"__main__\":\n",
    "    add_link_directional_particle_color(fg, box)"
   ]
  },
  {
   "cell_type": "markdown",
   "id": "5b47d1e6-88fd-4e94-bff2-fcd2b0f3a52a",
   "metadata": {},
   "source": [
    "### `LinkDirectionalParticleSpeed`"
   ]
  },
  {
   "cell_type": "code",
   "execution_count": null,
   "id": "fb5713e5-47db-4b76-9f17-728f436d4084",
   "metadata": {},
   "outputs": [],
   "source": [
    "add_link_directional_particle_speed = U.make_link_behavior_with_ui(\n",
    "    B.LinkDirectionalParticleSpeed, \"link: directional particle speed\", \"value\"\n",
    ")\n",
    "\n",
    "if __name__ == \"__main__\":\n",
    "    add_link_directional_particle_speed(fg, box)"
   ]
  },
  {
   "cell_type": "markdown",
   "id": "69a92aa8-2537-4a0d-a4a5-7108e6ce7e8d",
   "metadata": {},
   "source": [
    "### `LinkDirectionalParticleWidth`"
   ]
  },
  {
   "cell_type": "code",
   "execution_count": null,
   "id": "23d53c2f-8ede-4e5b-a504-6fb25ccc3266",
   "metadata": {},
   "outputs": [],
   "source": [
    "add_link_directional_particle_width = U.make_link_behavior_with_ui(\n",
    "    B.LinkDirectionalParticleWidth, \"link: directional particle width\", \"value\"\n",
    ")\n",
    "\n",
    "if __name__ == \"__main__\":\n",
    "    add_link_directional_particle_width(fg, box)"
   ]
  },
  {
   "cell_type": "markdown",
   "id": "d4a5c279-ee46-4f6d-911e-de779fc162ff",
   "metadata": {},
   "source": [
    "### `LinkDirectionalParticles`"
   ]
  },
  {
   "cell_type": "code",
   "execution_count": null,
   "id": "f1e35a6e-3f23-47ef-b8ca-196c7c23feab",
   "metadata": {},
   "outputs": [],
   "source": [
    "add_link_directional_particles = U.make_link_behavior_with_ui(\n",
    "    B.LinkDirectionalParticles, \"link: directional particles\", \"value\"\n",
    ")\n",
    "\n",
    "if __name__ == \"__main__\":\n",
    "    add_link_directional_particles(fg, box)"
   ]
  }
 ],
 "metadata": {
  "kernelspec": {
   "display_name": "Python 3 (ipykernel)",
   "language": "python",
   "name": "python3"
  },
  "language_info": {
   "codemirror_mode": {
    "name": "ipython",
    "version": 3
   },
   "file_extension": ".py",
   "mimetype": "text/x-python",
   "name": "python",
   "nbconvert_exporter": "python",
   "pygments_lexer": "ipython3",
   "version": "3.11.0"
  }
 },
 "nbformat": 4,
 "nbformat_minor": 5
}
