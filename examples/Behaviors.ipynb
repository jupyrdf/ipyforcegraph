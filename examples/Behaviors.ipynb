{
 "cells": [
  {
   "cell_type": "markdown",
   "id": "e23aa429-051e-41d0-ac32-c39124cebbdd",
   "metadata": {},
   "source": [
    "# 👟 Behaviors"
   ]
  },
  {
   "cell_type": "code",
   "execution_count": null,
   "id": "a6283c28-99f4-48d0-aa66-6b0e6366f881",
   "metadata": {},
   "outputs": [],
   "source": [
    "if __name__ == \"__main__\":\n",
    "    %pip install -q -r requirements.txt"
   ]
  },
  {
   "cell_type": "code",
   "execution_count": null,
   "id": "2ed72b41-c238-48d4-add1-dd918d70a646",
   "metadata": {},
   "outputs": [],
   "source": [
    "import random\n",
    "\n",
    "import ipywidgets as W\n",
    "import networkx as nx\n",
    "import pandas as pd\n",
    "\n",
    "from ipyforcegraph.behaviors import NodeLabels, NodeSelection\n",
    "from ipyforcegraph.forcegraph import ForceGraph"
   ]
  },
  {
   "cell_type": "code",
   "execution_count": null,
   "id": "ae7d15a9-2a6e-476c-909e-e28e4d9809cd",
   "metadata": {},
   "outputs": [],
   "source": [
    "selection = NodeSelection()"
   ]
  },
  {
   "cell_type": "code",
   "execution_count": null,
   "id": "478848d8-a8cd-4aed-a6cb-314464cbaea5",
   "metadata": {},
   "outputs": [],
   "source": [
    "labels = NodeLabels()"
   ]
  },
  {
   "cell_type": "code",
   "execution_count": null,
   "id": "5aed228a-cfae-452d-bdd3-cb3437dac802",
   "metadata": {
    "tags": []
   },
   "outputs": [],
   "source": [
    "fg = ForceGraph(behaviors=[labels, selection])\n",
    "fg"
   ]
  },
  {
   "cell_type": "code",
   "execution_count": null,
   "id": "14d08341-d9bc-4fcb-8574-5fb268afa1e2",
   "metadata": {},
   "outputs": [],
   "source": [
    "atlas = nx.graph_atlas_g()"
   ]
  },
  {
   "cell_type": "code",
   "execution_count": null,
   "id": "85c983b4-8761-4838-a790-e23038b5eb77",
   "metadata": {},
   "outputs": [],
   "source": [
    "def update_graph(\n",
    "    i: int = None,\n",
    "    selected_color=None,\n",
    "    not_selected_color=None,\n",
    ") -> None:\n",
    "    G = atlas[i if i is not None else random.randint(0, len(atlas))]\n",
    "    nodes = list(G.nodes)\n",
    "    fg.source.nodes = pd.DataFrame([{\"label\": f\"Node {i}\"} for i in nodes])\n",
    "    fg.source.links = pd.DataFrame(\n",
    "        {\"source\": nodes.index(source), \"target\": nodes.index(target)}\n",
    "        for source, target in G.edges\n",
    "    )\n",
    "    selection.selected_color = selected_color or \"#B3A369\"\n",
    "    selection.not_selected_color = not_selected_color or \"#003057\"\n",
    "\n",
    "\n",
    "update_graph()"
   ]
  },
  {
   "cell_type": "code",
   "execution_count": null,
   "id": "ca340789-9b0a-4d27-91fa-520dda665b22",
   "metadata": {},
   "outputs": [],
   "source": [
    "@W.interact(\n",
    "    selected_color=W.ColorPicker(value=\"#B3A369\", description=\"selected\"),\n",
    "    not_selected_color=W.ColorPicker(value=\"#003057\", description=\"not selected\"),\n",
    ")\n",
    "def g(\n",
    "    selected_color,\n",
    "    not_selected_color,\n",
    "    i=(0, len(atlas) - 1),\n",
    "):\n",
    "    update_graph(i, selected_color)"
   ]
  },
  {
   "cell_type": "markdown",
   "id": "5062cc2a-950c-4396-84cb-92e609def322",
   "metadata": {},
   "source": [
    "The selected nodes can be set from the kernel."
   ]
  },
  {
   "cell_type": "code",
   "execution_count": null,
   "id": "c823b7ba-e65f-40e9-af34-b3d37d040445",
   "metadata": {},
   "outputs": [],
   "source": [
    "selection.selected = [1, 2, 3]"
   ]
  }
 ],
 "metadata": {
  "kernelspec": {
   "display_name": "Python 3 (ipykernel)",
   "language": "python",
   "name": "python3"
  },
  "language_info": {
   "codemirror_mode": {
    "name": "ipython",
    "version": 3
   },
   "file_extension": ".py",
   "mimetype": "text/x-python",
   "name": "python",
   "nbconvert_exporter": "python",
   "pygments_lexer": "ipython3",
   "version": "3.11.0"
  }
 },
 "nbformat": 4,
 "nbformat_minor": 5
}
