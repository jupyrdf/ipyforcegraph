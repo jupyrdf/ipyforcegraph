{
 "cells": [
  {
   "cell_type": "markdown",
   "id": "e23aa429-051e-41d0-ac32-c39124cebbdd",
   "metadata": {},
   "source": [
    "# 👟 Behaviors\n",
    "\n",
    "Behaviors extend the appearance and interactivity of the [2D](#2D-Graph) and\n",
    "[3D](./3D.ipynb) graphs. These can affect [nodes](#Node-Behaviors),\n",
    "[links](#Link-Behaviors) or certain aspects of the graph itself."
   ]
  },
  {
   "cell_type": "code",
   "execution_count": null,
   "id": "a6283c28-99f4-48d0-aa66-6b0e6366f881",
   "metadata": {
    "tags": []
   },
   "outputs": [],
   "source": [
    "if __name__ == \"__main__\" and \"pyodide\" in __import__(\"sys\").modules:\n",
    "    %pip install -q -r requirements.txt"
   ]
  },
  {
   "cell_type": "code",
   "execution_count": null,
   "id": "9f3f85fe-a0a9-4086-992e-2ca1552f07b8",
   "metadata": {
    "tags": []
   },
   "outputs": [],
   "source": [
    "import random\n",
    "import json\n",
    "from pathlib import Path\n",
    "\n",
    "import ipywidgets as W\n",
    "import traitlets as T\n",
    "\n",
    "import ipyforcegraph.behaviors as B"
   ]
  },
  {
   "cell_type": "code",
   "execution_count": null,
   "id": "38280a14-ef4b-451b-be64-cf541cb254e1",
   "metadata": {
    "tags": []
   },
   "outputs": [],
   "source": [
    "with __import__(\"importnb\").Notebook():\n",
    "    import Utils as U"
   ]
  },
  {
   "cell_type": "markdown",
   "id": "833c749b-8ba2-4db7-8bfc-3bd3a2cc969f",
   "metadata": {},
   "source": [
    "## 2D Graph\n",
    "\n",
    "> 💡 After rendering the cell below, select _Create New View For Output_ from the\n",
    "> output's right-click menu to see more things added"
   ]
  },
  {
   "cell_type": "code",
   "execution_count": null,
   "id": "a2532791-3a00-4715-ae2d-1b66ea88758f",
   "metadata": {
    "tags": []
   },
   "outputs": [],
   "source": [
    "if __name__ == \"__main__\":\n",
    "    fg, box = U.make_a_demo()\n",
    "    box.description = \"Behavior Demo\"\n",
    "    display(box)"
   ]
  },
  {
   "cell_type": "markdown",
   "id": "3ecf17c6-b342-40ee-96ff-47c49c2d35ea",
   "metadata": {},
   "source": [
    "> 💡 This demo will be incrementally updated: try _Create New View For Output_ from the\n",
    "> context menu to watch."
   ]
  },
  {
   "cell_type": "markdown",
   "id": "f6b7f35f-7c46-4966-a41c-635d393490a7",
   "metadata": {},
   "source": [
    "## Data\n",
    "\n",
    "A number of datasets are provided."
   ]
  },
  {
   "cell_type": "code",
   "execution_count": null,
   "id": "b097f1f7-66b4-4cb0-ac84-9553cd6119e0",
   "metadata": {
    "tags": []
   },
   "outputs": [],
   "source": [
    "def add_dataset(fg, box):\n",
    "    from ipyforcegraph.sources.dataframe import DataFrameSource\n",
    "\n",
    "    datasets = sorted(Path(\"datasets\").glob(\"*.json\"), key=lambda d: d.stat().st_size)\n",
    "    picker = W.Select(\n",
    "        options={d.name: d for d in datasets},\n",
    "        multiple=False,\n",
    "        rows=1,\n",
    "        description=\"dataset\",\n",
    "    )\n",
    "\n",
    "    def on_dataset_changed(change):\n",
    "        old_source = fg.source\n",
    "        dataset = json.loads(picker.value.read_text(encoding=\"utf-8\"))\n",
    "        fg.source = DataFrameSource(**dataset)\n",
    "        old_source.close()\n",
    "\n",
    "    picker.observe(on_dataset_changed)\n",
    "    ui = U.make_a_collapsible_picker(f\"graph: dataset\", children={\"\": [picker]})\n",
    "    box.graph_ui = {**box.graph_ui, \"dataset\": ui}"
   ]
  },
  {
   "cell_type": "code",
   "execution_count": null,
   "id": "8fe9fb84-a9d3-4ebe-8a4b-97f54f184105",
   "metadata": {
    "tags": []
   },
   "outputs": [],
   "source": [
    "if __name__ == \"__main__\":\n",
    "    add_dataset(fg, box)"
   ]
  },
  {
   "cell_type": "markdown",
   "id": "03480b70-9d5a-44cd-8520-6eae409902d4",
   "metadata": {},
   "source": [
    "## Graph Features"
   ]
  },
  {
   "cell_type": "code",
   "execution_count": null,
   "id": "f9610cd8-6628-450f-9345-3407dacf8686",
   "metadata": {},
   "outputs": [],
   "source": [
    "features = {\n",
    "    \"default_node_color\": {\"r\": 31, \"g\": 120, \"b\": 179, \"a\": 1.0},\n",
    "    \"default_link_color\": {\"r\": 66, \"g\": 66, \"b\": 66, \"a\": 0.5},\n",
    "    \"background_color\": {\"r\": 0, \"g\": 0, \"b\": 0, \"a\": 0.0},\n",
    "}\n",
    "\n",
    "\n",
    "def add_graph_colors(fg, box):\n",
    "    for feature, default_value in features.items():\n",
    "        picker = U.make_an_rgba_picker(**default_value)\n",
    "        ui = U.make_a_collapsible_picker(\n",
    "            f\"graph: {' '.join(feature.split('_'))}\", children={\"\": [picker]}\n",
    "        )\n",
    "        T.dlink((picker, \"color\"), (fg, feature))\n",
    "        box.graph_ui = {**box.graph_ui, feature: ui}"
   ]
  },
  {
   "cell_type": "code",
   "execution_count": null,
   "id": "b2431bb8-6be5-43d8-8dc4-359ac5d3ad6d",
   "metadata": {},
   "outputs": [],
   "source": [
    "if __name__ == \"__main__\":\n",
    "    add_graph_colors(fg, box)"
   ]
  },
  {
   "cell_type": "markdown",
   "id": "3367b571-0ee6-4a47-9486-6b30743dde02",
   "metadata": {},
   "source": [
    "## Graph Behaviors"
   ]
  },
  {
   "cell_type": "markdown",
   "id": "ee45a1d4-1f69-4664-a50b-97206820914e",
   "metadata": {},
   "source": [
    "### `ImageCapture`\n",
    "\n",
    "The current image can be streamed back to the kernel."
   ]
  },
  {
   "cell_type": "code",
   "execution_count": null,
   "id": "fffa0595-34aa-4a5c-9991-d808906d992b",
   "metadata": {},
   "outputs": [],
   "source": [
    "def add_graph_image(fg, box):\n",
    "    behavior = B.GraphImage()\n",
    "    capturing = W.ToggleButton(description=\"capturing\")\n",
    "    frame_count = W.IntSlider()\n",
    "    frames = W.HBox()\n",
    "    ui = U.make_a_collapsible_picker(\n",
    "        \"graph: image\",\n",
    "        children={\n",
    "            \"capture\": [\n",
    "                W.VBox(\n",
    "                    [\n",
    "                        capturing,\n",
    "                        frame_count,\n",
    "                        frames,\n",
    "                    ]\n",
    "                )\n",
    "            ]\n",
    "        },\n",
    "    )\n",
    "    T.link((behavior, \"capturing\"), (capturing, \"value\"))\n",
    "    T.link((behavior, \"frame_count\"), (frame_count, \"value\"))\n",
    "    # T.dlink((behavior, \"frames\"), (frames, \"children\"))\n",
    "    box.behaviors = {**box.behaviors, \"graph_image\": behavior}\n",
    "    box.graph_ui = {**box.graph_ui, \"graph_image\": ui}\n",
    "    return fg, box"
   ]
  },
  {
   "cell_type": "code",
   "execution_count": null,
   "id": "25de6e44-8266-425e-8c54-b473bc42972c",
   "metadata": {},
   "outputs": [],
   "source": [
    "if __name__ == \"__main__\":\n",
    "    add_graph_image(fg, box)"
   ]
  },
  {
   "cell_type": "markdown",
   "id": "5cf41064-140b-410e-a8cd-57624439ee1a",
   "metadata": {},
   "source": [
    "### `GraphData`\n",
    "\n",
    "The current graph data can be streamed back to the kernel."
   ]
  },
  {
   "cell_type": "code",
   "execution_count": null,
   "id": "c843c0bc-c0b4-4b9c-873d-72db16a20c67",
   "metadata": {},
   "outputs": [],
   "source": [
    "def add_graph_data(fg, box):\n",
    "    behavior = B.GraphData()\n",
    "    capturing = W.ToggleButton(description=\"capturing\")\n",
    "    source_count = W.IntSlider()\n",
    "    sources = W.Text()\n",
    "    ui = U.make_a_collapsible_picker(\n",
    "        \"graph: data\",\n",
    "        children={\n",
    "            \"capture\": [\n",
    "                W.VBox(\n",
    "                    [\n",
    "                        capturing,\n",
    "                        source_count,\n",
    "                    ]\n",
    "                )\n",
    "            ]\n",
    "        },\n",
    "    )\n",
    "    T.link((behavior, \"capturing\"), (capturing, \"value\"))\n",
    "    T.link((behavior, \"source_count\"), (source_count, \"value\"))\n",
    "    box.behaviors = {**box.behaviors, \"graph_data\": behavior}\n",
    "    box.graph_ui = {**box.graph_ui, \"graph_data\": ui}\n",
    "    return fg, box"
   ]
  },
  {
   "cell_type": "code",
   "execution_count": null,
   "id": "cf9f0517-ee6f-42bf-b004-d78c70b79e40",
   "metadata": {},
   "outputs": [],
   "source": [
    "if __name__ == \"__main__\":\n",
    "    add_graph_data(fg, box)"
   ]
  },
  {
   "cell_type": "markdown",
   "id": "a44b8a8e-16ce-4ee4-8dcf-f2976f9b84dc",
   "metadata": {},
   "source": [
    "## Node Behaviors"
   ]
  },
  {
   "cell_type": "markdown",
   "id": "cccd2fcb-4b03-403c-8371-6cc51bd984c2",
   "metadata": {},
   "source": [
    "### `NodeSelection`\n",
    "\n",
    "The `NodeSelection` behavior allows for selecting one or more nodes from the browser, or\n",
    "updating from the kernel."
   ]
  },
  {
   "cell_type": "code",
   "execution_count": null,
   "id": "ae7d15a9-2a6e-476c-909e-e28e4d9809cd",
   "metadata": {},
   "outputs": [],
   "source": [
    "def add_node_selection(fg, box):\n",
    "    selection = B.NodeSelection()\n",
    "    ui_selection = W.TagsInput(\n",
    "        placeholder=\"select some nodes\",\n",
    "        allowed_tags=sorted(fg.source.nodes.id),\n",
    "    )\n",
    "\n",
    "    def on_source_change(change):\n",
    "        ui_selection.value = []\n",
    "        ui_selection.allowed_tags = sorted(fg.source.nodes.id)\n",
    "\n",
    "    fg.observe(on_source_change, [\"source\"])\n",
    "    box.behaviors = {**box.behaviors, \"node_selection\": selection}\n",
    "    box.node_ui = {**box.node_ui, \"node_selection\": ui_selection}\n",
    "    T.link((selection, \"selected\"), (ui_selection, \"value\"))\n",
    "    return fg, box"
   ]
  },
  {
   "cell_type": "code",
   "execution_count": null,
   "id": "d4de87e4-6c4f-43c2-9802-bef3d4e68b48",
   "metadata": {},
   "outputs": [],
   "source": [
    "if __name__ == \"__main__\":\n",
    "    add_node_selection(fg, box)"
   ]
  },
  {
   "cell_type": "markdown",
   "id": "4cb62bb8-b122-4e5d-b8fb-04bab2c127df",
   "metadata": {},
   "source": [
    "> 💡 Note that the nodes changed colors. Click a node to select it, or use\n",
    "> <kbd>ctrl</kbd> or <kbd>shift</kbd> to select multiple nodes."
   ]
  },
  {
   "cell_type": "markdown",
   "id": "615dba57-a08f-45a4-bd60-5d04519c5075",
   "metadata": {},
   "source": [
    "The selection is handed back from the client, and can be used with other widgets."
   ]
  },
  {
   "cell_type": "markdown",
   "id": "fb132130-1b45-4017-9738-74adadb1a6e2",
   "metadata": {},
   "source": [
    "### `NodeColors`\n",
    "\n",
    "Node colors can be set based on a column value. By default, a column named `color` will\n",
    "be used. Ensure `NodeColors` is in `behaviors` _after_ e.g. `NodeSelection`."
   ]
  },
  {
   "cell_type": "code",
   "execution_count": null,
   "id": "eb19f211-fdb8-4c81-99a6-d8aed5c40b4f",
   "metadata": {},
   "outputs": [],
   "source": [
    "from ipyforcegraph.behaviors import NodeColors\n",
    "\n",
    "\n",
    "def add_node_colors(fg=None, box=None, column_name=\"color\"):\n",
    "    if fg is None:\n",
    "        fg, box = make_a_simple_example()\n",
    "\n",
    "    colors = NodeColors(column_name=column_name)\n",
    "\n",
    "    if column_name not in fg.source.nodes:\n",
    "        U.make_random_color_series(fg, \"nodes\", column_name)\n",
    "\n",
    "    ui_color_column = W.Dropdown(\n",
    "        options=list(fg.source.nodes.columns), value=column_name\n",
    "    )\n",
    "\n",
    "    U.subscribe_to_columns(fg, \"nodes\", ui_color_column, \"options\")\n",
    "\n",
    "    ui_color_template = W.Textarea(layout=dict(max_width=\"100%\"))\n",
    "    ui_color_template_enabled = W.Checkbox(description=\"enabled?\")\n",
    "    T.link((ui_color_column, \"value\"), (colors, \"column_name\"))\n",
    "    T.dlink(\n",
    "        (ui_color_template, \"value\"),\n",
    "        (colors, \"template\"),\n",
    "        lambda x: x if ui_color_template_enabled.value else \"\",\n",
    "    )\n",
    "\n",
    "    ui_colors = U.make_a_collapsible_picker(\n",
    "        \"node: color\",\n",
    "        {\n",
    "            \"off\": [],\n",
    "            \"column\": [ui_color_column],\n",
    "            \"template\": [W.VBox([ui_color_template_enabled, ui_color_template])],\n",
    "        },\n",
    "    )\n",
    "    box.node_ui = {**box.node_ui, \"color\": ui_colors}\n",
    "    U.make_link_dropdown_responsive(colors, \"node: color\", ui_colors, box)\n",
    "\n",
    "    return fg, box"
   ]
  },
  {
   "cell_type": "code",
   "execution_count": null,
   "id": "cacfd7e9-905d-4854-8403-5fc9d234bc42",
   "metadata": {},
   "outputs": [],
   "source": [
    "if __name__ == \"__main__\":\n",
    "    add_node_colors(fg, box)"
   ]
  },
  {
   "cell_type": "markdown",
   "id": "7d32ebad-18e5-4b1f-9b39-479193a1a58f",
   "metadata": {},
   "source": [
    "#### Color Templates\n",
    "\n",
    "`NodeColors` support either a column name, and for the most part, calculating the values\n",
    "derived for these as data frames is likely the best choice.\n",
    "\n",
    "However, the`.template` traitlet, which take the form of\n",
    "[nunjucks templates](https://mozilla.github.io/nunjucks/templating.html) allows for\n",
    "calculating dynamic values on the client.\n",
    "\n",
    "The syntax is intentionally very similar to\n",
    "[jinja2](https://jinja.palletsprojects.com/en/3.1.x/templates), and a number of\n",
    "[extra template functions](#Templates) are provided\n",
    "\n",
    "Inside of a template, one can use:\n",
    "\n",
    "- `node`\n",
    "  - this will have all of the named columns available to it\n",
    "- `graphData`\n",
    "  - `nodes`\n",
    "  - `links`\n",
    "    - `source` and `target` as realized nodes\n",
    "\n",
    "With these, and basic template tools, one can generate all kinds of interesting effects.\n",
    "For the example data above, try these color templates:\n",
    "\n",
    "- color by group\n",
    "  > ```python\n",
    "  > {{ [\"red\", \"yellow\", \"blue\", \"orange\", \"purple\", \"magenta\"][node.group] }}\n",
    "  > ```\n",
    "- color by out-degree\n",
    "  > ```python\n",
    "  > {% set n = 0 %}\n",
    "  > {% for link in graphData.links %}\n",
    "  >   {% if link.source.id == node.id %}{% set n = n + 1 %}{% endif %}\n",
    "  > {% endfor %}\n",
    "  > {% set c = 256 * (7-n) / 7 %}\n",
    "  > rgb({{ c }},0,0)\n",
    "  > ```"
   ]
  },
  {
   "cell_type": "markdown",
   "id": "70256045-b566-4161-b71e-d275357e426a",
   "metadata": {},
   "source": [
    "### `NodeSizes`\n",
    "\n",
    "Node size can be changed by column or template."
   ]
  },
  {
   "cell_type": "code",
   "execution_count": null,
   "id": "dca0c06a-7df5-4863-84a4-60851d4cc275",
   "metadata": {},
   "outputs": [],
   "source": [
    "from ipyforcegraph.behaviors import NodeSizes\n",
    "\n",
    "\n",
    "def add_node_sizes(fg, box, column_name=\"group\"):\n",
    "    behavior = NodeSizes()\n",
    "    ui_column = W.Dropdown(options=list(fg.source.nodes.columns), value=column_name)\n",
    "    U.subscribe_to_columns(fg, \"nodes\", ui_column, \"options\")\n",
    "    ui_template = W.Textarea()\n",
    "    ui_template_enabled = W.Checkbox(description=\"enabled?\")\n",
    "    T.link((ui_column, \"value\"), (behavior, \"column_name\"))\n",
    "    T.dlink(\n",
    "        (ui_template, \"value\"),\n",
    "        (behavior, \"template\"),\n",
    "        lambda x: x if ui_template_enabled.value else \"\",\n",
    "    )\n",
    "    ui = U.make_a_collapsible_picker(\n",
    "        \"node: size\",\n",
    "        {\n",
    "            \"off\": [],\n",
    "            \"column\": [ui_column],\n",
    "            \"template\": [W.VBox([ui_template_enabled, ui_template])],\n",
    "        },\n",
    "    )\n",
    "    label = \"node: size\"\n",
    "    box.node_ui = {**box.node_ui, label: ui}\n",
    "    U.make_link_dropdown_responsive(behavior, label, ui, box)\n",
    "    return fg, box"
   ]
  },
  {
   "cell_type": "code",
   "execution_count": null,
   "id": "1c0627fa-78ac-496b-b23a-e55718c1d3ea",
   "metadata": {},
   "outputs": [],
   "source": [
    "if __name__ == \"__main__\":\n",
    "    add_node_sizes(fg, box)"
   ]
  },
  {
   "cell_type": "markdown",
   "id": "96990557-2450-4600-889e-d6e19fa72909",
   "metadata": {},
   "source": [
    "### `NodeLabels`\n",
    "\n",
    "Node labels can be revealed when hovering over the node. By default the node's `id`\n",
    "column will be used."
   ]
  },
  {
   "cell_type": "code",
   "execution_count": null,
   "id": "478848d8-a8cd-4aed-a6cb-314464cbaea5",
   "metadata": {},
   "outputs": [],
   "source": [
    "from ipyforcegraph.behaviors import NodeLabels\n",
    "\n",
    "\n",
    "def add_node_labels(fg, box, column_name=\"id\"):\n",
    "    behavior = NodeLabels()\n",
    "    ui_label_column = W.Dropdown(\n",
    "        options=list(fg.source.nodes.columns), value=column_name\n",
    "    )\n",
    "    U.subscribe_to_columns(fg, \"nodes\", ui_label_column, \"options\")\n",
    "    ui_label_template = W.Textarea()\n",
    "    ui_label_template_enabled = W.Checkbox(description=\"enabled?\")\n",
    "    T.link((ui_label_column, \"value\"), (behavior, \"column_name\"))\n",
    "    T.dlink(\n",
    "        (ui_label_template, \"value\"),\n",
    "        (behavior, \"template\"),\n",
    "        lambda x: x if ui_label_template_enabled.value else \"\",\n",
    "    )\n",
    "    ui = U.make_a_collapsible_picker(\n",
    "        \"node: label\",\n",
    "        {\n",
    "            \"off\": [],\n",
    "            \"column\": [ui_label_column],\n",
    "            \"template\": [W.VBox([ui_label_template_enabled, ui_label_template])],\n",
    "        },\n",
    "    )\n",
    "    label = \"node: labels\"\n",
    "    box.node_ui = {**box.node_ui, label: ui}\n",
    "    U.make_link_dropdown_responsive(behavior, label, ui, box)\n",
    "    return fg, box"
   ]
  },
  {
   "cell_type": "code",
   "execution_count": null,
   "id": "4a1e78bb-e851-4c25-a15b-aa2bc40051e3",
   "metadata": {},
   "outputs": [],
   "source": [
    "if __name__ == \"__main__\":\n",
    "    add_node_labels(fg, box)"
   ]
  },
  {
   "cell_type": "markdown",
   "id": "e5ec4f5c-931b-44a4-9744-fb5a7b733511",
   "metadata": {},
   "source": [
    "#### Label templates\n",
    "\n",
    "Like `NodeColors`, `NodeLabels` also accepts [templates](#color-templates). The\n",
    "resulting value may be plain strings or HTML.\n",
    "\n",
    "Here are some examples, again for the example data:\n",
    "\n",
    "- just a header\n",
    "  > ```html\n",
    "  > <h1>{{ node.id }}</h1>\n",
    "  > ```\n",
    "- a table\n",
    "  > ```html\n",
    "  > <table>\n",
    "  >  <tr><th>id</th><th>group</th></td>\n",
    "  >  {% for link in graphData.links %}\n",
    "  >  {% if link.source.id == node.id %}\n",
    "  >  <tr><td>{{ link.target.id }}</td><td>{{ link.target.group }}</td>\n",
    "  >  {% endif %}\n",
    "  >  {% endfor %}\n",
    "  > </table>\n",
    "  > ```"
   ]
  },
  {
   "cell_type": "markdown",
   "id": "03de4849-7f41-477d-843e-cce59a20d4a6",
   "metadata": {},
   "source": [
    "## Link Behaviors"
   ]
  },
  {
   "cell_type": "markdown",
   "id": "0f05d5f4-d62a-4b42-8e32-004e236e52aa",
   "metadata": {},
   "source": [
    "### `LinkSelection`\n",
    "\n",
    "Like the `NodeSelection` behavior, this allows for selecting one or more links from the\n",
    "browser, or updating from the kernel."
   ]
  },
  {
   "cell_type": "code",
   "execution_count": null,
   "id": "d3e6b5df-517c-47e9-b08e-e71734d61f47",
   "metadata": {},
   "outputs": [],
   "source": [
    "def add_link_selection(fg, box):\n",
    "    selection = B.LinkSelection()\n",
    "    ui_selection = W.IntsInput(\n",
    "        placeholder=\"select some link indices\",\n",
    "        allowed_tags=[*range(len(fg.source.links))],\n",
    "    )\n",
    "\n",
    "    def on_source_change(change):\n",
    "        ui_selection.value = []\n",
    "        ui_selection.allowed_tags = [*range(len(fg.source.links))]\n",
    "\n",
    "    fg.observe(on_source_change, [\"source\"])\n",
    "    box.behaviors = {**box.behaviors, \"link_selection\": selection}\n",
    "    box.link_ui = {**box.link_ui, \"link_selection\": ui_selection}\n",
    "    T.link((selection, \"selected\"), (ui_selection, \"value\"))\n",
    "    return fg, box"
   ]
  },
  {
   "cell_type": "code",
   "execution_count": null,
   "id": "6cc595f4-f9c9-44ec-a395-73b3451e9dd4",
   "metadata": {},
   "outputs": [],
   "source": [
    "if __name__ == \"__main__\":\n",
    "    add_link_selection(fg, box)"
   ]
  },
  {
   "cell_type": "markdown",
   "id": "19ce3d0c-68a2-41fd-a386-5009672ba1c6",
   "metadata": {},
   "source": [
    "> 💡 Note that the links changed colors. Click a link to select it, or use\n",
    "> <kbd>ctrl</kbd> or <kbd>shift</kbd> to select multiple links."
   ]
  },
  {
   "cell_type": "markdown",
   "id": "358a1d65-d246-4085-9575-824bb809d9bf",
   "metadata": {},
   "source": [
    "The selection is handed back from the client, and can be used with other widgets."
   ]
  },
  {
   "cell_type": "markdown",
   "id": "5ecec943-13b8-44e8-b207-6c4e498f81e8",
   "metadata": {},
   "source": [
    "### `LinkColors`\n",
    "\n",
    "Link colors can also be configured by column name or template."
   ]
  },
  {
   "cell_type": "code",
   "execution_count": null,
   "id": "cbb867b0-3f97-4b2c-bdc7-80d799ebb87a",
   "metadata": {},
   "outputs": [],
   "source": [
    "add_link_colors = U.make_link_behavior_with_ui(\n",
    "    B.LinkColors, \"link: color\", \"color\", True\n",
    ")"
   ]
  },
  {
   "cell_type": "code",
   "execution_count": null,
   "id": "f16a8315-9e94-469f-aa23-19be9a1e5a74",
   "metadata": {},
   "outputs": [],
   "source": [
    "if __name__ == \"__main__\":\n",
    "    add_link_colors(fg, box)"
   ]
  },
  {
   "cell_type": "markdown",
   "id": "34acfd88-978e-4ab4-8b39-512b95372aec",
   "metadata": {},
   "source": [
    "### `LinkWidths`\n",
    "\n",
    "Link widths can also be configured by column name or template."
   ]
  },
  {
   "cell_type": "code",
   "execution_count": null,
   "id": "792063b3-a60f-49e1-92ab-9aad1db1e9f4",
   "metadata": {},
   "outputs": [],
   "source": [
    "add_link_widths = U.make_link_behavior_with_ui(\n",
    "    B.LinkWidths, \"link: width\", \"value\", True\n",
    ")"
   ]
  },
  {
   "cell_type": "code",
   "execution_count": null,
   "id": "345a0b3b-e6b2-46e7-8704-df76bb3c4496",
   "metadata": {},
   "outputs": [],
   "source": [
    "if __name__ == \"__main__\":\n",
    "    add_link_widths(fg, box)"
   ]
  },
  {
   "cell_type": "markdown",
   "id": "a832686d-3178-4a68-b290-c1478cd3a25d",
   "metadata": {},
   "source": [
    "### `LinkLabels`\n",
    "\n",
    "Link labels are revealed when hovered, and accept `column_name` or `template`."
   ]
  },
  {
   "cell_type": "code",
   "execution_count": null,
   "id": "8ed938f8-eb48-4b28-802b-cdd43e4191b6",
   "metadata": {},
   "outputs": [],
   "source": [
    "add_link_labels = U.make_link_behavior_with_ui(B.LinkLabels, \"link: label\", \"value\")\n",
    "\n",
    "if __name__ == \"__main__\":\n",
    "    add_link_labels(fg, box)"
   ]
  },
  {
   "cell_type": "markdown",
   "id": "b0f76652-37e2-4547-a265-3dd5c4630b58",
   "metadata": {},
   "source": [
    "### `LinkDirectionalArrowColor`"
   ]
  },
  {
   "cell_type": "code",
   "execution_count": null,
   "id": "2435faa8-d542-46b5-b115-11156f9b6c46",
   "metadata": {},
   "outputs": [],
   "source": [
    "add_link_directional_arrow_color = U.make_link_behavior_with_ui(\n",
    "    B.LinkDirectionalArrowColor, \"link: directional arrow color\", \"color\", is_color=True\n",
    ")\n",
    "\n",
    "if __name__ == \"__main__\":\n",
    "    add_link_directional_arrow_color(fg, box)"
   ]
  },
  {
   "cell_type": "markdown",
   "id": "3a13a031-1968-4459-8bf8-90c8e897dedf",
   "metadata": {},
   "source": [
    "### `LinkDirectionalArrowLength`"
   ]
  },
  {
   "cell_type": "code",
   "execution_count": null,
   "id": "6e50a322-cbf6-4c9b-a59c-ec18d6285bb6",
   "metadata": {},
   "outputs": [],
   "source": [
    "add_link_directional_arrow_length = U.make_link_behavior_with_ui(\n",
    "    B.LinkDirectionalArrowLength, \"link: directional arrow length\", \"value\"\n",
    ")\n",
    "\n",
    "if __name__ == \"__main__\":\n",
    "    add_link_directional_arrow_length(fg, box)"
   ]
  },
  {
   "cell_type": "markdown",
   "id": "61a5f29e-d2a0-40a9-bcfe-d721b2278ae4",
   "metadata": {},
   "source": [
    "### `LinkDirectionalArrowRelPos`"
   ]
  },
  {
   "cell_type": "code",
   "execution_count": null,
   "id": "b0cc963f-dd99-40cd-9355-7bcb8a52033e",
   "metadata": {},
   "outputs": [],
   "source": [
    "add_link_directional_arrow_rel_pos = U.make_link_behavior_with_ui(\n",
    "    B.LinkDirectionalArrowRelPos, \"link: directional arrow relative position\", \"value\"\n",
    ")\n",
    "\n",
    "if __name__ == \"__main__\":\n",
    "    add_link_directional_arrow_rel_pos(fg, box)"
   ]
  },
  {
   "cell_type": "markdown",
   "id": "36668d7f-9912-4ddc-9471-4174b866b419",
   "metadata": {},
   "source": [
    "### `LinkDirectionalParticleColor`"
   ]
  },
  {
   "cell_type": "code",
   "execution_count": null,
   "id": "2839dfdc-80f8-481c-8571-9c66a457b850",
   "metadata": {},
   "outputs": [],
   "source": [
    "add_link_directional_particle_color = U.make_link_behavior_with_ui(\n",
    "    B.LinkDirectionalParticleColor,\n",
    "    \"link: directional particle color\",\n",
    "    \"color\",\n",
    "    is_color=True,\n",
    ")\n",
    "\n",
    "if __name__ == \"__main__\":\n",
    "    add_link_directional_particle_color(fg, box)"
   ]
  },
  {
   "cell_type": "markdown",
   "id": "5b47d1e6-88fd-4e94-bff2-fcd2b0f3a52a",
   "metadata": {},
   "source": [
    "### `LinkDirectionalParticleSpeed`"
   ]
  },
  {
   "cell_type": "code",
   "execution_count": null,
   "id": "fb5713e5-47db-4b76-9f17-728f436d4084",
   "metadata": {},
   "outputs": [],
   "source": [
    "add_link_directional_particle_speed = U.make_link_behavior_with_ui(\n",
    "    B.LinkDirectionalParticleSpeed, \"link: directional particle speed\", \"value\"\n",
    ")\n",
    "\n",
    "if __name__ == \"__main__\":\n",
    "    add_link_directional_particle_speed(fg, box)"
   ]
  },
  {
   "cell_type": "markdown",
   "id": "69a92aa8-2537-4a0d-a4a5-7108e6ce7e8d",
   "metadata": {},
   "source": [
    "### `LinkDirectionalParticleWidth`"
   ]
  },
  {
   "cell_type": "code",
   "execution_count": null,
   "id": "23d53c2f-8ede-4e5b-a504-6fb25ccc3266",
   "metadata": {},
   "outputs": [],
   "source": [
    "add_link_directional_particle_width = U.make_link_behavior_with_ui(\n",
    "    B.LinkDirectionalParticleWidth, \"link: directional particle width\", \"value\"\n",
    ")\n",
    "\n",
    "if __name__ == \"__main__\":\n",
    "    add_link_directional_particle_width(fg, box)"
   ]
  },
  {
   "cell_type": "markdown",
   "id": "d4a5c279-ee46-4f6d-911e-de779fc162ff",
   "metadata": {},
   "source": [
    "### `LinkDirectionalParticles`"
   ]
  },
  {
   "cell_type": "code",
   "execution_count": null,
   "id": "f1e35a6e-3f23-47ef-b8ca-196c7c23feab",
   "metadata": {},
   "outputs": [],
   "source": [
    "add_link_directional_particles = U.make_link_behavior_with_ui(\n",
    "    B.LinkDirectionalParticles, \"link: directional particles\", \"value\"\n",
    ")\n",
    "\n",
    "if __name__ == \"__main__\":\n",
    "    add_link_directional_particles(fg, box)"
   ]
  },
  {
   "cell_type": "markdown",
   "id": "97cddfbf-7dc0-44ee-8554-2704e632a802",
   "metadata": {},
   "source": [
    "## Templates\n",
    "\n",
    "In addition to the\n",
    "[built-in `nunjucks` globals, templates, and tags](https://mozilla.github.io/nunjucks/templating.html),\n",
    "the following\n",
    "[JS `Math`](https://developer.mozilla.org/en-US/docs/Web/JavaScript/Reference/Global_Objects/Math)\n",
    "constants and functions are also exposed."
   ]
  },
  {
   "cell_type": "markdown",
   "id": "cdb5dca7-c869-4bba-a8e2-f6e364463f72",
   "metadata": {},
   "source": [
    "### Collections"
   ]
  },
  {
   "cell_type": "markdown",
   "id": "c98d240c-6ff7-4e83-bb30-0138f74fa9ea",
   "metadata": {},
   "source": [
    "#### `where`\n",
    "\n",
    "Return all items that match a given attribute, e.g. for `NodeSizes.template` to scale a\n",
    "node by out-degree.\n",
    "\n",
    "```\n",
    "{{ graphData.links | where('source', node) | count }}\n",
    "```"
   ]
  },
  {
   "cell_type": "markdown",
   "id": "ca7a560b-e7e5-4952-947f-e9c369f3bd81",
   "metadata": {},
   "source": [
    "### Time\n",
    "\n",
    "#### `now`\n",
    "\n",
    "Returns the current high-precision time from\n",
    "[`performance.now`](https://developer.mozilla.org/en-US/docs/Web/API/Performance/now)"
   ]
  },
  {
   "cell_type": "markdown",
   "id": "ea088d7d-3f0b-4b19-b16a-8d65da4296b2",
   "metadata": {
    "tags": []
   },
   "source": [
    "### Constants\n",
    "\n",
    "> All are referenced directly:\n",
    ">\n",
    "> - `{{ E }}`\n",
    "\n",
    "- `E`\n",
    "- `LN10`\n",
    "- `LN2`\n",
    "- `LOG10E`\n",
    "- `LOG2E`\n",
    "- `PI`\n",
    "- `SQRT1_2`\n",
    "- `SQRT2`"
   ]
  },
  {
   "cell_type": "markdown",
   "id": "4f5a1176-c6f0-4e50-a4db-76a1fa376a5c",
   "metadata": {},
   "source": [
    "### Unary Math Functions\n",
    "\n",
    "> All accept a single numeric argument:\n",
    ">\n",
    "> - `{{ acos(node.value) }}`.\n",
    "\n",
    "- `acos`\n",
    "- `acosh`\n",
    "- `asin`\n",
    "- `asinh`\n",
    "- `atan`\n",
    "- `atanh`\n",
    "- `cbrt`\n",
    "- `ceil`\n",
    "- `cos`\n",
    "- `exp`\n",
    "- `expm1`\n",
    "- `floor`\n",
    "- `fround`\n",
    "- `log`\n",
    "- `log10`\n",
    "- `log1p`\n",
    "- `log2`\n",
    "- `sign`\n",
    "- `sin`\n",
    "- `sqrt`\n",
    "- `tan`\n",
    "- `trunc`"
   ]
  },
  {
   "cell_type": "markdown",
   "id": "d90628fc-5c85-403c-8acd-bb660728934f",
   "metadata": {},
   "source": [
    "### Binary Math Functions\n",
    "\n",
    "> All accept exactly two numerica arguments\n",
    ">\n",
    "> - `{{ imul(node.value, 1) }}`\n",
    "\n",
    "- `imul`\n",
    "- `atan2`"
   ]
  },
  {
   "cell_type": "markdown",
   "id": "ea0e5496-db57-4923-8a33-9cf3bba53ee2",
   "metadata": {},
   "source": [
    "### N-ary Math Functions\n",
    "\n",
    "> All accept _either_:\n",
    ">\n",
    "> - `{{ min(3,2,1) }}`\n",
    "> - `{{ min([4,5,6]) }}`\n",
    "\n",
    "- `min`\n",
    "- `max`"
   ]
  },
  {
   "cell_type": "code",
   "execution_count": null,
   "id": "6f15b305-75c1-4692-8250-f7eaf8d296b3",
   "metadata": {
    "tags": []
   },
   "outputs": [],
   "source": [
    "all_behaviors = [\n",
    "    add_dataset,\n",
    "    add_graph_colors,\n",
    "    add_graph_image,\n",
    "    add_graph_data,\n",
    "    add_node_selection,\n",
    "    add_node_colors,\n",
    "    add_node_sizes,\n",
    "    add_node_labels,\n",
    "    add_link_selection,\n",
    "    add_link_colors,\n",
    "    add_link_widths,\n",
    "    add_link_labels,\n",
    "    add_link_directional_arrow_color,\n",
    "    add_link_directional_arrow_length,\n",
    "    add_link_directional_arrow_rel_pos,\n",
    "    add_link_directional_particle_color,\n",
    "    add_link_directional_particle_speed,\n",
    "    add_link_directional_particle_width,\n",
    "    add_link_directional_particles,\n",
    "]"
   ]
  }
 ],
 "metadata": {
  "kernelspec": {
   "display_name": "Python 3 (ipykernel)",
   "language": "python",
   "name": "python3"
  },
  "language_info": {
   "codemirror_mode": {
    "name": "ipython",
    "version": 3
   },
   "file_extension": ".py",
   "mimetype": "text/x-python",
   "name": "python",
   "nbconvert_exporter": "python",
   "pygments_lexer": "ipython3",
   "version": "3.11.0"
  }
 },
 "nbformat": 4,
 "nbformat_minor": 5
}
