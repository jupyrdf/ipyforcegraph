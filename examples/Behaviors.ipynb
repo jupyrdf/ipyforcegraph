{
 "cells": [
  {
   "cell_type": "markdown",
   "id": "e23aa429-051e-41d0-ac32-c39124cebbdd",
   "metadata": {},
   "source": [
    "# 👟 Behaviors"
   ]
  },
  {
   "cell_type": "code",
   "execution_count": null,
   "id": "a6283c28-99f4-48d0-aa66-6b0e6366f881",
   "metadata": {},
   "outputs": [],
   "source": [
    "if __name__ == \"__main__\":\n",
    "    %pip install -q -r requirements.txt"
   ]
  },
  {
   "cell_type": "code",
   "execution_count": null,
   "id": "9f3f85fe-a0a9-4086-992e-2ca1552f07b8",
   "metadata": {},
   "outputs": [],
   "source": [
    "import random\n",
    "\n",
    "import ipywidgets as W\n",
    "import traitlets as T"
   ]
  },
  {
   "cell_type": "code",
   "execution_count": null,
   "id": "38280a14-ef4b-451b-be64-cf541cb254e1",
   "metadata": {},
   "outputs": [],
   "source": [
    "with __import__(\"importnb\").Notebook():\n",
    "    from _index import make_a_simple_example"
   ]
  },
  {
   "cell_type": "markdown",
   "id": "833c749b-8ba2-4db7-8bfc-3bd3a2cc969f",
   "metadata": {},
   "source": [
    "```{hint}\n",
    "After rendering the cell below, select _Create New View For Output_ from the output's right-click menu to see more things added\n",
    "```"
   ]
  },
  {
   "cell_type": "code",
   "execution_count": null,
   "id": "a2532791-3a00-4715-ae2d-1b66ea88758f",
   "metadata": {
    "tags": []
   },
   "outputs": [],
   "source": [
    "if __name__ == \"__main__\":\n",
    "    fg, box = make_a_simple_example()\n",
    "    display(box)"
   ]
  },
  {
   "cell_type": "markdown",
   "id": "cccd2fcb-4b03-403c-8371-6cc51bd984c2",
   "metadata": {},
   "source": [
    "## `NodeSelection`\n",
    "\n",
    "The `NodeSelection` behavior allows for selecting one or more nodes from the browser, or\n",
    "updating from the kernel."
   ]
  },
  {
   "cell_type": "code",
   "execution_count": null,
   "id": "ae7d15a9-2a6e-476c-909e-e28e4d9809cd",
   "metadata": {},
   "outputs": [],
   "source": [
    "from ipyforcegraph.behaviors import NodeSelection\n",
    "\n",
    "\n",
    "def add_node_selection(fg=None, box=None):\n",
    "    if fg is None:\n",
    "        fg, box = make_a_simple_example()\n",
    "    selection = NodeSelection()\n",
    "    fg.behaviors = [selection]\n",
    "    ui_selection = W.TagsInput(\n",
    "        placeholder=\"select some nodes\",\n",
    "        description=\"selected\",\n",
    "        allowed_tags=sorted(fg.source.nodes.id),\n",
    "        layout=dict(width=\"500px\"),\n",
    "    )\n",
    "    T.link((selection, \"selected\"), (ui_selection, \"value\"))\n",
    "    box.children[1].children += (ui_selection,)\n",
    "    return fg, box"
   ]
  },
  {
   "cell_type": "code",
   "execution_count": null,
   "id": "d4de87e4-6c4f-43c2-9802-bef3d4e68b48",
   "metadata": {},
   "outputs": [],
   "source": [
    "if __name__ == \"__main__\":\n",
    "    add_node_selection(fg, box)\n",
    "    display(box)"
   ]
  },
  {
   "cell_type": "markdown",
   "id": "4cb62bb8-b122-4e5d-b8fb-04bab2c127df",
   "metadata": {},
   "source": [
    "```{hint}\n",
    "Note that the nodes changed colors. Click a node to select it, or use <kbd>ctrl</kbd> or <kbd>shift</kbd> to select multiple nodes.\n",
    "```"
   ]
  },
  {
   "cell_type": "markdown",
   "id": "615dba57-a08f-45a4-bd60-5d04519c5075",
   "metadata": {},
   "source": [
    "The selection is handed back from the client, and can be used with other widgets."
   ]
  },
  {
   "cell_type": "markdown",
   "id": "fb132130-1b45-4017-9738-74adadb1a6e2",
   "metadata": {},
   "source": [
    "## `NodeColors`\n",
    "\n",
    "Node colors can be set based on a column value. By default, a column named `color` will\n",
    "be used. Ensure `NodeColors` is in `behaviors` _after_ e.g. `NodeSelection`."
   ]
  },
  {
   "cell_type": "code",
   "execution_count": null,
   "id": "eb19f211-fdb8-4c81-99a6-d8aed5c40b4f",
   "metadata": {},
   "outputs": [],
   "source": [
    "from ipyforcegraph.behaviors import NodeColors\n",
    "\n",
    "\n",
    "def add_node_colors(fg=None, box=None, column_name=\"color\"):\n",
    "    if fg is None:\n",
    "        fg, box = make_a_simple_example()\n",
    "    colors = NodeColors(column_name=column_name)\n",
    "    fg.behaviors = [*fg.behaviors, colors]\n",
    "    if column_name not in fg.source.nodes:\n",
    "        fg.source.nodes[column_name] = [\n",
    "            \"#\" + \"\".join([random.choice(\"01234567abcdef\") for j in range(6)])\n",
    "            for i in range(len(fg.source.nodes))\n",
    "        ]\n",
    "        fg.source.send_state(\"nodes\")\n",
    "    ui_color_column = W.Dropdown(\n",
    "        options=list(fg.source.nodes.columns), value=column_name\n",
    "    )\n",
    "    ui_color_template = W.Textarea()\n",
    "    ui_color_template_enabled = W.Checkbox(description=\"enabled?\")\n",
    "    ui_colors = W.Accordion(\n",
    "        [ui_color_column, W.VBox([ui_color_template_enabled, ui_color_template])],\n",
    "        titles=[\"color by column\", \"color by template\"],\n",
    "    )\n",
    "    T.link((ui_color_column, \"value\"), (colors, \"column_name\"))\n",
    "    T.dlink(\n",
    "        (ui_color_template, \"value\"),\n",
    "        (colors, \"template\"),\n",
    "        lambda x: x if ui_color_template_enabled.value else \"\",\n",
    "    )\n",
    "    box.children[1].children += (ui_colors,)\n",
    "    return fg, box"
   ]
  },
  {
   "cell_type": "code",
   "execution_count": null,
   "id": "cacfd7e9-905d-4854-8403-5fc9d234bc42",
   "metadata": {},
   "outputs": [],
   "source": [
    "if __name__ == \"__main__\":\n",
    "    add_node_colors(fg, box)\n",
    "    display(box)"
   ]
  },
  {
   "cell_type": "markdown",
   "id": "acb83a3f-55d4-48b0-91c7-2d79163c62ea",
   "metadata": {},
   "source": [
    "## `LinkColors`\n",
    "\n",
    "Link colors can also be configured."
   ]
  },
  {
   "cell_type": "code",
   "execution_count": null,
   "id": "cbb867b0-3f97-4b2c-bdc7-80d799ebb87a",
   "metadata": {},
   "outputs": [],
   "source": [
    "from ipyforcegraph.behaviors import LinkColors\n",
    "\n",
    "\n",
    "def add_link_colors(fg=None, box=None, column_name=\"color\"):\n",
    "    if fg is None:\n",
    "        fg, box = make_a_simple_example()\n",
    "    colors = LinkColors(column_name=column_name)\n",
    "    fg.behaviors = [*fg.behaviors, colors]\n",
    "    if column_name not in fg.source.links:\n",
    "        fg.source.links[column_name] = [\n",
    "            \"#\" + \"\".join([random.choice(\"01234567abcdef\") for j in range(6)])\n",
    "            for i in range(len(fg.source.links))\n",
    "        ]\n",
    "        fg.source.send_state(\"links\")\n",
    "    ui_color_column = W.Dropdown(\n",
    "        options=list(fg.source.links.columns), value=column_name\n",
    "    )\n",
    "    ui_color_template = W.Textarea()\n",
    "    ui_color_template_enabled = W.Checkbox(description=\"enabled?\")\n",
    "    ui_colors = W.Accordion(\n",
    "        [ui_color_column, W.VBox([ui_color_template_enabled, ui_color_template])],\n",
    "        titles=[\"link color by column\", \"link color by template\"],\n",
    "    )\n",
    "    T.link((ui_color_column, \"value\"), (colors, \"column_name\"))\n",
    "    T.dlink(\n",
    "        (ui_color_template, \"value\"),\n",
    "        (colors, \"template\"),\n",
    "        lambda x: x if ui_color_template_enabled.value else \"\",\n",
    "    )\n",
    "    box.children[1].children += (ui_colors,)\n",
    "    return fg, box"
   ]
  },
  {
   "cell_type": "code",
   "execution_count": null,
   "id": "f16a8315-9e94-469f-aa23-19be9a1e5a74",
   "metadata": {},
   "outputs": [],
   "source": [
    "if __name__ == \"__main__\":\n",
    "    add_link_colors(fg, box)\n",
    "    display(box)"
   ]
  },
  {
   "cell_type": "markdown",
   "id": "dd08f5c5-8834-4933-9572-ef45f0054d19",
   "metadata": {},
   "source": [
    "### Color Templates\n",
    "\n",
    "`NodeColors` support either a column name, and for the most part, calculating the values\n",
    "derived for these as data frames is likely the best choice.\n",
    "\n",
    "However, the`.template` traitlet, which take the form of\n",
    "[nunjucks templates](https://mozilla.github.io/nunjucks/templating.html) allows for\n",
    "calculating dynamic values on the client.\n",
    "\n",
    "The syntax is intentionally very similar to\n",
    "[jinja2](https://jinja.palletsprojects.com/en/3.1.x/templates).\n",
    "\n",
    "Inside of a template, one can use:\n",
    "\n",
    "- `node`\n",
    "  - this will have all of the named columns available to it\n",
    "- `graphData`\n",
    "  - `nodes`\n",
    "  - `links`\n",
    "    - `source` and `target` as realized nodes\n",
    "\n",
    "With these, and basic template tools, one can generate all kinds of interesting effects.\n",
    "For the example data above, try these color templates:\n",
    "\n",
    "- color by group\n",
    "  > ```python\n",
    "  > {{ [\"red\", \"yellow\", \"blue\", \"orange\", \"purple\", \"magenta\"][node.group] }}\n",
    "  > ```\n",
    "- color by out-degree\n",
    "  > ```python\n",
    "  > {% set n = 0 %}\n",
    "  > {% for link in graphData.links %}\n",
    "  >   {% if link.source.id == node.id %}{% set n = n + 1 %}{% endif %}\n",
    "  > {% endfor %}\n",
    "  > {% set c = 256 * (7-n) / 7 %}\n",
    "  > rgb({{ c }},0,0)\n",
    "  > ```"
   ]
  },
  {
   "cell_type": "markdown",
   "id": "96990557-2450-4600-889e-d6e19fa72909",
   "metadata": {},
   "source": [
    "## `NodeLabels`\n",
    "\n",
    "Node labels can be revealed when hovering over the node. By default the node's `id`\n",
    "column will be used."
   ]
  },
  {
   "cell_type": "code",
   "execution_count": null,
   "id": "478848d8-a8cd-4aed-a6cb-314464cbaea5",
   "metadata": {},
   "outputs": [],
   "source": [
    "from ipyforcegraph.behaviors import NodeLabels\n",
    "\n",
    "\n",
    "def add_node_labels(fg=None, box=None, column_name=\"id\"):\n",
    "    if fg is None:\n",
    "        fg, box = make_a_simple_example()\n",
    "    labels = NodeLabels()\n",
    "    ui_label_column = W.Dropdown(\n",
    "        options=list(fg.source.nodes.columns), value=column_name\n",
    "    )\n",
    "    ui_label_template = W.Textarea()\n",
    "    ui_label_template_enabled = W.Checkbox(description=\"enabled?\")\n",
    "    ui_labels = W.Accordion(\n",
    "        [ui_label_column, W.VBox([ui_label_template_enabled, ui_label_template])],\n",
    "        titles=[\"label by column\", \"label by template\"],\n",
    "    )\n",
    "    T.link((ui_label_column, \"value\"), (labels, \"column_name\"))\n",
    "    T.dlink(\n",
    "        (ui_label_template, \"value\"),\n",
    "        (labels, \"template\"),\n",
    "        lambda x: x if ui_label_template_enabled.value else \"\",\n",
    "    )\n",
    "    box.children[1].children += (ui_labels,)\n",
    "    fg.behaviors = [*fg.behaviors, labels]\n",
    "    return fg, box"
   ]
  },
  {
   "cell_type": "code",
   "execution_count": null,
   "id": "4a1e78bb-e851-4c25-a15b-aa2bc40051e3",
   "metadata": {},
   "outputs": [],
   "source": [
    "if __name__ == \"__main__\":\n",
    "    add_node_labels(fg, box)\n",
    "    display(box)"
   ]
  },
  {
   "cell_type": "markdown",
   "id": "e5ec4f5c-931b-44a4-9744-fb5a7b733511",
   "metadata": {},
   "source": [
    "### Label templates\n",
    "\n",
    "Like `NodeColors`, `NodeLabels` also accepts [templates](#color-templates). The\n",
    "resulting value may be plain strings or HTML.\n",
    "\n",
    "Here are some examples, again for the example data:\n",
    "\n",
    "- just a header\n",
    "  > ```html\n",
    "  > <h1>{{ node.id }}</h1>\n",
    "  > ```\n",
    "- a table\n",
    "  > ```html\n",
    "  > <table>\n",
    "  >  <tr><th>id</th><th>group</th></td>\n",
    "  >  {% for link in graphData.links %}\n",
    "  >  {% if link.source.id == node.id %}\n",
    "  >  <tr><td>{{ link.target.id }}</td><td>{{ link.target.group }}</td>\n",
    "  >  {% endif %}\n",
    "  >  {% endfor %}\n",
    "  > </table>\n",
    "  > ```"
   ]
  }
 ],
 "metadata": {
  "kernelspec": {
   "display_name": "Python 3 (ipykernel)",
   "language": "python",
   "name": "python3"
  },
  "language_info": {
   "codemirror_mode": {
    "name": "ipython",
    "version": 3
   },
   "file_extension": ".py",
   "mimetype": "text/x-python",
   "name": "python",
   "nbconvert_exporter": "python",
   "pygments_lexer": "ipython3",
   "version": "3.11.0"
  }
 },
 "nbformat": 4,
 "nbformat_minor": 5
}
