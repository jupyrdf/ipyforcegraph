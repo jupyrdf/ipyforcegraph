{
 "cells": [
  {
   "cell_type": "markdown",
   "id": "e23aa429-051e-41d0-ac32-c39124cebbdd",
   "metadata": {},
   "source": [
    "# 👟 Behaviors\n",
    "\n",
    "Behaviors extend the appearance and interactivity of the [2D](#2D-Graph) and\n",
    "[3D](./3D.ipynb) graphs. These can affect [nodes](#Node-Behaviors),\n",
    "[links](#Link-Behaviors) or certain aspects of the graph itself."
   ]
  },
  {
   "cell_type": "code",
   "execution_count": null,
   "id": "a6283c28-99f4-48d0-aa66-6b0e6366f881",
   "metadata": {},
   "outputs": [],
   "source": [
    "if __name__ == \"__main__\" and \"pyodide\" in __import__(\"sys\").modules:\n",
    "    %pip install -q -r requirements.txt"
   ]
  },
  {
   "cell_type": "code",
   "execution_count": null,
   "id": "9f3f85fe-a0a9-4086-992e-2ca1552f07b8",
   "metadata": {},
   "outputs": [],
   "source": [
    "import json\n",
    "from pathlib import Path\n",
    "\n",
    "import ipyforcegraph.behaviors as B\n",
    "import ipywidgets as W\n",
    "import traitlets as T\n",
    "from IPython.display import display"
   ]
  },
  {
   "cell_type": "code",
   "execution_count": null,
   "id": "38280a14-ef4b-451b-be64-cf541cb254e1",
   "metadata": {},
   "outputs": [],
   "source": [
    "with __import__(\"importnb\").Notebook():\n",
    "    import Shapes as S\n",
    "    import Utils as U"
   ]
  },
  {
   "cell_type": "markdown",
   "id": "833c749b-8ba2-4db7-8bfc-3bd3a2cc969f",
   "metadata": {},
   "source": [
    "## 2D Graph\n",
    "\n",
    "> 💡 After rendering the cell below, select _Create New View For Output_ from the\n",
    "> output's right-click menu to see more things added"
   ]
  },
  {
   "cell_type": "code",
   "execution_count": null,
   "id": "a2532791-3a00-4715-ae2d-1b66ea88758f",
   "metadata": {},
   "outputs": [],
   "source": [
    "if __name__ == \"__main__\":\n",
    "    fg, box = U.make_a_demo()\n",
    "    box.description = \"Behavior Demo\"\n",
    "    display(box)"
   ]
  },
  {
   "cell_type": "markdown",
   "id": "3ecf17c6-b342-40ee-96ff-47c49c2d35ea",
   "metadata": {},
   "source": [
    "> 💡 This demo will be incrementally updated: try _Create New View For Output_ from the\n",
    "> context menu to watch."
   ]
  },
  {
   "cell_type": "markdown",
   "id": "f6b7f35f-7c46-4966-a41c-635d393490a7",
   "metadata": {},
   "source": [
    "## Data\n",
    "\n",
    "A number of datasets are provided."
   ]
  },
  {
   "cell_type": "code",
   "execution_count": null,
   "id": "b097f1f7-66b4-4cb0-ac84-9553cd6119e0",
   "metadata": {},
   "outputs": [],
   "source": [
    "def add_dataset(fg, box):\n",
    "    from ipyforcegraph.sources.dataframe import DataFrameSource\n",
    "\n",
    "    datasets = sorted(Path(\"datasets\").glob(\"*.json\"), key=lambda d: d.stat().st_size)\n",
    "    picker = W.Select(\n",
    "        options={d.name: d for d in datasets},\n",
    "        multiple=False,\n",
    "        rows=1,\n",
    "        description=\"dataset\",\n",
    "    )\n",
    "\n",
    "    def on_dataset_changed(change):\n",
    "        old_source = fg.source\n",
    "        dataset = json.loads(picker.value.read_text(encoding=\"utf-8\"))\n",
    "        fg.source = DataFrameSource(**dataset)\n",
    "        old_source.close()\n",
    "\n",
    "    picker.observe(on_dataset_changed)\n",
    "    ui = U.make_a_collapsible_picker(\"graph: dataset\", children={\"\": [picker]})\n",
    "    box.graph_ui = {**box.graph_ui, \"dataset\": ui}"
   ]
  },
  {
   "cell_type": "code",
   "execution_count": null,
   "id": "8fe9fb84-a9d3-4ebe-8a4b-97f54f184105",
   "metadata": {},
   "outputs": [],
   "source": [
    "if __name__ == \"__main__\":\n",
    "    add_dataset(fg, box)"
   ]
  },
  {
   "cell_type": "markdown",
   "id": "03480b70-9d5a-44cd-8520-6eae409902d4",
   "metadata": {},
   "source": [
    "## Graph Features"
   ]
  },
  {
   "cell_type": "code",
   "execution_count": null,
   "id": "f9610cd8-6628-450f-9345-3407dacf8686",
   "metadata": {},
   "outputs": [],
   "source": [
    "features = {\n",
    "    \"default_node_color\": {\"r\": 31, \"g\": 120, \"b\": 179, \"a\": 1.0},\n",
    "    \"default_link_color\": {\"r\": 66, \"g\": 66, \"b\": 66, \"a\": 0.5},\n",
    "    \"background_color\": {\"r\": 0, \"g\": 0, \"b\": 0, \"a\": 0.0},\n",
    "}\n",
    "\n",
    "\n",
    "def add_graph_colors(fg, box):\n",
    "    for feature, default_value in features.items():\n",
    "        picker = U.make_an_rgba_picker(**default_value)\n",
    "        ui = U.make_a_collapsible_picker(\n",
    "            f\"graph: {' '.join(feature.split('_'))}\", children={\"\": [picker]}\n",
    "        )\n",
    "        T.dlink((picker, \"color\"), (fg, feature))\n",
    "        box.graph_ui = {**box.graph_ui, feature: ui}"
   ]
  },
  {
   "cell_type": "code",
   "execution_count": null,
   "id": "b2431bb8-6be5-43d8-8dc4-359ac5d3ad6d",
   "metadata": {},
   "outputs": [],
   "source": [
    "if __name__ == \"__main__\":\n",
    "    add_graph_colors(fg, box)"
   ]
  },
  {
   "cell_type": "markdown",
   "id": "3367b571-0ee6-4a47-9486-6b30743dde02",
   "metadata": {},
   "source": [
    "## Graph Behaviors"
   ]
  },
  {
   "cell_type": "markdown",
   "id": "ee45a1d4-1f69-4664-a50b-97206820914e",
   "metadata": {},
   "source": [
    "### `ImageCapture`\n",
    "\n",
    "The current image can be streamed back to the kernel."
   ]
  },
  {
   "cell_type": "code",
   "execution_count": null,
   "id": "fffa0595-34aa-4a5c-9991-d808906d992b",
   "metadata": {},
   "outputs": [],
   "source": [
    "def add_graph_image(fg, box):\n",
    "    behavior = B.GraphImage()\n",
    "    capturing = W.ToggleButton(description=\"capturing\")\n",
    "    frame_count = W.IntSlider()\n",
    "    frames = W.HBox()\n",
    "    ui = U.make_a_collapsible_picker(\n",
    "        \"graph: image\",\n",
    "        children={\n",
    "            \"capture\": [\n",
    "                W.VBox(\n",
    "                    [\n",
    "                        capturing,\n",
    "                        frame_count,\n",
    "                        frames,\n",
    "                    ]\n",
    "                )\n",
    "            ]\n",
    "        },\n",
    "    )\n",
    "    T.link((behavior, \"capturing\"), (capturing, \"value\"))\n",
    "    T.link((behavior, \"frame_count\"), (frame_count, \"value\"))\n",
    "    # T.dlink((behavior, \"frames\"), (frames, \"children\"))\n",
    "    box.behaviors = {**box.behaviors, \"graph_image\": behavior}\n",
    "    box.graph_ui = {**box.graph_ui, \"graph_image\": ui}\n",
    "    return fg, box"
   ]
  },
  {
   "cell_type": "code",
   "execution_count": null,
   "id": "25de6e44-8266-425e-8c54-b473bc42972c",
   "metadata": {},
   "outputs": [],
   "source": [
    "if __name__ == \"__main__\":\n",
    "    add_graph_image(fg, box)\n",
    "    graph_image = fg.behaviors[-1]\n",
    "\n",
    "    # change the number of images to capture to 3\n",
    "    graph_image.frame_count = 3"
   ]
  },
  {
   "cell_type": "markdown",
   "id": "5cf41064-140b-410e-a8cd-57624439ee1a",
   "metadata": {},
   "source": [
    "### `GraphData`\n",
    "\n",
    "The current graph data can be streamed back to the kernel."
   ]
  },
  {
   "cell_type": "code",
   "execution_count": null,
   "id": "c843c0bc-c0b4-4b9c-873d-72db16a20c67",
   "metadata": {},
   "outputs": [],
   "source": [
    "def add_graph_data(fg, box):\n",
    "    behavior = B.GraphData()\n",
    "    capturing = W.ToggleButton(description=\"capturing\")\n",
    "    source_count = W.IntSlider()\n",
    "    W.Text()\n",
    "    ui = U.make_a_collapsible_picker(\n",
    "        \"graph: data\",\n",
    "        children={\n",
    "            \"capture\": [\n",
    "                W.VBox(\n",
    "                    [\n",
    "                        capturing,\n",
    "                        source_count,\n",
    "                    ]\n",
    "                )\n",
    "            ]\n",
    "        },\n",
    "    )\n",
    "    T.link((behavior, \"capturing\"), (capturing, \"value\"))\n",
    "    T.link((behavior, \"source_count\"), (source_count, \"value\"))\n",
    "    box.behaviors = {**box.behaviors, \"graph_data\": behavior}\n",
    "    box.graph_ui = {**box.graph_ui, \"graph_data\": ui}\n",
    "    return fg, box"
   ]
  },
  {
   "cell_type": "code",
   "execution_count": null,
   "id": "cf9f0517-ee6f-42bf-b004-d78c70b79e40",
   "metadata": {},
   "outputs": [],
   "source": [
    "if __name__ == \"__main__\":\n",
    "    add_graph_data(fg, box)\n",
    "\n",
    "    graph_data = fg.behaviors[-1]\n",
    "\n",
    "    # change the number of source to capture to 3\n",
    "    graph_data.source_count = 3"
   ]
  },
  {
   "cell_type": "markdown",
   "id": "a44b8a8e-16ce-4ee4-8dcf-f2976f9b84dc",
   "metadata": {},
   "source": [
    "## Node Behaviors"
   ]
  },
  {
   "cell_type": "markdown",
   "id": "ac552936-9b33-489c-9033-0e8f985c07e1",
   "metadata": {},
   "source": [
    "#### Behavior Attributes\n",
    "\n",
    "Behavior attributes support either a `Column` or a `Nunjunks` template.\n",
    "\n",
    "`Nunjucks` take the form of\n",
    "[nunjucks templates](https://mozilla.github.io/nunjucks/templating.html), this allows\n",
    "for calculating dynamic values on the client.\n",
    "\n",
    "The syntax is intentionally very similar to\n",
    "[jinja2](https://jinja.palletsprojects.com/en/3.1.x/templates), and a number of\n",
    "[extra template functions](#Templates) are provided\n",
    "\n",
    "Inside of a template, one can use:\n",
    "\n",
    "- `node`\n",
    "  - this will have all of the named columns available to it\n",
    "- `graphData`\n",
    "  - `nodes`\n",
    "  - `links`\n",
    "    - `source` and `target` as realized nodes\n",
    "\n",
    "With these, and basic template tools, one can generate all kinds of interesting effects.\n",
    "For the example data above, try these color templates:\n",
    "\n",
    "- color by group\n",
    "  > ```python\n",
    "  > {{ [\"red\", \"yellow\", \"blue\", \"orange\", \"purple\", \"magenta\"][node.group] }}\n",
    "  > ```\n",
    "- color by out-degree\n",
    "  > ```python\n",
    "  > {% set n = 0 %}\n",
    "  > {% for link in graphData.links %}\n",
    "  >   {% if link.source.id == node.id %}{% set n = n + 1 %}{% endif %}\n",
    "  > {% endfor %}\n",
    "  > {% set c = 256 * (7-n) / 7 %}\n",
    "  > rgb({{ c }},0,0)\n",
    "  > ```"
   ]
  },
  {
   "cell_type": "markdown",
   "id": "cccd2fcb-4b03-403c-8371-6cc51bd984c2",
   "metadata": {},
   "source": [
    "### `NodeSelection`\n",
    "\n",
    "The `NodeSelection` behavior allows for selecting one or more nodes from the browser, or\n",
    "updating from the kernel.\n",
    "\n",
    "By default, this is purely transient data, but can be populated with data accessible\n",
    "when recording with [`GraphData`](#GraphData) by setting a `column_name`."
   ]
  },
  {
   "cell_type": "code",
   "execution_count": null,
   "id": "ae7d15a9-2a6e-476c-909e-e28e4d9809cd",
   "metadata": {
    "tags": []
   },
   "outputs": [],
   "source": [
    "def add_node_selection(fg, box):\n",
    "    selection = B.NodeSelection()\n",
    "\n",
    "    ui_column_name = W.Text(placeholder=\"update column\")\n",
    "    T.dlink(\n",
    "        (ui_column_name, \"value\"),\n",
    "        (selection, \"column_name\"),\n",
    "        lambda x: x.strip() if x.strip() else None,\n",
    "    )\n",
    "\n",
    "    ui_selection = W.TagsInput(\n",
    "        placeholder=\"select some node indices\",\n",
    "        allowed_tags=[*sorted(fg.source.nodes.id)],\n",
    "    )\n",
    "\n",
    "    def on_source_change(change):\n",
    "        ui_selection.value = []\n",
    "        ui_selection.allowed_tags = sorted(fg.source.nodes.id)\n",
    "\n",
    "    def on_node_selected(change):\n",
    "        if not change.new:\n",
    "            ui_selection.value = []\n",
    "        selected_ids = set(fg.source.nodes.id[[*change.new]])\n",
    "        if selected_ids.symmetric_difference(ui_selection.value):\n",
    "            ui_selection.value = tuple(selected_ids)\n",
    "\n",
    "    def on_tag_selected(change):\n",
    "        if not change.new:\n",
    "            selection.selected = []\n",
    "        all_ids = [*fg.source.nodes.id]\n",
    "        selected_indices = {all_ids.index(id_) for id_ in change.new}\n",
    "        if selected_indices.symmetric_difference(selection.selected):\n",
    "            selection.selected = tuple(selected_indices)\n",
    "\n",
    "    fg.observe(on_source_change, [\"source\"])\n",
    "    selection.observe(on_node_selected, [\"selected\"])\n",
    "    ui_selection.observe(on_tag_selected, [\"value\"])\n",
    "\n",
    "    ui = W.HBox([ui_column_name, ui_selection])\n",
    "\n",
    "    box.behaviors = {**box.behaviors, \"node_selection\": selection}\n",
    "    box.node_ui = {**box.node_ui, \"node_selection\": ui}\n",
    "    return fg, box"
   ]
  },
  {
   "cell_type": "code",
   "execution_count": null,
   "id": "d4de87e4-6c4f-43c2-9802-bef3d4e68b48",
   "metadata": {
    "tags": []
   },
   "outputs": [],
   "source": [
    "if __name__ == \"__main__\":\n",
    "    add_node_selection(fg, box)"
   ]
  },
  {
   "cell_type": "markdown",
   "id": "c57bf25d-a767-4969-a985-92a264bf6ab9",
   "metadata": {
    "tags": []
   },
   "source": [
    "### `NodeShapes`\n",
    "\n",
    "> Node Styling (e.g., color, size, shape)\n",
    "\n",
    "Node colors, shape, and size can be set using the `NodeShapes`, more information on the\n",
    "[⭐ Shapes](./Shapes.ipynb) notebook."
   ]
  },
  {
   "cell_type": "code",
   "execution_count": null,
   "id": "7f3d5f04-cd2d-48d0-8fc2-faf9efdb9f91",
   "metadata": {},
   "outputs": [],
   "source": [
    "if __name__ == \"__main__\":\n",
    "    shape_ui = S.make_full_node_shape_ui(fg, box)"
   ]
  },
  {
   "cell_type": "markdown",
   "id": "4cb62bb8-b122-4e5d-b8fb-04bab2c127df",
   "metadata": {},
   "source": [
    "> 💡 Note that the nodes changed colors. Click a node to select it, or use\n",
    "> <kbd>ctrl</kbd> or <kbd>shift</kbd> to select multiple nodes."
   ]
  },
  {
   "cell_type": "markdown",
   "id": "615dba57-a08f-45a4-bd60-5d04519c5075",
   "metadata": {},
   "source": [
    "The selection is handed back from the client, and can be used with other widgets."
   ]
  },
  {
   "cell_type": "markdown",
   "id": "96990557-2450-4600-889e-d6e19fa72909",
   "metadata": {},
   "source": [
    "### `NodeTooltip`\n",
    "\n",
    "Node labels can be revealed when hovering over the node. By default the node's `id`\n",
    "column will be used."
   ]
  },
  {
   "cell_type": "code",
   "execution_count": null,
   "id": "478848d8-a8cd-4aed-a6cb-314464cbaea5",
   "metadata": {
    "tags": []
   },
   "outputs": [],
   "source": [
    "def add_node_tooltips(fg, box, column_name=\"id\"):\n",
    "    behavior = B.NodeTooltip()\n",
    "    ui_label_column = W.Dropdown(\n",
    "        options=list(fg.source.nodes.columns), value=column_name\n",
    "    )\n",
    "    U.subscribe_to_columns(fg, \"nodes\", ui_label_column, \"options\")\n",
    "    ui_label_template = W.Textarea()\n",
    "    ui_label_template_enabled = W.Checkbox(description=\"enabled?\")\n",
    "    T.dlink((ui_label_column, \"value\"), (behavior, \"label\"), lambda x: B.Column(x))\n",
    "    T.dlink(\n",
    "        (ui_label_template, \"value\"),\n",
    "        (behavior, \"label\"),\n",
    "        lambda x: B.Nunjucks(x) if ui_label_template_enabled.value else None,\n",
    "    )\n",
    "    ui = U.make_a_collapsible_picker(\n",
    "        \"node: tooltip\",\n",
    "        {\n",
    "            \"off\": [],\n",
    "            \"column\": [ui_label_column],\n",
    "            \"template\": [W.VBox([ui_label_template_enabled, ui_label_template])],\n",
    "        },\n",
    "    )\n",
    "    label = \"node: labels\"\n",
    "    box.node_ui = {**box.node_ui, label: ui}\n",
    "    U.make_link_dropdown_responsive(behavior, label, ui, box)\n",
    "    return fg, box"
   ]
  },
  {
   "cell_type": "code",
   "execution_count": null,
   "id": "4a1e78bb-e851-4c25-a15b-aa2bc40051e3",
   "metadata": {},
   "outputs": [],
   "source": [
    "if __name__ == \"__main__\":\n",
    "    add_node_tooltips(fg, box)"
   ]
  },
  {
   "cell_type": "markdown",
   "id": "e5ec4f5c-931b-44a4-9744-fb5a7b733511",
   "metadata": {},
   "source": [
    "#### Label templates\n",
    "\n",
    "`NodeTooltips` accepts [templates](#Behavior-Attributes). The resulting value may be\n",
    "plain strings or HTML.\n",
    "\n",
    "Here are some examples, again for the example data:\n",
    "\n",
    "- just a header\n",
    "  > ```html\n",
    "  > <h1>{{ node.id }}</h1>\n",
    "  > ```\n",
    "- a table\n",
    "  > ```html\n",
    "  > <table>\n",
    "  >  <tr><th>id</th><th>group</th></td>\n",
    "  >  {% for link in graphData.links %}\n",
    "  >  {% if link.source.id == node.id %}\n",
    "  >  <tr><td>{{ link.target.id }}</td><td>{{ link.target.group }}</td>\n",
    "  >  {% endif %}\n",
    "  >  {% endfor %}\n",
    "  > </table>\n",
    "  > ```"
   ]
  },
  {
   "cell_type": "markdown",
   "id": "03de4849-7f41-477d-843e-cce59a20d4a6",
   "metadata": {},
   "source": [
    "## Link Behaviors"
   ]
  },
  {
   "cell_type": "markdown",
   "id": "0f05d5f4-d62a-4b42-8e32-004e236e52aa",
   "metadata": {},
   "source": [
    "### `LinkSelection`\n",
    "\n",
    "Like the `NodeSelection` behavior, this allows for selecting one or more links from the\n",
    "browser, or updating from the kernel."
   ]
  },
  {
   "cell_type": "code",
   "execution_count": null,
   "id": "d3e6b5df-517c-47e9-b08e-e71734d61f47",
   "metadata": {},
   "outputs": [],
   "source": [
    "def add_link_selection(fg, box):\n",
    "    selection = B.LinkSelection()\n",
    "\n",
    "    ui_column_name = W.Text(placeholder=\"update column\")\n",
    "    T.dlink(\n",
    "        (ui_column_name, \"value\"),\n",
    "        (selection, \"column_name\"),\n",
    "        lambda x: x.strip() if x.strip() else None,\n",
    "    )\n",
    "\n",
    "    ui_selection = W.IntsInput(\n",
    "        placeholder=\"select some link indices\",\n",
    "        allowed_tags=[*range(len(fg.source.links))],\n",
    "    )\n",
    "\n",
    "    def on_source_change(change):\n",
    "        ui_selection.value = []\n",
    "        ui_selection.allowed_tags = [*range(len(fg.source.links))]\n",
    "\n",
    "    fg.observe(on_source_change, [\"source\"])\n",
    "    ui = W.HBox([ui_column_name, ui_selection])\n",
    "    box.behaviors = {**box.behaviors, \"link_selection\": selection}\n",
    "    box.link_ui = {**box.link_ui, \"link_selection\": ui}\n",
    "    T.link((selection, \"selected\"), (ui_selection, \"value\"))\n",
    "    return fg, box"
   ]
  },
  {
   "cell_type": "code",
   "execution_count": null,
   "id": "6cc595f4-f9c9-44ec-a395-73b3451e9dd4",
   "metadata": {},
   "outputs": [],
   "source": [
    "if __name__ == \"__main__\":\n",
    "    add_link_selection(fg, box)"
   ]
  },
  {
   "cell_type": "markdown",
   "id": "19ce3d0c-68a2-41fd-a386-5009672ba1c6",
   "metadata": {},
   "source": [
    "> 💡 Note that the links changed colors. Click a link to select it, or use\n",
    "> <kbd>ctrl</kbd> or <kbd>shift</kbd> to select multiple links."
   ]
  },
  {
   "cell_type": "markdown",
   "id": "358a1d65-d246-4085-9575-824bb809d9bf",
   "metadata": {},
   "source": [
    "The selection is handed back from the client, and can be used with other widgets."
   ]
  },
  {
   "cell_type": "markdown",
   "id": "5ecec943-13b8-44e8-b207-6c4e498f81e8",
   "metadata": {},
   "source": [
    "### `LinkShapes`\n",
    "\n",
    "Link `widths` and `colors` can also be configured by `Column`, a `Nunjucks` template, or\n",
    "by literal values. In addition, the `shapes` trait can carry one or more\n",
    "[text shapes](./LinkText.ipynb)."
   ]
  },
  {
   "cell_type": "code",
   "execution_count": null,
   "id": "c787ac16-f09d-4945-ab56-0579aef1b562",
   "metadata": {
    "tags": []
   },
   "outputs": [],
   "source": [
    "def add_link_shapes(fg, box):\n",
    "    return U.add_behavior(B.LinkShapes(), fg, box, \"link: shapes\", \"links\")"
   ]
  },
  {
   "cell_type": "code",
   "execution_count": null,
   "id": "365183f3-724e-42b3-9128-fe38226be9aa",
   "metadata": {
    "tags": []
   },
   "outputs": [],
   "source": [
    "if __name__ == \"__main__\":\n",
    "    add_link_shapes(fg, box)"
   ]
  },
  {
   "cell_type": "markdown",
   "id": "a832686d-3178-4a68-b290-c1478cd3a25d",
   "metadata": {},
   "source": [
    "### `LinkTooltip`\n",
    "\n",
    "Link labels are revealed when hovered. Their value can be formatted using `HTML`, using\n",
    "`Column`, a `Nunjucks` template, or by literal values."
   ]
  },
  {
   "cell_type": "code",
   "execution_count": null,
   "id": "d2f57882-deed-40f2-9b46-765ee56f0e9e",
   "metadata": {},
   "outputs": [],
   "source": [
    "def add_link_tooltips(fg, box):\n",
    "    return U.add_behavior(B.LinkTooltip(), fg, box, \"link: tooltips\", \"links\")"
   ]
  },
  {
   "cell_type": "code",
   "execution_count": null,
   "id": "18d60c6c-027e-4587-8840-c3db8c71f624",
   "metadata": {},
   "outputs": [],
   "source": [
    "if __name__ == \"__main__\":\n",
    "    add_link_tooltips(fg, box)"
   ]
  },
  {
   "cell_type": "markdown",
   "id": "b0f76652-37e2-4547-a265-3dd5c4630b58",
   "metadata": {},
   "source": [
    "### `LinkArrows`\n",
    "\n",
    "Display the directionality (and potentially other properties) of a link using an\n",
    "`arrow`."
   ]
  },
  {
   "cell_type": "code",
   "execution_count": null,
   "id": "ed5924f8-684f-400c-b7ae-7707bd7689b0",
   "metadata": {},
   "outputs": [],
   "source": [
    "def add_link_arrows(fg, box):\n",
    "    return U.add_behavior(B.LinkArrows(), fg, box, \"link: arrows\", \"links\")"
   ]
  },
  {
   "cell_type": "code",
   "execution_count": null,
   "id": "2435faa8-d542-46b5-b115-11156f9b6c46",
   "metadata": {},
   "outputs": [],
   "source": [
    "if __name__ == \"__main__\":\n",
    "    add_link_arrows(fg, box)"
   ]
  },
  {
   "cell_type": "markdown",
   "id": "36668d7f-9912-4ddc-9471-4174b866b419",
   "metadata": {},
   "source": [
    "### `Particles`\n",
    "\n",
    "Can be used to dynamically illustrate properties on a `link`, e.g., directionality, or\n",
    "some quantitative measure through their properties:\n",
    "\n",
    "- `color`: can be specified `Column`, a `Nunjucks` template, or by literal string value.\n",
    "- `speed`: can be specified `Column`, a `Nunjucks` template, or by literal numeric\n",
    "  value, ideally `0.0 < speed < ~0.1`.\n",
    "- `width`: the size of the particles, `ideally 0.0 < width < ~5`\n",
    "- `density`: the number of particles on a link, ideally `greater than 0.0`."
   ]
  },
  {
   "cell_type": "code",
   "execution_count": null,
   "id": "2839dfdc-80f8-481c-8571-9c66a457b850",
   "metadata": {},
   "outputs": [],
   "source": [
    "def add_link_particles(fg, box):\n",
    "    return U.add_behavior(B.LinkParticles(), fg, box, \"link: particles\", \"links\")"
   ]
  },
  {
   "cell_type": "code",
   "execution_count": null,
   "id": "250cd023-7d23-42a5-9f1d-ab04ffd535c9",
   "metadata": {},
   "outputs": [],
   "source": [
    "if __name__ == \"__main__\":\n",
    "    add_link_particles(fg, box)"
   ]
  },
  {
   "cell_type": "markdown",
   "id": "97cddfbf-7dc0-44ee-8554-2704e632a802",
   "metadata": {},
   "source": [
    "## Templates\n",
    "\n",
    "In addition to the\n",
    "[built-in `nunjucks` globals, templates, and tags](https://mozilla.github.io/nunjucks/templating.html),\n",
    "the following\n",
    "[JS `Math`](https://developer.mozilla.org/en-US/docs/Web/JavaScript/Reference/Global_Objects/Math)\n",
    "constants and functions are also exposed."
   ]
  },
  {
   "cell_type": "markdown",
   "id": "cdb5dca7-c869-4bba-a8e2-f6e364463f72",
   "metadata": {},
   "source": [
    "### Collections"
   ]
  },
  {
   "cell_type": "markdown",
   "id": "c98d240c-6ff7-4e83-bb30-0138f74fa9ea",
   "metadata": {},
   "source": [
    "#### `where`\n",
    "\n",
    "Return all items that match a given attribute, e.g. for `NodeSizes.template` to scale a\n",
    "node by out-degree.\n",
    "\n",
    "```\n",
    "{{ graphData.links | where('source', node) | count }}\n",
    "```"
   ]
  },
  {
   "cell_type": "markdown",
   "id": "ca7a560b-e7e5-4952-947f-e9c369f3bd81",
   "metadata": {},
   "source": [
    "### Time\n",
    "\n",
    "#### `now`\n",
    "\n",
    "Returns the current high-precision time from\n",
    "[`performance.now`](https://developer.mozilla.org/en-US/docs/Web/API/Performance/now)"
   ]
  },
  {
   "cell_type": "markdown",
   "id": "ea088d7d-3f0b-4b19-b16a-8d65da4296b2",
   "metadata": {},
   "source": [
    "### Constants\n",
    "\n",
    "> All are referenced directly, e.g., `{{ E }}`\n",
    "\n",
    "|   Name    |   Symbol / Function    |        Value        |\n",
    "| :-------: | :--------------------: | :-----------------: |\n",
    "|    `E`    |         $$e$$          |  $$\\approx 2.718$$  |\n",
    "|   `PI`    |        $$\\pi$$         | $$\\approx 3.14159$$ |\n",
    "|   `LN2`   |       $$\\ln(2)$$       |  $$\\approx 0.693$$  |\n",
    "|  `LN10`   |      $$\\ln(10)$$       |  $$\\approx 2.302$$  |\n",
    "|  `LOG2E`  |     $$\\log_{2}e$$      |  $$\\approx 1.442$$  |\n",
    "| `LOG10E`  |     $$\\log_{10}e$$     |  $$\\approx 0.434$$  |\n",
    "| `SQRT1_2` | $$\\sqrt{\\frac{1}{2}}$$ |  $$\\approx 0.707$$  |\n",
    "|  `SQRT2`  |      $$\\sqrt{2}$$      |  $$\\approx 1.414$$  |"
   ]
  },
  {
   "cell_type": "markdown",
   "id": "4f5a1176-c6f0-4e50-a4db-76a1fa376a5c",
   "metadata": {},
   "source": [
    "### Unary Math Functions\n",
    "\n",
    "> All accept a single numeric argument, e.g., `{{ acos(node.value) }}`\n",
    "\n",
    "|   Name   |              Function               | Description                                                                                                |\n",
    "| :------: | :---------------------------------: | :--------------------------------------------------------------------------------------------------------- |\n",
    "|  `acos`  |           $$\\arccos(x)$$            | inverse cosine ($x$ in radians)                                                                            |\n",
    "| `acosh`  |    $$\\ln( x + \\sqrt{x^2 - 1} )$$    | inverse hyperbolic cosine                                                                                  |\n",
    "|  `asin`  |           $$\\arcsin(x)$$            | inverse sine ($x$ in radians)                                                                              |\n",
    "| `asinh`  |      $$\\ln{(x+\\sqrt{x^2+1})}$$      | inverse hyperbolic sine                                                                                    |\n",
    "|  `atan`  |           $$\\arctan(x)$$            | inverse tangent ($x$ in radians)                                                                           |\n",
    "| `atanh`  | $$\\frac{1}{2}\\ln(\\frac{1+x}{1-x})$$ | inverse hyperbolic tangent                                                                                 |\n",
    "|  `cbrt`  |           $$\\sqrt[3]{x}$$           | cube root                                                                                                  |\n",
    "|  `ceil`  |         $$\\lceil{x}\\rceil$$         | rounds up and returns the smaller integer greater than or equal to a given number                          |\n",
    "|  `cos`   |             $$\\cos(x)$$             | cosine ($x$ in radians)                                                                                    |\n",
    "|  `cosh`  |      $$\\frac{e^x+e^{-x}}{2}$$       | hyperbolic cosine                                                                                          |\n",
    "|  `exp`   |              $$e^{x}$$              | $e$ raised to the given power                                                                              |\n",
    "| `expm1`  |             $$e^x - 1$$             | $e$ raised to the power of a number minus 1                                                                |\n",
    "| `floor`  |        $$\\lfloor{x}\\rfloor$$        | rounds down and returns the largest integer less than or equal to a given number                           |\n",
    "| `fround` |                                     | the nearest 32-bit single precision float representation of a number                                       |\n",
    "|  `log`   |             $$\\ln{x}$$              | natural logarithm (base $e$) of a number                                                                   |\n",
    "| `log10`  |          $$\\log_{10}{x}$$           | base 10 logarithm of a number                                                                              |\n",
    "| `log1p`  |           $$\\ln{(1+x)}$$            | natural logarithm of $1 + x$                                                                               |\n",
    "|  `log2`  |           $$\\log_{2}{x}$$           | base 2 logarithm of a number                                                                               |\n",
    "|  `sign`  |                                     | returns $1$ or $-1$, indicating the sign of the number passed as argument, $0$ or $-0$ are returned as-is. |\n",
    "|  `sin`   |             $$\\sin(x)$$             | sine ($x$ in radians)                                                                                      |\n",
    "|  `sinh`  |      $$\\frac{e^x-e^{-x}}{2}$$       | hyperbolic sine                                                                                            |\n",
    "|  `sqrt`  |            $$\\sqrt{x}$$             | square root                                                                                                |\n",
    "|  `tan`   |             $$\\tan{x}$$             | tangent ($x$ in radians)                                                                                   |\n",
    "|  `tanh`  |  $$\\frac{e^x-e^{-x}}{e^x+e^{-x}}$$  | hyperbolic tangent                                                                                         |\n",
    "| `trunc`  |                                     | truncate float to the integer part, e.g., `trunc(41.84) = 41`                                              |"
   ]
  },
  {
   "cell_type": "markdown",
   "id": "d90628fc-5c85-403c-8acd-bb660728934f",
   "metadata": {},
   "source": [
    "### Binary Math Functions\n",
    "\n",
    "> All accept exactly two numerical arguments, e.g., `{{ imul(node.value, 1) }}`\n",
    "\n",
    "| Function Name |      Symbol       |                    Description                     |\n",
    "| :-----------: | :---------------: | :------------------------------------------------: |\n",
    "|    `atan2`    | $$\\arctan(y, x)$$ |    arctangent of the quotient of its arguments     |\n",
    "|    `imul`     |                   | C-like 32-bit multiplication of the two parameters |"
   ]
  },
  {
   "cell_type": "markdown",
   "id": "ea0e5496-db57-4923-8a33-9cf3bba53ee2",
   "metadata": {},
   "source": [
    "### N-ary Math Functions\n",
    "\n",
    "> All accept _either_ a `list of numbers` or `n-numeric arguments`, e.g.,\n",
    "> `{{ min([4,5,6]) }}`, `{{ min(3,2,1) }}`\n",
    "\n",
    "| Function Name |                 Symbol                 |        Description        |\n",
    "| :-----------: | :------------------------------------: | :-----------------------: |\n",
    "|    `hypot`    | $$\\sqrt{x_1^2 + x_2^2 + ... + x_n^2}$$ | n-dimensional hypothenuse |\n",
    "|     `max`     |      $$\\max(x_1, x_2, ..., x_n)$$      |       maximum value       |\n",
    "|     `min`     |      $$\\min(x_1, x_2, ..., x_n)$$      |       minimum value       |"
   ]
  },
  {
   "cell_type": "code",
   "execution_count": null,
   "id": "6f15b305-75c1-4692-8250-f7eaf8d296b3",
   "metadata": {
    "tags": []
   },
   "outputs": [],
   "source": [
    "all_behaviors = [\n",
    "    add_dataset,\n",
    "    add_graph_colors,\n",
    "    add_graph_image,\n",
    "    add_graph_data,\n",
    "    add_node_selection,\n",
    "    add_node_tooltips,\n",
    "    add_link_selection,\n",
    "    add_link_tooltips,\n",
    "    add_link_shapes,\n",
    "    add_link_arrows,\n",
    "    add_link_particles,\n",
    "]"
   ]
  }
 ],
 "metadata": {
  "kernelspec": {
   "display_name": "Python 3 (ipykernel)",
   "language": "python",
   "name": "python3"
  },
  "language_info": {
   "codemirror_mode": {
    "name": "ipython",
    "version": 3
   },
   "file_extension": ".py",
   "mimetype": "text/x-python",
   "name": "python",
   "nbconvert_exporter": "python",
   "pygments_lexer": "ipython3",
   "version": "3.11.4"
  }
 },
 "nbformat": 4,
 "nbformat_minor": 5
}
