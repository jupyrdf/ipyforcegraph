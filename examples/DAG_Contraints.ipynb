{
 "cells": [
  {
   "cell_type": "markdown",
   "id": "873e787a-c90a-4fb4-b095-f0d48b45bc5e",
   "metadata": {},
   "source": [
    "# DAG Constraint Demo 🥦"
   ]
  },
  {
   "cell_type": "code",
   "execution_count": null,
   "id": "b9d276ac-b3ed-4410-9056-578eea1458b5",
   "metadata": {
    "tags": []
   },
   "outputs": [],
   "source": [
    "if __name__ == \"__main__\" and \"pyodide\" in __import__(\"sys\").modules:\n",
    "    %pip install -q -r requirements.txt"
   ]
  },
  {
   "cell_type": "code",
   "execution_count": null,
   "id": "7d6746c8-9c4f-40ab-b326-8b7eba2a86ce",
   "metadata": {
    "tags": []
   },
   "outputs": [],
   "source": [
    "import asyncio\n",
    "\n",
    "from ipyforcegraph.behaviors.dag_mode import DAGBehavior, DAGMode\n",
    "import ipywidgets as W\n",
    "import traitlets as T\n",
    "\n",
    "with __import__(\"importnb\").Notebook():\n",
    "    import Behaviors as B\n",
    "    import Forces as F\n",
    "    import Utils as U"
   ]
  },
  {
   "cell_type": "code",
   "execution_count": null,
   "id": "c13e2350-546c-45c9-9544-15343e1051da",
   "metadata": {
    "tags": []
   },
   "outputs": [],
   "source": [
    "fg, box = U.make_a_demo()\n",
    "display(box)"
   ]
  },
  {
   "cell_type": "code",
   "execution_count": null,
   "id": "3e2e095e-e1d9-46ed-ba40-1dd02e65f2f4",
   "metadata": {
    "tags": []
   },
   "outputs": [],
   "source": [
    "def toggle_ui(behavior):\n",
    "    force_enabled = W.Checkbox(value=True, description=\"enabled?\")\n",
    "    T.link((behavior, \"active\"), (force_enabled, \"value\"))\n",
    "    return force_enabled\n",
    "\n",
    "\n",
    "def add_dag_behavior(fg, box):\n",
    "    dag_behavior = DAGBehavior()\n",
    "\n",
    "    dag_options = [(a.name.title().replace(\"_\", \" \"), a.value) for a in DAGMode]\n",
    "\n",
    "    mode_ui = W.Dropdown(\n",
    "        options=dag_options,\n",
    "        description=\"Mode\",\n",
    "    )\n",
    "    distance_slider = W.FloatSlider(min=0, max=500)\n",
    "    filter_template = W.Textarea(\n",
    "        layout=dict(max_width=\"100%\"), placeholder=\"{{node}} is defined.\"\n",
    "    )\n",
    "\n",
    "    T.link((dag_behavior, \"level_distance\"), (distance_slider, \"value\"))\n",
    "    T.link((dag_behavior, \"mode\"), (mode_ui, \"value\"))\n",
    "    T.link((dag_behavior, \"node_filter\"), (filter_template, \"value\"))\n",
    "\n",
    "    controls = [\n",
    "        toggle_ui(dag_behavior),\n",
    "        mode_ui,\n",
    "        distance_slider,\n",
    "        filter_template,\n",
    "    ]\n",
    "    fg.behaviors = []\n",
    "    dag_ui = U.ensure_graph_force_ui(\n",
    "        fg, box, {\"dag\": [W.VBox(controls, layout={\"flex\": \"1\"})]}\n",
    "    )\n",
    "\n",
    "    box.behaviors = {**box.behaviors, \"dag\": dag_behavior}\n",
    "    # box.graph_ui = {**box.graph_ui, \"graph_image\": ui}\n",
    "\n",
    "    return fg, box\n",
    "\n",
    "\n",
    "if __name__ == \"__main__\":\n",
    "    fg, box = add_dag_behavior(fg, box)"
   ]
  },
  {
   "cell_type": "code",
   "execution_count": null,
   "id": "1dc808d0-1c8e-42e1-9b2b-88ea2aef0eb9",
   "metadata": {
    "tags": []
   },
   "outputs": [],
   "source": [
    "if __name__ == \"__main__\":\n",
    "    for add_behavior in [*B.all_behaviors, *F.all_forces]:\n",
    "        add_behavior(fg, box)"
   ]
  },
  {
   "cell_type": "code",
   "execution_count": null,
   "id": "613023ad-6e71-4f10-a9c4-f25bce40b138",
   "metadata": {},
   "outputs": [],
   "source": []
  }
 ],
 "metadata": {
  "kernelspec": {
   "display_name": "Python 3 (ipykernel)",
   "language": "python",
   "name": "python3"
  },
  "language_info": {
   "codemirror_mode": {
    "name": "ipython",
    "version": 3
   },
   "file_extension": ".py",
   "mimetype": "text/x-python",
   "name": "python",
   "nbconvert_exporter": "python",
   "pygments_lexer": "ipython3",
   "version": "3.11.0"
  }
 },
 "nbformat": 4,
 "nbformat_minor": 5
}
