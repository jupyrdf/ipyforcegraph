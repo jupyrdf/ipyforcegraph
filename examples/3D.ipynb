{
 "cells": [
  {
   "cell_type": "markdown",
   "id": "a90e6ee8-422c-4c82-8945-a78ec51a4c28",
   "metadata": {},
   "source": [
    "# 🔮 3D\n",
    "\n",
    "The 3D graph shares most of the same [behaviors](./Behaviors.ipynb) as the 2D graph."
   ]
  },
  {
   "cell_type": "code",
   "execution_count": null,
   "id": "58ac5386-3099-4e55-9b76-ad6d1821a89b",
   "metadata": {},
   "outputs": [],
   "source": [
    "if __name__ == \"__main__\" and \"pyodide\" in __import__(\"sys\").modules:\n",
    "    %pip install -q -r requirements.txt"
   ]
  },
  {
   "cell_type": "code",
   "execution_count": null,
   "id": "e6accf09-c655-4868-b7d9-dde0eb24b0a2",
   "metadata": {},
   "outputs": [],
   "source": [
    "with __import__(\"importnb\").Notebook():\n",
    "    import Behaviors as B\n",
    "    from _index import make_a_simple_example"
   ]
  },
  {
   "cell_type": "code",
   "execution_count": null,
   "id": "6fb9bb66-13c5-4566-acc0-b9052d3b6f40",
   "metadata": {},
   "outputs": [],
   "source": [
    "from ipyforcegraph.forcegraph import ForceGraph3D\n",
    "\n",
    "behaviors = [\n",
    "    B.add_graph_image,\n",
    "    B.add_node_selection,\n",
    "    B.add_node_colors,\n",
    "    B.add_node_labels,\n",
    "    B.add_link_colors,\n",
    "    B.add_link_labels,\n",
    "    B.add_link_directional_arrow_color,\n",
    "    B.add_link_directional_arrow_length,\n",
    "    B.add_link_directional_arrow_rel_pos,\n",
    "    B.add_link_directional_particle_color,\n",
    "    B.add_link_directional_particle_speed,\n",
    "    B.add_link_directional_particle_width,\n",
    "    B.add_link_directional_particles,\n",
    "]\n",
    "\n",
    "\n",
    "def make_a_full_3d_example():\n",
    "    fg, box = make_a_simple_example(GraphClass=ForceGraph3D)\n",
    "    for add_behavior in behaviors:\n",
    "        add_behavior(fg, box)\n",
    "    return fg, box"
   ]
  },
  {
   "cell_type": "code",
   "execution_count": null,
   "id": "cbfa0010-6553-41e3-a9c9-80b59d1c89fa",
   "metadata": {
    "slideshow": {
     "slide_type": "slide"
    },
    "tags": []
   },
   "outputs": [],
   "source": [
    "if __name__ == \"__main__\":\n",
    "    fg, box = make_a_full_3d_example()\n",
    "    display(box)"
   ]
  },
  {
   "cell_type": "markdown",
   "id": "74dfd107-ef1a-4236-90d3-5332261ed05e",
   "metadata": {},
   "source": [
    "```{hint}\n",
    "The faint text at the bottom of the view suggests how to navigate within the 3D graph:\n",
    "\n",
    "> Left-click: rotate. Mouse-wheel/middle-click: zoom. Right-click: pan\n",
    "```"
   ]
  }
 ],
 "metadata": {
  "kernelspec": {
   "display_name": "Python 3 (ipykernel)",
   "language": "python",
   "name": "python3"
  },
  "language_info": {
   "codemirror_mode": {
    "name": "ipython",
    "version": 3
   },
   "file_extension": ".py",
   "mimetype": "text/x-python",
   "name": "python",
   "nbconvert_exporter": "python",
   "pygments_lexer": "ipython3",
   "version": "3.11.0"
  }
 },
 "nbformat": 4,
 "nbformat_minor": 5
}
