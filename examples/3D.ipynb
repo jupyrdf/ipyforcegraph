{
 "cells": [
  {
   "cell_type": "markdown",
   "id": "a90e6ee8-422c-4c82-8945-a78ec51a4c28",
   "metadata": {},
   "source": [
    "# 🪩 3D"
   ]
  },
  {
   "cell_type": "code",
   "execution_count": null,
   "id": "58ac5386-3099-4e55-9b76-ad6d1821a89b",
   "metadata": {},
   "outputs": [],
   "source": [
    "if __name__ == \"__main__\":\n",
    "    %pip install -q -r requirements.txt"
   ]
  },
  {
   "cell_type": "code",
   "execution_count": null,
   "id": "32dcf622-cd7e-41e7-8658-f31d4db9ce37",
   "metadata": {},
   "outputs": [],
   "source": [
    "import random\n",
    "\n",
    "import ipywidgets as W\n",
    "import networkx as nx\n",
    "import numpy as np\n",
    "\n",
    "from ipyforcegraph.forcegraph import ForceGraph3D"
   ]
  },
  {
   "cell_type": "code",
   "execution_count": null,
   "id": "5f8faea8-cca6-41ee-8d29-ec3a63c5b7cc",
   "metadata": {
    "tags": []
   },
   "outputs": [],
   "source": [
    "fg3 = ForceGraph3D()\n",
    "fg3"
   ]
  },
  {
   "cell_type": "code",
   "execution_count": null,
   "id": "ae9a7e52-c687-408c-92d7-ab964aa44196",
   "metadata": {},
   "outputs": [],
   "source": [
    "atlas = nx.graph_atlas_g()"
   ]
  },
  {
   "cell_type": "code",
   "execution_count": null,
   "id": "1063aeed-61c4-4439-8d24-e1c04adda0ac",
   "metadata": {},
   "outputs": [],
   "source": [
    "def update_graph(i: int = None) -> None:\n",
    "    G = atlas[i if i is not None else random.randint(0, len(atlas))]\n",
    "    nodes = list(G.nodes)\n",
    "    fg3.source.nodes.array = np.array(nodes, dtype=np.int32)\n",
    "    fg3.source.links.array = np.array(\n",
    "        [[nodes.index(source), nodes.index(target)] for source, target in G.edges],\n",
    "        dtype=np.int32,\n",
    "    )\n",
    "\n",
    "\n",
    "update_graph()"
   ]
  },
  {
   "cell_type": "code",
   "execution_count": null,
   "id": "36906fb0-51d5-42b4-9710-e5b327d1fb9d",
   "metadata": {},
   "outputs": [],
   "source": [
    "@W.interact\n",
    "def g(i=(0, len(atlas) - 1)):\n",
    "    update_graph(i)"
   ]
  }
 ],
 "metadata": {
  "kernelspec": {
   "display_name": "Python 3 (ipykernel)",
   "language": "python",
   "name": "python3"
  },
  "language_info": {
   "codemirror_mode": {
    "name": "ipython",
    "version": 3
   },
   "file_extension": ".py",
   "mimetype": "text/x-python",
   "name": "python",
   "nbconvert_exporter": "python",
   "pygments_lexer": "ipython3",
   "version": "3.11.0"
  }
 },
 "nbformat": 4,
 "nbformat_minor": 5
}
