{
 "cells": [
  {
   "cell_type": "markdown",
   "id": "a90e6ee8-422c-4c82-8945-a78ec51a4c28",
   "metadata": {},
   "source": [
    "# 🔮 3D\n",
    "\n",
    "The 3D graph shares most of the same [behaviors](./Behaviors.ipynb) as the 2D graph."
   ]
  },
  {
   "cell_type": "code",
   "execution_count": null,
   "id": "58ac5386-3099-4e55-9b76-ad6d1821a89b",
   "metadata": {
    "tags": []
   },
   "outputs": [],
   "source": [
    "if __name__ == \"__main__\" and \"pyodide\" in __import__(\"sys\").modules:\n",
    "    %pip install -q -r requirements.txt"
   ]
  },
  {
   "cell_type": "code",
   "execution_count": null,
   "id": "e6accf09-c655-4868-b7d9-dde0eb24b0a2",
   "metadata": {
    "tags": []
   },
   "outputs": [],
   "source": [
    "with __import__(\"importnb\").Notebook():\n",
    "    import Behaviors as B\n",
    "    import Forces as F\n",
    "    import Utils as U"
   ]
  },
  {
   "cell_type": "code",
   "execution_count": null,
   "id": "eab2ddf5-9eb6-4b27-9fad-3ba26834be3b",
   "metadata": {
    "tags": []
   },
   "outputs": [],
   "source": [
    "from ipyforcegraph.graphs import ForceGraph3D\n",
    "from IPython.display import display"
   ]
  },
  {
   "cell_type": "code",
   "execution_count": null,
   "id": "b4940d34-d11b-4b73-a333-62960c4c1304",
   "metadata": {
    "tags": []
   },
   "outputs": [],
   "source": [
    "def make_a_3d_demo():\n",
    "    fg, box = U.make_a_demo(GraphClass=ForceGraph3D)\n",
    "    for add_behavior in [*B.all_behaviors, *F.all_forces]:\n",
    "        add_behavior(fg, box)\n",
    "    return fg, box"
   ]
  },
  {
   "cell_type": "code",
   "execution_count": null,
   "id": "cbfa0010-6553-41e3-a9c9-80b59d1c89fa",
   "metadata": {
    "slideshow": {
     "slide_type": "slide"
    },
    "tags": []
   },
   "outputs": [],
   "source": [
    "if __name__ == \"__main__\":\n",
    "    fg, box = make_a_3d_demo()\n",
    "    box.description = \"3D Graph Demo\"\n",
    "    U.update_controls_for_3D(box)\n",
    "    display(box)"
   ]
  },
  {
   "cell_type": "markdown",
   "id": "74dfd107-ef1a-4236-90d3-5332261ed05e",
   "metadata": {},
   "source": [
    "> 💡 The semi-transparent text at the bottom of the view suggests how to navigate within\n",
    "> the 3D graph:\n",
    ">\n",
    "> > _Left-click: rotate. Mouse-wheel/middle-click: zoom. Right-click: pan_"
   ]
  }
 ],
 "metadata": {
  "kernelspec": {
   "display_name": "Python 3 (ipykernel)",
   "language": "python",
   "name": "python3"
  },
  "language_info": {
   "codemirror_mode": {
    "name": "ipython",
    "version": 3
   },
   "file_extension": ".py",
   "mimetype": "text/x-python",
   "name": "python",
   "nbconvert_exporter": "python",
   "pygments_lexer": "ipython3",
   "version": "3.11.0"
  }
 },
 "nbformat": 4,
 "nbformat_minor": 5
}
