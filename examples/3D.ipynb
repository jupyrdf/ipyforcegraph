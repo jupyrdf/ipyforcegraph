{
 "cells": [
  {
   "cell_type": "markdown",
   "id": "a90e6ee8-422c-4c82-8945-a78ec51a4c28",
   "metadata": {},
   "source": [
    "# 🔮 3D"
   ]
  },
  {
   "cell_type": "code",
   "execution_count": null,
   "id": "58ac5386-3099-4e55-9b76-ad6d1821a89b",
   "metadata": {},
   "outputs": [],
   "source": [
    "if __name__ == \"__main__\":\n",
    "    %pip install -q -r requirements.txt"
   ]
  },
  {
   "cell_type": "code",
   "execution_count": null,
   "id": "32dcf622-cd7e-41e7-8658-f31d4db9ce37",
   "metadata": {},
   "outputs": [],
   "source": [
    "import random\n",
    "\n",
    "import ipywidgets as W\n",
    "import networkx as nx\n",
    "import pandas as pd\n",
    "\n",
    "from ipyforcegraph.behaviors import NodeLabels, NodeSelection\n",
    "from ipyforcegraph.forcegraph import ForceGraph3D"
   ]
  },
  {
   "cell_type": "code",
   "execution_count": null,
   "id": "91149b83-465d-4e5e-b70f-2ed2c8472d10",
   "metadata": {},
   "outputs": [],
   "source": [
    "selection = NodeSelection()"
   ]
  },
  {
   "cell_type": "code",
   "execution_count": null,
   "id": "15edecca-b43b-4267-b79f-dd9e2d19adb7",
   "metadata": {},
   "outputs": [],
   "source": [
    "labels = NodeLabels()"
   ]
  },
  {
   "cell_type": "code",
   "execution_count": null,
   "id": "8f7a1cbd-a7b0-4c12-bfcb-2e27b7300f03",
   "metadata": {
    "tags": []
   },
   "outputs": [],
   "source": [
    "fg = ForceGraph3D(behaviors=[labels, selection])\n",
    "fg"
   ]
  },
  {
   "cell_type": "code",
   "execution_count": null,
   "id": "d49c8de9-2b03-4cfa-816f-21212c23e035",
   "metadata": {},
   "outputs": [],
   "source": [
    "atlas = nx.graph_atlas_g()"
   ]
  },
  {
   "cell_type": "code",
   "execution_count": null,
   "id": "3004e881-3a89-4eb4-89da-6bbcade9ec5c",
   "metadata": {},
   "outputs": [],
   "source": [
    "def update_graph(\n",
    "    i: int = None,\n",
    "    selected_color=None,\n",
    "    not_selected_color=None,\n",
    ") -> None:\n",
    "    G = atlas[i if i is not None else random.randint(0, len(atlas))]\n",
    "    nodes = list(G.nodes)\n",
    "    fg.source.nodes = pd.DataFrame([{\"label\": f\"Node {i}\"} for i in nodes])\n",
    "    fg.source.links = pd.DataFrame(\n",
    "        {\"source\": nodes.index(source), \"target\": nodes.index(target)}\n",
    "        for source, target in G.edges\n",
    "    )\n",
    "    selection.selected_color = selected_color or \"#B3A369\"\n",
    "    selection.not_selected_color = not_selected_color or \"#003057\"\n",
    "\n",
    "\n",
    "update_graph()"
   ]
  },
  {
   "cell_type": "code",
   "execution_count": null,
   "id": "8e1198cc-d9ca-4dcc-9c6b-c4bc7f49709b",
   "metadata": {},
   "outputs": [],
   "source": [
    "@W.interact(\n",
    "    selected_color=W.ColorPicker(value=\"#B3A369\", description=\"selected\"),\n",
    "    not_selected_color=W.ColorPicker(value=\"#003057\", description=\"not selected\"),\n",
    ")\n",
    "def g(\n",
    "    selected_color,\n",
    "    not_selected_color,\n",
    "    i=(0, len(atlas) - 1),\n",
    "):\n",
    "    update_graph(i, selected_color, not_selected_color)"
   ]
  },
  {
   "cell_type": "markdown",
   "id": "fcaba887-8b07-4f81-97a8-f5e24d2977cc",
   "metadata": {},
   "source": [
    "The selected nodes can be set from the kernel."
   ]
  },
  {
   "cell_type": "code",
   "execution_count": null,
   "id": "e8b8b097-7d22-463a-a549-8c64aa624346",
   "metadata": {},
   "outputs": [],
   "source": [
    "selection.selected = [1, 2, 3]"
   ]
  }
 ],
 "metadata": {
  "kernelspec": {
   "display_name": "Python 3 (ipykernel)",
   "language": "python",
   "name": "python3"
  },
  "language_info": {
   "codemirror_mode": {
    "name": "ipython",
    "version": 3
   },
   "file_extension": ".py",
   "mimetype": "text/x-python",
   "name": "python",
   "nbconvert_exporter": "python",
   "pygments_lexer": "ipython3",
   "version": "3.11.0"
  }
 },
 "nbformat": 4,
 "nbformat_minor": 5
}
