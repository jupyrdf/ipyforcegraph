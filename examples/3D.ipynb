{
 "cells": [
  {
   "cell_type": "markdown",
   "id": "a90e6ee8-422c-4c82-8945-a78ec51a4c28",
   "metadata": {},
   "source": [
    "# 🔮 3D"
   ]
  },
  {
   "cell_type": "code",
   "execution_count": null,
   "id": "58ac5386-3099-4e55-9b76-ad6d1821a89b",
   "metadata": {},
   "outputs": [],
   "source": [
    "if __name__ == \"__main__\":\n",
    "    %pip install -q -r requirements.txt"
   ]
  },
  {
   "cell_type": "code",
   "execution_count": null,
   "id": "e6accf09-c655-4868-b7d9-dde0eb24b0a2",
   "metadata": {},
   "outputs": [],
   "source": [
    "with __import__(\"importnb\").Notebook():\n",
    "    from _index import make_a_simple_example\n",
    "    from Behaviors import add_node_labels, add_node_selection"
   ]
  },
  {
   "cell_type": "code",
   "execution_count": null,
   "id": "6fb9bb66-13c5-4566-acc0-b9052d3b6f40",
   "metadata": {},
   "outputs": [],
   "source": [
    "from ipyforcegraph.forcegraph import ForceGraph3D\n",
    "\n",
    "\n",
    "def make_a_full_3d_example():\n",
    "    fg, box = make_a_simple_example(GraphClass=ForceGraph3D)\n",
    "    add_node_selection(fg, box)\n",
    "    add_node_labels(fg, box)\n",
    "    return fg, box"
   ]
  },
  {
   "cell_type": "code",
   "execution_count": null,
   "id": "cbfa0010-6553-41e3-a9c9-80b59d1c89fa",
   "metadata": {
    "jupyter": {
     "source_hidden": true
    },
    "slideshow": {
     "slide_type": "slide"
    },
    "tags": []
   },
   "outputs": [],
   "source": [
    "if __name__ == \"__main__\":\n",
    "    fg, box = make_a_full_3d_example()\n",
    "    display(box)"
   ]
  },
  {
   "cell_type": "markdown",
   "id": "1f772135-46af-4b14-b648-941522c78983",
   "metadata": {},
   "source": [
    "```{warning}\n",
    "Currently, some of the mouse behavior handlers are conflicting with the JupyterLab defaults.\n",
    "```"
   ]
  },
  {
   "cell_type": "markdown",
   "id": "5af10943-c2aa-41cd-a1ec-659745d350ce",
   "metadata": {},
   "source": [
    "```{hint}\n",
    "A future revision may move the 3d renderer (and potentially the 2d renderer) into dedicated `iframe` elements\n",
    "to provide a more consistent and robust experience, especially for large graphs.\n",
    "```"
   ]
  }
 ],
 "metadata": {
  "kernelspec": {
   "display_name": "Python 3 (ipykernel)",
   "language": "python",
   "name": "python3"
  },
  "language_info": {
   "codemirror_mode": {
    "name": "ipython",
    "version": 3
   },
   "file_extension": ".py",
   "mimetype": "text/x-python",
   "name": "python",
   "nbconvert_exporter": "python",
   "pygments_lexer": "ipython3",
   "version": "3.11.0"
  }
 },
 "nbformat": 4,
 "nbformat_minor": 5
}
