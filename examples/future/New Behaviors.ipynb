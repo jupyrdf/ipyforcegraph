{
 "cells": [
  {
   "cell_type": "code",
   "execution_count": null,
   "id": "b0bfadf2-abfb-4306-b947-db09faa3bb97",
   "metadata": {
    "tags": []
   },
   "outputs": [],
   "source": [
    "from ipyforcegraph import graphs as G, behaviors as B\n",
    "from ipyforcegraph.behaviors import shapes as S, forces as F"
   ]
  },
  {
   "cell_type": "code",
   "execution_count": null,
   "id": "b1f9034c-080b-4284-9b84-e36e22edc97b",
   "metadata": {
    "tags": []
   },
   "outputs": [],
   "source": [
    "fg = G.ForceGraph()\n",
    "fg.source.nodes = [{\"id\": \"hello\"}, {\"id\": \"world\"}]\n",
    "fg.source.links = [{\"source\": \"hello\", \"target\": \"world\"}]\n",
    "nt = B.NodeTooltip(B.Nunjucks(\"{{ node.id }}\"))\n",
    "lt = B.LinkTooltip(B.Nunjucks(\"{{ link.source.id }} --> {{ link.target.id }}\"))\n",
    "ns = B.NodeShapes(size=1)\n",
    "ls = B.LinkShapes(color=\"red\")\n",
    "la = B.LinkArrows(relative_position=1, color=\"red\", length=5)\n",
    "lp = B.LinkParticles(density=1, speed=0.01, width=4)\n",
    "fg.behaviors = [nt, lt, ns, ls, la, lp, la]\n",
    "fg"
   ]
  },
  {
   "cell_type": "code",
   "execution_count": null,
   "id": "8f7e044c-0bc2-486b-a2b7-92e835ef37fb",
   "metadata": {
    "tags": []
   },
   "outputs": [],
   "source": [
    "gf = B.GraphForces()\n",
    "fg.behaviors = [*{*[b for b in fg.behaviors if not isinstance(b, B.GraphForces)], gf}]"
   ]
  },
  {
   "cell_type": "code",
   "execution_count": null,
   "id": "d3fdb400-a613-4a54-82fc-9543c9c8b486",
   "metadata": {},
   "outputs": [],
   "source": [
    "gf.forces = {\n",
    "    \"x\": F.XForce(x=B.Nunjucks(\"{{ node.index * 20 }}\"), strength=2),\n",
    "    \"y\": F.YForce(y=B.Nunjucks(\"{{ node.index * 20 }}\"), strength=2),\n",
    "    \"z\": F.ZForce(z=B.Nunjucks(\"{{ node.index * 20 }}\"), strength=2)\n",
    "}"
   ]
  },
  {
   "cell_type": "code",
   "execution_count": null,
   "id": "dc3c6157-690b-42b2-91aa-e90afe88869c",
   "metadata": {},
   "outputs": [],
   "source": []
  }
 ],
 "metadata": {
  "kernelspec": {
   "display_name": "Python 3 (ipykernel)",
   "language": "python",
   "name": "python3"
  },
  "language_info": {
   "codemirror_mode": {
    "name": "ipython",
    "version": 3
   },
   "file_extension": ".py",
   "mimetype": "text/x-python",
   "name": "python",
   "nbconvert_exporter": "python",
   "pygments_lexer": "ipython3",
   "version": "3.11.0"
  }
 },
 "nbformat": 4,
 "nbformat_minor": 5
}
