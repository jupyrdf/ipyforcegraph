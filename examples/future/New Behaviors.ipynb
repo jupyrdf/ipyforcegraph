{
 "cells": [
  {
   "cell_type": "code",
   "execution_count": null,
   "id": "b0bfadf2-abfb-4306-b947-db09faa3bb97",
   "metadata": {
    "tags": []
   },
   "outputs": [],
   "source": [
    "from ipyforcegraph import graphs as G, behaviors as B\n",
    "from ipyforcegraph.behaviors import shapes as S, forces as F\n",
    "from pathlib import Path\n",
    "import json"
   ]
  },
  {
   "cell_type": "code",
   "execution_count": null,
   "id": "65e9c495-87af-480f-92ad-005f2e9b5b4c",
   "metadata": {
    "tags": []
   },
   "outputs": [],
   "source": [
    "data = json.load(Path(\"../datasets/miserables.json\").open())"
   ]
  },
  {
   "cell_type": "code",
   "execution_count": null,
   "id": "b1f9034c-080b-4284-9b84-e36e22edc97b",
   "metadata": {
    "tags": []
   },
   "outputs": [],
   "source": [
    "fg = G.ForceGraph(layout=dict(height=\"100%\"))\n",
    "fg.source.nodes = data[\"nodes\"]\n",
    "fg.source.links = data[\"links\"]\n",
    "nt = B.NodeTooltip(B.Nunjucks(\"{{ node.id }}\"))\n",
    "lt = B.LinkTooltip(B.Nunjucks(\"{{ link.source.id }} --> {{ link.target.id }}\"))\n",
    "ns = B.NodeShapes(size=B.Nunjucks(\"{{ (node.index + 1) * 0.125 }}\"))\n",
    "ls = B.LinkShapes(color=\"red\")\n",
    "la = B.LinkArrows(relative_position=1, color=\"red\", length=B.Nunjucks(\"{{ link.source.group * 2 }}\"))\n",
    "lp = B.LinkParticles(density=B.Nunjucks(\"{{ link.value }}\"), speed=0.01, width=4)\n",
    "fg.behaviors = [nt, lt, ns, ls, la, lp, la]\n",
    "fg"
   ]
  },
  {
   "cell_type": "code",
   "execution_count": null,
   "id": "8f7e044c-0bc2-486b-a2b7-92e835ef37fb",
   "metadata": {
    "tags": []
   },
   "outputs": [],
   "source": [
    "gf = B.GraphForces()\n",
    "# gf = B.GraphForces(\n",
    "#     forces={\n",
    "#         \"link\": F.LinkForce(active=False),\n",
    "#         \"charge\": F.ManyBodyForce(active=False),\n",
    "#     })\n",
    "fg.behaviors = [*{*[b for b in fg.behaviors if not isinstance(b, B.GraphForces)], gf}]"
   ]
  },
  {
   "cell_type": "code",
   "execution_count": null,
   "id": "d3fdb400-a613-4a54-82fc-9543c9c8b486",
   "metadata": {},
   "outputs": [],
   "source": [
    "gf.forces = {\n",
    "    # \"x\": F.X(x=B.Nunjucks(\"{{ node.index * 20 }}\"), strength=2),\n",
    "    # \"y\": F.Y(y=B.Nunjucks(\"{{ node.index * 20 }}\"), strength=2),\n",
    "    # \"z\": F.Z(z=B.Nunjucks(\"{{ node.index * 20 }}\"), strength=2),\n",
    "    # \"r\": F.Radial(radius=100, strength=2),\n",
    "    # \"charge\": F.ManyBody(strength=-5, theta=1),\n",
    "    # \"link\": F.Link(strength=0.1, distance=100),\n",
    "    # \"collision\": F.Collision(strength=1, radius=10),\n",
    "    # \"center\": F.Center(x=100,y=10,z=10),\n",
    "    # \"cluster\": F.Cluster(\n",
    "    #     B.Nunjucks(\"{{ node.group }}\"), \n",
    "    #     strength=0.5, \n",
    "    #     inertia=0.5,\n",
    "    #     x=B.Nunjucks(\"{{ key * 100 }}\")\n",
    "    # ),\n",
    "    \"dag\": F.DAG(mode=F.DAGMode.radial_out, node_filter=B.Nunjucks(\"True\"), level_distance=20)\n",
    "}"
   ]
  },
  {
   "cell_type": "code",
   "execution_count": null,
   "id": "702a11ec-c37e-483b-b34e-096056c297d0",
   "metadata": {
    "tags": []
   },
   "outputs": [],
   "source": [
    "# gf.forces[\"cluster\"].x = B.Nunjucks(\"{{ key * 200 }}\")\n",
    "# gf.forces[\"cluster\"].y = B.Nunjucks(\"{{ (key % 4) * 200 }}\")"
   ]
  },
  {
   "cell_type": "code",
   "execution_count": null,
   "id": "0ff97ee7-65c4-469e-bbe6-154d495c95cb",
   "metadata": {},
   "outputs": [],
   "source": [
    "# gf.forces[\"cluster\"].inertia = 0.5\n",
    "# gf.forces[\"cluster\"].radius = B.Nunjucks(\"{{ key * 10 }}\")"
   ]
  }
 ],
 "metadata": {
  "kernelspec": {
   "display_name": "Python 3 (ipykernel)",
   "language": "python",
   "name": "python3"
  },
  "language_info": {
   "codemirror_mode": {
    "name": "ipython",
    "version": 3
   },
   "file_extension": ".py",
   "mimetype": "text/x-python",
   "name": "python",
   "nbconvert_exporter": "python",
   "pygments_lexer": "ipython3",
   "version": "3.11.0"
  }
 },
 "nbformat": 4,
 "nbformat_minor": 5
}
