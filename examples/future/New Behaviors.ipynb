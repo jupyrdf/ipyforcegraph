{
 "cells": [
  {
   "cell_type": "code",
   "execution_count": 1,
   "id": "b0bfadf2-abfb-4306-b947-db09faa3bb97",
   "metadata": {
    "tags": []
   },
   "outputs": [],
   "source": [
    "from ipyforcegraph import graphs as G, behaviors as B\n",
    "from ipyforcegraph.behaviors import shapes as S, forces as F"
   ]
  },
  {
   "cell_type": "code",
   "execution_count": 2,
   "id": "b1f9034c-080b-4284-9b84-e36e22edc97b",
   "metadata": {
    "tags": []
   },
   "outputs": [
    {
     "data": {
      "application/vnd.jupyter.widget-view+json": {
       "model_id": "21005d6486a14a8484b35c4c9da31b82",
       "version_major": 2,
       "version_minor": 0
      },
      "text/plain": [
       "ForceGraph(behaviors=(NodeTooltip(label=Nunjucks(value='{{ node.id }}')), LinkTooltip(label=Nunjucks(value='{{…"
      ]
     },
     "execution_count": 2,
     "metadata": {},
     "output_type": "execute_result"
    }
   ],
   "source": [
    "fg = G.ForceGraph()\n",
    "fg.source.nodes = [{\"id\": \"hello\"}, {\"id\": \"world\"}]\n",
    "fg.source.links = [{\"source\": \"hello\", \"target\": \"world\"}]\n",
    "nt = B.NodeTooltip(B.Nunjucks(\"{{ node.id }}\"))\n",
    "lt = B.LinkTooltip(B.Nunjucks(\"{{ link.source.id }} --> {{ link.target.id }}\"))\n",
    "ns = B.NodeShapes(size=1)\n",
    "ls = B.LinkShapes(color=\"red\")\n",
    "la = B.LinkArrows(relative_position=1, color=\"red\", length=5)\n",
    "lp = B.LinkParticles(density=1, speed=0.01, width=4)\n",
    "fg.behaviors = [nt, lt, ns, ls, la, lp, la]\n",
    "fg"
   ]
  },
  {
   "cell_type": "code",
   "execution_count": 3,
   "id": "e8cc90fe-5fcf-45ae-918a-614020ebdfca",
   "metadata": {
    "tags": []
   },
   "outputs": [],
   "source": [
    "gf = B.GraphForces({\"x\": F.XForce(x=B.Nunjucks(\"{{ node.index * 100 }}\"), strength=2)})"
   ]
  },
  {
   "cell_type": "code",
   "execution_count": 4,
   "id": "9b8c94fe-7136-4503-beee-f44337c4ce95",
   "metadata": {
    "tags": []
   },
   "outputs": [],
   "source": [
    "fg.behaviors = [*{*[b for b in fg.behaviors if not isinstance(b, B.GraphForces)], gf}]"
   ]
  },
  {
   "cell_type": "code",
   "execution_count": 5,
   "id": "97c1ac81-e7a7-4b07-b7e1-11f3f5b7b3f6",
   "metadata": {},
   "outputs": [],
   "source": [
    "gf.forces[\"x\"].x.value = \"{{ node.index * 100 }}\""
   ]
  },
  {
   "cell_type": "code",
   "execution_count": 10,
   "id": "3f5a7b54-71dd-4162-8bcf-d0e75c57b690",
   "metadata": {
    "tags": []
   },
   "outputs": [],
   "source": [
    "ns.shapes = [] # [S.Text(B.Column(\"id\"))]"
   ]
  },
  {
   "cell_type": "code",
   "execution_count": 8,
   "id": "a63e6da8-2405-41f1-8590-7860cf34406d",
   "metadata": {
    "tags": []
   },
   "outputs": [],
   "source": [
    "ns.size = 1"
   ]
  }
 ],
 "metadata": {
  "kernelspec": {
   "display_name": "Python 3 (ipykernel)",
   "language": "python",
   "name": "python3"
  },
  "language_info": {
   "codemirror_mode": {
    "name": "ipython",
    "version": 3
   },
   "file_extension": ".py",
   "mimetype": "text/x-python",
   "name": "python",
   "nbconvert_exporter": "python",
   "pygments_lexer": "ipython3",
   "version": "3.11.0"
  }
 },
 "nbformat": 4,
 "nbformat_minor": 5
}
