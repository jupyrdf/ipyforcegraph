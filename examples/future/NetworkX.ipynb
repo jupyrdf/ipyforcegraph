{
 "cells": [
  {
   "cell_type": "markdown",
   "id": "53472575-4bb7-4445-83d9-751230fab966",
   "metadata": {},
   "source": [
    "## TODO: restore with better examples"
   ]
  },
  {
   "cell_type": "code",
   "execution_count": null,
   "id": "b40c7581-8c73-4937-aefe-4dd2937856b0",
   "metadata": {},
   "outputs": [],
   "source": [
    "atlas = nx.graph_atlas_g()"
   ]
  },
  {
   "cell_type": "code",
   "execution_count": null,
   "id": "d84eafe5-0c45-4804-92e5-2a73aea568b2",
   "metadata": {},
   "outputs": [],
   "source": [
    "def update_graph(\n",
    "    i: int = None,\n",
    "    selected_color=None,\n",
    "    not_selected_color=None,\n",
    ") -> None:\n",
    "    G = atlas[i if i is not None else random.randint(0, len(atlas))]\n",
    "    nodes = list(G.nodes)\n",
    "    with fg.source.hold_sync(), selection.hold_sync():\n",
    "        fg.source.nodes = pd.DataFrame([{\"label\": f\"Node {i}\"} for i in nodes])\n",
    "        fg.source.links = pd.DataFrame(\n",
    "            {\"source\": nodes.index(source), \"target\": nodes.index(target)}\n",
    "            for source, target in G.edges\n",
    "        )\n",
    "        selection.selected_color = selected_color or \"#B3A369\"\n",
    "        selection.not_selected_color = not_selected_color or \"#003057\"\n",
    "\n",
    "\n",
    "update_graph()"
   ]
  },
  {
   "cell_type": "code",
   "execution_count": null,
   "id": "1485d518-6349-4e37-ae31-16a78a99ac20",
   "metadata": {},
   "outputs": [],
   "source": [
    "@W.interact(\n",
    "    selected_color=W.ColorPicker(value=\"#B3A369\", description=\"selected\"),\n",
    "    not_selected_color=W.ColorPicker(value=\"#003057\", description=\"not selected\"),\n",
    ")\n",
    "def g(\n",
    "    selected_color,\n",
    "    not_selected_color,\n",
    "    i=(0, len(atlas) - 1),\n",
    "):\n",
    "    update_graph(i, selected_color)"
   ]
  },
  {
   "cell_type": "markdown",
   "id": "bd1638ed-1901-4c9f-95b9-7e7a5c3786f8",
   "metadata": {},
   "source": [
    "The selected nodes can be set from the kernel."
   ]
  },
  {
   "cell_type": "code",
   "execution_count": null,
   "id": "cf9e12e1-7c6e-4df1-be2f-6f4a527b1e01",
   "metadata": {},
   "outputs": [],
   "source": [
    "selection.selected = [1, 2, 3]"
   ]
  }
 ],
 "metadata": {
  "kernelspec": {
   "display_name": "Python 3 (ipykernel)",
   "language": "python",
   "name": "python3"
  },
  "language_info": {
   "codemirror_mode": {
    "name": "ipython",
    "version": 3
   },
   "file_extension": ".py",
   "mimetype": "text/x-python",
   "name": "python",
   "nbconvert_exporter": "python",
   "pygments_lexer": "ipython3",
   "version": "3.11.0"
  }
 },
 "nbformat": 4,
 "nbformat_minor": 5
}
