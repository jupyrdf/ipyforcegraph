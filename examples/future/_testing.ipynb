{
 "cells": [
  {
   "cell_type": "code",
   "execution_count": null,
   "id": "fbee713c-58e8-4383-bc28-219bfe1cd0d9",
   "metadata": {},
   "outputs": [],
   "source": []
  },
  {
   "cell_type": "code",
   "execution_count": 1,
   "id": "70bfecf6-248f-4b18-abce-1be0da67a828",
   "metadata": {},
   "outputs": [
    {
     "data": {
      "application/vnd.jupyter.widget-view+json": {
       "model_id": "dcdda4730eb74e269434317f3ebe6ce8",
       "version_major": 2,
       "version_minor": 0
      },
      "text/plain": [
       "HBox(children=(ForceGraph(behaviors=(NodeSelection(),), layout=Layout(height='500px'), source=DataFrameSource(…"
      ]
     },
     "metadata": {},
     "output_type": "display_data"
    }
   ],
   "source": [
    "import json\n",
    "from pathlib import Path\n",
    "\n",
    "import ipywidgets as W\n",
    "\n",
    "from ipyforcegraph.graphs import DataFrameSource, ForceGraph\n",
    "import ipyforcegraph.behaviors as B\n",
    "\n",
    "def make_a_simple_example(\n",
    "    source=None, dataset=\"datasets/miserables.json\", GraphClass=ForceGraph, node_color=None,\n",
    "):\n",
    "    if source is None:\n",
    "        data = json.loads(Path(dataset).read_text())\n",
    "        source = DataFrameSource(**data)\n",
    "        if node_color:\n",
    "            source.nodes[\"color\"] = node_color\n",
    "    \n",
    "    selection = B.NodeSelection()\n",
    "    fg = GraphClass(\n",
    "        source=source,\n",
    "        layout=dict(height=\"500px\"),\n",
    "        behaviors=(\n",
    "            selection,\n",
    "        )\n",
    "    )\n",
    "    box = W.HBox([fg, W.VBox([])])\n",
    "    return fg, box\n",
    "\n",
    "if __name__ == \"__main__\":\n",
    "    fg, box = make_a_simple_example(node_color=\"red\")\n",
    "    display(box)"
   ]
  },
  {
   "cell_type": "code",
   "execution_count": 6,
   "id": "f08a2ba3-de0a-43a4-bd4e-959c1b98e665",
   "metadata": {},
   "outputs": [
    {
     "data": {
      "text/plain": [
       "NodeSelection()"
      ]
     },
     "execution_count": 6,
     "metadata": {},
     "output_type": "execute_result"
    }
   ],
   "source": [
    "B.NodeSelection()"
   ]
  },
  {
   "cell_type": "code",
   "execution_count": null,
   "id": "4eb99d3a-e507-40fe-8f66-e81a77789c06",
   "metadata": {},
   "outputs": [],
   "source": []
  },
  {
   "cell_type": "code",
   "execution_count": 2,
   "id": "7e4ea28e-3ddc-45f9-ad7c-835604ff31e1",
   "metadata": {},
   "outputs": [],
   "source": [
    "behaviors = [\n",
    "    B.add_node_selection,\n",
    "]\n",
    "for add_behavior in behaviors:\n",
    "    add_behavior(fg, box)"
   ]
  },
  {
   "cell_type": "code",
   "execution_count": 6,
   "id": "dbe05dd4-31ae-4b2c-a77f-bb129c9db5a8",
   "metadata": {},
   "outputs": [
    {
     "data": {
      "text/html": [
       "<div>\n",
       "<style scoped>\n",
       "    .dataframe tbody tr th:only-of-type {\n",
       "        vertical-align: middle;\n",
       "    }\n",
       "\n",
       "    .dataframe tbody tr th {\n",
       "        vertical-align: top;\n",
       "    }\n",
       "\n",
       "    .dataframe thead th {\n",
       "        text-align: right;\n",
       "    }\n",
       "</style>\n",
       "<table border=\"1\" class=\"dataframe\">\n",
       "  <thead>\n",
       "    <tr style=\"text-align: right;\">\n",
       "      <th></th>\n",
       "      <th>id</th>\n",
       "      <th>group</th>\n",
       "      <th>color</th>\n",
       "    </tr>\n",
       "  </thead>\n",
       "  <tbody>\n",
       "    <tr>\n",
       "      <th>0</th>\n",
       "      <td>Myriel</td>\n",
       "      <td>1</td>\n",
       "      <td>red</td>\n",
       "    </tr>\n",
       "    <tr>\n",
       "      <th>1</th>\n",
       "      <td>Napoleon</td>\n",
       "      <td>1</td>\n",
       "      <td>red</td>\n",
       "    </tr>\n",
       "    <tr>\n",
       "      <th>2</th>\n",
       "      <td>Mlle.Baptistine</td>\n",
       "      <td>1</td>\n",
       "      <td>red</td>\n",
       "    </tr>\n",
       "    <tr>\n",
       "      <th>3</th>\n",
       "      <td>Mme.Magloire</td>\n",
       "      <td>1</td>\n",
       "      <td>red</td>\n",
       "    </tr>\n",
       "    <tr>\n",
       "      <th>4</th>\n",
       "      <td>CountessdeLo</td>\n",
       "      <td>1</td>\n",
       "      <td>red</td>\n",
       "    </tr>\n",
       "    <tr>\n",
       "      <th>...</th>\n",
       "      <td>...</td>\n",
       "      <td>...</td>\n",
       "      <td>...</td>\n",
       "    </tr>\n",
       "    <tr>\n",
       "      <th>72</th>\n",
       "      <td>Toussaint</td>\n",
       "      <td>5</td>\n",
       "      <td>red</td>\n",
       "    </tr>\n",
       "    <tr>\n",
       "      <th>73</th>\n",
       "      <td>Child1</td>\n",
       "      <td>10</td>\n",
       "      <td>red</td>\n",
       "    </tr>\n",
       "    <tr>\n",
       "      <th>74</th>\n",
       "      <td>Child2</td>\n",
       "      <td>10</td>\n",
       "      <td>red</td>\n",
       "    </tr>\n",
       "    <tr>\n",
       "      <th>75</th>\n",
       "      <td>Brujon</td>\n",
       "      <td>4</td>\n",
       "      <td>red</td>\n",
       "    </tr>\n",
       "    <tr>\n",
       "      <th>76</th>\n",
       "      <td>Mme.Hucheloup</td>\n",
       "      <td>8</td>\n",
       "      <td>red</td>\n",
       "    </tr>\n",
       "  </tbody>\n",
       "</table>\n",
       "<p>77 rows × 3 columns</p>\n",
       "</div>"
      ],
      "text/plain": [
       "                 id  group color\n",
       "0            Myriel      1   red\n",
       "1          Napoleon      1   red\n",
       "2   Mlle.Baptistine      1   red\n",
       "3      Mme.Magloire      1   red\n",
       "4      CountessdeLo      1   red\n",
       "..              ...    ...   ...\n",
       "72        Toussaint      5   red\n",
       "73           Child1     10   red\n",
       "74           Child2     10   red\n",
       "75           Brujon      4   red\n",
       "76    Mme.Hucheloup      8   red\n",
       "\n",
       "[77 rows x 3 columns]"
      ]
     },
     "execution_count": 6,
     "metadata": {},
     "output_type": "execute_result"
    }
   ],
   "source": [
    "source.nodes"
   ]
  }
 ],
 "metadata": {
  "kernelspec": {
   "display_name": "Python 3 (ipykernel)",
   "language": "python",
   "name": "python3"
  },
  "language_info": {
   "codemirror_mode": {
    "name": "ipython",
    "version": 3
   },
   "file_extension": ".py",
   "mimetype": "text/x-python",
   "name": "python",
   "nbconvert_exporter": "python",
   "pygments_lexer": "ipython3",
   "version": "3.11.0"
  }
 },
 "nbformat": 4,
 "nbformat_minor": 5
}
