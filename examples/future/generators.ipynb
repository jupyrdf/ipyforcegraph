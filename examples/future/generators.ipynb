{
 "cells": [
  {
   "cell_type": "markdown",
   "id": "125cb78c-b1ba-47da-85b4-85a7d1b6dbb6",
   "metadata": {},
   "source": [
    "# Generating new behaviors"
   ]
  },
  {
   "cell_type": "code",
   "execution_count": null,
   "id": "112d0d1c-e01c-4a5d-b7c1-8ceb559b2456",
   "metadata": {},
   "outputs": [],
   "source": [
    "from jinja2 import Template\n",
    "from pathlib import Path\n",
    "import stringcase\n",
    "import pandas as pd"
   ]
  },
  {
   "cell_type": "code",
   "execution_count": null,
   "id": "9bb452fa-9e68-4136-bb46-9f69d59d9f0b",
   "metadata": {},
   "outputs": [],
   "source": [
    "HERE = Path.cwd()\n",
    "ROOT = HERE.parent.parent\n",
    "BEHAVIORS_PY = ROOT  / \"src/ipyforcegraph/behaviors.py\"\n",
    "BEHAVIORS_TS = ROOT / \"js/widgets/behaviors\""
   ]
  },
  {
   "cell_type": "code",
   "execution_count": null,
   "id": "ffb9017c-e92a-4391-937c-a6b1620f138e",
   "metadata": {},
   "outputs": [],
   "source": [
    "assert BEHAVIORS_TS.exists()\n",
    "assert BEHAVIORS_PY.exists()"
   ]
  },
  {
   "cell_type": "code",
   "execution_count": null,
   "id": "aedee298-defc-4265-be33-ef359aee832e",
   "metadata": {},
   "outputs": [],
   "source": [
    "py_cls_template = Template(\"\"\"\n",
    "@W.register\n",
    "class {{ py_class }}(Behavior):\n",
    "    _model_name: str = T.Unicode(\"{{ js_class }}\").tag(sync=True)\n",
    "\n",
    "    column_name: str = T.Unicode(\n",
    "        None,\n",
    "        allow_none=True,\n",
    "        help=\"name of the source column to use for {{ readable }}.\",\n",
    "    ).tag(sync=True)\n",
    "\n",
    "    template: Optional[str] = T.Unicode(\n",
    "        None,\n",
    "        allow_none=True,\n",
    "        help=\"a nunjucks template to use to calculate {{ readable }}\",\n",
    "    ).tag(sync=True)\n",
    "\"\"\".strip())"
   ]
  },
  {
   "cell_type": "code",
   "execution_count": null,
   "id": "824a153f-ad78-44e6-bfae-2e5adda9fc9f",
   "metadata": {},
   "outputs": [],
   "source": [
    "js_class_filename = Template(\"\"\"{{ kebab }}.ts\"\"\") \n",
    "js_class_template = Template(\"\"\"\n",
    "/*\n",
    " * Copyright (c) 2023 ipyforcegraph contributors.\n",
    " * Distributed under the terms of the Modified BSD License.\n",
    " */\n",
    "import { IBehave, ILinkBehaveOptions } from '../../tokens';\n",
    "\n",
    "import { LinkColumnOrTemplateModel } from './base';\n",
    "\n",
    "export class {{ js_class }} extends LinkColumnOrTemplateModel implements IBehave {\n",
    "  static model_name = '{{ js_class }}';\n",
    "\n",
    "  defaults() {\n",
    "    return { ...super.defaults(), _model_name: {{ js_class }}.model_name };\n",
    "  }\n",
    "\n",
    "  {{ api_method }}(options: ILinkBehaveOptions): string | null {\n",
    "    return super.getLinkAttr(options);\n",
    "  }\n",
    "}\n",
    "\"\"\".strip())"
   ]
  },
  {
   "cell_type": "code",
   "execution_count": null,
   "id": "2ae50338-2865-4484-ad10-de7e10adb3b3",
   "metadata": {},
   "outputs": [],
   "source": [
    "token_ts_template = Template(\"\"\"\n",
    "  {{ api_method }}?(options: ILinkBehaveOptions): string | null;\n",
    "\"\"\".strip())"
   ]
  },
  {
   "cell_type": "code",
   "execution_count": null,
   "id": "555a779d-5cef-4a89-b931-8d4bacd18a10",
   "metadata": {},
   "outputs": [],
   "source": [
    "two_d_ts_post_update_template = Template(\"\"\"\n",
    "graph.{{ raw_attr }}(this.wrapFunction(this.{{ api_method }}));\n",
    "\"\"\".strip())"
   ]
  },
  {
   "cell_type": "code",
   "execution_count": null,
   "id": "fd4e72f7-79c6-43bc-a051-40ccb79242e1",
   "metadata": {},
   "outputs": [],
   "source": [
    "two_d_ts_method_template = Template(\"\"\"\n",
    "protected {{ api_method }} = (link: LinkObject): string => {\n",
    "  return this.getComposedLinkAttr(link, '{{ api_method }}', '');\n",
    "};\n",
    "\"\"\")"
   ]
  },
  {
   "cell_type": "code",
   "execution_count": null,
   "id": "ca6f092f-7fd6-4d69-8980-c08507fc4c95",
   "metadata": {},
   "outputs": [],
   "source": [
    "index_ts_template = Template(\"\"\"\n",
    "export * from './{{ kebab }}';\n",
    "\"\"\".strip())"
   ]
  },
  {
   "cell_type": "code",
   "execution_count": null,
   "id": "ba0dc927-3a9f-465c-865a-3f40230f5d9f",
   "metadata": {},
   "outputs": [],
   "source": [
    "nb_template = Template(\"\"\"\n",
    "\n",
    "### `{{ py_class }}`\n",
    "\n",
    "add_{{ snake }} = make_link_behavior_with_ui(B.{{ py_class }}, \"{{ readable }}\", \"{{ column_name }}\"{{ is_color }})\n",
    "\n",
    "if __name__ == \"__main__\":\n",
    "    add_{{ snake }}(fg, box)\n",
    "    display(box)\n",
    "\n",
    "\"\"\")"
   ]
  },
  {
   "cell_type": "code",
   "execution_count": null,
   "id": "13997f9f-2985-43a7-b362-ffa77070e334",
   "metadata": {},
   "outputs": [],
   "source": [
    "link_attrs = sorted(set(\"\"\"\n",
    "linkDirectionalArrowLength\n",
    "linkDirectionalArrowLength\n",
    "linkDirectionalArrowColor\n",
    "linkDirectionalArrowColor\n",
    "linkDirectionalArrowRelPos\n",
    "linkDirectionalArrowRelPos\n",
    "linkDirectionalParticles\n",
    "linkDirectionalParticles\n",
    "linkDirectionalParticleSpeed\n",
    "linkDirectionalParticleSpeed\n",
    "linkDirectionalParticleWidth\n",
    "linkDirectionalParticleWidth\n",
    "linkDirectionalParticleColor\n",
    "linkDirectionalParticleColor\n",
    "\"\"\".strip().splitlines()))\n",
    "link_attrs"
   ]
  },
  {
   "cell_type": "code",
   "execution_count": null,
   "id": "0bf7c46a-0fce-481a-9d99-a8123adf2c0b",
   "metadata": {},
   "outputs": [],
   "source": [
    "def template_one(raw_attr):\n",
    "    context = dict(\n",
    "        raw_attr=raw_attr,\n",
    "        py_class=f\"\"\"{raw_attr[0].upper()}{raw_attr[1:]}\"\"\",\n",
    "        readable=stringcase.sentencecase(raw_attr).lower().replace(\" rel \", \" relative \").replace(\" pos\", \" position\"),\n",
    "        kebab=stringcase.spinalcase(raw_attr).lower(),\n",
    "        snake=stringcase.snakecase(raw_attr).lower(),\n",
    "        is_color=\", is_color=True\" if \"Color\" in raw_attr else \"\",\n",
    "        column_name=\"color\" if \"Color\" in raw_attr else \"value\",\n",
    "\n",
    "    )\n",
    "    context[\"js_class\"] = f\"\"\"{context[\"py_class\"]}Model\"\"\"\n",
    "    context[\"api_method\"] = f\"\"\"get{context[\"py_class\"]}\"\"\"\n",
    "\n",
    "    result = {    \n",
    "        **context,\n",
    "        \"js_class_filename\": js_class_filename.render(**context),\n",
    "        \"js_class\": js_class_template.render(**context),\n",
    "        \"py_cls_frag\": py_cls_template.render(**context),\n",
    "        \"tokens_ts\": token_ts_template.render(**context),\n",
    "        \"two_d_ts_post_update\": two_d_ts_post_update_template.render(**context),\n",
    "        \"two_d_ts_method\": two_d_ts_method_template.render(**context),\n",
    "        \"index_ts\": index_ts_template.render(**context),\n",
    "        \"nb\": nb_template.render(**context),\n",
    "    }\n",
    "    \n",
    "    return result"
   ]
  },
  {
   "cell_type": "code",
   "execution_count": null,
   "id": "ac46bf5b-b850-416f-aeb2-39856075289d",
   "metadata": {},
   "outputs": [],
   "source": [
    "df = pd.DataFrame([template_one(raw_attr) for raw_attr in link_attrs])\n",
    "df.T"
   ]
  },
  {
   "cell_type": "markdown",
   "id": "9928f42a-b4d9-4b76-92bd-5d0a8be6d3bf",
   "metadata": {},
   "source": [
    "write files"
   ]
  },
  {
   "cell_type": "code",
   "execution_count": null,
   "id": "fdff54db-37a8-4107-8ab8-79bd86a20eab",
   "metadata": {},
   "outputs": [],
   "source": [
    "# df.apply(lambda x: (BEHAVIORS_TS / x.js_class_filename).write_text(x.js_class), axis=1)"
   ]
  },
  {
   "cell_type": "markdown",
   "id": "9b1ef94c-3f89-4bbb-a9f3-9738857a1b0b",
   "metadata": {},
   "source": [
    "import files"
   ]
  },
  {
   "cell_type": "code",
   "execution_count": null,
   "id": "f3534d43-2108-49bf-9056-aa182c101e89",
   "metadata": {},
   "outputs": [],
   "source": [
    "print(\"// index.ts\\n\")\n",
    "print(\"\".join(list(df.index_ts)))"
   ]
  },
  {
   "cell_type": "code",
   "execution_count": null,
   "id": "5f0cbc1b-ac37-4b2e-b170-dd051979ac84",
   "metadata": {},
   "outputs": [],
   "source": [
    "print(\"// tokens.ts\\n\")\n",
    "print(\"\\n\".join(list(df.tokens_ts)))\n",
    "\n",
    "print(\"' | '\".join(list(df.api_method)))"
   ]
  },
  {
   "cell_type": "code",
   "execution_count": null,
   "id": "77e82558-fd5a-4fc4-8034-cf420a5baf23",
   "metadata": {},
   "outputs": [],
   "source": [
    "print(\"// 2d.ts\\n\")\n",
    "print(\"\\n\".join(list(df.two_d_ts_method)))\n",
    "\n",
    "print(\"\\n\".join(list(df.two_d_ts_post_update)))"
   ]
  },
  {
   "cell_type": "code",
   "execution_count": null,
   "id": "269d0325-61cd-49d5-bc78-c11b827fe058",
   "metadata": {},
   "outputs": [],
   "source": [
    "print(\"# behaviors.py\\n\")\n",
    "print(\"\\n\\n\".join(list(df.py_cls_frag)))"
   ]
  },
  {
   "cell_type": "code",
   "execution_count": null,
   "id": "f6a1b031-2214-4d8d-8f05-7c0c76f9205f",
   "metadata": {},
   "outputs": [],
   "source": [
    "print(\"# Behaviors.ipynb\\n\")\n",
    "print(\"\\n\\n\".join(list(df.nb)))"
   ]
  },
  {
   "cell_type": "code",
   "execution_count": null,
   "id": "3184d3a4-0655-4981-812e-f5c220bd091b",
   "metadata": {},
   "outputs": [],
   "source": []
  },
  {
   "cell_type": "code",
   "execution_count": null,
   "id": "8956b688-8b58-4f51-9292-5d95bd6bf7c3",
   "metadata": {},
   "outputs": [],
   "source": []
  }
 ],
 "metadata": {
  "kernelspec": {
   "display_name": "Python 3 (ipykernel)",
   "language": "python",
   "name": "python3"
  },
  "language_info": {
   "codemirror_mode": {
    "name": "ipython",
    "version": 3
   },
   "file_extension": ".py",
   "mimetype": "text/x-python",
   "name": "python",
   "nbconvert_exporter": "python",
   "pygments_lexer": "ipython3",
   "version": "3.11.0"
  }
 },
 "nbformat": 4,
 "nbformat_minor": 5
}
