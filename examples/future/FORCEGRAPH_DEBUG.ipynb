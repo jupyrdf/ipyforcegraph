{
 "cells": [
  {
   "cell_type": "markdown",
   "id": "d83e3ede-1f50-4809-a022-da54007a762e",
   "metadata": {},
   "source": [
    "# 🐛 Debugging with `FORCEGRAPH_DEBUG`\n",
    "\n",
    "If `FORCEGRAPH_DEBUG` is found in the URL when JupyterLab starts, more info will become\n",
    "available in the browser console."
   ]
  },
  {
   "cell_type": "code",
   "execution_count": null,
   "id": "c623fdff-8c34-492a-b19d-0806e25b2909",
   "metadata": {},
   "outputs": [],
   "source": [
    "if __name__ == \"__main__\":\n",
    "    %pip install -q -r requirements.txt"
   ]
  },
  {
   "cell_type": "code",
   "execution_count": null,
   "id": "1da0fbb3-1837-4f12-8ca8-fc7be114597d",
   "metadata": {},
   "outputs": [],
   "source": [
    "import random\n",
    "\n",
    "import ipywidgets as W\n",
    "import networkx as nx\n",
    "import numpy as np\n",
    "import pandas as pd\n",
    "\n",
    "from ipyforcegraph.behaviors import NodeSelection\n",
    "from ipyforcegraph.graphs import DataFrameSource, ForceGraph"
   ]
  },
  {
   "cell_type": "code",
   "execution_count": null,
   "id": "a6c86e06-2620-4e9a-972d-c6b37873ee3d",
   "metadata": {
    "tags": []
   },
   "outputs": [],
   "source": [
    "df_nodes = pd.DataFrame([{\"label\": f\"node {i}\"} for i in range(10000)])\n",
    "df_nodes.shape"
   ]
  },
  {
   "cell_type": "code",
   "execution_count": null,
   "id": "3ac33127-5b65-47c8-a6f6-7c8b10e0c213",
   "metadata": {},
   "outputs": [],
   "source": [
    "df_links = pd.DataFrame(\n",
    "    [\n",
    "        {\n",
    "            \"source\": random.randint(0, 9999),\n",
    "            \"target\": random.randint(0, 9999),\n",
    "        }\n",
    "        for i in range(9999)\n",
    "    ]\n",
    ")\n",
    "df_links.shape"
   ]
  },
  {
   "cell_type": "code",
   "execution_count": null,
   "id": "e2f81df2-6c7f-47d5-9cc7-d40ee8f2dc49",
   "metadata": {
    "tags": []
   },
   "outputs": [],
   "source": [
    "source = DataFrameSource(nodes=df_nodes, links=df_links)"
   ]
  },
  {
   "cell_type": "code",
   "execution_count": null,
   "id": "7f875b01-ecb2-4350-acb1-700465b9e5c7",
   "metadata": {
    "tags": []
   },
   "outputs": [],
   "source": [
    "fg = ForceGraph(source=source)\n",
    "fg"
   ]
  },
  {
   "cell_type": "code",
   "execution_count": null,
   "id": "7f27cb34-78fd-4e8d-938b-8916369f23da",
   "metadata": {},
   "outputs": [],
   "source": [
    "fg.source.links"
   ]
  }
 ],
 "metadata": {
  "kernelspec": {
   "display_name": "Python 3 (ipykernel)",
   "language": "python",
   "name": "python3"
  },
  "language_info": {
   "codemirror_mode": {
    "name": "ipython",
    "version": 3
   },
   "file_extension": ".py",
   "mimetype": "text/x-python",
   "name": "python",
   "nbconvert_exporter": "python",
   "pygments_lexer": "ipython3",
   "version": "3.11.0"
  }
 },
 "nbformat": 4,
 "nbformat_minor": 5
}
