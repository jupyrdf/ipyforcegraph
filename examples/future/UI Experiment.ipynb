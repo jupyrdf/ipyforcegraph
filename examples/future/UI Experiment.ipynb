{
 "cells": [
  {
   "cell_type": "code",
   "execution_count": null,
   "id": "d5cd1291-9340-4ed6-956d-7ccd937f8fee",
   "metadata": {
    "tags": []
   },
   "outputs": [],
   "source": [
    "import json\n",
    "from pathlib import Path\n",
    "\n",
    "import ipyforcegraph.sources as S\n",
    "import ipyforcegraph.behaviors as B\n",
    "\n",
    "from ipyforcegraph.graphs import ForceGraph"
   ]
  },
  {
   "cell_type": "code",
   "execution_count": null,
   "id": "f4e7955b-c908-473d-8ea5-9454a09d9dce",
   "metadata": {
    "tags": []
   },
   "outputs": [],
   "source": [
    "fg = ForceGraph(layout=dict(height=\"100%\", width=\"auto\"))\n",
    "fg.source = S.DataFrameSource(**json.loads(Path(\"../datasets/miserables.json\").read_text()))\n",
    "\n",
    "tooltip_node = B.NodeTooltip(\n",
    "    label=B.Column(\"id\"),\n",
    ")\n",
    "\n",
    "tooltip_link = B.LinkTooltip(\n",
    "    label=B.Nunjucks(\"{{ link.source.id }} -- {{ link.target.id }}\"),\n",
    ")\n",
    "\n",
    "link_shape = B.LinkShapes(\n",
    "    color=\"blue\",\n",
    "    width=2,\n",
    ")\n",
    "\n",
    "fg.behaviors = [\n",
    "    tooltip_node,\n",
    "    tooltip_link,\n",
    "    link_shape,\n",
    "]\n",
    "fg"
   ]
  },
  {
   "cell_type": "code",
   "execution_count": null,
   "id": "1aecdc7e-6f1f-4d4e-bc08-39d97d3ba1a8",
   "metadata": {
    "tags": []
   },
   "outputs": [],
   "source": [
    "ui = B.GraphBehaviorsUI(graph=fg)\n",
    "ui"
   ]
  }
 ],
 "metadata": {
  "kernelspec": {
   "display_name": "Python 3 (ipykernel)",
   "language": "python",
   "name": "python3"
  },
  "language_info": {
   "codemirror_mode": {
    "name": "ipython",
    "version": 3
   },
   "file_extension": ".py",
   "mimetype": "text/x-python",
   "name": "python",
   "nbconvert_exporter": "python",
   "pygments_lexer": "ipython3",
   "version": "3.11.0"
  }
 },
 "nbformat": 4,
 "nbformat_minor": 5
}
