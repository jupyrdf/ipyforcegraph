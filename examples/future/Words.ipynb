{
 "cells": [
  {
   "cell_type": "markdown",
   "id": "d09fdd3c-1c5e-4673-a170-c1d2a384fb1f",
   "metadata": {},
   "source": [
    "# Generate Graphs for 5-letter words\n",
    "where an edge represents a one letter difference between two wordsm"
   ]
  },
  {
   "cell_type": "code",
   "execution_count": 1,
   "id": "63bddec9-40b1-4944-8a40-fee35f7fdf8a",
   "metadata": {},
   "outputs": [],
   "source": [
    "from pathlib import Path\n",
    "from string import ascii_lowercase as lowercase\n",
    "\n",
    "import networkx as nx\n",
    "import pandas as pd\n",
    "\n",
    "from ipyforcegraph.forcegraph import DataFrameSource, ForceGraph, ForceGraph3D\n",
    "from ipyforcegraph.behaviors import NodeLabels"
   ]
  },
  {
   "cell_type": "code",
   "execution_count": 2,
   "id": "606c980d-8a67-417e-904f-281aa96d5e7a",
   "metadata": {},
   "outputs": [],
   "source": [
    "def generate_word_graph(sourcepath: (str, Path) = \"words.txt\") -> nx.Graph:\n",
    "    if isinstance(sourcepath, str):\n",
    "        sourcepath = Path(sourcepath)\n",
    "\n",
    "    words = {\n",
    "        word\n",
    "        for word in sourcepath.read_text().strip().split(\"\\n\")\n",
    "    }\n",
    "\n",
    "    G = nx.Graph(name=sourcepath.name)\n",
    "    lookup = {c: lowercase.index(c) for c in lowercase}\n",
    "\n",
    "    def edit_distance_one(word):\n",
    "        for i in range(len(word)):\n",
    "            left, c, right = word[0:i], word[i], word[i + 1 :]\n",
    "            j = lookup[c]  # lowercase.index(c)\n",
    "            for cc in lowercase[j + 1 :]:\n",
    "                yield left + cc + right\n",
    "\n",
    "    candgen = (\n",
    "        (word, cand)\n",
    "        for word in sorted(words)\n",
    "        for cand in edit_distance_one(word)\n",
    "        if cand in words\n",
    "    )\n",
    "    G.add_nodes_from(words)\n",
    "    for word, cand in candgen:\n",
    "        G.add_edge(word, cand)\n",
    "    return G\n",
    "\n",
    "\n",
    "def make_forcegraph(GraphClass=ForceGraph, height=\"800px\"):\n",
    "    G = generate_word_graph()\n",
    "    fg = GraphClass(\n",
    "        source=DataFrameSource(\n",
    "            nodes=pd.DataFrame(data=list(G.nodes), columns=[\"id\"]),\n",
    "            links=nx.to_pandas_edgelist(G),\n",
    "            layout=dict(height=height),\n",
    "        ),\n",
    "    )\n",
    "    fg.layout.height = height\n",
    "    return fg"
   ]
  },
  {
   "cell_type": "code",
   "execution_count": 3,
   "id": "5d3c1a1d-d282-442d-aa5b-2097c8aa4966",
   "metadata": {},
   "outputs": [
    {
     "data": {
      "application/vnd.jupyter.widget-view+json": {
       "model_id": "898136a43d344846bb072bb45f395d1a",
       "version_major": 2,
       "version_minor": 0
      },
      "text/plain": [
       "ForceGraph(layout=Layout(height='800px'), source=DataFrameSource(nodes=(5757, 1), links=(14135, 2)))"
      ]
     },
     "execution_count": 3,
     "metadata": {},
     "output_type": "execute_result"
    }
   ],
   "source": [
    "fg = make_forcegraph()\n",
    "fg"
   ]
  },
  {
   "cell_type": "code",
   "execution_count": 12,
   "id": "591457a4-da84-4842-b0aa-89304d41f557",
   "metadata": {},
   "outputs": [],
   "source": [
    "fg.behaviors = [NodeLabels()]"
   ]
  }
 ],
 "metadata": {
  "kernelspec": {
   "display_name": "Python 3 (ipykernel)",
   "language": "python",
   "name": "python3"
  },
  "language_info": {
   "codemirror_mode": {
    "name": "ipython",
    "version": 3
   },
   "file_extension": ".py",
   "mimetype": "text/x-python",
   "name": "python",
   "nbconvert_exporter": "python",
   "pygments_lexer": "ipython3",
   "version": "3.11.0"
  }
 },
 "nbformat": 4,
 "nbformat_minor": 5
}
