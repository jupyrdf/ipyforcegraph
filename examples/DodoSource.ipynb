{
 "cells": [
  {
   "cell_type": "markdown",
   "id": "6bbfe8cb-b276-47cc-b617-2cfac84dfc5f",
   "metadata": {},
   "source": [
    "# 🦤 Dodo Source\n",
    "\n",
    "[doit](https://github.com/pydoit/doit) is a simple, yet powerful task execution tool,\n",
    "written in Python. The `DoitSource` demonstrates."
   ]
  },
  {
   "cell_type": "code",
   "execution_count": null,
   "id": "cb46af51-ce39-418f-a31b-ede113abd2c1",
   "metadata": {
    "tags": []
   },
   "outputs": [],
   "source": [
    "if __name__ == \"__main__\" and \"pyodide\" in __import__(\"sys\").modules:\n",
    "    %pip install -q -r requirements-dodo.txt"
   ]
  },
  {
   "cell_type": "code",
   "execution_count": null,
   "id": "5f7af984-25cb-4cf3-85c1-021533ec84fe",
   "metadata": {
    "tags": []
   },
   "outputs": [],
   "source": [
    "import ipylab as L\n",
    "import traitlets as T\n",
    "from ipydatagrid import DataGrid\n",
    "from ipyforcegraph import behaviors as B\n",
    "from ipyforcegraph import graphs as G\n",
    "from ipyforcegraph.sources.dodo import DodoSource\n",
    "\n",
    "DODO = \"🦤\""
   ]
  },
  {
   "cell_type": "markdown",
   "id": "fd1832e8-0b20-4566-b25c-11a94e8bc62f",
   "metadata": {},
   "source": [
    "## Create a Panel\n",
    "\n",
    "Creating a single panel in the JupyterLab `main` area next to the notebook we're working\n",
    "on makes it easy to see how the application develops."
   ]
  },
  {
   "cell_type": "code",
   "execution_count": null,
   "id": "b134dfda-6517-4734-b59a-beac6b8c714a",
   "metadata": {
    "tags": []
   },
   "outputs": [],
   "source": [
    "app = L.JupyterFrontEnd()\n",
    "panel = L.SplitPanel([], orientation=\"vertical\", layout=dict(overflow=\"hidden\"))\n",
    "panel.title.label = DODO\n",
    "app.shell.add(panel, \"main\", {\"mode\": \"split-right\"})"
   ]
  },
  {
   "cell_type": "markdown",
   "id": "9fbd6c1f-dfb1-42b3-a38f-fa3074670b2b",
   "metadata": {},
   "source": [
    "## Create the Graph\n",
    "\n",
    "We know we want to show a graph."
   ]
  },
  {
   "cell_type": "code",
   "execution_count": null,
   "id": "3628d310-f833-43e8-be9e-b8d00b3e45e2",
   "metadata": {
    "tags": []
   },
   "outputs": [],
   "source": [
    "fg = G.ForceGraph(layout=dict(width=\"100%\", height=\"100%\", flex=\"3\"))\n",
    "panel.children = [fg]"
   ]
  },
  {
   "cell_type": "markdown",
   "id": "79ab9613-25cb-4315-acec-92f5b8fbe8b1",
   "metadata": {},
   "source": [
    "## Create the `DodoSource`\n",
    "\n",
    "A `DodoSource` needs to know its `project_root` in order to find your `dodo.py`, and\n",
    "establish the right current working directory.\n",
    "\n",
    "> While `doit` has pluggable _loaders_, `DodoSource` only supports discovering a\n",
    "> `dodo.py`"
   ]
  },
  {
   "cell_type": "code",
   "execution_count": null,
   "id": "a9a3bc71-decf-4ec2-b351-4cf1bdaf7af0",
   "metadata": {
    "tags": []
   },
   "outputs": [],
   "source": [
    "source = DodoSource(project_root=\"..\")\n",
    "T.dlink((source, \"project_root\"), (panel.title, \"label\"), lambda x: f\"{DODO}: {x.name}\")\n",
    "fg.source = source"
   ]
  },
  {
   "cell_type": "markdown",
   "id": "b3ffa200-d7e1-470b-bcb9-8216eeacacbf",
   "metadata": {},
   "source": [
    "> The app should now show a big pile of `nodes`, based on the underlying\n",
    "> `pandas.DataFrame`, to be explored more fully below."
   ]
  },
  {
   "cell_type": "markdown",
   "id": "2d10695c-15ee-4382-b4cb-c16badb030a2",
   "metadata": {},
   "source": [
    "## Add `Tooltip` Behaviors\n",
    "\n",
    "Tooltips provide a quick way to inspect parts of the graph."
   ]
  },
  {
   "cell_type": "code",
   "execution_count": null,
   "id": "6238597a-330e-4f42-af44-adbb88a09f25",
   "metadata": {
    "tags": []
   },
   "outputs": [],
   "source": [
    "node_tooltip = B.NodeTooltip(\n",
    "    B.Nunjucks(\"<b>[{{ node.type }}]</b> {{ node.name }}<br/>{{ node.doc }}\")\n",
    ")\n",
    "link_tooltip = B.LinkTooltip(\n",
    "    B.Nunjucks(\n",
    "        \"{{ link.source.name }}<br/><b>[{{ link.type }}]</b> <br/>{{ link.target.name }}\"\n",
    "    )\n",
    ")\n",
    "fg.behaviors = [node_tooltip, link_tooltip]"
   ]
  },
  {
   "cell_type": "markdown",
   "id": "c47f9534-ebb4-480f-a91d-c7b4804e5c3c",
   "metadata": {},
   "source": [
    "> Now, hovering over each of the nodes and edges should show some data about them."
   ]
  },
  {
   "cell_type": "markdown",
   "id": "09e87f60-2ccd-4d1b-9645-96190ee067c4",
   "metadata": {},
   "source": [
    "## Create some `DataGrid`s\n",
    "\n",
    "[ipydatagrid](https://github.com/bloomberg/ipydatagrid) provides a rich `DataGrid`\n",
    "class, which also speaks `pandas.DataFrame`. Since even a relatively small `doit` task\n",
    "graph can be quite large, displaying the raw data in a grid provides a more readly\n",
    "inspectable (and filterable) view."
   ]
  },
  {
   "cell_type": "code",
   "execution_count": null,
   "id": "f5a43d98-00a3-4379-9371-41aed5f28289",
   "metadata": {
    "tags": []
   },
   "outputs": [],
   "source": [
    "grid_opts = dict(\n",
    "    layout=dict(height=\"100%\", max_height=\"100%\", min_height=\"100%\"),\n",
    ")\n",
    "node_grid = DataGrid(fg.source.nodes, **grid_opts)\n",
    "link_grid = DataGrid(fg.source.links, **grid_opts)\n",
    "grid_panel = L.SplitPanel(\n",
    "    [node_grid, link_grid],\n",
    "    orientation=\"horizontal\",\n",
    "    layout=dict(overflow=\"hidden\", min_height=\"400px\"),\n",
    ")\n",
    "panel.children = [fg, grid_panel]"
   ]
  },
  {
   "cell_type": "markdown",
   "id": "7a0abf3f-33f9-4f8f-b7b0-df8412637764",
   "metadata": {},
   "source": [
    "> The app should now contain the graph, with two grids below it."
   ]
  },
  {
   "cell_type": "markdown",
   "id": "b23807c0-33ad-4b0b-aba0-b0a73d3c836c",
   "metadata": {},
   "source": [
    "## Add Node and Link Selection\n",
    "\n",
    "Both `ForceGraph` and `DataGrid` support the concept of _selection_."
   ]
  },
  {
   "cell_type": "code",
   "execution_count": null,
   "id": "01f64ca7-98ab-4775-b01f-b252af7febe8",
   "metadata": {
    "tags": []
   },
   "outputs": [],
   "source": [
    "node_grid.selection_mode = \"row\"\n",
    "link_grid.selection_mode = \"row\"\n",
    "node_selection = B.NodeSelection()\n",
    "link_selection = B.LinkSelection()\n",
    "fg.behaviors = [*fg.behaviors, node_selection, link_selection]"
   ]
  },
  {
   "cell_type": "markdown",
   "id": "cafd7bc0-d948-4c03-8705-45a7f17a177b",
   "metadata": {},
   "source": [
    "> Nodes, links, and grid rows can now all be selected"
   ]
  },
  {
   "cell_type": "markdown",
   "id": "286c08a6-511f-43be-a6ef-aad3418fab74",
   "metadata": {
    "tags": []
   },
   "source": [
    "## Link the Selections\n",
    "\n",
    "While the graph and grids are now selectable, they are not expressed in the same format,\n",
    "and there is no relationship between them. With `traitlets.dlink`, we can create a\n",
    "semi-stable, bidrectional behavior between them."
   ]
  },
  {
   "cell_type": "code",
   "execution_count": null,
   "id": "89c834d7-4ffc-4e6c-b570-02bf9f968002",
   "metadata": {
    "tags": []
   },
   "outputs": [],
   "source": [
    "def link_grid_and_graph(grid, graph_selection, source, kind):\n",
    "    last_selected = set()\n",
    "\n",
    "    def on_grid_select(*x):\n",
    "        nonlocal last_selected\n",
    "        if not grid.selections:\n",
    "            graph_selection.selected = []\n",
    "            return\n",
    "        visible = grid.get_visible_data()\n",
    "        selected = []\n",
    "        for selection in grid.selections:\n",
    "            for i in range(selection[\"r1\"], selection[\"r2\"] + 1):\n",
    "                selected += [int(visible.iloc[i].name)]\n",
    "        if last_selected != set(selected):\n",
    "            last_selected = set(selected)\n",
    "            graph_selection.selected = sorted(set(selected))\n",
    "\n",
    "    grid.observe(on_grid_select, [\"selections\"])\n",
    "\n",
    "    def on_graph_select(*x):\n",
    "        nonlocal last_selected\n",
    "        last_selected = set(graph_selection.selected)\n",
    "        if not graph_selection.selected:\n",
    "            grid.selections = []\n",
    "            return\n",
    "        visible = grid.get_visible_data()\n",
    "        c2 = visible.shape[1] - 1\n",
    "        selections = []\n",
    "        source_kind = getattr(source, kind)\n",
    "        for index in graph_selection.selected:\n",
    "            sel_id = source_kind.id.iloc[index]\n",
    "            r1 = int(visible[visible.id == sel_id].iloc[0].name)\n",
    "            selections += [{\"r1\": r1, \"r2\": r1, \"c1\": 0, \"c2\": c2}]\n",
    "        grid.selections = selections\n",
    "\n",
    "    graph_selection.observe(on_graph_select, [\"selected\"])"
   ]
  },
  {
   "cell_type": "code",
   "execution_count": null,
   "id": "ccd5095a-e5f3-41e5-b121-e7b866e5376e",
   "metadata": {
    "tags": []
   },
   "outputs": [],
   "source": [
    "link_grid_and_graph(node_grid, node_selection, source, \"nodes\")\n",
    "link_grid_and_graph(link_grid, link_selection, source, \"links\")"
   ]
  },
  {
   "cell_type": "markdown",
   "id": "4308521f-fe26-4cfd-8fd4-3c42d950b34a",
   "metadata": {},
   "source": [
    "## Enable Running Tasks"
   ]
  },
  {
   "cell_type": "markdown",
   "id": "4dc9b540-10a3-4c49-87a5-cf3be80ac778",
   "metadata": {},
   "source": [
    "## Watching Tasks Run"
   ]
  }
 ],
 "metadata": {
  "kernelspec": {
   "display_name": "Python 3 (ipykernel)",
   "language": "python",
   "name": "python3"
  },
  "language_info": {
   "codemirror_mode": {
    "name": "ipython",
    "version": 3
   },
   "file_extension": ".py",
   "mimetype": "text/x-python",
   "name": "python",
   "nbconvert_exporter": "python",
   "pygments_lexer": "ipython3",
   "version": "3.11.0"
  }
 },
 "nbformat": 4,
 "nbformat_minor": 5
}
