{
 "cells": [
  {
   "cell_type": "markdown",
   "id": "6bbfe8cb-b276-47cc-b617-2cfac84dfc5f",
   "metadata": {},
   "source": [
    "# 🦤 Dodo Source\n",
    "\n",
    "[doit](https://github.com/pydoit/doit) is a simple, yet powerful task execution tool,\n",
    "written in Python. The `DoitSource` demonstrates."
   ]
  },
  {
   "cell_type": "code",
   "execution_count": null,
   "id": "cb46af51-ce39-418f-a31b-ede113abd2c1",
   "metadata": {
    "tags": []
   },
   "outputs": [],
   "source": [
    "if __name__ == \"__main__\" and \"pyodide\" in __import__(\"sys\").modules:\n",
    "    %pip install -q -r requirements.txt"
   ]
  },
  {
   "cell_type": "code",
   "execution_count": null,
   "id": "5f7af984-25cb-4cf3-85c1-021533ec84fe",
   "metadata": {
    "tags": []
   },
   "outputs": [],
   "source": [
    "import ipywidgets as W\n",
    "import traitlets as T\n",
    "from ipydatagrid import DataGrid\n",
    "from ipyforcegraph import behaviors as B\n",
    "from ipyforcegraph import graphs as G\n",
    "from ipyforcegraph.sources.dodo import DodoSource\n",
    "from ipylab import JupyterFrontEnd, Panel"
   ]
  },
  {
   "cell_type": "markdown",
   "id": "fd1832e8-0b20-4566-b25c-11a94e8bc62f",
   "metadata": {},
   "source": [
    "## Create a Panel"
   ]
  },
  {
   "cell_type": "code",
   "execution_count": null,
   "id": "b134dfda-6517-4734-b59a-beac6b8c714a",
   "metadata": {
    "tags": []
   },
   "outputs": [],
   "source": [
    "app = JupyterFrontEnd()\n",
    "panel = Panel([])\n",
    "app.shell.add(panel, \"main\", {\"mode\": \"split-right\"})"
   ]
  },
  {
   "cell_type": "markdown",
   "id": "b23807c0-33ad-4b0b-aba0-b0a73d3c836c",
   "metadata": {},
   "source": [
    "## Create some Behaviors"
   ]
  },
  {
   "cell_type": "code",
   "execution_count": null,
   "id": "44a3263e-cc15-4a41-9d8f-4406fa8941cf",
   "metadata": {
    "tags": []
   },
   "outputs": [],
   "source": [
    "n_sel, l_sel = B.NodeSelection(), B.LinkSelection()\n",
    "n_tooltip = B.NodeTooltip(\n",
    "    B.Nunjucks(\"<b>[{{ node.type }}]</b> {{ node.name }}<br/>{{ node.doc }}\")\n",
    ")\n",
    "l_tooltip = B.LinkTooltip(\n",
    "    B.Nunjucks(\n",
    "        \"{{ link.source.name }}<br/><b>[{{ link.type }}]</b> <br/>{{ link.target.name }}\"\n",
    "    )\n",
    ")"
   ]
  },
  {
   "cell_type": "markdown",
   "id": "94984e45-91dd-4674-8c56-7f37f62af6a0",
   "metadata": {},
   "source": [
    "## Create the Source"
   ]
  },
  {
   "cell_type": "code",
   "execution_count": null,
   "id": "a9a3bc71-decf-4ec2-b351-4cf1bdaf7af0",
   "metadata": {
    "tags": []
   },
   "outputs": [],
   "source": [
    "source = DodoSource(project_root=\"..\")\n",
    "T.dlink((source, \"project_root\"), (panel.title, \"label\"), lambda x: x.name);"
   ]
  },
  {
   "cell_type": "markdown",
   "id": "e95210f0-f769-41d7-b823-eb3617371c72",
   "metadata": {},
   "source": [
    "## Create the Graph"
   ]
  },
  {
   "cell_type": "code",
   "execution_count": null,
   "id": "3628d310-f833-43e8-be9e-b8d00b3e45e2",
   "metadata": {
    "tags": []
   },
   "outputs": [],
   "source": [
    "fg = G.ForceGraph(\n",
    "    source=source,\n",
    "    layout=dict(height=\"100%\"),\n",
    "    behaviors=[n_sel, l_sel, n_tooltip, l_tooltip],\n",
    ")\n",
    "panel.children = [fg]"
   ]
  },
  {
   "cell_type": "markdown",
   "id": "3531122b-6d5b-4358-a26d-c9a3aa8636b3",
   "metadata": {},
   "source": [
    "## Create some Grids"
   ]
  },
  {
   "cell_type": "code",
   "execution_count": null,
   "id": "f5a43d98-00a3-4379-9371-41aed5f28289",
   "metadata": {
    "tags": []
   },
   "outputs": [],
   "source": [
    "grid_opts = dict(\n",
    "    selection_mode=\"row\",\n",
    "    layout=dict(height=\"100%\", max_height=\"100%\", min_height=\"400px\"),\n",
    ")\n",
    "n_grid = DataGrid(fg.source.nodes, **grid_opts)\n",
    "l_grid = DataGrid(fg.source.links, **grid_opts)\n",
    "panel.children = [fg, W.HBox([n_grid, l_grid])]"
   ]
  },
  {
   "cell_type": "markdown",
   "id": "286c08a6-511f-43be-a6ef-aad3418fab74",
   "metadata": {
    "tags": []
   },
   "source": [
    "## Link the Grids"
   ]
  },
  {
   "cell_type": "code",
   "execution_count": null,
   "id": "89c834d7-4ffc-4e6c-b570-02bf9f968002",
   "metadata": {
    "tags": []
   },
   "outputs": [],
   "source": [
    "def link_grid_and_graph(grid, sel):\n",
    "    def on_grid_select(*x):\n",
    "        if not grid.selections:\n",
    "            n_sel.selected = []\n",
    "            return\n",
    "        visible = grid.get_visible_data()\n",
    "        s0 = grid.selections[0]\n",
    "        sel.selected = [int(visible.iloc[i].name) for i in range(s0[\"r1\"], s0[\"r2\"])]\n",
    "\n",
    "    grid.observe(on_grid_select, [\"selections\"])"
   ]
  },
  {
   "cell_type": "code",
   "execution_count": null,
   "id": "ccd5095a-e5f3-41e5-b121-e7b866e5376e",
   "metadata": {
    "tags": []
   },
   "outputs": [],
   "source": [
    "link_grid_and_graph(n_grid, n_sel)\n",
    "link_grid_and_graph(l_grid, l_sel)"
   ]
  }
 ],
 "metadata": {
  "kernelspec": {
   "display_name": "Python 3 (ipykernel)",
   "language": "python",
   "name": "python3"
  },
  "language_info": {
   "codemirror_mode": {
    "name": "ipython",
    "version": 3
   },
   "file_extension": ".py",
   "mimetype": "text/x-python",
   "name": "python",
   "nbconvert_exporter": "python",
   "pygments_lexer": "ipython3",
   "version": "3.11.0"
  }
 },
 "nbformat": 4,
 "nbformat_minor": 5
}
