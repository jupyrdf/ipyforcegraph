{
 "cells": [
  {
   "cell_type": "markdown",
   "id": "6bbfe8cb-b276-47cc-b617-2cfac84dfc5f",
   "metadata": {},
   "source": [
    "# 🦤 Dodo Source\n",
    "\n",
    "[doit](https://github.com/pydoit/doit) is a simple, yet powerful task execution tool,\n",
    "written in Python. The `DoitSource` demonstrates."
   ]
  },
  {
   "cell_type": "code",
   "execution_count": null,
   "id": "cb46af51-ce39-418f-a31b-ede113abd2c1",
   "metadata": {
    "tags": []
   },
   "outputs": [],
   "source": [
    "if __name__ == \"__main__\" and \"pyodide\" in __import__(\"sys\").modules:\n",
    "    %pip install -q -r requirements-dodo.txt"
   ]
  },
  {
   "cell_type": "code",
   "execution_count": null,
   "id": "5f7af984-25cb-4cf3-85c1-021533ec84fe",
   "metadata": {
    "tags": []
   },
   "outputs": [],
   "source": [
    "import asyncio\n",
    "import functools\n",
    "import subprocess\n",
    "import threading\n",
    "from collections import deque\n",
    "\n",
    "import ipylab as L\n",
    "import ipywidgets as W\n",
    "import traitlets as T\n",
    "from ipydatagrid import DataGrid\n",
    "from ipyforcegraph import behaviors as B\n",
    "from ipyforcegraph import graphs as G\n",
    "from ipyforcegraph.sources.dodo import DodoSource\n",
    "\n",
    "DODO = \"🦤\""
   ]
  },
  {
   "cell_type": "markdown",
   "id": "fd1832e8-0b20-4566-b25c-11a94e8bc62f",
   "metadata": {},
   "source": [
    "## Create a Panel\n",
    "\n",
    "Creating a single panel in the JupyterLab `main` area next to the notebook we're working\n",
    "on makes it easy to see how the application develops."
   ]
  },
  {
   "cell_type": "code",
   "execution_count": null,
   "id": "71847abe-6ecc-4aab-8ec9-e00d2a57b84b",
   "metadata": {
    "tags": []
   },
   "outputs": [],
   "source": [
    "lab = L.JupyterFrontEnd()\n",
    "split = L.SplitPanel(\n",
    "    [], orientation=\"vertical\", layout=dict(height=\"100%\", overflow=\"hidden\")\n",
    ")\n",
    "app_style = W.HTML(\n",
    "    \"\"\"<style>\n",
    ".ipfg-dodo {\n",
    "    --jp-widgets-inline-width-short: auto;\n",
    "}\n",
    "</style>\"\"\"\n",
    ")\n",
    "\n",
    "app = W.VBox(\n",
    "    [app_style, split],\n",
    "    _dom_classes=[\"ipfg-dodo\"],\n",
    "    layout=dict(display=\"flex\", flex=\"1\", flex_flow=\"column\"),\n",
    ")\n",
    "\n",
    "panel = L.Panel([app], layout=dict(overflow=\"hidden\", height=\"100%\"))\n",
    "panel.title.label = DODO"
   ]
  },
  {
   "cell_type": "code",
   "execution_count": null,
   "id": "2a091888-c6b9-4fdd-8fd0-920c45922471",
   "metadata": {
    "tags": []
   },
   "outputs": [],
   "source": [
    "def show_app(area, **options):\n",
    "    lab.shell.add(panel, area, options)\n",
    "    return panel"
   ]
  },
  {
   "cell_type": "code",
   "execution_count": null,
   "id": "33465d04-c8f4-4a6d-878d-22cbeaafb8f1",
   "metadata": {
    "tags": []
   },
   "outputs": [],
   "source": [
    "if __name__ == \"__main__\":\n",
    "    show_app(\"main\", mode=\"split-right\")"
   ]
  },
  {
   "cell_type": "markdown",
   "id": "9fbd6c1f-dfb1-42b3-a38f-fa3074670b2b",
   "metadata": {},
   "source": [
    "## Create the Graph\n",
    "\n",
    "We know we want to show a graph."
   ]
  },
  {
   "cell_type": "code",
   "execution_count": null,
   "id": "3628d310-f833-43e8-be9e-b8d00b3e45e2",
   "metadata": {
    "tags": []
   },
   "outputs": [],
   "source": [
    "fg = G.ForceGraph(layout=dict(width=\"100%\", height=\"100%\", flex=\"3\"))\n",
    "split.children = [fg]"
   ]
  },
  {
   "cell_type": "markdown",
   "id": "79ab9613-25cb-4315-acec-92f5b8fbe8b1",
   "metadata": {},
   "source": [
    "## Create the `DodoSource`\n",
    "\n",
    "A `DodoSource` needs to know its `project_root` in order to find your `dodo.py`, and\n",
    "establish the right current working directory.\n",
    "\n",
    "> While `doit` has pluggable _loaders_, `DodoSource` only supports discovering a\n",
    "> `dodo.py`"
   ]
  },
  {
   "cell_type": "code",
   "execution_count": null,
   "id": "a9a3bc71-decf-4ec2-b351-4cf1bdaf7af0",
   "metadata": {
    "tags": []
   },
   "outputs": [],
   "source": [
    "source = DodoSource(project_root=\"..\")\n",
    "T.dlink((source, \"project_root\"), (panel.title, \"label\"), lambda x: f\"{DODO}: {x.name}\")\n",
    "fg.source = source"
   ]
  },
  {
   "cell_type": "markdown",
   "id": "b3ffa200-d7e1-470b-bcb9-8216eeacacbf",
   "metadata": {},
   "source": [
    "> The app should now show a big pile of `nodes`, based on the underlying\n",
    "> `pandas.DataFrame`, to be explored more fully below."
   ]
  },
  {
   "cell_type": "markdown",
   "id": "2d10695c-15ee-4382-b4cb-c16badb030a2",
   "metadata": {},
   "source": [
    "## Add `Tooltip` Behaviors\n",
    "\n",
    "Tooltips provide a quick way to inspect parts of the graph."
   ]
  },
  {
   "cell_type": "code",
   "execution_count": null,
   "id": "6238597a-330e-4f42-af44-adbb88a09f25",
   "metadata": {
    "tags": []
   },
   "outputs": [],
   "source": [
    "node_tooltip = B.NodeTooltip(\n",
    "    B.Nunjucks(\"<b>[{{ node.type }}]</b> {{ node.name }}<br/>{{ node.doc }}\")\n",
    ")\n",
    "link_tooltip = B.LinkTooltip(\n",
    "    B.Nunjucks(\n",
    "        \"{{ link.source.name }}<br/><b>[{{ link.type }}]</b> <br/>{{ link.target.name }}\"\n",
    "    )\n",
    ")\n",
    "fg.behaviors = [node_tooltip, link_tooltip]"
   ]
  },
  {
   "cell_type": "markdown",
   "id": "d649ce9d-223b-4c40-b490-7d51a5827428",
   "metadata": {},
   "source": [
    "## Toggle Graph Features\n",
    "\n",
    "`doit` task graphs can quickly get _large_. Some graph features decrease (or increase)\n",
    "the number of nodes or edges."
   ]
  },
  {
   "cell_type": "code",
   "execution_count": null,
   "id": "34c06773-efec-4d53-a48f-d40df5fec076",
   "metadata": {},
   "outputs": [],
   "source": [
    "button_bar_style = dict(layout=dict(height=\"2.5em\", overflow=\"hidden\"))\n",
    "view_toggles = W.HBox(**button_bar_style)\n",
    "view_toggles.layout.flex_flow = \"row-reverse\"\n",
    "app.children = [app_style, view_toggles, split]"
   ]
  },
  {
   "cell_type": "markdown",
   "id": "751dd7ee-6435-4691-8ac4-a47e8fb9f188",
   "metadata": {},
   "source": [
    "#### Directories\n",
    "\n",
    "Directories can't be acted upon by `doit`, generally, and add a lot of extra edges, but\n",
    "can be useful for more directly visualizing the project layout."
   ]
  },
  {
   "cell_type": "code",
   "execution_count": null,
   "id": "a5460e7e-8786-436f-9a61-8dd21fe8eff7",
   "metadata": {
    "tags": []
   },
   "outputs": [],
   "source": [
    "show_directories = W.ToggleButton(icon=\"folder\", tooltip=\"Show Directories\")\n",
    "T.dlink((show_directories, \"value\"), (source, \"show_directories\"))\n",
    "view_toggles.children = [*view_toggles.children, show_directories]"
   ]
  },
  {
   "cell_type": "markdown",
   "id": "c47f9534-ebb4-480f-a91d-c7b4804e5c3c",
   "metadata": {},
   "source": [
    "> Now, hovering over each of the nodes and edges should show some data about them."
   ]
  },
  {
   "cell_type": "markdown",
   "id": "09e87f60-2ccd-4d1b-9645-96190ee067c4",
   "metadata": {},
   "source": [
    "## Create some `DataGrid`s\n",
    "\n",
    "[ipydatagrid](https://github.com/bloomberg/ipydatagrid) provides a rich `DataGrid`\n",
    "class, which also speaks `pandas.DataFrame`. Since even a relatively small `doit` task\n",
    "graph can be quite large, displaying the raw data in a grid provides a more readly\n",
    "inspectable (and filterable) view."
   ]
  },
  {
   "cell_type": "code",
   "execution_count": null,
   "id": "f5a43d98-00a3-4379-9371-41aed5f28289",
   "metadata": {
    "tags": []
   },
   "outputs": [],
   "source": [
    "grid_opts = dict(\n",
    "    layout=dict(height=\"100%\", max_height=\"100%\", min_height=\"100%\"),\n",
    ")\n",
    "node_grid = DataGrid(fg.source.nodes, **grid_opts)\n",
    "link_grid = DataGrid(fg.source.links, **grid_opts)\n",
    "grid_panel = L.SplitPanel(\n",
    "    [node_grid, link_grid],\n",
    "    orientation=\"horizontal\",\n",
    "    layout=dict(overflow=\"hidden\", height=\"400px\", min_height=\"400px\"),\n",
    ")\n",
    "split.children = [fg, grid_panel]"
   ]
  },
  {
   "cell_type": "markdown",
   "id": "7a0abf3f-33f9-4f8f-b7b0-df8412637764",
   "metadata": {},
   "source": [
    "> The app should now contain the graph, with two grids below it."
   ]
  },
  {
   "cell_type": "markdown",
   "id": "b23807c0-33ad-4b0b-aba0-b0a73d3c836c",
   "metadata": {},
   "source": [
    "## Add Node and Link Selection\n",
    "\n",
    "Both `ForceGraph` and `DataGrid` support the concept of _selection_."
   ]
  },
  {
   "cell_type": "code",
   "execution_count": null,
   "id": "01f64ca7-98ab-4775-b01f-b252af7febe8",
   "metadata": {
    "tags": []
   },
   "outputs": [],
   "source": [
    "node_grid.selection_mode = \"row\"\n",
    "link_grid.selection_mode = \"row\"\n",
    "node_selection = B.NodeSelection()\n",
    "link_selection = B.LinkSelection()\n",
    "fg.behaviors = [*fg.behaviors, node_selection, link_selection]"
   ]
  },
  {
   "cell_type": "markdown",
   "id": "cafd7bc0-d948-4c03-8705-45a7f17a177b",
   "metadata": {},
   "source": [
    "> Nodes, links, and grid rows can now all be selected"
   ]
  },
  {
   "cell_type": "markdown",
   "id": "286c08a6-511f-43be-a6ef-aad3418fab74",
   "metadata": {
    "tags": []
   },
   "source": [
    "## Link the Selections\n",
    "\n",
    "While the graph and grids are now selectable, they are not expressed in the same format,\n",
    "and there is no relationship between them. With `traitlets.dlink`, we can create a\n",
    "semi-stable, bidrectional behavior between them."
   ]
  },
  {
   "cell_type": "code",
   "execution_count": null,
   "id": "89c834d7-4ffc-4e6c-b570-02bf9f968002",
   "metadata": {
    "tags": []
   },
   "outputs": [],
   "source": [
    "def link_grid_and_graph(grid, graph_selection, source, kind):\n",
    "    last_selected = set()\n",
    "\n",
    "    def on_grid_select(*x):\n",
    "        nonlocal last_selected\n",
    "        if not grid.selections:\n",
    "            graph_selection.selected = []\n",
    "            return\n",
    "        visible = grid.get_visible_data()\n",
    "        selected = []\n",
    "        for selection in grid.selections:\n",
    "            for i in range(selection[\"r1\"], selection[\"r2\"] + 1):\n",
    "                data_idx = int(visible.iloc[i].name)\n",
    "                selected += [data_idx]\n",
    "        if last_selected != set(selected):\n",
    "            last_selected = set(selected)\n",
    "            graph_selection.selected = sorted(set(selected))\n",
    "\n",
    "    grid.observe(on_grid_select, [\"selections\"])\n",
    "\n",
    "    def on_graph_select(*x):\n",
    "        nonlocal last_selected\n",
    "        last_selected = set(graph_selection.selected)\n",
    "        if not graph_selection.selected:\n",
    "            grid.selections = []\n",
    "            return\n",
    "        visible = grid.get_visible_data()\n",
    "        visible_index = visible.index.to_list()\n",
    "        c2 = visible.shape[1] - 1\n",
    "        selections = []\n",
    "        getattr(source, kind)\n",
    "        for index in graph_selection.selected:\n",
    "            try:\n",
    "                r1 = int(visible_index.index(index))\n",
    "            except Exception as err:  # noqa\n",
    "                continue\n",
    "            selection = {\"r1\": r1, \"r2\": r1, \"c1\": 0, \"c2\": c2}\n",
    "            selections += [selection]\n",
    "        grid.selections = selections\n",
    "\n",
    "    graph_selection.observe(on_graph_select, [\"selected\"])"
   ]
  },
  {
   "cell_type": "code",
   "execution_count": null,
   "id": "ccd5095a-e5f3-41e5-b121-e7b866e5376e",
   "metadata": {
    "tags": []
   },
   "outputs": [],
   "source": [
    "link_grid_and_graph(node_grid, node_selection, source, \"nodes\")\n",
    "link_grid_and_graph(link_grid, link_selection, source, \"links\")"
   ]
  },
  {
   "cell_type": "markdown",
   "id": "85f7e9a4-2646-43ca-9f63-b7e192fa38cb",
   "metadata": {},
   "source": [
    "## Customize some Shapes"
   ]
  },
  {
   "cell_type": "code",
   "execution_count": null,
   "id": "39a67c7f-9a2e-4726-b7fc-87a35a31731e",
   "metadata": {
    "tags": []
   },
   "outputs": [],
   "source": [
    "node_shape = B.NodeShapes()\n",
    "fg.behaviors = [*fg.behaviors, node_shape]"
   ]
  },
  {
   "cell_type": "markdown",
   "id": "1a1ed7ae-8d37-4b30-889b-73214b3c6bc5",
   "metadata": {
    "tags": []
   },
   "source": [
    "### Use node size for type"
   ]
  },
  {
   "cell_type": "code",
   "execution_count": null,
   "id": "b3fab293-a9ba-4182-ade1-871ad194a808",
   "metadata": {
    "tags": []
   },
   "outputs": [],
   "source": [
    "node_shape.size = B.Nunjucks(\n",
    "    \"{% if node.type == 'task' %}\"\n",
    "    \"10\"\n",
    "    \"{% elif node.type == 'file' %}\"\n",
    "    \"{% if node.exists %}1{% else %}2{% endif %}\"\n",
    "    \"{% endif %}\"\n",
    ")"
   ]
  },
  {
   "cell_type": "markdown",
   "id": "32358f99-b7b5-4d18-acd8-e30b8d3ff197",
   "metadata": {},
   "source": [
    "## Use color for status"
   ]
  },
  {
   "cell_type": "code",
   "execution_count": null,
   "id": "ee8a07f4-f39c-40d2-862d-27ddc6780620",
   "metadata": {
    "tags": []
   },
   "outputs": [],
   "source": [
    "node_shape.color = B.Nunjucks(\n",
    "    \"{% if node.type == 'task' %}\"\n",
    "    \"{% if node.status == ['error'] %}rgba(255,0,0,0.5){% endif %}\"\n",
    "    \"{% elif node.type == 'file' %}\"\n",
    "    \"{% if node.exists %}rgba(0,0,0,0.75){% else %}rgba(150,150,0,0.75){% endif %}\"\n",
    "    \"{% elif node.type == 'directory' %}\"\n",
    "    \"{% if node.exists %}rgba(0,0,0,0.25){% else %}rgba(150,150,0,0.25){% endif %}\"\n",
    "    \"{% endif %}\"\n",
    ")"
   ]
  },
  {
   "cell_type": "markdown",
   "id": "8ca65cbd-d0be-47a3-9710-6f38b58ca3e2",
   "metadata": {},
   "source": [
    "## Add a button bar"
   ]
  },
  {
   "cell_type": "code",
   "execution_count": null,
   "id": "960c7a3d-4d62-44ef-87aa-a640f794ff4c",
   "metadata": {
    "tags": []
   },
   "outputs": [],
   "source": [
    "action_buttons = W.HBox(**button_bar_style)\n",
    "app.children = [app_style, view_toggles, split, action_buttons]"
   ]
  },
  {
   "cell_type": "markdown",
   "id": "0a8344a6-746e-40f5-a5d8-9be6dd60c758",
   "metadata": {},
   "source": [
    "### A button helper\n",
    "\n",
    "This helper will react to the state of a given graph selection, showing when a command\n",
    "is relevant."
   ]
  },
  {
   "cell_type": "code",
   "execution_count": null,
   "id": "ffe8ca40-74d5-4e32-841d-d35c76b33c68",
   "metadata": {
    "tags": []
   },
   "outputs": [],
   "source": [
    "def add_a_button(label, icon, row_filter, selection, items):\n",
    "    button = W.Button(description=label, icon=icon)\n",
    "    action_buttons.children = [*action_buttons.children, button]\n",
    "\n",
    "    def on_selection(*x):\n",
    "        selected = selection.selected\n",
    "        filtered = []\n",
    "        df = getattr(source, items)\n",
    "        for i in selected:\n",
    "            item = df.loc[i]\n",
    "            keep = True\n",
    "            for key, value in row_filter.items():\n",
    "                if getattr(item, key) not in value:\n",
    "                    keep = False\n",
    "                    break\n",
    "            if keep:\n",
    "                filtered += [i]\n",
    "        with button.hold_sync():\n",
    "            if filtered:\n",
    "                button.disabled = False\n",
    "                button.button_style = \"primary\"\n",
    "                button.description = f\"{label} ({len(filtered)})\"\n",
    "            else:\n",
    "                button.disabled = True\n",
    "                button.button_style = \"\"\n",
    "                button.description = label\n",
    "\n",
    "    selection.observe(on_selection)\n",
    "    on_selection()\n",
    "    return button\n",
    "\n",
    "\n",
    "add_node_button = functools.partial(\n",
    "    add_a_button, selection=node_selection, items=\"nodes\"\n",
    ")\n",
    "add_link_button = functools.partial(\n",
    "    add_a_button, selection=link_selection, items=\"links\"\n",
    ")"
   ]
  },
  {
   "cell_type": "markdown",
   "id": "a7dc82cb-13aa-4cff-8f33-a7150b184835",
   "metadata": {},
   "source": [
    "### Refresh the Graph\n",
    "\n",
    "You might work somewhere else on the tasks, and want to reload the data."
   ]
  },
  {
   "cell_type": "code",
   "execution_count": null,
   "id": "72c385e8-9027-47c7-bc44-ddaaedd610d8",
   "metadata": {
    "tags": []
   },
   "outputs": [],
   "source": [
    "def refresh():\n",
    "    source.refresh()\n",
    "    node_grid.data = source.nodes\n",
    "    link_grid.data = source.links"
   ]
  },
  {
   "cell_type": "code",
   "execution_count": null,
   "id": "08d5c2d5-b9bc-47f5-916d-e5bfc8cc0e3e",
   "metadata": {
    "tags": []
   },
   "outputs": [],
   "source": [
    "refresh_button = W.Button(description=\"Refresh\", icon=\"refresh\")\n",
    "action_buttons.children = [refresh_button, *action_buttons.children]"
   ]
  },
  {
   "cell_type": "code",
   "execution_count": null,
   "id": "765a6005-9440-4a27-a827-53ce9f500191",
   "metadata": {
    "tags": []
   },
   "outputs": [],
   "source": [
    "refresh_button.on_click(lambda x: refresh())"
   ]
  },
  {
   "cell_type": "markdown",
   "id": "170342a3-d165-4d3d-b532-1c42ba3a80b2",
   "metadata": {},
   "source": [
    "### View Files\n",
    "\n",
    "`ipylab` exposes the\n",
    "[JupyterLab command](https://jupyterlab.readthedocs.io/en/stable/user/commands.html)\n",
    "system, which allows for changing the state of the running client application from the\n",
    "kernel. T"
   ]
  },
  {
   "cell_type": "code",
   "execution_count": null,
   "id": "aba1e63d-c849-4c95-ac23-ccfa2c924280",
   "metadata": {
    "tags": []
   },
   "outputs": [],
   "source": [
    "view_file_button = add_node_button(\n",
    "    \"Open Files\", \"folder-open\", {\"type\": [\"file\"], \"exists\": [True]}\n",
    ")\n",
    "\n",
    "\n",
    "def on_view_click():\n",
    "    cmd_id = \"filebrowser:open-path\"\n",
    "    for i in node_selection.selected:\n",
    "        node = source.nodes.iloc[i]\n",
    "        if node.type == \"file\" and node.exists:\n",
    "            node.id.split(\"file:\")[1]\n",
    "            lab.commands.execute(cmd_id, {\"path\": node[\"name\"]})\n",
    "\n",
    "\n",
    "view_file_button.on_click(lambda *x: on_view_click())"
   ]
  },
  {
   "cell_type": "markdown",
   "id": "4308521f-fe26-4cfd-8fd4-3c42d950b34a",
   "metadata": {},
   "source": [
    "### Run Tasks"
   ]
  },
  {
   "cell_type": "code",
   "execution_count": null,
   "id": "9d65798e-cc89-4ad2-9dee-f014039cec91",
   "metadata": {
    "tags": []
   },
   "outputs": [],
   "source": [
    "run_task_button = add_node_button(\"Run\", \"play\", {\"type\": [\"task\"]})"
   ]
  },
  {
   "cell_type": "code",
   "execution_count": null,
   "id": "bba89cbe-c716-497c-9cdf-252599572a9d",
   "metadata": {
    "tags": []
   },
   "outputs": [],
   "source": [
    "def run_tasks(tasks, lines):\n",
    "    args = [\"doit\", *tasks]\n",
    "    lines.append((\"stdout\", \" \".join([\">>>\", *args, \"\\n\"])))\n",
    "    proc = subprocess.Popen(\n",
    "        args,\n",
    "        stdout=subprocess.PIPE,\n",
    "        stderr=subprocess.PIPE,\n",
    "        bufsize=1,\n",
    "        universal_newlines=True,\n",
    "        cwd=str(source.project_root),\n",
    "    )\n",
    "    streams = {\"stdout\": proc.stdout, \"stderr\": proc.stderr}\n",
    "\n",
    "    def watch_stream(stream_name, stream, lines):\n",
    "        line = stream.readline()\n",
    "        while line:\n",
    "            lines.append((stream_name, line))\n",
    "            line = stream.readline()\n",
    "\n",
    "    for stream_name, stream in streams.items():\n",
    "        thread = threading.Thread(None, watch_stream, args=(stream_name, stream, lines))\n",
    "        thread.start()\n",
    "\n",
    "    proc.wait()\n",
    "\n",
    "    lines.append((\"stdout\", f\"return code: {proc.returncode}\"))\n",
    "    return proc.returncode"
   ]
  },
  {
   "cell_type": "code",
   "execution_count": null,
   "id": "b648a18d-fd2d-4f29-a929-6c2a71a8e0b4",
   "metadata": {
    "tags": []
   },
   "outputs": [],
   "source": [
    "async def run_tasks_async(tasks, output_panel):\n",
    "    lines = deque()\n",
    "    task = asyncio.get_running_loop().run_in_executor(None, run_tasks, tasks, lines)\n",
    "    while not task.done():\n",
    "        output = output_panel.children[0]\n",
    "        await asyncio.sleep(0.01)\n",
    "        while lines:\n",
    "            stream, line = lines.pop()\n",
    "            if stream == \"stderr\":\n",
    "                output.append_stderr(line)\n",
    "            else:\n",
    "                output.append_stdout(line)\n",
    "            if len(output.outputs) >= 100:\n",
    "                output = W.Output()\n",
    "                output_panel.children = [output, *output_panel.children]\n",
    "    refresh()\n",
    "    run_task_button.button_style = \"primary\""
   ]
  },
  {
   "cell_type": "code",
   "execution_count": null,
   "id": "6f853403-a281-4866-88af-6a39d72c2816",
   "metadata": {},
   "outputs": [],
   "source": [
    "def on_run_click():\n",
    "    tasks = []\n",
    "    for i in node_selection.selected:\n",
    "        node = source.nodes.iloc[i]\n",
    "        if node.type == \"task\":\n",
    "            tasks += [node[\"name\"]]\n",
    "    if tasks:\n",
    "        output = W.Output()\n",
    "        style = W.HTML(\n",
    "            \"\"\"<style>\n",
    "            .ipfg-stream { display: flex; flex-direction: column-reverse; }\n",
    "            .ipfg-stream .jp-OutputPrompt {display: none;}\n",
    "        </style>\"\"\"\n",
    "        )\n",
    "        output_panel = L.Panel(\n",
    "            [output, style],\n",
    "            _dom_classes=[\"ipfg-stream\"],\n",
    "            layout=dict(overflow=\"scroll\"),\n",
    "        )\n",
    "        output_panel.title.label = DODO + (\" \".join(tasks))\n",
    "        lab.shell.add(output_panel, \"main\", {\"mode\": \"split-right\"})\n",
    "\n",
    "        run_task_button.button_style = \"warning\"\n",
    "        asyncio.create_task(run_tasks_async(tasks, output_panel))"
   ]
  },
  {
   "cell_type": "code",
   "execution_count": null,
   "id": "189a7a16-6fb0-491a-8eea-33084ff020f7",
   "metadata": {
    "tags": []
   },
   "outputs": [],
   "source": [
    "run_task_button.on_click(lambda *x: on_run_click())"
   ]
  },
  {
   "cell_type": "markdown",
   "id": "f4666fb9-d42d-4bd1-95ed-0cabadd54c14",
   "metadata": {},
   "source": [
    "### Forget Tasks\n",
    "\n",
    "If a task _thinks_ it's up-to-date, but you _know_ it isn't, it can be useful to\n",
    "_forget_ a task, forcing it (and any dependent tasks) to be re-run."
   ]
  },
  {
   "cell_type": "code",
   "execution_count": null,
   "id": "96b58282-596b-43b0-a692-91e8f6c0192d",
   "metadata": {
    "tags": []
   },
   "outputs": [],
   "source": [
    "forget_task_button = add_node_button(\"Forget\", \"eraser\", {\"type\": [\"task\"]})"
   ]
  },
  {
   "cell_type": "code",
   "execution_count": null,
   "id": "5cc2b02f-fc32-4bc9-9fc3-fab05f60836d",
   "metadata": {
    "tags": []
   },
   "outputs": [],
   "source": [
    "def forget_tasks():\n",
    "    tasks = []\n",
    "    for i in node_selection.selected:\n",
    "        node = source.nodes.iloc[i]\n",
    "        if node.type == \"task\":\n",
    "            tasks += [node[\"name\"]]\n",
    "    if not tasks:\n",
    "        return\n",
    "    forget_task_button.button_style = \"warning\"\n",
    "    try:\n",
    "        subprocess.check_call([\"doit\", \"forget\", *tasks], cwd=str(source.project_root))\n",
    "        forget_task_button.button_style = \"primary\"\n",
    "    except Exception:\n",
    "        forget_task_button.button_style = \"danger\"\n",
    "    refresh()"
   ]
  },
  {
   "cell_type": "code",
   "execution_count": null,
   "id": "30b1bdd9-cbd1-44d4-b8ff-50aba2bc062f",
   "metadata": {
    "tags": []
   },
   "outputs": [],
   "source": [
    "forget_task_button.on_click(lambda *x: forget_tasks())"
   ]
  }
 ],
 "metadata": {
  "kernelspec": {
   "display_name": "Python 3 (ipykernel)",
   "language": "python",
   "name": "python3"
  },
  "language_info": {
   "codemirror_mode": {
    "name": "ipython",
    "version": 3
   },
   "file_extension": ".py",
   "mimetype": "text/x-python",
   "name": "python",
   "nbconvert_exporter": "python",
   "pygments_lexer": "ipython3",
   "version": "3.11.0"
  }
 },
 "nbformat": 4,
 "nbformat_minor": 5
}
