{
 "cells": [
  {
   "cell_type": "markdown",
   "id": "6bbfe8cb-b276-47cc-b617-2cfac84dfc5f",
   "metadata": {},
   "source": [
    "# 🦤 Dodo Source\n",
    "\n",
    "[doit](https://github.com/pydoit/doit) is a simple, yet powerful task execution tool,\n",
    "written in Python. The `DodoSource` can find the _tasks_ defined in a `dodo.py`, as well\n",
    "as the _files_ it depends on.\n",
    "\n",
    "This demo features a `ForceGraph` with a `DodoSource` for this project's own `dodo.py`,\n",
    "along with a number of other Jupyter Widget libraries to demonstrate a full, interactive\n",
    "application.\n",
    "\n",
    "> **Hint**\n",
    ">\n",
    "> _For a \"cleaner\" notebook, see the [DodoApp](./DodoApp.ipynb) which uses `importnb` to\n",
    "> present this application with less behind-the-scenes details._"
   ]
  },
  {
   "cell_type": "code",
   "execution_count": null,
   "id": "5f7af984-25cb-4cf3-85c1-021533ec84fe",
   "metadata": {
    "tags": []
   },
   "outputs": [],
   "source": [
    "import asyncio\n",
    "import functools\n",
    "import itertools\n",
    "import subprocess\n",
    "from pathlib import Path\n",
    "\n",
    "import anyio.streams.text\n",
    "import ipylab as L\n",
    "import ipywidgets as W\n",
    "import networkx as nx\n",
    "import traitlets as T\n",
    "from ipydatagrid import DataGrid\n",
    "from ipyforcegraph import behaviors as B\n",
    "from ipyforcegraph import graphs as G\n",
    "from ipyforcegraph.behaviors import shapes as S\n",
    "from ipyforcegraph.sources.dodo import DodoSource"
   ]
  },
  {
   "cell_type": "markdown",
   "id": "fd1832e8-0b20-4566-b25c-11a94e8bc62f",
   "metadata": {},
   "source": [
    "## Create a Panel\n",
    "\n",
    "Creating a single panel in the JupyterLab `main` area next to the notebook we're working\n",
    "on makes it easy to see how the application develops."
   ]
  },
  {
   "cell_type": "code",
   "execution_count": null,
   "id": "71847abe-6ecc-4aab-8ec9-e00d2a57b84b",
   "metadata": {
    "tags": []
   },
   "outputs": [],
   "source": [
    "lab = L.JupyterFrontEnd()\n",
    "split = L.SplitPanel(\n",
    "    [], orientation=\"vertical\", layout=dict(height=\"100%\", overflow=\"hidden\")\n",
    ")\n",
    "app_style = W.HTML(\n",
    "    \"\"\"<style>\n",
    ".ipfg-dodo {\n",
    "    --jp-widgets-inline-width-short: auto;\n",
    "}\n",
    "</style>\"\"\"\n",
    ")\n",
    "\n",
    "app = W.VBox(\n",
    "    [app_style, split],\n",
    "    _dom_classes=[\"ipfg-dodo\"],\n",
    "    layout=dict(display=\"flex\", flex=\"1\", flex_flow=\"column\"),\n",
    ")\n",
    "\n",
    "panel = L.Panel([app], layout=dict(overflow=\"hidden\", height=\"100%\"))\n",
    "ipfg_icon = L.Icon(\n",
    "    name=\"ipyfg:logo\", svgstr=Path(\"datasets/logo.svg\").read_text(encoding=\"utf-8\")\n",
    ")\n",
    "panel.title.icon = ipfg_icon"
   ]
  },
  {
   "cell_type": "code",
   "execution_count": null,
   "id": "2a091888-c6b9-4fdd-8fd0-920c45922471",
   "metadata": {
    "tags": []
   },
   "outputs": [],
   "source": [
    "def show_app(area, **options):\n",
    "    lab.shell.add(panel, area, options)\n",
    "    return panel"
   ]
  },
  {
   "cell_type": "code",
   "execution_count": null,
   "id": "33465d04-c8f4-4a6d-878d-22cbeaafb8f1",
   "metadata": {
    "tags": []
   },
   "outputs": [],
   "source": [
    "if __name__ == \"__main__\":\n",
    "    show_app(\"main\", mode=\"split-right\")"
   ]
  },
  {
   "cell_type": "markdown",
   "id": "9fbd6c1f-dfb1-42b3-a38f-fa3074670b2b",
   "metadata": {},
   "source": [
    "## Create the Graph\n",
    "\n",
    "We know we want to show a graph."
   ]
  },
  {
   "cell_type": "code",
   "execution_count": null,
   "id": "3628d310-f833-43e8-be9e-b8d00b3e45e2",
   "metadata": {
    "tags": []
   },
   "outputs": [],
   "source": [
    "fg = G.ForceGraph(layout=dict(width=\"100%\", height=\"100%\", flex=\"3\"))\n",
    "split.children = [fg]"
   ]
  },
  {
   "cell_type": "markdown",
   "id": "79ab9613-25cb-4315-acec-92f5b8fbe8b1",
   "metadata": {},
   "source": [
    "## Create the `DodoSource`\n",
    "\n",
    "A `DodoSource` needs to know its `project_root` in order to find your `dodo.py`, and\n",
    "establish the right current working directory.\n",
    "\n",
    "> While `doit` has pluggable _loaders_, `DodoSource` only supports discovering a\n",
    "> `dodo.py`"
   ]
  },
  {
   "cell_type": "code",
   "execution_count": null,
   "id": "a9a3bc71-decf-4ec2-b351-4cf1bdaf7af0",
   "metadata": {
    "tags": []
   },
   "outputs": [],
   "source": [
    "source = DodoSource(\n",
    "    project_root=\"..\", node_preserve_columns=[\"x\", \"y\", \"vx\", \"vy\", \"_selected\"]\n",
    ")\n",
    "T.dlink((source, \"project_root\"), (panel.title, \"label\"), lambda x: x.name)\n",
    "fg.source = source"
   ]
  },
  {
   "cell_type": "markdown",
   "id": "b3ffa200-d7e1-470b-bcb9-8216eeacacbf",
   "metadata": {},
   "source": [
    "> The app should now show a big pile of `nodes`, based on the underlying\n",
    "> `pandas.DataFrame`, to be explored more fully below."
   ]
  },
  {
   "cell_type": "markdown",
   "id": "a1298c5f-3299-46c3-a516-b7f347b66899",
   "metadata": {},
   "source": [
    "## Add Graph Behaviors"
   ]
  },
  {
   "cell_type": "markdown",
   "id": "f6522573-d4be-4176-b172-6753bd44e428",
   "metadata": {},
   "source": [
    "### Customize Node Shapes"
   ]
  },
  {
   "cell_type": "code",
   "execution_count": null,
   "id": "39a67c7f-9a2e-4726-b7fc-87a35a31731e",
   "metadata": {
    "tags": []
   },
   "outputs": [],
   "source": [
    "node_shape = B.NodeShapes()\n",
    "fg.behaviors = [*fg.behaviors, node_shape]"
   ]
  },
  {
   "cell_type": "code",
   "execution_count": null,
   "id": "c8b91d52-663a-4a79-ad15-386f2016a158",
   "metadata": {
    "tags": []
   },
   "outputs": [],
   "source": [
    "file_shape = S.Rectangle()\n",
    "task_shape = S.Text()\n",
    "subtask_shape = S.Ellipse()"
   ]
  },
  {
   "cell_type": "code",
   "execution_count": null,
   "id": "015677b1-d3ac-47d7-8bac-e5e8b0c455c9",
   "metadata": {
    "tags": []
   },
   "outputs": [],
   "source": [
    "node_shape.shapes = [file_shape, subtask_shape, task_shape]"
   ]
  },
  {
   "cell_type": "markdown",
   "id": "a1c8b6d0-1eb4-419d-9083-e850bc8b0d75",
   "metadata": {},
   "source": [
    "#### Files as Boxes"
   ]
  },
  {
   "cell_type": "code",
   "execution_count": null,
   "id": "2b1853ef-5288-4a64-a37f-6ef909093620",
   "metadata": {
    "tags": []
   },
   "outputs": [],
   "source": [
    "file_shape.width = file_shape.height = B.Nunjucks(\n",
    "    \"{% if node.type in ['file', 'directory', 'file_dep', 'targets'] %}10\"\n",
    "    \"{% else %}0{% endif %}\",\n",
    ")\n",
    "file_shape.fill = B.Nunjucks(\n",
    "    \"{% if node.type == 'file' and node.exists %}grey{% else %}white{% endif %}\",\n",
    ")\n",
    "file_shape.stroke = B.Nunjucks(\n",
    "    \"{% if node._selected %}orange\"\n",
    "    \"{% elif node.type == 'file' %}black\"\n",
    "    \"{% else %}grey{% endif %}\",\n",
    ")\n",
    "file_shape.stroke_width = B.Nunjucks(\n",
    "    \"{% if node._selected %}4\" \"{% else %}1{% endif %}\",\n",
    ")\n",
    "file_shape.line_dash = B.Nunjucks(\n",
    "    \"{% if node.exists %}[]{% else %}[1]{% endif %}\",\n",
    ")"
   ]
  },
  {
   "cell_type": "markdown",
   "id": "79fbd19b-c540-406e-8bb9-fe5130c19afa",
   "metadata": {},
   "source": [
    "#### Tasks as Text"
   ]
  },
  {
   "cell_type": "code",
   "execution_count": null,
   "id": "ecaf5470-0306-4e07-aed4-76ea15e1dc1e",
   "metadata": {
    "tags": []
   },
   "outputs": [],
   "source": [
    "task_shape.text = B.Nunjucks(\n",
    "    \"{% if node.type == 'task' and not node.subtask_of %}{{ node.name }}{% endif %}\",\n",
    ")\n",
    "\n",
    "task_shape.stroke = B.Nunjucks(\n",
    "    \"{% if node._selected %}orange\"\n",
    "    \"{% elif node.status == 'run' %}blue\"\n",
    "    \"{% elif node.status == 'error' %}red\"\n",
    "    \"{% endif %}\",\n",
    ")\n",
    "task_shape.stroke_width = B.Nunjucks(\n",
    "    \"{% if node._selected or node.status == 'error' %}4\" \"{% else %}1{% endif %}\",\n",
    ")\n",
    "task_shape.fill = \"black\"\n",
    "task_shape.size = 20\n",
    "task_shape.stroke_width = 1\n",
    "task_shape.scale_on_zoom = False\n",
    "task_shape.line_dash = B.Nunjucks(\n",
    "    \"{% if node.status == 'error' %}[1]{% else %}[]{% endif %}\",\n",
    ")"
   ]
  },
  {
   "cell_type": "markdown",
   "id": "2de03bf3-7234-4e25-8f9c-c1fbf186c7b2",
   "metadata": {},
   "source": [
    "#### Subtasks as Circles"
   ]
  },
  {
   "cell_type": "code",
   "execution_count": null,
   "id": "468d6d63-e766-4b94-82fe-c6690789a067",
   "metadata": {
    "tags": []
   },
   "outputs": [],
   "source": [
    "subtask_shape.width = subtask_shape.height = B.Nunjucks(\n",
    "    \"{% if node.type == 'task' and node.subtask_of %}10{% else %}0{% endif %}\",\n",
    ")\n",
    "subtask_shape.fill = B.Nunjucks(\n",
    "    \"{% if node.status == 'up-to-date' %}blue\"\n",
    "    \"{% elif node.status == 'run' %}white\"\n",
    "    \"{% else %}red{% endif %}\",\n",
    ")\n",
    "subtask_shape.stroke = B.Nunjucks(\n",
    "    \"{% if node._selected %}orange\"\n",
    "    \"{% elif node.status == 'run' %}blue\"\n",
    "    \"{% elif node.status == 'error' %}red\"\n",
    "    \"{% endif %}\",\n",
    ")\n",
    "subtask_shape.stroke_width = B.Nunjucks(\n",
    "    \"{% if node._selected %}4\" \"{% else %}1{% endif %}\",\n",
    ")"
   ]
  },
  {
   "cell_type": "markdown",
   "id": "eaae7c7c-7038-4b9d-8105-e7ad9bc8285a",
   "metadata": {},
   "source": [
    "## Customize Link Shapes"
   ]
  },
  {
   "cell_type": "code",
   "execution_count": null,
   "id": "75b93344-4bfc-4e9f-937f-aee35a0c7078",
   "metadata": {
    "tags": []
   },
   "outputs": [],
   "source": [
    "link_shape = B.LinkShapes()\n",
    "fg.behaviors = [*fg.behaviors, link_shape]"
   ]
  },
  {
   "cell_type": "code",
   "execution_count": null,
   "id": "ad72d919-a64f-4c2a-92b2-d28a5d5b6004",
   "metadata": {
    "tags": []
   },
   "outputs": [],
   "source": [
    "link_shape.color = B.Nunjucks(\n",
    "    \"rgba({% if link.exists in [False, 'run'] %}150,0,0,0.125\"\n",
    "    \"{% else %}0,0,150,0.125)\"\n",
    "    \"{% endif %}\"\n",
    ")"
   ]
  },
  {
   "cell_type": "markdown",
   "id": "2d10695c-15ee-4382-b4cb-c16badb030a2",
   "metadata": {},
   "source": [
    "### Add `Tooltip` Behaviors\n",
    "\n",
    "Tooltips provide a quick way to inspect parts of the graph."
   ]
  },
  {
   "cell_type": "code",
   "execution_count": null,
   "id": "6238597a-330e-4f42-af44-adbb88a09f25",
   "metadata": {
    "tags": []
   },
   "outputs": [],
   "source": [
    "node_tooltip = B.NodeTooltip()\n",
    "link_tooltip = B.LinkTooltip()\n",
    "fg.behaviors = [*fg.behaviors, node_tooltip, link_tooltip]"
   ]
  },
  {
   "cell_type": "code",
   "execution_count": null,
   "id": "407eee88-2cfb-47d8-9702-2bcac4e30f7b",
   "metadata": {
    "tags": []
   },
   "outputs": [],
   "source": [
    "node_tooltip.label = B.Nunjucks(\n",
    "    \"[<b>{{ node.type }}</b>\"\n",
    "    \"{% if node.type == 'task' %}\"\n",
    "    \" {{  node.status}}\"\n",
    "    \"{% elif node.exists %} exists\"\n",
    "    \"{% elif node.type in ['file', 'directory', 'targets', 'file_dep'] %} missing\"\n",
    "    \"{% endif %}\"\n",
    "    \"] {{ node.name }}<br/>\"\n",
    "    \"{{ node.doc }}{{ (node.paths or []) | join('\\n') }}\"\n",
    ")\n",
    "link_tooltip.label = B.Nunjucks(\n",
    "    \"{{ link.source.name }}<br/><b>[{{ link.type }} {{ link.exists }}]</b> <br/>{{ link.target.name }}\"\n",
    ")"
   ]
  },
  {
   "cell_type": "markdown",
   "id": "d649ce9d-223b-4c40-b490-7d51a5827428",
   "metadata": {},
   "source": [
    "### Toggle Graph Features\n",
    "\n",
    "`doit` task graphs can quickly get _large_. Some graph features decrease (or increase)\n",
    "the number of nodes or edges."
   ]
  },
  {
   "cell_type": "code",
   "execution_count": null,
   "id": "34c06773-efec-4d53-a48f-d40df5fec076",
   "metadata": {},
   "outputs": [],
   "source": [
    "button_bar_style = dict(layout=dict(height=\"2.5em\", overflow=\"hidden\"))\n",
    "view_toggles = W.HBox(**button_bar_style)\n",
    "view_toggles.layout.flex_flow = \"row-reverse\"\n",
    "app.children = [app_style, view_toggles, split]"
   ]
  },
  {
   "cell_type": "markdown",
   "id": "751dd7ee-6435-4691-8ac4-a47e8fb9f188",
   "metadata": {},
   "source": [
    "#### Show Directories\n",
    "\n",
    "Directories can't be acted upon by `doit`, generally, and add a lot of extra edges, but\n",
    "can be useful for more directly visualizing the project layout."
   ]
  },
  {
   "cell_type": "code",
   "execution_count": null,
   "id": "a5460e7e-8786-436f-9a61-8dd21fe8eff7",
   "metadata": {
    "tags": []
   },
   "outputs": [],
   "source": [
    "show_directories = W.ToggleButton(icon=\"folder\", tooltip=\"Show Directories\")\n",
    "T.link((source, \"show_directories\"), (show_directories, \"value\"))\n",
    "view_toggles.children = [*view_toggles.children, show_directories]"
   ]
  },
  {
   "cell_type": "markdown",
   "id": "829caf07-1ed7-4266-83dc-40a1ec5abe71",
   "metadata": {},
   "source": [
    "#### Group File Dependencies and Targets\n",
    "\n",
    "A project with a lot of inter-related files will quickly get very dense. Grouping files\n",
    "by their membership in tasks' `file_dep` or `target` reduces the node and edge count\n",
    "significantly."
   ]
  },
  {
   "cell_type": "code",
   "execution_count": null,
   "id": "3f5e7596-ab28-46d8-8080-cbe93df198ee",
   "metadata": {
    "tags": []
   },
   "outputs": [],
   "source": [
    "show_files = W.ToggleButton(icon=\"project-diagram\", tooltip=\"Show Files\")\n",
    "T.link((source, \"show_files\"), (show_files, \"value\"))\n",
    "view_toggles.children = [*view_toggles.children, show_files]"
   ]
  },
  {
   "cell_type": "markdown",
   "id": "c47f9534-ebb4-480f-a91d-c7b4804e5c3c",
   "metadata": {},
   "source": [
    "> Now, hovering over each of the nodes and edges should show some data about them."
   ]
  },
  {
   "cell_type": "markdown",
   "id": "216e39c8-ba78-4155-a82d-165f32e86926",
   "metadata": {},
   "source": [
    "## Toggle Particles\n",
    "\n",
    "Animated _particles_ are drawn on top of links, and are a more active mark than styled\n",
    "links."
   ]
  },
  {
   "cell_type": "code",
   "execution_count": null,
   "id": "038b99d5-b159-4cc9-b64a-96b188485221",
   "metadata": {
    "tags": []
   },
   "outputs": [],
   "source": [
    "lp = B.LinkParticles()\n",
    "fg.behaviors = [*fg.behaviors, lp]\n",
    "show_particle_paths = W.ToggleButtons(\n",
    "    options=[(\"\", \"\"), (\" \", \"upstream\"), (\"  \", \"between\"), (\"   \", \"downstream\")],\n",
    "    tooltips=[\"No particles\", \"Upstream\", \"Paths Between\", \"Downstreams\"],\n",
    "    icons=[\n",
    "        \"minus\",\n",
    "        \"chevron-circle-up\",\n",
    "        \"bezier-curve\",\n",
    "        \"chevron-circle-down\",\n",
    "    ],\n",
    ")\n",
    "path_busy = W.Button(\n",
    "    icon=\"circle-notch spin\",\n",
    "    disabled=True,\n",
    "    button_style=\"info\",\n",
    "    layout=dict(visibility=\"hidden\"),\n",
    ")\n",
    "particle_mode = W.HTML()\n",
    "T.dlink((show_particle_paths, \"value\"), (particle_mode, \"value\"))\n",
    "view_toggles.children = [\n",
    "    show_particle_paths,\n",
    "    particle_mode,\n",
    "    path_busy,\n",
    "    W.HTML(layout=dict(flex=\"1\")),\n",
    "    *view_toggles.children,\n",
    "]"
   ]
  },
  {
   "cell_type": "markdown",
   "id": "e2478f4e-e8aa-4152-ae06-f2478e6ddebf",
   "metadata": {},
   "source": [
    "### Show Dependency Particles\n",
    "\n",
    "Selecting two nodes shows the dependency paths between them, following `file_dep`,\n",
    "`targets`, and `task_dep`. As these can rapidly overpower a graph, one mode at a time is\n",
    "shown."
   ]
  },
  {
   "cell_type": "code",
   "execution_count": null,
   "id": "1e05a10b-8b9b-4c21-af54-9109c00649d2",
   "metadata": {
    "tags": []
   },
   "outputs": [],
   "source": [
    "def find_link_indices(paths):\n",
    "    link_idx = []\n",
    "    for path in paths:\n",
    "        pairs = sorted(itertools.pairwise(path))\n",
    "        link_idx += source.links[\n",
    "            source.links.apply(\n",
    "                lambda x: (x.source, x.target) in pairs\n",
    "                or (x.target, x.source) in pairs,\n",
    "                axis=1,\n",
    "            )\n",
    "        ].index.to_list()\n",
    "    return sorted(set(link_idx))"
   ]
  },
  {
   "cell_type": "code",
   "execution_count": null,
   "id": "b7fe6274-eadb-4ca8-85b9-c37e6748fe90",
   "metadata": {
    "tags": []
   },
   "outputs": [],
   "source": [
    "def toggle_particles(*x):\n",
    "    mode = show_particle_paths.value\n",
    "    path_busy.layout.visibility = \"visible\"\n",
    "    lp.width = 0\n",
    "    selected = []\n",
    "    try:\n",
    "        selected = node_selection.selected\n",
    "    except Exception:\n",
    "        pass\n",
    "    nxg = nx.convert_matrix.from_pandas_edgelist(source.links, create_using=nx.DiGraph)\n",
    "    paths = []\n",
    "\n",
    "    if mode == \"between\" and len(selected) >= 2:\n",
    "        source_node = source.nodes.iloc[selected[0]].id\n",
    "        target_node = source.nodes.iloc[selected[1]].id\n",
    "        paths = list(nx.all_simple_paths(nxg, source_node, target_node))\n",
    "        if not paths:\n",
    "            paths = list(nx.all_simple_paths(nxg, target_node, source_node))\n",
    "\n",
    "    if selected and mode in [\"upstream\", \"downstream\"]:\n",
    "        source_node = source.nodes.iloc[selected[0]].id\n",
    "        relative_finder = nx.ancestors if mode == \"upstream\" else nx.descendants\n",
    "        relatives = relative_finder(nxg, source_node)\n",
    "        for target_node in relatives:\n",
    "            node_pair = (\n",
    "                [source_node, target_node]\n",
    "                if mode == \"downstream\"\n",
    "                else [target_node, source_node]\n",
    "            )\n",
    "            paths += list(nx.all_simple_paths(nxg, *node_pair))\n",
    "\n",
    "    particle_mode.value = f\"{mode} ({len(paths)} paths)\"\n",
    "    if not paths:\n",
    "        lp.width = 0\n",
    "    else:\n",
    "        link_idx = find_link_indices(paths)\n",
    "        with lp.hold_trait_notifications():\n",
    "            lp.color = {\"between\": \"orange\", \"upstream\": \"red\", \"downstream\": \"blue\"}[\n",
    "                mode\n",
    "            ]\n",
    "            lp.speed = 0.01\n",
    "            lp.width = B.Nunjucks(\n",
    "                \"{% if link.index in \" + str(link_idx) + \"%}5{% endif %}\"\n",
    "            )\n",
    "            lp.density = 10\n",
    "    path_busy.layout.visibility = \"hidden\""
   ]
  },
  {
   "cell_type": "code",
   "execution_count": null,
   "id": "64c59556-0070-4d12-977e-b437befe7a9d",
   "metadata": {
    "tags": []
   },
   "outputs": [],
   "source": [
    "show_particle_paths.observe(lambda *x: toggle_particles(), \"value\")"
   ]
  },
  {
   "cell_type": "markdown",
   "id": "09e87f60-2ccd-4d1b-9645-96190ee067c4",
   "metadata": {},
   "source": [
    "## Create some `DataGrid`s\n",
    "\n",
    "[ipydatagrid](https://github.com/bloomberg/ipydatagrid) provides a rich `DataGrid`\n",
    "class, which also speaks `pandas.DataFrame`. Since even a relatively small `doit` task\n",
    "graph can be quite large, displaying the raw data in a grid provides a more readly\n",
    "inspectable (and filterable) view."
   ]
  },
  {
   "cell_type": "code",
   "execution_count": null,
   "id": "f5a43d98-00a3-4379-9371-41aed5f28289",
   "metadata": {
    "tags": []
   },
   "outputs": [],
   "source": [
    "grid_opts = dict(\n",
    "    layout=dict(height=\"100%\", max_height=\"100%\", min_height=\"100%\"),\n",
    ")\n",
    "node_grid = DataGrid(fg.source.nodes, **grid_opts)\n",
    "link_grid = DataGrid(fg.source.links, **grid_opts)\n",
    "grid_panel = L.SplitPanel(\n",
    "    [node_grid, link_grid],\n",
    "    orientation=\"horizontal\",\n",
    "    layout=dict(overflow=\"hidden\", height=\"400px\", min_height=\"400px\"),\n",
    ")\n",
    "split.children = [fg, grid_panel]"
   ]
  },
  {
   "cell_type": "markdown",
   "id": "7a0abf3f-33f9-4f8f-b7b0-df8412637764",
   "metadata": {},
   "source": [
    "> The app should now contain the graph, with two grids below it."
   ]
  },
  {
   "cell_type": "markdown",
   "id": "b23807c0-33ad-4b0b-aba0-b0a73d3c836c",
   "metadata": {},
   "source": [
    "## Add Node and Link Selection\n",
    "\n",
    "Both `ForceGraph` and `DataGrid` support the concept of _selection_."
   ]
  },
  {
   "cell_type": "code",
   "execution_count": null,
   "id": "bf9d4d4f-2772-4246-88e6-ad467bddfcc2",
   "metadata": {
    "tags": []
   },
   "outputs": [],
   "source": [
    "node_grid.selection_mode = \"row\"\n",
    "link_grid.selection_mode = \"row\"\n",
    "node_selection = B.NodeSelection(column_name=\"_selected\")\n",
    "link_selection = B.LinkSelection(column_name=\"_selected\")\n",
    "fg.behaviors = [*fg.behaviors, node_selection, link_selection]\n",
    "\n",
    "node_selection.observe(lambda *x: toggle_particles(), \"selected\")"
   ]
  },
  {
   "cell_type": "markdown",
   "id": "cafd7bc0-d948-4c03-8705-45a7f17a177b",
   "metadata": {},
   "source": [
    "> Nodes, links, and grid rows can now all be selected"
   ]
  },
  {
   "cell_type": "markdown",
   "id": "286c08a6-511f-43be-a6ef-aad3418fab74",
   "metadata": {
    "tags": []
   },
   "source": [
    "## Link the Selections\n",
    "\n",
    "While the graph and grids are now selectable, they are not expressed in the same format,\n",
    "and there is no relationship between them. With `traitlets.dlink`, we can create a\n",
    "semi-stable, bidrectional behavior between them."
   ]
  },
  {
   "cell_type": "code",
   "execution_count": null,
   "id": "89c834d7-4ffc-4e6c-b570-02bf9f968002",
   "metadata": {
    "tags": []
   },
   "outputs": [],
   "source": [
    "def link_grid_and_graph(grid, graph_selection, source, kind):\n",
    "    last_selected = set()\n",
    "\n",
    "    def on_grid_select(*x):\n",
    "        nonlocal last_selected\n",
    "        if not grid.selections:\n",
    "            graph_selection.selected = []\n",
    "            return\n",
    "        visible = grid.get_visible_data()\n",
    "        selected = []\n",
    "        for selection in grid.selections:\n",
    "            for i in range(selection[\"r1\"], selection[\"r2\"] + 1):\n",
    "                data_idx = int(visible.iloc[i].name)\n",
    "                selected += [data_idx]\n",
    "        if last_selected != set(selected):\n",
    "            last_selected = set(selected)\n",
    "            graph_selection.selected = sorted(set(selected))\n",
    "\n",
    "    grid.observe(on_grid_select, [\"selections\"])\n",
    "\n",
    "    def on_graph_select(*x):\n",
    "        nonlocal last_selected\n",
    "        last_selected = set(graph_selection.selected)\n",
    "        if not graph_selection.selected:\n",
    "            grid.selections = []\n",
    "            return\n",
    "        visible = grid.get_visible_data()\n",
    "        visible_index = visible.index.to_list()\n",
    "        c2 = visible.shape[1] - 1\n",
    "        selections = []\n",
    "        getattr(source, kind)\n",
    "        for index in graph_selection.selected:\n",
    "            try:\n",
    "                r1 = int(visible_index.index(index))\n",
    "            except Exception as err:  # noqa\n",
    "                continue\n",
    "            selection = {\"r1\": r1, \"r2\": r1, \"c1\": 0, \"c2\": c2}\n",
    "            selections += [selection]\n",
    "        grid.selections = selections\n",
    "\n",
    "    graph_selection.observe(on_graph_select, [\"selected\"])"
   ]
  },
  {
   "cell_type": "code",
   "execution_count": null,
   "id": "ccd5095a-e5f3-41e5-b121-e7b866e5376e",
   "metadata": {
    "tags": []
   },
   "outputs": [],
   "source": [
    "link_grid_and_graph(node_grid, node_selection, source, \"nodes\")\n",
    "link_grid_and_graph(link_grid, link_selection, source, \"links\")"
   ]
  },
  {
   "cell_type": "markdown",
   "id": "8ca65cbd-d0be-47a3-9710-6f38b58ca3e2",
   "metadata": {},
   "source": [
    "## Add a button bar"
   ]
  },
  {
   "cell_type": "code",
   "execution_count": null,
   "id": "960c7a3d-4d62-44ef-87aa-a640f794ff4c",
   "metadata": {
    "tags": []
   },
   "outputs": [],
   "source": [
    "action_buttons = W.HBox(**button_bar_style)\n",
    "app.children = [app_style, view_toggles, split, action_buttons]"
   ]
  },
  {
   "cell_type": "markdown",
   "id": "0a8344a6-746e-40f5-a5d8-9be6dd60c758",
   "metadata": {},
   "source": [
    "### A button helper\n",
    "\n",
    "This helper will react to the state of a given graph selection, showing when a command\n",
    "is relevant."
   ]
  },
  {
   "cell_type": "code",
   "execution_count": null,
   "id": "ffe8ca40-74d5-4e32-841d-d35c76b33c68",
   "metadata": {
    "tags": []
   },
   "outputs": [],
   "source": [
    "def add_a_button(label, icon, row_filter, selection, items):\n",
    "    button = W.Button(description=label, icon=icon)\n",
    "    action_buttons.children = [*action_buttons.children, button]\n",
    "\n",
    "    def on_selection(*x):\n",
    "        selected = selection.selected\n",
    "        filtered = []\n",
    "        df = getattr(source, items)\n",
    "        for i in selected:\n",
    "            item = df.loc[i]\n",
    "            keep = True\n",
    "            for key, value in row_filter.items():\n",
    "                if getattr(item, key) not in value:\n",
    "                    keep = False\n",
    "                    break\n",
    "            if keep:\n",
    "                filtered += [i]\n",
    "        with button.hold_sync():\n",
    "            if filtered:\n",
    "                button.disabled = False\n",
    "                button.button_style = \"primary\"\n",
    "                button.description = f\"{label} ({len(filtered)})\"\n",
    "            else:\n",
    "                button.disabled = True\n",
    "                button.button_style = \"\"\n",
    "                button.description = label\n",
    "\n",
    "    selection.observe(on_selection)\n",
    "    on_selection()\n",
    "    return button\n",
    "\n",
    "\n",
    "add_node_button = functools.partial(\n",
    "    add_a_button, selection=node_selection, items=\"nodes\"\n",
    ")\n",
    "add_link_button = functools.partial(\n",
    "    add_a_button, selection=link_selection, items=\"links\"\n",
    ")"
   ]
  },
  {
   "cell_type": "markdown",
   "id": "a7dc82cb-13aa-4cff-8f33-a7150b184835",
   "metadata": {},
   "source": [
    "### Refresh the Graph\n",
    "\n",
    "You might work somewhere else on the tasks, and want to reload the data."
   ]
  },
  {
   "cell_type": "code",
   "execution_count": null,
   "id": "72c385e8-9027-47c7-bc44-ddaaedd610d8",
   "metadata": {
    "tags": []
   },
   "outputs": [],
   "source": [
    "def refresh():\n",
    "    source.refresh()\n",
    "    node_grid.data = source.nodes\n",
    "    link_grid.data = source.links"
   ]
  },
  {
   "cell_type": "code",
   "execution_count": null,
   "id": "08d5c2d5-b9bc-47f5-916d-e5bfc8cc0e3e",
   "metadata": {
    "tags": []
   },
   "outputs": [],
   "source": [
    "refresh_button = W.Button(description=\"Refresh\", icon=\"refresh\")\n",
    "action_buttons.children = [refresh_button, *action_buttons.children]"
   ]
  },
  {
   "cell_type": "code",
   "execution_count": null,
   "id": "765a6005-9440-4a27-a827-53ce9f500191",
   "metadata": {
    "tags": []
   },
   "outputs": [],
   "source": [
    "refresh_button.on_click(lambda x: refresh())"
   ]
  },
  {
   "cell_type": "markdown",
   "id": "170342a3-d165-4d3d-b532-1c42ba3a80b2",
   "metadata": {},
   "source": [
    "### View Files\n",
    "\n",
    "`ipylab` exposes the\n",
    "[JupyterLab command](https://jupyterlab.readthedocs.io/en/stable/user/commands.html)\n",
    "system, which allows for changing the state of the running client application from the\n",
    "kernel. T"
   ]
  },
  {
   "cell_type": "code",
   "execution_count": null,
   "id": "aba1e63d-c849-4c95-ac23-ccfa2c924280",
   "metadata": {
    "tags": []
   },
   "outputs": [],
   "source": [
    "view_file_button = add_node_button(\n",
    "    \"Open Files\", \"folder-open\", {\"type\": [\"file\"], \"exists\": [True]}\n",
    ")\n",
    "\n",
    "\n",
    "def on_view_click():\n",
    "    cmd_id = \"filebrowser:open-path\"\n",
    "    for i in node_selection.selected:\n",
    "        node = source.nodes.iloc[i]\n",
    "        if node.type == \"file\" and node.exists:\n",
    "            node.id.split(\"file:\")[1]\n",
    "            lab.commands.execute(cmd_id, {\"path\": node[\"name\"]})\n",
    "\n",
    "\n",
    "view_file_button.on_click(lambda *x: on_view_click())"
   ]
  },
  {
   "cell_type": "markdown",
   "id": "4308521f-fe26-4cfd-8fd4-3c42d950b34a",
   "metadata": {},
   "source": [
    "### Run Tasks"
   ]
  },
  {
   "cell_type": "code",
   "execution_count": null,
   "id": "9d65798e-cc89-4ad2-9dee-f014039cec91",
   "metadata": {
    "tags": []
   },
   "outputs": [],
   "source": [
    "run_task_button = add_node_button(\"Run\", \"play\", {\"type\": [\"task\"]})"
   ]
  },
  {
   "cell_type": "code",
   "execution_count": null,
   "id": "b648a18d-fd2d-4f29-a929-6c2a71a8e0b4",
   "metadata": {
    "tags": []
   },
   "outputs": [],
   "source": [
    "async def run_tasks_async(tasks, output_panel):\n",
    "    cmd_str = f\"\"\"doit {\" \".join(tasks)}\"\"\"\n",
    "    output_panel.children[0].append_stderr(f\">>> {cmd_str}\")\n",
    "\n",
    "    async def watch_one(stream, name):\n",
    "        async for line in anyio.streams.text.TextReceiveStream(process.stdout):\n",
    "            output = output_panel.children[0]\n",
    "            output.append_stdout(line)\n",
    "            if len(output.outputs) >= 100:\n",
    "                output = W.Output()\n",
    "                output_panel.children = [output, *output_panel.children]\n",
    "            if process.returncode is not None:\n",
    "                return\n",
    "\n",
    "    kwargs = dict(\n",
    "        stdout=subprocess.PIPE, stderr=subprocess.STDOUT, cwd=str(source.project_root)\n",
    "    )\n",
    "    async with await anyio.open_process([\"doit\", *tasks], **kwargs) as process:\n",
    "        await asyncio.gather(watch_one(process.stdout, \"stdout\"), process.wait())\n",
    "    output_panel.children[0].append_stderr(f\"{cmd_str} returned {process.returncode}\")\n",
    "    refresh()\n",
    "    run_task_button.button_style = \"primary\""
   ]
  },
  {
   "cell_type": "code",
   "execution_count": null,
   "id": "6f853403-a281-4866-88af-6a39d72c2816",
   "metadata": {},
   "outputs": [],
   "source": [
    "def on_run_click():\n",
    "    tasks = []\n",
    "    for i in node_selection.selected:\n",
    "        node = source.nodes.iloc[i]\n",
    "        if node.type == \"task\":\n",
    "            tasks += [node[\"name\"]]\n",
    "    if tasks:\n",
    "        output = W.Output()\n",
    "        style = W.HTML(\n",
    "            \"\"\"<style>\n",
    "            .ipfg-stream { display: flex; flex-direction: column-reverse; }\n",
    "            .ipfg-stream .jp-OutputPrompt {display: none;}\n",
    "        </style>\"\"\"\n",
    "        )\n",
    "        output_panel = L.Panel(\n",
    "            [output, style],\n",
    "            _dom_classes=[\"ipfg-stream\"],\n",
    "            layout=dict(overflow=\"scroll\"),\n",
    "        )\n",
    "        output_panel.title.label = \" \".join(tasks)\n",
    "        output_panel.title.icon = ipfg_icon\n",
    "        lab.shell.add(output_panel, \"main\", {\"mode\": \"split-right\"})\n",
    "\n",
    "        run_task_button.button_style = \"warning\"\n",
    "        asyncio.create_task(run_tasks_async(tasks, output_panel))"
   ]
  },
  {
   "cell_type": "code",
   "execution_count": null,
   "id": "189a7a16-6fb0-491a-8eea-33084ff020f7",
   "metadata": {
    "tags": []
   },
   "outputs": [],
   "source": [
    "run_task_button.on_click(lambda *x: on_run_click())"
   ]
  },
  {
   "cell_type": "markdown",
   "id": "f4666fb9-d42d-4bd1-95ed-0cabadd54c14",
   "metadata": {},
   "source": [
    "### Forget Tasks\n",
    "\n",
    "If a task _thinks_ it's up-to-date, but you _know_ it isn't, it can be useful to\n",
    "_forget_ a task, forcing it (and any dependent tasks) to be re-run."
   ]
  },
  {
   "cell_type": "code",
   "execution_count": null,
   "id": "96b58282-596b-43b0-a692-91e8f6c0192d",
   "metadata": {
    "tags": []
   },
   "outputs": [],
   "source": [
    "forget_task_button = add_node_button(\"Forget\", \"eraser\", {\"type\": [\"task\"]})"
   ]
  },
  {
   "cell_type": "code",
   "execution_count": null,
   "id": "5cc2b02f-fc32-4bc9-9fc3-fab05f60836d",
   "metadata": {
    "tags": []
   },
   "outputs": [],
   "source": [
    "def forget_tasks():\n",
    "    tasks = []\n",
    "    for i in node_selection.selected:\n",
    "        node = source.nodes.iloc[i]\n",
    "        if node.type == \"task\":\n",
    "            tasks += [node[\"name\"]]\n",
    "    if not tasks:\n",
    "        return\n",
    "    forget_task_button.button_style = \"warning\"\n",
    "    try:\n",
    "        subprocess.check_call([\"doit\", \"forget\", *tasks], cwd=str(source.project_root))\n",
    "        forget_task_button.button_style = \"primary\"\n",
    "    except Exception:\n",
    "        forget_task_button.button_style = \"danger\"\n",
    "    refresh()"
   ]
  },
  {
   "cell_type": "code",
   "execution_count": null,
   "id": "30b1bdd9-cbd1-44d4-b8ff-50aba2bc062f",
   "metadata": {
    "tags": []
   },
   "outputs": [],
   "source": [
    "forget_task_button.on_click(lambda *x: forget_tasks())"
   ]
  }
 ],
 "metadata": {
  "kernelspec": {
   "display_name": "Python 3 (ipykernel)",
   "language": "python",
   "name": "python3"
  },
  "language_info": {
   "codemirror_mode": {
    "name": "ipython",
    "version": 3
   },
   "file_extension": ".py",
   "mimetype": "text/x-python",
   "name": "python",
   "nbconvert_exporter": "python",
   "pygments_lexer": "ipython3",
   "version": "3.11.3"
  }
 },
 "nbformat": 4,
 "nbformat_minor": 5
}
