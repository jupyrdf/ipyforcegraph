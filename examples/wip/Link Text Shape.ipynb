{
 "cells": [
  {
   "cell_type": "markdown",
   "id": "9ae6038a-fbdd-4bff-b8d1-2a7ab8b15742",
   "metadata": {
    "tags": []
   },
   "source": [
    "# Link Text Shape"
   ]
  },
  {
   "cell_type": "code",
   "execution_count": 9,
   "id": "e29b1009-ace3-4f42-b554-95270a839280",
   "metadata": {
    "tags": []
   },
   "outputs": [],
   "source": [
    "if __name__ == \"__main__\" and \"pyodide\" in __import__(\"sys\").modules:\n",
    "    %pip install -q -r ../requirements.txt"
   ]
  },
  {
   "cell_type": "code",
   "execution_count": 10,
   "id": "757ccfdc-540c-41dd-813e-35e882ab53ba",
   "metadata": {
    "tags": []
   },
   "outputs": [],
   "source": [
    "from ipyforcegraph.graphs import ForceGraph\n",
    "from ipyforcegraph import behaviors as B\n",
    "from ipyforcegraph.behaviors import shapes as S"
   ]
  },
  {
   "cell_type": "code",
   "execution_count": 11,
   "id": "bcc6992c-1816-413d-b05a-53830f6ce107",
   "metadata": {},
   "outputs": [
    {
     "data": {
      "application/vnd.jupyter.widget-view+json": {
       "model_id": "f6629586676c40f8b49336bd95b0f672",
       "version_major": 2,
       "version_minor": 0
      },
      "text/plain": [
       "ForceGraph(layout=Layout(min_height='400px'), source=DataFrameSource(nodes=(3, 2), links=(3, 3)))"
      ]
     },
     "execution_count": 11,
     "metadata": {},
     "output_type": "execute_result"
    }
   ],
   "source": [
    "fg = ForceGraph(layout=dict(min_height=\"400px\"))\n",
    "fg.source.nodes = [{\"id\": \"🐔\", \"label\": \"chicken\"}, {\"id\": \"🛣️\", \"label\": \"road\"}, {\"id\": \"🥚\", \"label\": \"egg\"}]\n",
    "fg.source.links = [\n",
    "    {\"id\": \"why DID it cross the\", \"source\": \"🐔\", \"target\": \"🛣️\"},\n",
    "    {\"id\": \"which DID come first\", \"source\": \"🐔\", \"target\": \"🥚\"},\n",
    "    {\"id\": \"HOW hot does it have to be to fry\", \"source\": \"🛣️\", \"target\": \"🥚\"},\n",
    "]\n",
    "fg"
   ]
  },
  {
   "cell_type": "code",
   "execution_count": 12,
   "id": "ac86665d-803e-4797-8b17-619bf1015444",
   "metadata": {},
   "outputs": [],
   "source": [
    "blue, white, red, black, grey = 'rgba(0, 0, 255, 1)', 'rgba(255,255,255,1.0)', 'rgba(255, 0, 0, 1)', \"rgba(0,0,0,1.0)\", \"rgba(0,0,0,0.5)\"\n",
    "red_if_selected = B.Nunjucks(\"\".join(['{% if link._selected %}', red, '{% else %}', black, '{% endif %}']))\n",
    "stroke = dict(stroke=black, stroke_width=0.5)"
   ]
  },
  {
   "cell_type": "code",
   "execution_count": 13,
   "id": "a16477d8-7043-4a57-b516-f98e07ddc21f",
   "metadata": {},
   "outputs": [],
   "source": [
    "nst = S.Text(B.Column(\"id\"), **stroke, size=4, fill=white, scale_on_zoom=False)\n",
    "nst2 = S.Text(B.Column(\"label\"), size=3, fill=grey, scale_on_zoom=False, offset_x=6, offset_y=-3)\n",
    "nsh = B.NodeShapes(nst, nst2)"
   ]
  },
  {
   "cell_type": "code",
   "execution_count": 14,
   "id": "0aa5d6ee-f717-4307-a563-c013ba7322d8",
   "metadata": {},
   "outputs": [],
   "source": [
    "lst = S.Text(B.Nunjucks(\"🤔 {{ link.id }} ⁉️\"), **stroke, background=red_if_selected, size=4, fill=white, offset_y=-3)\n",
    "lsh = B.LinkShapes(lst)\n",
    "lsa = B.LinkArrows(length=4, color=black, relative_position=1)"
   ]
  },
  {
   "cell_type": "code",
   "execution_count": 15,
   "id": "651999d8-cf94-4e19-8aa6-d9aaf11ee5cf",
   "metadata": {},
   "outputs": [],
   "source": [
    "lsel = B.LinkSelection(column_name='_selected')\n",
    "lp = B.LinkParticles(width=4, density=10, speed=0.001, color=black)"
   ]
  },
  {
   "cell_type": "code",
   "execution_count": 16,
   "id": "f1e9493d-20d3-444a-9456-f065d0bdc00c",
   "metadata": {},
   "outputs": [],
   "source": [
    "fg.behaviors = [lsa, lsh, nsh, lsel, lp]"
   ]
  },
  {
   "cell_type": "code",
   "execution_count": null,
   "id": "e48926a1-afed-4933-8eb3-6444624147b0",
   "metadata": {},
   "outputs": [],
   "source": []
  }
 ],
 "metadata": {
  "kernelspec": {
   "display_name": "Python 3 (ipykernel)",
   "language": "python",
   "name": "python3"
  },
  "language_info": {
   "codemirror_mode": {
    "name": "ipython",
    "version": 3
   },
   "file_extension": ".py",
   "mimetype": "text/x-python",
   "name": "python",
   "nbconvert_exporter": "python",
   "pygments_lexer": "ipython3",
   "version": "3.11.4"
  }
 },
 "nbformat": 4,
 "nbformat_minor": 5
}
