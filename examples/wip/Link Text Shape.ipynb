{
 "cells": [
  {
   "cell_type": "markdown",
   "id": "9ae6038a-fbdd-4bff-b8d1-2a7ab8b15742",
   "metadata": {
    "tags": []
   },
   "source": [
    "# Link Text Shape"
   ]
  },
  {
   "cell_type": "code",
   "execution_count": null,
   "id": "757ccfdc-540c-41dd-813e-35e882ab53ba",
   "metadata": {
    "tags": []
   },
   "outputs": [],
   "source": [
    "from ipyforcegraph.graphs import ForceGraph\n",
    "from ipyforcegraph import behaviors as B\n",
    "from ipyforcegraph.behaviors import shapes as S"
   ]
  },
  {
   "cell_type": "code",
   "execution_count": null,
   "id": "bcc6992c-1816-413d-b05a-53830f6ce107",
   "metadata": {},
   "outputs": [],
   "source": [
    "fg = ForceGraph(layout=dict(min_height=\"400px\"))\n",
    "fg.source.nodes = [{\"id\": \"chicken\"}, {\"id\": \"road\"}, {\"id\": \"egg\"}]\n",
    "fg.source.links = [\n",
    "    {\"id\": \"why DID it cross the\", \"source\": \"chicken\", \"target\": \"road\"},\n",
    "    {\"id\": \"which DID come first\", \"source\": \"chicken\", \"target\": \"egg\"},\n",
    "    {\"id\": \"HOW hot does it have to be to fry\", \"source\": \"road\", \"target\": \"egg\"},\n",
    "]\n",
    "fg"
   ]
  },
  {
   "cell_type": "code",
   "execution_count": null,
   "id": "46549c4f-9847-47a8-ae41-4d8ac1530f42",
   "metadata": {},
   "outputs": [],
   "source": [
    "blue, white, red, black = 'rgba(0, 0, 255, 1)', 'rgba(255,255,255,1.0)', 'rgba(255, 0, 0, 1)', \"rgba(0,0,0,1.0)\"\n",
    "red_if_selected = B.Nunjucks(\"\".join(['{% if link._selected %}', red, '{% else %}', black, '{% endif %}']))\n",
    "nst = S.Text(B.Column(\"id\"), background=blue, size=4, fill=white, scale_on_zoom=False)\n",
    "nsh = B.NodeShapes(nst)\n",
    "lst = S.Text(B.Column(\"id\"), background=red_if_selected, size=4, fill=white)\n",
    "lsh = B.LinkShapes(lst)\n",
    "lsa = B.LinkArrows(length=4, color=black, relative_position=1)\n",
    "lsel = B.LinkSelection(column_name='_selected')\n",
    "lp = B.LinkParticles(width=4, density=10, speed=0.001, color=black)\n",
    "fg.behaviors = [lsa, lsh, nsh, lsel, lp]"
   ]
  }
 ],
 "metadata": {
  "kernelspec": {
   "display_name": "Python 3 (ipykernel)",
   "language": "python",
   "name": "python3"
  },
  "language_info": {
   "codemirror_mode": {
    "name": "ipython",
    "version": 3
   },
   "file_extension": ".py",
   "mimetype": "text/x-python",
   "name": "python",
   "nbconvert_exporter": "python",
   "pygments_lexer": "ipython3",
   "version": "3.11.4"
  }
 },
 "nbformat": 4,
 "nbformat_minor": 5
}
