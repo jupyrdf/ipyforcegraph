{
 "cells": [
  {
   "cell_type": "markdown",
   "id": "873e787a-c90a-4fb4-b095-f0d48b45bc5e",
   "metadata": {},
   "source": [
    "# Forces Test Demo 🎥"
   ]
  },
  {
   "cell_type": "code",
   "execution_count": null,
   "id": "b9d276ac-b3ed-4410-9056-578eea1458b5",
   "metadata": {
    "tags": []
   },
   "outputs": [],
   "source": [
    "if __name__ == \"__main__\" and \"pyodide\" in __import__(\"sys\").modules:\n",
    "    %pip install -q -r requirements.txt"
   ]
  },
  {
   "cell_type": "code",
   "execution_count": null,
   "id": "7d6746c8-9c4f-40ab-b326-8b7eba2a86ce",
   "metadata": {
    "tags": []
   },
   "outputs": [],
   "source": [
    "import asyncio\n",
    "\n",
    "import ipyforcegraph.forces as F\n",
    "\n",
    "with __import__(\"importnb\").Notebook():\n",
    "    import Behaviors as B\n",
    "    import Forces as F\n",
    "    import Utils as U"
   ]
  },
  {
   "cell_type": "code",
   "execution_count": null,
   "id": "1a05e75c-3761-4044-99c5-3d507522303f",
   "metadata": {
    "tags": []
   },
   "outputs": [],
   "source": [
    "fg, box = U.make_a_demo()\n",
    "display(box)\n",
    "B.add_graph_data(fg, box)\n",
    "for add_behavior in F.all_forces:\n",
    "    add_behavior(fg, box)"
   ]
  },
  {
   "cell_type": "code",
   "execution_count": null,
   "id": "18ab7af5-b6ef-4eb5-81ea-0d528f673cc3",
   "metadata": {
    "tags": []
   },
   "outputs": [],
   "source": [
    "task = asyncio.ensure_future(U.run_tests(fg, box, F.all_force_tests))"
   ]
  }
 ],
 "metadata": {
  "kernelspec": {
   "display_name": "Python 3 (ipykernel)",
   "language": "python",
   "name": "python3"
  },
  "language_info": {
   "codemirror_mode": {
    "name": "ipython",
    "version": 3
   },
   "file_extension": ".py",
   "mimetype": "text/x-python",
   "name": "python",
   "nbconvert_exporter": "python",
   "pygments_lexer": "ipython3",
   "version": "3.11.0"
  }
 },
 "nbformat": 4,
 "nbformat_minor": 5
}
