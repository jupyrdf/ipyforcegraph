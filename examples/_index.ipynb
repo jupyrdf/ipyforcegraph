{
 "cells": [
  {
   "cell_type": "markdown",
   "metadata": {},
   "source": [
    "# IPyForceGraph 🚀\n",
    "\n",
    "`ipyforcegraph` wraps [force-graph] and [3d-force-graph] for data-driven views of graphs\n",
    "with up to a few thousand nodes with composable behaviors.\n",
    "\n",
    "[3d-force-graph]: https://github.com/vasturiano/force-graph\n",
    "[force-graph]: https://github.com/vasturiano/force-graph"
   ]
  },
  {
   "cell_type": "code",
   "execution_count": null,
   "metadata": {},
   "outputs": [],
   "source": [
    "if __name__ == \"__main__\":\n",
    "    %pip install -q -r requirements.txt"
   ]
  },
  {
   "cell_type": "code",
   "execution_count": null,
   "metadata": {},
   "outputs": [],
   "source": [
    "import json\n",
    "from pathlib import Path\n",
    "\n",
    "import ipywidgets as W\n",
    "\n",
    "from ipyforcegraph.forcegraph import DataFrameSource, ForceGraph"
   ]
  },
  {
   "cell_type": "markdown",
   "metadata": {},
   "source": [
    "## A Simple Example"
   ]
  },
  {
   "cell_type": "code",
   "execution_count": null,
   "metadata": {},
   "outputs": [],
   "source": [
    "def make_a_simple_example(\n",
    "    source=None, dataset=\"datasets/miserables.json\", GraphClass=ForceGraph\n",
    "):\n",
    "    if source is None:\n",
    "        data = json.loads(Path(dataset).read_text())\n",
    "        source = DataFrameSource(**data)\n",
    "    fg = GraphClass(source=source, layout=dict(min_height=\"500px\"))\n",
    "    box = W.HBox([fg, W.VBox([])])\n",
    "    return fg, box"
   ]
  },
  {
   "cell_type": "code",
   "execution_count": null,
   "metadata": {},
   "outputs": [],
   "source": [
    "if __name__ == \"__main__\":\n",
    "    fg, box = make_a_simple_example()\n",
    "    display(box)"
   ]
  },
  {
   "cell_type": "markdown",
   "metadata": {},
   "source": [
    "## Data Formats\n",
    "\n",
    "Some sample data in various formats are included. The simplest form expects two\n",
    "`DataFrame`-like structures:\n",
    "\n",
    "- `nodes` should contain an `id` field of type `str` or `int`\n",
    "  - if missing, the node's row index in the columns will be used\n",
    "- `links` should contain `source` and `target` columns, and may refer to either the `id`\n",
    "  or row index"
   ]
  },
  {
   "cell_type": "markdown",
   "metadata": {},
   "source": [
    "# Read more\n",
    "\n",
    "- [👟 Behaviors](./Behaviors.ipynb)\n",
    "- [🔮 3D](./3D.ipynb)"
   ]
  }
 ],
 "metadata": {
  "kernelspec": {
   "display_name": "Python 3 (ipykernel)",
   "language": "python",
   "name": "python3"
  },
  "language_info": {
   "codemirror_mode": {
    "name": "ipython",
    "version": 3
   },
   "file_extension": ".py",
   "mimetype": "text/x-python",
   "name": "python",
   "nbconvert_exporter": "python",
   "pygments_lexer": "ipython3",
   "version": "3.11.0"
  }
 },
 "nbformat": 4,
 "nbformat_minor": 4
}
