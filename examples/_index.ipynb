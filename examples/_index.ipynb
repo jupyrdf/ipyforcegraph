{
 "cells": [
  {
   "cell_type": "markdown",
   "metadata": {},
   "source": [
    "# IPyForceGraph 🚀\n",
    "\n",
    "`ipyforcegraph` wraps [force-graph] and [3d-force-graph] for data-driven views of graphs\n",
    "with up to a few thousand nodes with composable behaviors.\n",
    "\n",
    "[3d-force-graph]: https://github.com/vasturiano/force-graph\n",
    "[force-graph]: https://github.com/vasturiano/force-graph"
   ]
  },
  {
   "cell_type": "code",
   "execution_count": null,
   "metadata": {},
   "outputs": [],
   "source": [
    "if __name__ == \"__main__\" and \"pyodide\" in __import__(\"sys\").modules:\n",
    "    %pip install -q -r requirements.txt"
   ]
  },
  {
   "cell_type": "code",
   "execution_count": null,
   "metadata": {},
   "outputs": [],
   "source": [
    "import json\n",
    "from pathlib import Path\n",
    "\n",
    "import ipywidgets as W\n",
    "import traitlets as T\n",
    "\n",
    "from ipyforcegraph.forcegraph import DataFrameSource, ForceGraph"
   ]
  },
  {
   "cell_type": "markdown",
   "metadata": {},
   "source": [
    "## A Simple Example"
   ]
  },
  {
   "cell_type": "code",
   "execution_count": null,
   "metadata": {},
   "outputs": [],
   "source": [
    "def make_a_simple_example(\n",
    "    source=None, dataset=\"datasets/miserables.json\", GraphClass=ForceGraph\n",
    "):\n",
    "    if source is None:\n",
    "        data = json.loads(Path(dataset).read_text())\n",
    "        source = DataFrameSource(**data)\n",
    "    fg = GraphClass(source=source, layout=dict(min_height=\"500px\"))\n",
    "    style = W.HTML(\n",
    "        \"\"\"<style>\n",
    "        .jp-fg-demo{\n",
    "            --jp-widgets-container-padding: 0.25em;\n",
    "            --jp-widgets-inline-width: auto;\n",
    "        } \n",
    "        .widget-box:empty{display:none;}\n",
    "    </style>\"\"\"\n",
    "    )\n",
    "    graph_ui = W.VBox()\n",
    "    node_ui = W.VBox()\n",
    "    link_ui = W.VBox()\n",
    "    ui = W.VBox(\n",
    "        [graph_ui, node_ui, link_ui], layout=dict(width=\"500px\", overflow_y=\"scroll\")\n",
    "    )\n",
    "    box = W.HBox([style, fg, ui], layout=dict(height=\"100%\", max_height=\"100vh\"))\n",
    "    box.add_class(\"jp-fg-demo\")\n",
    "    box.add_traits(\n",
    "        behaviors=T.Dict(),\n",
    "        node_ui=T.Dict(),\n",
    "        link_ui=T.Dict(),\n",
    "        graph_ui=T.Dict(),\n",
    "    )\n",
    "\n",
    "    def on_box_behaviors(change=None):\n",
    "        new_behaviors = [b for b in box.behaviors.values() if b is not None]\n",
    "        fg.behaviors = tuple(new_behaviors)\n",
    "\n",
    "    box.observe(on_box_behaviors, [\"behaviors\"])\n",
    "\n",
    "    T.dlink((box, \"graph_ui\"), (graph_ui, \"children\"), lambda d: tuple(d.values()))\n",
    "    T.dlink((box, \"node_ui\"), (node_ui, \"children\"), lambda d: tuple(d.values()))\n",
    "    T.dlink((box, \"link_ui\"), (link_ui, \"children\"), lambda d: tuple(d.values()))\n",
    "    return fg, box"
   ]
  },
  {
   "cell_type": "code",
   "execution_count": null,
   "metadata": {},
   "outputs": [],
   "source": [
    "if __name__ == \"__main__\":\n",
    "    fg, box = make_a_simple_example()\n",
    "    display(box)"
   ]
  },
  {
   "cell_type": "markdown",
   "metadata": {},
   "source": [
    "## Data Formats\n",
    "\n",
    "Some sample data in various formats are included. The simplest form expects two\n",
    "`DataFrame`-like structures:\n",
    "\n",
    "- `nodes` should contain an `id` field of type `str` or `int`\n",
    "  - if missing, the node's row index in the columns will be used\n",
    "- `links` should contain `source` and `target` columns, and may refer to either the `id`\n",
    "  or row index\n",
    "\n",
    "```{hint}\n",
    "Many of the graph [behaviors](./Behaviors.ipynb) reference `column_name`s from these fields,\n",
    "or can use templates to construct values from multiple fields.\n",
    "```"
   ]
  },
  {
   "cell_type": "markdown",
   "metadata": {},
   "source": [
    "# Read More"
   ]
  },
  {
   "cell_type": "markdown",
   "metadata": {},
   "source": [
    "## Examples\n",
    "\n",
    "- [👟 Behaviors](./Behaviors.ipynb)\n",
    "- [🔮 3D](./3D.ipynb)"
   ]
  },
  {
   "cell_type": "markdown",
   "metadata": {},
   "source": [
    "## Miscellaneous\n",
    "\n",
    "- [🔧 Demo Utilities](./Utils.ipynb)"
   ]
  }
 ],
 "metadata": {
  "kernelspec": {
   "display_name": "Python 3 (ipykernel)",
   "language": "python",
   "name": "python3"
  },
  "language_info": {
   "codemirror_mode": {
    "name": "ipython",
    "version": 3
   },
   "file_extension": ".py",
   "mimetype": "text/x-python",
   "name": "python",
   "nbconvert_exporter": "python",
   "pygments_lexer": "ipython3",
   "version": "3.11.0"
  }
 },
 "nbformat": 4,
 "nbformat_minor": 4
}
