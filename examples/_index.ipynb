{
 "cells": [
  {
   "cell_type": "markdown",
   "metadata": {},
   "source": [
    "# IPyForceGraph 🚀"
   ]
  },
  {
   "cell_type": "code",
   "execution_count": null,
   "metadata": {},
   "outputs": [],
   "source": [
    "if __name__ == \"__main__\":\n",
    "    %pip install -q -r requirements.txt"
   ]
  },
  {
   "cell_type": "code",
   "execution_count": null,
   "metadata": {},
   "outputs": [],
   "source": [
    "import json\n",
    "from pathlib import Path\n",
    "\n",
    "import ipywidgets as W\n",
    "import numpy as np\n",
    "import pandas as pd\n",
    "\n",
    "import ipyforcegraph.forcegraph\n",
    "from ipyforcegraph.behaviors import NodeLabels"
   ]
  },
  {
   "cell_type": "markdown",
   "metadata": {},
   "source": [
    "We have some sample data in various formats. In its simplest form, `ForceGraph` will only use Pandas `DataFrame`s for its source data."
   ]
  },
  {
   "cell_type": "code",
   "execution_count": null,
   "metadata": {},
   "outputs": [],
   "source": [
    "data = json.loads(Path(\"datasets/miserables.json\").read_text())"
   ]
  },
  {
   "cell_type": "code",
   "execution_count": null,
   "metadata": {},
   "outputs": [],
   "source": [
    "fg = ipyforcegraph.forcegraph.ForceGraph(\n",
    "    behaviors=[NodeLabels(column_name=\"id\")],\n",
    ")\n",
    "fg.source.node_id_column = \"id\"\n",
    "fg.source.nodes = pd.DataFrame.from_dict(data[\"nodes\"])\n",
    "fg.source.links = pd.DataFrame.from_dict(data[\"links\"])\n",
    "fg"
   ]
  },
  {
   "cell_type": "markdown",
   "metadata": {},
   "source": [
    "# Read more\n",
    "\n",
    "- [👟 Behaviors](./Behaviors.ipynb)\n",
    "- [🔮 3D](./3D.ipynb)\n",
    "- [🐛 Debugging with `FORCEGRAPH_DEBUG`](./FORCEGRAPH_DEBUG.ipynb)"
   ]
  }
 ],
 "metadata": {
  "kernelspec": {
   "display_name": "Python 3 (ipykernel)",
   "language": "python",
   "name": "python3"
  },
  "language_info": {
   "codemirror_mode": {
    "name": "ipython",
    "version": 3
   },
   "file_extension": ".py",
   "mimetype": "text/x-python",
   "name": "python",
   "nbconvert_exporter": "python",
   "pygments_lexer": "ipython3",
   "version": "3.11.0"
  }
 },
 "nbformat": 4,
 "nbformat_minor": 4
}
