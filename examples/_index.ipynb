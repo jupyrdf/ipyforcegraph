{
 "cells": [
  {
   "cell_type": "markdown",
   "metadata": {},
   "source": [
    "# IPyForceGraph 🚀\n",
    "\n",
    "`ipyforcegraph` wraps [force-graph] and [3d-force-graph] for data-driven views of graphs\n",
    "with up to a few thousand nodes with composable behaviors.\n",
    "\n",
    "[3d-force-graph]: https://github.com/vasturiano/force-graph\n",
    "[force-graph]: https://github.com/vasturiano/force-graph"
   ]
  },
  {
   "cell_type": "code",
   "execution_count": null,
   "metadata": {
    "tags": []
   },
   "outputs": [],
   "source": [
    "if __name__ == \"__main__\" and \"pyodide\" in __import__(\"sys\").modules:\n",
    "    %pip install -q -r requirements.txt"
   ]
  },
  {
   "cell_type": "markdown",
   "metadata": {},
   "source": [
    "## Quick Examples"
   ]
  },
  {
   "cell_type": "markdown",
   "metadata": {},
   "source": [
    "## Data"
   ]
  },
  {
   "cell_type": "code",
   "execution_count": null,
   "metadata": {
    "tags": []
   },
   "outputs": [],
   "source": [
    "import json\n",
    "from pathlib import Path\n",
    "\n",
    "data = json.loads(Path(\"datasets/miserables.json\").read_text())"
   ]
  },
  {
   "cell_type": "markdown",
   "metadata": {},
   "source": [
    "### 2D"
   ]
  },
  {
   "cell_type": "code",
   "execution_count": null,
   "metadata": {
    "tags": []
   },
   "outputs": [],
   "source": [
    "from ipyforcegraph.graphs import ForceGraph\n",
    "\n",
    "fg2 = ForceGraph()\n",
    "fg2.source.nodes, fg2.source.links = data[\"nodes\"], data[\"links\"]\n",
    "fg2"
   ]
  },
  {
   "cell_type": "markdown",
   "metadata": {},
   "source": [
    "### 3D"
   ]
  },
  {
   "cell_type": "code",
   "execution_count": null,
   "metadata": {
    "tags": []
   },
   "outputs": [],
   "source": [
    "from ipyforcegraph.graphs import ForceGraph3D\n",
    "\n",
    "fg3 = ForceGraph3D(source=fg2.source)\n",
    "fg3"
   ]
  },
  {
   "cell_type": "markdown",
   "metadata": {},
   "source": [
    "## How it Works"
   ]
  },
  {
   "cell_type": "markdown",
   "metadata": {},
   "source": [
    "### Graph Data Source\n",
    "\n",
    "Each `ForceGraph` has a `DataFrameSource`. Some sample data in various formats are\n",
    "included, while a graph of [widget data](./WidgetSource.ipynb) can also be used as a\n",
    "source.\n",
    "\n",
    "> 💡 As shown above, multiple graphs can directly share the same `source`."
   ]
  },
  {
   "cell_type": "code",
   "execution_count": null,
   "metadata": {
    "tags": []
   },
   "outputs": [],
   "source": [
    "from IPython.display import JSON"
   ]
  },
  {
   "cell_type": "code",
   "execution_count": null,
   "metadata": {
    "tags": []
   },
   "outputs": [],
   "source": [
    "JSON(data)"
   ]
  },
  {
   "cell_type": "markdown",
   "metadata": {},
   "source": [
    "The simplest form has two `DataFrame`-compatible structures, `nodes` and `links`."
   ]
  },
  {
   "cell_type": "code",
   "execution_count": null,
   "metadata": {
    "tags": []
   },
   "outputs": [],
   "source": [
    "from pandas import DataFrame"
   ]
  },
  {
   "cell_type": "markdown",
   "metadata": {},
   "source": [
    "#### Nodes"
   ]
  },
  {
   "cell_type": "markdown",
   "metadata": {},
   "source": [
    "`nodes` should contain **at least** an `id` field of type `str` or `int`:"
   ]
  },
  {
   "cell_type": "code",
   "execution_count": null,
   "metadata": {
    "tags": []
   },
   "outputs": [],
   "source": [
    "DataFrame(data[\"nodes\"]).T"
   ]
  },
  {
   "cell_type": "markdown",
   "metadata": {},
   "source": [
    "#### Links"
   ]
  },
  {
   "cell_type": "markdown",
   "metadata": {},
   "source": [
    "`links` should contain **at least** `source` and `target` columns, and may refer to\n",
    "either the `id` or row index from the `nodes`."
   ]
  },
  {
   "cell_type": "code",
   "execution_count": null,
   "metadata": {
    "tags": []
   },
   "outputs": [],
   "source": [
    "DataFrame(data[\"links\"]).T"
   ]
  },
  {
   "cell_type": "markdown",
   "metadata": {},
   "source": [
    "> 💡 Many of the graph [behaviors](./Behaviors.ipynb) reference `column_name`s from\n",
    "> these fields, or can use `template`s to construct values from multiple fields."
   ]
  },
  {
   "cell_type": "markdown",
   "metadata": {},
   "source": [
    "# Read More"
   ]
  },
  {
   "cell_type": "markdown",
   "metadata": {},
   "source": [
    "## Examples\n",
    "\n",
    "> _These should all work in JupyterLite and on MyBinder_\n",
    "\n",
    "- [👟 Behaviors](./Behaviors.ipynb)\n",
    "- [🏋️ Forces](./Forces.ipynb)\n",
    "- [⭐ Shapes](./Shapes.ipynb)\n",
    "- [🔮 3D](./3D.ipynb)\n",
    "- [🔤 Link Text](./LinkText.ipynb)\n",
    "- [🥄 Widget Source](./WidgetSource.ipynb)\n",
    "- [⚖️ Scales](./Scales.ipynb)\n",
    "- [🎬 Camera (and Director)](./Camera.ipynb)"
   ]
  },
  {
   "cell_type": "markdown",
   "metadata": {},
   "source": [
    "## Apps\n",
    "\n",
    "> _These don't work in JupyterLite, so are not published on ReadTheDocs 😿_\n",
    "\n",
    "- [🦤 Dodo App](./DodoApp.ipynb)\n",
    "  - [🦤 Dodo Source](./DodoSource.ipynb)"
   ]
  },
  {
   "cell_type": "markdown",
   "metadata": {},
   "source": [
    "## Miscellaneous\n",
    "\n",
    "- [🔧 Demo Utilities](./Utils.ipynb)\n",
    "- [🎥 Test Forces](./Test_Forces.ipynb)\n",
    "- [🏃 Test Behaviors](./Test_Behaviors.ipynb)"
   ]
  }
 ],
 "metadata": {
  "kernelspec": {
   "display_name": "Python 3 (ipykernel)",
   "language": "python",
   "name": "python3"
  },
  "language_info": {
   "codemirror_mode": {
    "name": "ipython",
    "version": 3
   },
   "file_extension": ".py",
   "mimetype": "text/x-python",
   "name": "python",
   "nbconvert_exporter": "python",
   "pygments_lexer": "ipython3",
   "version": "3.11.4"
  }
 },
 "nbformat": 4,
 "nbformat_minor": 4
}
