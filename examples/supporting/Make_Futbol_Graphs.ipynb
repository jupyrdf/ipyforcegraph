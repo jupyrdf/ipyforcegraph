{
 "cells": [
  {
   "cell_type": "markdown",
   "id": "110c02fe-db89-4011-9dba-d1d6ff79d2e9",
   "metadata": {},
   "source": [
    "# ⚽ Make Fútbol Graphs\n",
    "\n",
    "...based on [International football results from 1872 to 2022](https://www.kaggle.com/datasets/martj42/international-football-results-from-1872-to-2017)."
   ]
  },
  {
   "cell_type": "code",
   "execution_count": null,
   "id": "c4e5173a-9e30-4fce-bed2-7ef5824da923",
   "metadata": {},
   "outputs": [],
   "source": [
    "import json\n",
    "from pathlib import Path\n",
    "\n",
    "import pandas as pd"
   ]
  },
  {
   "cell_type": "code",
   "execution_count": null,
   "id": "0429e50e-e164-4e9c-8a65-dcacae6b6bbb",
   "metadata": {},
   "outputs": [],
   "source": [
    "FOLDER = Path(\"../datasets/futbol_raw_datasets/\")\n",
    "\n",
    "dataset_names = (\"results\", \"goalscorers\", \"shootouts\", \"countries\")\n",
    "\n",
    "datasets = {\n",
    "    dataset_name: pd.read_csv(FOLDER / f\"{dataset_name}.csv\")\n",
    "    for dataset_name in dataset_names\n",
    "}\n",
    "\n",
    "# make a unique identifer for each match\n",
    "for dataset_name, dataset in datasets.items():\n",
    "    try:\n",
    "        dataset[\"uuid\"] = dataset.away_team + \":\" + dataset.home_team + \":\" + dataset.date\n",
    "    except AttributeError:\n",
    "        print(f\"Couldn't add a UUID to '{dataset_name}' dataset\")"
   ]
  },
  {
   "cell_type": "markdown",
   "id": "eb8645d3-b55b-42d2-8b13-3c94bb275a56",
   "metadata": {},
   "source": [
    "# Augment `results` dataset"
   ]
  },
  {
   "cell_type": "code",
   "execution_count": null,
   "id": "e6025c99-4bf8-4f6e-a369-094fc65ed39b",
   "metadata": {},
   "outputs": [],
   "source": [
    "shootouts = datasets[\"shootouts\"]\n",
    "\n",
    "def get_winners(row: pd.Series) -> str | None:\n",
    "    if row.home_score > row.away_score:\n",
    "        return row.home_team\n",
    "    if row.home_score < row.away_score:\n",
    "        return row.away_team\n",
    "    penalty_results = shootouts[shootouts.uuid.str.match(row.uuid)]\n",
    "    if penalty_results.empty:\n",
    "        return None\n",
    "    return [*penalty_results.winner][0]\n",
    "\n",
    "def get_losers(row: pd.Series) -> str | None:\n",
    "    if row.winner is None:\n",
    "        return None\n",
    "    if row.winner == row.home_team:\n",
    "        return row.away_team\n",
    "    else:\n",
    "        return row.home_team"
   ]
  },
  {
   "cell_type": "code",
   "execution_count": null,
   "id": "2123c5c3-9ef3-4add-999f-646a06163223",
   "metadata": {},
   "outputs": [],
   "source": [
    "results = datasets[\"results\"]\n",
    "\n",
    "results[\"winner\"] = results.apply(get_winners, axis=1)\n",
    "results[\"loser\"] = results.apply(get_losers, axis=1)\n",
    "results[\"goal_differential\"] = (results.home_score - results.away_score).abs()"
   ]
  },
  {
   "cell_type": "markdown",
   "id": "17f69c06-f2ea-4b54-99f4-f1bc820058af",
   "metadata": {},
   "source": [
    "# Process the `nodes`"
   ]
  },
  {
   "cell_type": "code",
   "execution_count": null,
   "id": "d40cfdb8-1df8-4810-a51f-86900e977f41",
   "metadata": {},
   "outputs": [],
   "source": [
    "winners = set(results.winner).difference([None])\n",
    "\n",
    "country_names = tuple(sorted(winners.union(results.loser).difference([None])))\n",
    "country_or_areas = tuple(sorted(datasets[\"countries\"][\"Country or Area\"]))\n",
    "\n",
    "missing = set(country_names).difference(country_or_areas)\n",
    "assert not missing, f\"These teams don't have country data: {missing}\"\n",
    "\n",
    "country_data = datasets[\"countries\"].set_index(\"Country or Area\").to_dict(orient=\"index\")"
   ]
  },
  {
   "cell_type": "code",
   "execution_count": null,
   "id": "840e927a-f21e-4789-85b7-b6273734b293",
   "metadata": {},
   "outputs": [],
   "source": [
    "nodes = [dict(id=country_name, **country_data[country_name]) for country_name in country_names]"
   ]
  },
  {
   "cell_type": "markdown",
   "id": "c67c26d3-a17b-417b-917a-66ec128b6c74",
   "metadata": {},
   "source": [
    "# Process the `links`"
   ]
  },
  {
   "cell_type": "code",
   "execution_count": null,
   "id": "c024595c-b2e3-4393-92f5-242d637bbd34",
   "metadata": {},
   "outputs": [],
   "source": [
    "def get_links(winner: str, wins: pd.DataFrame) -> list[dict[str, (str | float | int)]]:\n",
    "    return [\n",
    "        dict(\n",
    "            source=winner,\n",
    "            target=loser,\n",
    "            num_wins=stats[\"count\"],\n",
    "            goals_avg=stats[\"mean\"],\n",
    "            goals_total=stats[\"sum\"],\n",
    "        )\n",
    "        for loser, stats in wins.groupby(\"loser\")[\"goal_differential\"].agg([\"mean\", \"count\", \"sum\"]).to_dict(orient=\"index\").items()\n",
    "    ]\n",
    "\n",
    "links = [\n",
    "    get_links(winner, results[(results.winner == winner)])\n",
    "    for winner in winners\n",
    "]\n",
    "# flatten list of lists into just a list\n",
    "links = sum(links, [])"
   ]
  },
  {
   "cell_type": "code",
   "execution_count": null,
   "id": "6a7abf47-f2d1-4ea9-b90a-e6a5ce4c80d8",
   "metadata": {},
   "outputs": [],
   "source": [
    "# Save small dataset to file\n",
    "Path(\"../datasets/futbol_small.json\").write_text(\n",
    "    json.dumps(\n",
    "        dict(\n",
    "            nodes=nodes,\n",
    "            links=links,\n",
    "        ),\n",
    "    # TODO: find a better way to handle NaNs\n",
    "    ).replace(\"NaN\", \"null\")\n",
    ")"
   ]
  }
 ],
 "metadata": {
  "kernelspec": {
   "display_name": "Python 3 (ipykernel)",
   "language": "python",
   "name": "python3"
  },
  "language_info": {
   "codemirror_mode": {
    "name": "ipython",
    "version": 3
   },
   "file_extension": ".py",
   "mimetype": "text/x-python",
   "name": "python",
   "nbconvert_exporter": "python",
   "pygments_lexer": "ipython3",
   "version": "3.11.0"
  }
 },
 "nbformat": 4,
 "nbformat_minor": 5
}
