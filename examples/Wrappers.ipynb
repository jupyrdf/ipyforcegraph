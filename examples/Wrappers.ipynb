{
 "cells": [
  {
   "cell_type": "markdown",
   "id": "772e4c85-eaaf-4141-b036-c7934597a9da",
   "metadata": {},
   "source": [
    "# 🎁 Wrappers\n",
    "\n",
    "Wrappers allow for working with intermediate client-side values."
   ]
  },
  {
   "cell_type": "markdown",
   "id": "8d4a9430-45ff-4ec3-a077-2591fda3a61c",
   "metadata": {},
   "source": [
    "The values can be:\n",
    "\n",
    "- re-used in `Nunjucks` values\n",
    "- retrieved with [`GraphData`](.//Behaviors.ipynb#GraphData)"
   ]
  },
  {
   "cell_type": "code",
   "execution_count": null,
   "id": "42a1ddbe-8f20-49f5-a3f4-41b6d84751be",
   "metadata": {
    "tags": []
   },
   "outputs": [],
   "source": [
    "if __name__ == \"__main__\" and \"pyodide\" in __import__(\"sys\").modules:\n",
    "    %pip install -q -r requirements.txt"
   ]
  },
  {
   "cell_type": "code",
   "execution_count": null,
   "id": "93b2e38d-0291-440e-9ab5-5daf1318d809",
   "metadata": {
    "tags": []
   },
   "outputs": [],
   "source": [
    "import ipywidgets as W\n",
    "from IPython.display import display\n",
    "\n",
    "import ipyforcegraph.behaviors as B\n",
    "import ipyforcegraph.behaviors.scales as SC\n",
    "import ipyforcegraph.graphs as G"
   ]
  },
  {
   "cell_type": "markdown",
   "id": "5363039b-76e3-40a6-9a08-00739d2403ec",
   "metadata": {},
   "source": [
    "## `CaptureAs`\n",
    "\n",
    "The `CaptureAs` wrapper updates a `column_name` per `node` or `link` provided by the\n",
    "`wrapped` dynamic variable... which might in turn be wrapped.\n",
    "\n",
    "> **Note**\n",
    ">\n",
    "> _This is similar to the `NodeSelection` and `LinkSelection` values, but can be applied\n",
    "> to almost anything._\n",
    ">\n",
    "> _The order in which values are executed is **non-deterministic**, so care should be\n",
    "> taken when relying on re-using captured values in `Nunjucks`._"
   ]
  },
  {
   "cell_type": "markdown",
   "id": "215e4d6f-b8e7-496f-a8a7-877693cc2bbf",
   "metadata": {},
   "source": [
    "## `ReplaceCssVariables`\n",
    "\n",
    "The `ReplaceCssVariables` replaces all instances of `var(--{variable name})`. Primarily,\n",
    "this allows for making stylistic choices base on the theme-dependent variables in\n",
    "JupyterLab.\n",
    "\n",
    "> **Note**\n",
    ">\n",
    "> _In `ipyforcegraph <0.4.0` this behavior was applied to \\_all_ values, but has been\n",
    "> made opt-in.\\_"
   ]
  },
  {
   "cell_type": "markdown",
   "id": "9e3f2cac-fdf8-4aca-98ea-97dac6ed23f3",
   "metadata": {},
   "source": [
    "## `Tint`\n",
    "\n",
    "`Tint` applies some rule-of-thumb modifications to a color, based on its `value`. This\n",
    "(and `Colorize`) are explored along with [scales](./Scales.ipynb)."
   ]
  },
  {
   "cell_type": "markdown",
   "id": "ff1a3ab1-4d9f-402b-ae85-2aaa5cee7b8e",
   "metadata": {},
   "source": [
    "## `Colorize`\n",
    "\n",
    "`Colorize` can shift colors in in a number of _color spaces_ (such as `rgb` and\n",
    "`cubehelix`), eeach with a different set of relevant `channels`."
   ]
  },
  {
   "cell_type": "markdown",
   "id": "28611321-78ae-40ce-9dcc-e2d52cee0a8a",
   "metadata": {},
   "source": [
    "## Example"
   ]
  },
  {
   "cell_type": "code",
   "execution_count": null,
   "id": "3506e1b2-f492-4390-8ab2-6d96d7d6fcd4",
   "metadata": {
    "tags": []
   },
   "outputs": [],
   "source": [
    "ns = B.NodeShapes(\n",
    "    color=B.CaptureAs(\n",
    "        \"node_color\",\n",
    "        B.ReplaceCssVariables(\n",
    "            B.CaptureAs(\n",
    "                \"raw_node_color\",\n",
    "                SC.OrdinalColor(\n",
    "                    \"index\",\n",
    "                    domain=[0, 1, 2],\n",
    "                    range=[\n",
    "                        f\"var(--jp-{i}-color2)\" for i in [\"brand\", \"warn\", \"accent\"]\n",
    "                    ],\n",
    "                ),\n",
    "            )\n",
    "        ),\n",
    "    )\n",
    ")\n",
    "ls = B.LinkShapes(\n",
    "    color=B.CaptureAs(\"link_color\", B.Nunjucks(\"{{ link.source.node_color }}\"))\n",
    ")\n",
    "data = B.GraphData()\n",
    "fg = G.ForceGraph(\n",
    "    behaviors=[ns, ls, data],\n",
    "    background_color=B.ReplaceCssVariables(\"var(--jp-layout-color1)\"),\n",
    ")\n",
    "fg.source.nodes = [{\"id\": \"hello\"}, {\"id\": \"world\"}, {\"id\": \"dolly\"}]\n",
    "fg.source.links = [\n",
    "    {\"source\": \"hello\", \"target\": \"world\"},\n",
    "    {\"source\": \"hello\", \"target\": \"dolly\"},\n",
    "]\n",
    "fg"
   ]
  },
  {
   "cell_type": "code",
   "execution_count": null,
   "id": "feaadb45-885f-468c-a129-beb696edaeb2",
   "metadata": {
    "tags": []
   },
   "outputs": [],
   "source": [
    "out = W.Output()\n",
    "out"
   ]
  },
  {
   "cell_type": "code",
   "execution_count": null,
   "id": "653f5fe7-d303-4d32-9a27-ecb8638cdc95",
   "metadata": {
    "tags": []
   },
   "outputs": [],
   "source": [
    "def show_data(*change):\n",
    "    src = data.sources[0]\n",
    "    out.clear_output()\n",
    "    with out:\n",
    "        display(src.nodes, src.links)\n",
    "\n",
    "\n",
    "data.sources[0].observe(show_data)"
   ]
  },
  {
   "cell_type": "code",
   "execution_count": null,
   "id": "121afc69-79bd-4bac-a740-e7cf2c20d7aa",
   "metadata": {
    "tags": []
   },
   "outputs": [],
   "source": [
    "data.capturing = True\n",
    "fg.reheat()"
   ]
  }
 ],
 "metadata": {
  "kernelspec": {
   "display_name": "Python 3 (ipykernel)",
   "language": "python",
   "name": "python3"
  },
  "language_info": {
   "codemirror_mode": {
    "name": "ipython",
    "version": 3
   },
   "file_extension": ".py",
   "mimetype": "text/x-python",
   "name": "python",
   "nbconvert_exporter": "python",
   "pygments_lexer": "ipython3",
   "version": "3.11.5"
  }
 },
 "nbformat": 4,
 "nbformat_minor": 5
}
