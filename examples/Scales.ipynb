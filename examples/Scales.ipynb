{
 "cells": [
  {
   "cell_type": "markdown",
   "id": "a1c52cbc-6187-4353-a195-e133b7e64349",
   "metadata": {},
   "source": [
    "# ⚖️ Scales\n",
    "\n",
    "Scales, provided by [`d3-scale-chromatic`](https://github.com/d3/d3-scale-chromatic)\n",
    "provide an efficient way to use pre-calcluated values for a number color-based node and\n",
    "link [shape](./Shapes.ipynb) properties.\n",
    "\n",
    "Scales have a _domain_ (the expected values) and a _range_ (the colors to draw).\n",
    "\n",
    "Some experimentation may be needed to find an appropriate combination of these settings\n",
    "for a given graph's data, and the `Colorize` and `Tint` [wrappers](./Wrappers.ipynb)\n",
    "(providing many of the features of [`d3-color`](https://github.com/d3/d3-color)) can\n",
    "further adjust the final, displayed value."
   ]
  },
  {
   "cell_type": "code",
   "execution_count": null,
   "id": "077126e8-e6b9-4ab7-8cf4-11a15d102c7c",
   "metadata": {
    "tags": []
   },
   "outputs": [],
   "source": [
    "if __name__ == \"__main__\" and \"pyodide\" in __import__(\"sys\").modules:\n",
    "    %pip install -q -r requirements.txt"
   ]
  },
  {
   "cell_type": "code",
   "execution_count": null,
   "id": "ae9f6917-f608-43de-8107-6d6a56c70d45",
   "metadata": {
    "tags": []
   },
   "outputs": [],
   "source": [
    "import ipywidgets as W\n",
    "import traitlets as T\n",
    "\n",
    "from ipyforcegraph import behaviors as B\n",
    "from ipyforcegraph import graphs as G\n",
    "from ipyforcegraph.behaviors import scales as SC"
   ]
  },
  {
   "cell_type": "code",
   "execution_count": null,
   "id": "51576d0e-1f48-4c4b-ada9-7c1351097436",
   "metadata": {
    "tags": []
   },
   "outputs": [],
   "source": [
    "fg = G.ForceGraph(layout=dict(flex=\"1\", height=\"100%\"))\n",
    "controls = W.VBox(layout=dict(min_width=\"30em\", flex=\"0\"))\n",
    "W.HBox(\n",
    "    [controls, fg],\n",
    "    layout=dict(\n",
    "        min_height=\"400px\", height=\"100%\", flex=\"1\", overflow=\"hidden\", display=\"flex\"\n",
    "    ),\n",
    ")"
   ]
  },
  {
   "cell_type": "code",
   "execution_count": null,
   "id": "65584c5a-3653-4f00-8013-b5969720b853",
   "metadata": {
    "tags": []
   },
   "outputs": [],
   "source": [
    "n = 100\n",
    "with fg.source.hold_trait_notifications():\n",
    "    fg.source.nodes = [{\"id\": i, \"value\": i / n} for i in range(n)]\n",
    "    fg.source.links = sum(\n",
    "        [\n",
    "            [\n",
    "                {\"id\": i, \"source\": i, \"target\": i - 1 if i else n - 1},\n",
    "                {\"id\": i, \"source\": i, \"target\": i % 5, \"group\": i % 7},\n",
    "            ]\n",
    "            for i in range(n)\n",
    "        ],\n",
    "        [],\n",
    "    )"
   ]
  },
  {
   "cell_type": "code",
   "execution_count": null,
   "id": "863ece12-21ba-4f72-8067-95f87140292b",
   "metadata": {
    "tags": []
   },
   "outputs": [],
   "source": [
    "ns = B.NodeShapes()\n",
    "ls = B.LinkShapes()\n",
    "fg.behaviors = [ns, ls]"
   ]
  },
  {
   "cell_type": "code",
   "execution_count": null,
   "id": "e166c0cd-b22c-48a6-8cfd-9c68de02cb2b",
   "metadata": {
    "tags": []
   },
   "outputs": [],
   "source": [
    "def make_a_scheme_picker(enum):\n",
    "    return W.SelectionSlider(\n",
    "        description=\"scheme\", options={v.name: v.value for v in enum}\n",
    "    )"
   ]
  },
  {
   "cell_type": "code",
   "execution_count": null,
   "id": "a4d14309-cb9c-492d-aba9-5ac45e3c8804",
   "metadata": {
    "tags": []
   },
   "outputs": [],
   "source": [
    "def make_a_tint_slider(tint):\n",
    "    slider = W.FloatSlider(description=\"tint\", min=-10, max=10)\n",
    "    T.link((tint, \"value\"), (slider, \"value\"))\n",
    "    return slider"
   ]
  },
  {
   "cell_type": "code",
   "execution_count": null,
   "id": "3163f2b6-cfba-4e0e-b4ff-0308aa6f6a1e",
   "metadata": {
    "tags": []
   },
   "outputs": [],
   "source": [
    "SPACE_CHANNELS = {\n",
    "    \"rgb\": [\"r\", \"g\", \"b\", \"opacity\"],\n",
    "    \"hsl\": [\"h\", \"s\", \"l\", \"opacity\"],\n",
    "    \"lab\": [\"l\", \"a\", \"b\", \"opacity\"],\n",
    "    \"hcl\": [\"l\", \"c\", \"h\", \"opacity\"],\n",
    "    \"cubehelix\": [\"h\", \"s\", \"l\", \"opacity\"],\n",
    "}"
   ]
  },
  {
   "cell_type": "code",
   "execution_count": null,
   "id": "90ed83be-edad-41f9-a139-82476a30467d",
   "metadata": {
    "tags": []
   },
   "outputs": [],
   "source": [
    "def make_channel(colorize, channel):\n",
    "    slider = W.FloatSlider(description=channel, min=-256, max=256, step=0.01)\n",
    "    T.link((colorize, channel), (slider, \"value\"))\n",
    "\n",
    "    def _show_channel(*_):\n",
    "        in_space = channel in SPACE_CHANNELS.get(colorize.space, [])\n",
    "        slider.layout.display = \"flex\" if in_space else \"none\"\n",
    "\n",
    "    colorize.observe(_show_channel, \"space\")\n",
    "    _show_channel()\n",
    "    return slider"
   ]
  },
  {
   "cell_type": "code",
   "execution_count": null,
   "id": "9e4b937a-e85f-4c47-a7a4-0dee70e7cb4d",
   "metadata": {},
   "outputs": [],
   "source": [
    "def make_colorize_sliders(colorize):\n",
    "    sliders = []\n",
    "    space = W.SelectionSlider(\n",
    "        description=\"space\", options=sorted(s.value for s in B.Colorize.Space)\n",
    "    )\n",
    "    T.link((space, \"value\"), (colorize, \"space\"))\n",
    "    for channel in [\"r\", \"g\", \"b\", \"a\", \"h\", \"s\", \"l\", \"c\", \"opacity\"]:\n",
    "        sliders += [make_channel(colorize, channel)]\n",
    "    return W.Accordion([W.VBox([space, *sliders])], titles=[\"colorize\"])"
   ]
  },
  {
   "cell_type": "code",
   "execution_count": null,
   "id": "586d56b5-dae2-4333-8250-ad2b70a3781a",
   "metadata": {
    "tags": []
   },
   "outputs": [],
   "source": [
    "def make_a_domain_range(scale):\n",
    "    table = W.VBox()\n",
    "\n",
    "    def update_scale(*_):\n",
    "        scale.domain = [row.children[1].value for row in table.children]\n",
    "        scale.range = [row.children[2].value for row in table.children]\n",
    "\n",
    "    def remove_row(row):\n",
    "        table.children = [c for c in table.children if c != row]\n",
    "        row.close()\n",
    "\n",
    "    def add_row(*_):\n",
    "        btn_remove_row = W.Button(\n",
    "            icon=\"trash\", button_style=\"danger\", layout=dict(flex=\"0\", max_width=\"3em\")\n",
    "        )\n",
    "        d = W.FloatText(layout=dict(flex=\"1\", max_width=\"4em\"))\n",
    "        r = W.ColorPicker(layout=dict(flex=\"1\", width=\"unset\"))\n",
    "        d.observe(update_scale)\n",
    "        r.observe(update_scale)\n",
    "        row = W.HBox([btn_remove_row, d, r])\n",
    "        btn_remove_row.on_click(lambda *_: remove_row(row))\n",
    "        table.children = [*table.children, row]\n",
    "        update_scale()\n",
    "\n",
    "    btn_add_row = W.Button(icon=\"plus\", description=\"add row\")\n",
    "    btn_add_row.on_click(add_row)\n",
    "    ui = W.VBox([btn_add_row, table])\n",
    "    return ui"
   ]
  },
  {
   "cell_type": "code",
   "execution_count": null,
   "id": "bfcf42f9-f793-49c6-9f87-1f3aa9a16bfd",
   "metadata": {
    "tags": []
   },
   "outputs": [],
   "source": [
    "def make_a_scale_picker(behavior, column, domain):\n",
    "    c_scale = SC.ContinuousColor(\n",
    "        column, scheme=SC.ContinuousColor.Scheme.viridis, domain=domain\n",
    "    )\n",
    "    c_colorize = B.Colorize(c_scale)\n",
    "    c_colorize_ui = make_colorize_sliders(c_colorize)\n",
    "    c_tint = B.Tint(c_colorize)\n",
    "    c_tint_ui = make_a_tint_slider(c_tint)\n",
    "    c_scheme = make_a_scheme_picker(SC.ContinuousColor.Scheme)\n",
    "    c_ui = W.VBox([c_scheme, c_tint_ui, c_colorize_ui])\n",
    "    T.link((c_scale, \"scheme\"), (c_scheme, \"value\"))\n",
    "\n",
    "    o_scale = SC.OrdinalColor(\n",
    "        column, scheme=SC.OrdinalColor.Scheme.accent, domain=domain\n",
    "    )\n",
    "    o_tint = B.Tint(o_scale)\n",
    "    o_tint_ui = make_a_tint_slider(o_tint)\n",
    "    o_scheme = make_a_scheme_picker(SC.OrdinalColor.Scheme)\n",
    "    o_ui = W.VBox([o_scheme, o_tint_ui])\n",
    "    T.link((o_scale, \"scheme\"), (o_scheme, \"value\"))\n",
    "\n",
    "    m_scale = SC.OrdinalColor(column)\n",
    "    m_tint = B.Tint(m_scale)\n",
    "    m_tint_ui = make_a_tint_slider(m_tint)\n",
    "    m_domain_range = make_a_domain_range(m_scale)\n",
    "    m_ui = W.VBox([m_domain_range, m_tint_ui])\n",
    "\n",
    "    tabs = W.Tab([c_ui, o_ui, m_ui], titles=[\"continuous\", \"ordinal\", \"manual\"])\n",
    "\n",
    "    T.dlink(\n",
    "        (tabs, \"selected_index\"),\n",
    "        (behavior, \"color\"),\n",
    "        lambda i: [c_tint, o_tint, m_tint][i],\n",
    "    )\n",
    "    return tabs"
   ]
  },
  {
   "cell_type": "code",
   "execution_count": null,
   "id": "1f45e2a6-c018-4a96-a52a-0df24cd1fcc7",
   "metadata": {
    "tags": []
   },
   "outputs": [],
   "source": [
    "controls.children = [\n",
    "    W.Label(\"nodes\"),\n",
    "    make_a_scale_picker(ns, \"value\", (0.0, 1.0)),\n",
    "    W.Label(\"links\"),\n",
    "    make_a_scale_picker(ls, \"group\", (0, 7)),\n",
    "]"
   ]
  }
 ],
 "metadata": {
  "kernelspec": {
   "display_name": "Python 3 (ipykernel)",
   "language": "python",
   "name": "python3"
  },
  "language_info": {
   "codemirror_mode": {
    "name": "ipython",
    "version": 3
   },
   "file_extension": ".py",
   "mimetype": "text/x-python",
   "name": "python",
   "nbconvert_exporter": "python",
   "pygments_lexer": "ipython3",
   "version": "3.11.5"
  }
 },
 "nbformat": 4,
 "nbformat_minor": 5
}
