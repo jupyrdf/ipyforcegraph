{
 "cells": [
  {
   "cell_type": "markdown",
   "id": "a1c52cbc-6187-4353-a195-e133b7e64349",
   "metadata": {},
   "source": [
    "# ⚖️ Scales\n",
    "\n",
    "Scales, provided by [`d3-scale-chromatic`](https://github.com/d3/d3-scale-chromatic)\n",
    "provide an efficient way to use pre-calcluated values for a number color-based node and\n",
    "link [shape](./Shapes.ipynb) properties.\n",
    "\n",
    "Scales have a _domain_ (the expected values) and a _range_ (the colors to draw). Some\n",
    "schemes (only) support _interpolation_ across their range, and other only offer discrete\n",
    "values or even subschemes with different color bands.\n",
    "\n",
    "Some experimentation may be needed to find an appropriate combination of these settings\n",
    "for a given graph's data."
   ]
  },
  {
   "cell_type": "code",
   "execution_count": null,
   "id": "077126e8-e6b9-4ab7-8cf4-11a15d102c7c",
   "metadata": {
    "tags": []
   },
   "outputs": [],
   "source": [
    "if __name__ == \"__main__\" and \"pyodide\" in __import__(\"sys\").modules:\n",
    "    %pip install -q -r requirements.txt"
   ]
  },
  {
   "cell_type": "code",
   "execution_count": null,
   "id": "ae9f6917-f608-43de-8107-6d6a56c70d45",
   "metadata": {
    "tags": []
   },
   "outputs": [],
   "source": [
    "import ipywidgets as W\n",
    "import traitlets as T\n",
    "from ipyforcegraph import behaviors as B\n",
    "from ipyforcegraph import graphs as G\n",
    "from ipyforcegraph.behaviors import scales as SC"
   ]
  },
  {
   "cell_type": "code",
   "execution_count": null,
   "id": "51576d0e-1f48-4c4b-ada9-7c1351097436",
   "metadata": {
    "tags": []
   },
   "outputs": [],
   "source": [
    "fg = G.ForceGraph(layout=dict(flex=\"1\", height=\"100%\"))\n",
    "controls = W.VBox(layout=dict(min_width=\"25em\", flex=\"0\"))\n",
    "W.HBox(\n",
    "    [controls, fg],\n",
    "    layout=dict(\n",
    "        min_height=\"400px\", height=\"100%\", flex=\"1\", overflow=\"hidden\", display=\"flex\"\n",
    "    ),\n",
    ")"
   ]
  },
  {
   "cell_type": "code",
   "execution_count": null,
   "id": "65584c5a-3653-4f00-8013-b5969720b853",
   "metadata": {},
   "outputs": [],
   "source": [
    "n = 100\n",
    "with fg.source.hold_trait_notifications():\n",
    "    fg.source.nodes = [{\"id\": i, \"value\": i / n} for i in range(n)]\n",
    "    fg.source.links = sum(\n",
    "        [\n",
    "            [\n",
    "                {\"id\": i, \"source\": i, \"target\": i - 1 if i else n - 1},\n",
    "                {\"id\": i, \"source\": i, \"target\": i % 5},\n",
    "            ]\n",
    "            for i in range(n)\n",
    "        ],\n",
    "        [],\n",
    "    )"
   ]
  },
  {
   "cell_type": "code",
   "execution_count": null,
   "id": "863ece12-21ba-4f72-8067-95f87140292b",
   "metadata": {
    "tags": []
   },
   "outputs": [],
   "source": [
    "ns = B.NodeShapes(color=SC.ColorScaleColumn(\"value\", scheme=SC.Chromatic.viridis))\n",
    "ls = B.LinkShapes(\n",
    "    color=SC.ColorScaleColumn(\"id\", domain=[0, n], scheme=SC.Chromatic.viridis)\n",
    ")\n",
    "fg.behaviors = [ns, ls]"
   ]
  },
  {
   "cell_type": "code",
   "execution_count": null,
   "id": "bfcf42f9-f793-49c6-9f87-1f3aa9a16bfd",
   "metadata": {
    "tags": []
   },
   "outputs": [],
   "source": [
    "def make_a_scheme_picker(label, scale):\n",
    "    scheme_opts = dict(options={v.name: v.value for v in SC.Chromatic})\n",
    "    scheme = W.SelectionSlider(description=label, **scheme_opts)\n",
    "    sub_scheme = W.Dropdown(\n",
    "        description=\"subscheme\", options={str(v): v for v in [None, *range(20)]}\n",
    "    )\n",
    "    interp = W.Checkbox(True, description=\"interpolate\")\n",
    "    T.link((scale, \"interpolate\"), (interp, \"value\"))\n",
    "    T.link((scale, \"scheme\"), (scheme, \"value\"))\n",
    "    T.link((scale, \"sub_scheme\"), (sub_scheme, \"index\"))\n",
    "    T.dlink(\n",
    "        (interp, \"value\"),\n",
    "        (sub_scheme.layout, \"visibility\"),\n",
    "        lambda x: \"hidden\" if x else \"visible\",\n",
    "    )\n",
    "    return W.VBox([scheme, interp, sub_scheme])"
   ]
  },
  {
   "cell_type": "code",
   "execution_count": null,
   "id": "1f45e2a6-c018-4a96-a52a-0df24cd1fcc7",
   "metadata": {
    "tags": []
   },
   "outputs": [],
   "source": [
    "controls.children = [\n",
    "    make_a_scheme_picker(\"node\", ns.color),\n",
    "    make_a_scheme_picker(\"link\", ls.color),\n",
    "]"
   ]
  },
  {
   "cell_type": "code",
   "execution_count": null,
   "id": "b84751f5-fecb-4dcf-8bc8-dbf0ce6564eb",
   "metadata": {},
   "outputs": [],
   "source": []
  }
 ],
 "metadata": {
  "kernelspec": {
   "display_name": "Python 3 (ipykernel)",
   "language": "python",
   "name": "python3"
  },
  "language_info": {
   "codemirror_mode": {
    "name": "ipython",
    "version": 3
   },
   "file_extension": ".py",
   "mimetype": "text/x-python",
   "name": "python",
   "nbconvert_exporter": "python",
   "pygments_lexer": "ipython3",
   "version": "3.11.3"
  }
 },
 "nbformat": 4,
 "nbformat_minor": 5
}
