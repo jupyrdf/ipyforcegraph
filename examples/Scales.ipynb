{
 "cells": [
  {
   "cell_type": "markdown",
   "id": "a1c52cbc-6187-4353-a195-e133b7e64349",
   "metadata": {},
   "source": [
    "# Scales"
   ]
  },
  {
   "cell_type": "code",
   "execution_count": null,
   "id": "077126e8-e6b9-4ab7-8cf4-11a15d102c7c",
   "metadata": {},
   "outputs": [],
   "source": [
    "if __name__ == \"__main__\" and \"pyodide\" in __import__(\"sys\").modules:\n",
    "    %pip install -q -r requirements.txt"
   ]
  },
  {
   "cell_type": "code",
   "execution_count": null,
   "id": "ae9f6917-f608-43de-8107-6d6a56c70d45",
   "metadata": {
    "tags": []
   },
   "outputs": [],
   "source": [
    "import ipywidgets as W\n",
    "import traitlets as T\n",
    "from ipyforcegraph import behaviors as B\n",
    "from ipyforcegraph import graphs as G\n",
    "from ipyforcegraph.behaviors import scales as SC"
   ]
  },
  {
   "cell_type": "code",
   "execution_count": null,
   "id": "51576d0e-1f48-4c4b-ada9-7c1351097436",
   "metadata": {
    "tags": []
   },
   "outputs": [],
   "source": [
    "fg = G.ForceGraph(layout=dict(height=\"100%\", min_height=\"600px\"))\n",
    "schemes = W.SelectionSlider(options={v.name: v for v in SC.Chromatic})\n",
    "W.HBox([schemes, fg])"
   ]
  },
  {
   "cell_type": "code",
   "execution_count": null,
   "id": "65584c5a-3653-4f00-8013-b5969720b853",
   "metadata": {},
   "outputs": [],
   "source": [
    "n = 100\n",
    "with fg.source.hold_trait_notifications():\n",
    "    fg.source.nodes = [{\"id\": i, \"value\": i / n} for i in range(n)]\n",
    "    fg.source.links = sum(\n",
    "        [\n",
    "            [\n",
    "                {\"id\": i, \"source\": i, \"target\": i - 1 if i else n - 1},\n",
    "                {\"id\": i, \"source\": i, \"target\": i % 5},\n",
    "            ]\n",
    "            for i in range(n)\n",
    "        ],\n",
    "        [],\n",
    "    )"
   ]
  },
  {
   "cell_type": "code",
   "execution_count": null,
   "id": "863ece12-21ba-4f72-8067-95f87140292b",
   "metadata": {
    "tags": []
   },
   "outputs": [],
   "source": [
    "ns = B.NodeShapes()\n",
    "ls = B.LinkShapes()\n",
    "fg.behaviors = [ns, ls]"
   ]
  },
  {
   "cell_type": "code",
   "execution_count": null,
   "id": "a7fca0a5-bdbd-43b7-bbbc-76343154c98b",
   "metadata": {
    "tags": []
   },
   "outputs": [],
   "source": [
    "ns.color = SC.ColorScaleColumn(\"value\", scheme=SC.Chromatic.viridis)\n",
    "ls.color = SC.ColorScaleColumn(\"id\", scheme=SC.Chromatic.viridis, max=n)"
   ]
  },
  {
   "cell_type": "code",
   "execution_count": null,
   "id": "fe95cecc-f2f4-464c-acf3-924e23b65635",
   "metadata": {
    "tags": []
   },
   "outputs": [],
   "source": [
    "T.dlink((schemes, \"value\"), (ns.color, \"scheme\"))\n",
    "T.dlink((schemes, \"value\"), (ls.color, \"scheme\"))\n",
    "schemes"
   ]
  }
 ],
 "metadata": {
  "kernelspec": {
   "display_name": "Python 3 (ipykernel)",
   "language": "python",
   "name": "python3"
  },
  "language_info": {
   "codemirror_mode": {
    "name": "ipython",
    "version": 3
   },
   "file_extension": ".py",
   "mimetype": "text/x-python",
   "name": "python",
   "nbconvert_exporter": "python",
   "pygments_lexer": "ipython3",
   "version": "3.11.3"
  }
 },
 "nbformat": 4,
 "nbformat_minor": 5
}
